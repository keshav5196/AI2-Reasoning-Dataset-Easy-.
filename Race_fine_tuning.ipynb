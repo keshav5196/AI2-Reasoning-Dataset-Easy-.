{
 "cells": [
  {
   "cell_type": "code",
   "execution_count": 1,
   "metadata": {
    "colab": {
     "base_uri": "https://localhost:8080/"
    },
    "id": "zkVlprBijzLT",
    "outputId": "c649bcd6-91d4-4f1f-a1be-6010208debbd"
   },
   "outputs": [
    {
     "name": "stdout",
     "output_type": "stream",
     "text": [
      "Mounted at /content/drive\n"
     ]
    }
   ],
   "source": [
    "from google.colab import drive\n",
    "drive.mount('/content/drive')"
   ]
  },
  {
   "cell_type": "code",
   "execution_count": 2,
   "metadata": {
    "colab": {
     "base_uri": "https://localhost:8080/"
    },
    "id": "y36nK9zFL1T1",
    "outputId": "3bb39bb6-188a-4ab1-f5ef-6c4cf0137aab"
   },
   "outputs": [
    {
     "name": "stdout",
     "output_type": "stream",
     "text": [
      "Collecting transformers\n",
      "\u001b[?25l  Downloading https://files.pythonhosted.org/packages/50/0c/7d5950fcd80b029be0a8891727ba21e0cd27692c407c51261c3c921f6da3/transformers-4.1.1-py3-none-any.whl (1.5MB)\n",
      "\r",
      "\u001b[K     |▏                               | 10kB 22.4MB/s eta 0:00:01\r",
      "\u001b[K     |▍                               | 20kB 15.9MB/s eta 0:00:01\r",
      "\u001b[K     |▋                               | 30kB 14.0MB/s eta 0:00:01\r",
      "\u001b[K     |▉                               | 40kB 13.7MB/s eta 0:00:01\r",
      "\u001b[K     |█                               | 51kB 11.5MB/s eta 0:00:01\r",
      "\u001b[K     |█▎                              | 61kB 11.6MB/s eta 0:00:01\r",
      "\u001b[K     |█▌                              | 71kB 11.3MB/s eta 0:00:01\r",
      "\u001b[K     |█▊                              | 81kB 11.4MB/s eta 0:00:01\r",
      "\u001b[K     |██                              | 92kB 11.4MB/s eta 0:00:01\r",
      "\u001b[K     |██▏                             | 102kB 11.5MB/s eta 0:00:01\r",
      "\u001b[K     |██▍                             | 112kB 11.5MB/s eta 0:00:01\r",
      "\u001b[K     |██▋                             | 122kB 11.5MB/s eta 0:00:01\r",
      "\u001b[K     |██▉                             | 133kB 11.5MB/s eta 0:00:01\r",
      "\u001b[K     |███                             | 143kB 11.5MB/s eta 0:00:01\r",
      "\u001b[K     |███▎                            | 153kB 11.5MB/s eta 0:00:01\r",
      "\u001b[K     |███▌                            | 163kB 11.5MB/s eta 0:00:01\r",
      "\u001b[K     |███▊                            | 174kB 11.5MB/s eta 0:00:01\r",
      "\u001b[K     |████                            | 184kB 11.5MB/s eta 0:00:01\r",
      "\u001b[K     |████▏                           | 194kB 11.5MB/s eta 0:00:01\r",
      "\u001b[K     |████▎                           | 204kB 11.5MB/s eta 0:00:01\r",
      "\u001b[K     |████▌                           | 215kB 11.5MB/s eta 0:00:01\r",
      "\u001b[K     |████▊                           | 225kB 11.5MB/s eta 0:00:01\r",
      "\u001b[K     |█████                           | 235kB 11.5MB/s eta 0:00:01\r",
      "\u001b[K     |█████▏                          | 245kB 11.5MB/s eta 0:00:01\r",
      "\u001b[K     |█████▍                          | 256kB 11.5MB/s eta 0:00:01\r",
      "\u001b[K     |█████▋                          | 266kB 11.5MB/s eta 0:00:01\r",
      "\u001b[K     |█████▉                          | 276kB 11.5MB/s eta 0:00:01\r",
      "\u001b[K     |██████                          | 286kB 11.5MB/s eta 0:00:01\r",
      "\u001b[K     |██████▎                         | 296kB 11.5MB/s eta 0:00:01\r",
      "\u001b[K     |██████▌                         | 307kB 11.5MB/s eta 0:00:01\r",
      "\u001b[K     |██████▊                         | 317kB 11.5MB/s eta 0:00:01\r",
      "\u001b[K     |███████                         | 327kB 11.5MB/s eta 0:00:01\r",
      "\u001b[K     |███████▏                        | 337kB 11.5MB/s eta 0:00:01\r",
      "\u001b[K     |███████▍                        | 348kB 11.5MB/s eta 0:00:01\r",
      "\u001b[K     |███████▋                        | 358kB 11.5MB/s eta 0:00:01\r",
      "\u001b[K     |███████▉                        | 368kB 11.5MB/s eta 0:00:01\r",
      "\u001b[K     |████████                        | 378kB 11.5MB/s eta 0:00:01\r",
      "\u001b[K     |████████▎                       | 389kB 11.5MB/s eta 0:00:01\r",
      "\u001b[K     |████████▌                       | 399kB 11.5MB/s eta 0:00:01\r",
      "\u001b[K     |████████▋                       | 409kB 11.5MB/s eta 0:00:01\r",
      "\u001b[K     |████████▉                       | 419kB 11.5MB/s eta 0:00:01\r",
      "\u001b[K     |█████████                       | 430kB 11.5MB/s eta 0:00:01\r",
      "\u001b[K     |█████████▎                      | 440kB 11.5MB/s eta 0:00:01\r",
      "\u001b[K     |█████████▌                      | 450kB 11.5MB/s eta 0:00:01\r",
      "\u001b[K     |█████████▊                      | 460kB 11.5MB/s eta 0:00:01\r",
      "\u001b[K     |██████████                      | 471kB 11.5MB/s eta 0:00:01\r",
      "\u001b[K     |██████████▏                     | 481kB 11.5MB/s eta 0:00:01\r",
      "\u001b[K     |██████████▍                     | 491kB 11.5MB/s eta 0:00:01\r",
      "\u001b[K     |██████████▋                     | 501kB 11.5MB/s eta 0:00:01\r",
      "\u001b[K     |██████████▉                     | 512kB 11.5MB/s eta 0:00:01\r",
      "\u001b[K     |███████████                     | 522kB 11.5MB/s eta 0:00:01\r",
      "\u001b[K     |███████████▎                    | 532kB 11.5MB/s eta 0:00:01\r",
      "\u001b[K     |███████████▌                    | 542kB 11.5MB/s eta 0:00:01\r",
      "\u001b[K     |███████████▊                    | 552kB 11.5MB/s eta 0:00:01\r",
      "\u001b[K     |████████████                    | 563kB 11.5MB/s eta 0:00:01\r",
      "\u001b[K     |████████████▏                   | 573kB 11.5MB/s eta 0:00:01\r",
      "\u001b[K     |████████████▍                   | 583kB 11.5MB/s eta 0:00:01\r",
      "\u001b[K     |████████████▋                   | 593kB 11.5MB/s eta 0:00:01\r",
      "\u001b[K     |████████████▉                   | 604kB 11.5MB/s eta 0:00:01\r",
      "\u001b[K     |█████████████                   | 614kB 11.5MB/s eta 0:00:01\r",
      "\u001b[K     |█████████████▏                  | 624kB 11.5MB/s eta 0:00:01\r",
      "\u001b[K     |█████████████▍                  | 634kB 11.5MB/s eta 0:00:01\r",
      "\u001b[K     |█████████████▋                  | 645kB 11.5MB/s eta 0:00:01\r",
      "\u001b[K     |█████████████▉                  | 655kB 11.5MB/s eta 0:00:01\r",
      "\u001b[K     |██████████████                  | 665kB 11.5MB/s eta 0:00:01\r",
      "\u001b[K     |██████████████▎                 | 675kB 11.5MB/s eta 0:00:01\r",
      "\u001b[K     |██████████████▌                 | 686kB 11.5MB/s eta 0:00:01\r",
      "\u001b[K     |██████████████▊                 | 696kB 11.5MB/s eta 0:00:01\r",
      "\u001b[K     |███████████████                 | 706kB 11.5MB/s eta 0:00:01\r",
      "\u001b[K     |███████████████▏                | 716kB 11.5MB/s eta 0:00:01\r",
      "\u001b[K     |███████████████▍                | 727kB 11.5MB/s eta 0:00:01\r",
      "\u001b[K     |███████████████▋                | 737kB 11.5MB/s eta 0:00:01\r",
      "\u001b[K     |███████████████▉                | 747kB 11.5MB/s eta 0:00:01\r",
      "\u001b[K     |████████████████                | 757kB 11.5MB/s eta 0:00:01\r",
      "\u001b[K     |████████████████▎               | 768kB 11.5MB/s eta 0:00:01\r",
      "\u001b[K     |████████████████▌               | 778kB 11.5MB/s eta 0:00:01\r",
      "\u001b[K     |████████████████▊               | 788kB 11.5MB/s eta 0:00:01\r",
      "\u001b[K     |█████████████████               | 798kB 11.5MB/s eta 0:00:01\r",
      "\u001b[K     |█████████████████               | 808kB 11.5MB/s eta 0:00:01\r",
      "\u001b[K     |█████████████████▎              | 819kB 11.5MB/s eta 0:00:01\r",
      "\u001b[K     |█████████████████▌              | 829kB 11.5MB/s eta 0:00:01\r",
      "\u001b[K     |█████████████████▊              | 839kB 11.5MB/s eta 0:00:01\r",
      "\u001b[K     |██████████████████              | 849kB 11.5MB/s eta 0:00:01\r",
      "\u001b[K     |██████████████████▏             | 860kB 11.5MB/s eta 0:00:01\r",
      "\u001b[K     |██████████████████▍             | 870kB 11.5MB/s eta 0:00:01\r",
      "\u001b[K     |██████████████████▋             | 880kB 11.5MB/s eta 0:00:01\r",
      "\u001b[K     |██████████████████▉             | 890kB 11.5MB/s eta 0:00:01\r",
      "\u001b[K     |███████████████████             | 901kB 11.5MB/s eta 0:00:01\r",
      "\u001b[K     |███████████████████▎            | 911kB 11.5MB/s eta 0:00:01\r",
      "\u001b[K     |███████████████████▌            | 921kB 11.5MB/s eta 0:00:01\r",
      "\u001b[K     |███████████████████▊            | 931kB 11.5MB/s eta 0:00:01\r",
      "\u001b[K     |████████████████████            | 942kB 11.5MB/s eta 0:00:01\r",
      "\u001b[K     |████████████████████▏           | 952kB 11.5MB/s eta 0:00:01\r",
      "\u001b[K     |████████████████████▍           | 962kB 11.5MB/s eta 0:00:01\r",
      "\u001b[K     |████████████████████▋           | 972kB 11.5MB/s eta 0:00:01\r",
      "\u001b[K     |████████████████████▉           | 983kB 11.5MB/s eta 0:00:01\r",
      "\u001b[K     |█████████████████████           | 993kB 11.5MB/s eta 0:00:01\r",
      "\u001b[K     |█████████████████████▎          | 1.0MB 11.5MB/s eta 0:00:01\r",
      "\u001b[K     |█████████████████████▍          | 1.0MB 11.5MB/s eta 0:00:01\r",
      "\u001b[K     |█████████████████████▋          | 1.0MB 11.5MB/s eta 0:00:01\r",
      "\u001b[K     |█████████████████████▉          | 1.0MB 11.5MB/s eta 0:00:01\r",
      "\u001b[K     |██████████████████████          | 1.0MB 11.5MB/s eta 0:00:01\r",
      "\u001b[K     |██████████████████████▎         | 1.1MB 11.5MB/s eta 0:00:01\r",
      "\u001b[K     |██████████████████████▌         | 1.1MB 11.5MB/s eta 0:00:01\r",
      "\u001b[K     |██████████████████████▊         | 1.1MB 11.5MB/s eta 0:00:01\r",
      "\u001b[K     |███████████████████████         | 1.1MB 11.5MB/s eta 0:00:01\r",
      "\u001b[K     |███████████████████████▏        | 1.1MB 11.5MB/s eta 0:00:01\r",
      "\u001b[K     |███████████████████████▍        | 1.1MB 11.5MB/s eta 0:00:01\r",
      "\u001b[K     |███████████████████████▋        | 1.1MB 11.5MB/s eta 0:00:01\r",
      "\u001b[K     |███████████████████████▉        | 1.1MB 11.5MB/s eta 0:00:01\r",
      "\u001b[K     |████████████████████████        | 1.1MB 11.5MB/s eta 0:00:01\r",
      "\u001b[K     |████████████████████████▎       | 1.1MB 11.5MB/s eta 0:00:01\r",
      "\u001b[K     |████████████████████████▌       | 1.2MB 11.5MB/s eta 0:00:01\r",
      "\u001b[K     |████████████████████████▊       | 1.2MB 11.5MB/s eta 0:00:01\r",
      "\u001b[K     |█████████████████████████       | 1.2MB 11.5MB/s eta 0:00:01\r",
      "\u001b[K     |█████████████████████████▏      | 1.2MB 11.5MB/s eta 0:00:01\r",
      "\u001b[K     |█████████████████████████▍      | 1.2MB 11.5MB/s eta 0:00:01\r",
      "\u001b[K     |█████████████████████████▋      | 1.2MB 11.5MB/s eta 0:00:01\r",
      "\u001b[K     |█████████████████████████▊      | 1.2MB 11.5MB/s eta 0:00:01\r",
      "\u001b[K     |██████████████████████████      | 1.2MB 11.5MB/s eta 0:00:01\r",
      "\u001b[K     |██████████████████████████▏     | 1.2MB 11.5MB/s eta 0:00:01\r",
      "\u001b[K     |██████████████████████████▍     | 1.2MB 11.5MB/s eta 0:00:01\r",
      "\u001b[K     |██████████████████████████▋     | 1.3MB 11.5MB/s eta 0:00:01\r",
      "\u001b[K     |██████████████████████████▉     | 1.3MB 11.5MB/s eta 0:00:01\r",
      "\u001b[K     |███████████████████████████     | 1.3MB 11.5MB/s eta 0:00:01\r",
      "\u001b[K     |███████████████████████████▎    | 1.3MB 11.5MB/s eta 0:00:01\r",
      "\u001b[K     |███████████████████████████▌    | 1.3MB 11.5MB/s eta 0:00:01\r",
      "\u001b[K     |███████████████████████████▊    | 1.3MB 11.5MB/s eta 0:00:01\r",
      "\u001b[K     |████████████████████████████    | 1.3MB 11.5MB/s eta 0:00:01\r",
      "\u001b[K     |████████████████████████████▏   | 1.3MB 11.5MB/s eta 0:00:01\r",
      "\u001b[K     |████████████████████████████▍   | 1.3MB 11.5MB/s eta 0:00:01\r",
      "\u001b[K     |████████████████████████████▋   | 1.4MB 11.5MB/s eta 0:00:01\r",
      "\u001b[K     |████████████████████████████▉   | 1.4MB 11.5MB/s eta 0:00:01\r",
      "\u001b[K     |█████████████████████████████   | 1.4MB 11.5MB/s eta 0:00:01\r",
      "\u001b[K     |█████████████████████████████▎  | 1.4MB 11.5MB/s eta 0:00:01\r",
      "\u001b[K     |█████████████████████████████▌  | 1.4MB 11.5MB/s eta 0:00:01\r",
      "\u001b[K     |█████████████████████████████▊  | 1.4MB 11.5MB/s eta 0:00:01\r",
      "\u001b[K     |█████████████████████████████▉  | 1.4MB 11.5MB/s eta 0:00:01\r",
      "\u001b[K     |██████████████████████████████  | 1.4MB 11.5MB/s eta 0:00:01\r",
      "\u001b[K     |██████████████████████████████▎ | 1.4MB 11.5MB/s eta 0:00:01\r",
      "\u001b[K     |██████████████████████████████▌ | 1.4MB 11.5MB/s eta 0:00:01\r",
      "\u001b[K     |██████████████████████████████▊ | 1.5MB 11.5MB/s eta 0:00:01\r",
      "\u001b[K     |███████████████████████████████ | 1.5MB 11.5MB/s eta 0:00:01\r",
      "\u001b[K     |███████████████████████████████▏| 1.5MB 11.5MB/s eta 0:00:01\r",
      "\u001b[K     |███████████████████████████████▍| 1.5MB 11.5MB/s eta 0:00:01\r",
      "\u001b[K     |███████████████████████████████▋| 1.5MB 11.5MB/s eta 0:00:01\r",
      "\u001b[K     |███████████████████████████████▉| 1.5MB 11.5MB/s eta 0:00:01\r",
      "\u001b[K     |████████████████████████████████| 1.5MB 11.5MB/s \n",
      "\u001b[?25hRequirement already satisfied: regex!=2019.12.17 in /usr/local/lib/python3.6/dist-packages (from transformers) (2019.12.20)\n",
      "Collecting tokenizers==0.9.4\n",
      "\u001b[?25l  Downloading https://files.pythonhosted.org/packages/0f/1c/e789a8b12e28be5bc1ce2156cf87cb522b379be9cadc7ad8091a4cc107c4/tokenizers-0.9.4-cp36-cp36m-manylinux2010_x86_64.whl (2.9MB)\n",
      "\u001b[K     |████████████████████████████████| 2.9MB 48.3MB/s \n",
      "\u001b[?25hRequirement already satisfied: packaging in /usr/local/lib/python3.6/dist-packages (from transformers) (20.8)\n",
      "Collecting sacremoses\n",
      "\u001b[?25l  Downloading https://files.pythonhosted.org/packages/7d/34/09d19aff26edcc8eb2a01bed8e98f13a1537005d31e95233fd48216eed10/sacremoses-0.0.43.tar.gz (883kB)\n",
      "\u001b[K     |████████████████████████████████| 890kB 48.8MB/s \n",
      "\u001b[?25hRequirement already satisfied: tqdm>=4.27 in /usr/local/lib/python3.6/dist-packages (from transformers) (4.41.1)\n",
      "Requirement already satisfied: dataclasses; python_version < \"3.7\" in /usr/local/lib/python3.6/dist-packages (from transformers) (0.8)\n",
      "Requirement already satisfied: numpy in /usr/local/lib/python3.6/dist-packages (from transformers) (1.19.4)\n",
      "Requirement already satisfied: filelock in /usr/local/lib/python3.6/dist-packages (from transformers) (3.0.12)\n",
      "Requirement already satisfied: requests in /usr/local/lib/python3.6/dist-packages (from transformers) (2.23.0)\n",
      "Requirement already satisfied: pyparsing>=2.0.2 in /usr/local/lib/python3.6/dist-packages (from packaging->transformers) (2.4.7)\n",
      "Requirement already satisfied: six in /usr/local/lib/python3.6/dist-packages (from sacremoses->transformers) (1.15.0)\n",
      "Requirement already satisfied: click in /usr/local/lib/python3.6/dist-packages (from sacremoses->transformers) (7.1.2)\n",
      "Requirement already satisfied: joblib in /usr/local/lib/python3.6/dist-packages (from sacremoses->transformers) (1.0.0)\n",
      "Requirement already satisfied: chardet<4,>=3.0.2 in /usr/local/lib/python3.6/dist-packages (from requests->transformers) (3.0.4)\n",
      "Requirement already satisfied: certifi>=2017.4.17 in /usr/local/lib/python3.6/dist-packages (from requests->transformers) (2020.12.5)\n",
      "Requirement already satisfied: urllib3!=1.25.0,!=1.25.1,<1.26,>=1.21.1 in /usr/local/lib/python3.6/dist-packages (from requests->transformers) (1.24.3)\n",
      "Requirement already satisfied: idna<3,>=2.5 in /usr/local/lib/python3.6/dist-packages (from requests->transformers) (2.10)\n",
      "Building wheels for collected packages: sacremoses\n",
      "  Building wheel for sacremoses (setup.py) ... \u001b[?25l\u001b[?25hdone\n",
      "  Created wheel for sacremoses: filename=sacremoses-0.0.43-cp36-none-any.whl size=893261 sha256=44b4a77f4f792a4c7ff84270b9145a652f09950561c7aa2eb5d80c253586ddae\n",
      "  Stored in directory: /root/.cache/pip/wheels/29/3c/fd/7ce5c3f0666dab31a50123635e6fb5e19ceb42ce38d4e58f45\n",
      "Successfully built sacremoses\n",
      "Installing collected packages: tokenizers, sacremoses, transformers\n",
      "Successfully installed sacremoses-0.0.43 tokenizers-0.9.4 transformers-4.1.1\n"
     ]
    }
   ],
   "source": [
    "!pip install transformers"
   ]
  },
  {
   "cell_type": "code",
   "execution_count": null,
   "metadata": {
    "id": "E08xd-Ee6XmR"
   },
   "outputs": [],
   "source": [
    "# !pip install lineflow"
   ]
  },
  {
   "cell_type": "code",
   "execution_count": 3,
   "metadata": {
    "id": "D3P2Y4pOr5l8"
   },
   "outputs": [],
   "source": [
    "import numpy as np\n",
    "import pandas as pd\n",
    "import random\n",
    "import tensorflow as tf\n",
    "import re\n",
    "# import lineflow as lf\n",
    "import IPython\n",
    "import graphviz\n",
    "import datetime\n",
    "import os\n",
    "import ast\n",
    "import torch\n",
    "\n",
    "from sklearn.metrics import accuracy_score\n",
    "from tensorflow.keras.callbacks import EarlyStopping, TensorBoard, LearningRateScheduler\n",
    "from tensorflow.keras.utils import plot_model\n",
    "from tensorflow.keras.layers import Input, Dense, Dropout\n",
    "from tensorflow.keras import Model"
   ]
  },
  {
   "cell_type": "code",
   "execution_count": null,
   "metadata": {
    "colab": {
     "base_uri": "https://localhost:8080/"
    },
    "id": "G5n3znoCBZ7s",
    "outputId": "47daba2d-9fdb-403e-c85b-1bf5895c3f44"
   },
   "outputs": [
    {
     "name": "stdout",
     "output_type": "stream",
     "text": [
      "WARNING:tensorflow:TPU system grpc://10.12.212.82:8470 has already been initialized. Reinitializing the TPU can cause previously created variables on TPU to be lost.\n"
     ]
    },
    {
     "name": "stderr",
     "output_type": "stream",
     "text": [
      "WARNING:tensorflow:TPU system grpc://10.12.212.82:8470 has already been initialized. Reinitializing the TPU can cause previously created variables on TPU to be lost.\n"
     ]
    },
    {
     "name": "stdout",
     "output_type": "stream",
     "text": [
      "INFO:tensorflow:Initializing the TPU system: grpc://10.12.212.82:8470\n"
     ]
    },
    {
     "name": "stderr",
     "output_type": "stream",
     "text": [
      "INFO:tensorflow:Initializing the TPU system: grpc://10.12.212.82:8470\n"
     ]
    },
    {
     "name": "stdout",
     "output_type": "stream",
     "text": [
      "INFO:tensorflow:Clearing out eager caches\n"
     ]
    },
    {
     "name": "stderr",
     "output_type": "stream",
     "text": [
      "INFO:tensorflow:Clearing out eager caches\n"
     ]
    },
    {
     "name": "stdout",
     "output_type": "stream",
     "text": [
      "INFO:tensorflow:Finished initializing TPU system.\n"
     ]
    },
    {
     "name": "stderr",
     "output_type": "stream",
     "text": [
      "INFO:tensorflow:Finished initializing TPU system.\n"
     ]
    },
    {
     "name": "stdout",
     "output_type": "stream",
     "text": [
      "All devices:  [LogicalDevice(name='/job:worker/replica:0/task:0/device:TPU:7', device_type='TPU'), LogicalDevice(name='/job:worker/replica:0/task:0/device:TPU:6', device_type='TPU'), LogicalDevice(name='/job:worker/replica:0/task:0/device:TPU:5', device_type='TPU'), LogicalDevice(name='/job:worker/replica:0/task:0/device:TPU:4', device_type='TPU'), LogicalDevice(name='/job:worker/replica:0/task:0/device:TPU:0', device_type='TPU'), LogicalDevice(name='/job:worker/replica:0/task:0/device:TPU:1', device_type='TPU'), LogicalDevice(name='/job:worker/replica:0/task:0/device:TPU:2', device_type='TPU'), LogicalDevice(name='/job:worker/replica:0/task:0/device:TPU:3', device_type='TPU')]\n"
     ]
    }
   ],
   "source": [
    "resolver = tf.distribute.cluster_resolver.TPUClusterResolver()\n",
    "tf.config.experimental_connect_to_cluster(resolver)\n",
    "# This is the TPU initialization code that has to be at the beginning.\n",
    "tf.tpu.experimental.initialize_tpu_system(resolver)\n",
    "print(\"All devices: \", tf.config.list_logical_devices('TPU'))"
   ]
  },
  {
   "cell_type": "markdown",
   "metadata": {
    "id": "RDR4HX8RTXOi"
   },
   "source": [
    "# RACE dataset."
   ]
  },
  {
   "cell_type": "code",
   "execution_count": null,
   "metadata": {
    "id": "p-yBfobxY2O2"
   },
   "outputs": [],
   "source": [
    "import json"
   ]
  },
  {
   "cell_type": "code",
   "execution_count": null,
   "metadata": {
    "id": "yHlsq8TvjwSl"
   },
   "outputs": [],
   "source": [
    "label_map = {'A':0,\n",
    "             'B':1,\n",
    "             'C':2,\n",
    "             'D':3,\n",
    "             'E':4}"
   ]
  },
  {
   "cell_type": "code",
   "execution_count": null,
   "metadata": {
    "id": "ZEahpZnqBl5D"
   },
   "outputs": [],
   "source": [
    "def create_dataset(root_dir):\n",
    "    '''\n",
    "    Given a file_path, this function will return dataframe with columns article,\n",
    "    question, options and answer.\n",
    "    '''\n",
    "    list_of_questions = []\n",
    "    list_of_articles = []\n",
    "    list_of_answers = []\n",
    "    list_of_options = []\n",
    "\n",
    "    for i in ('middle','high'):\n",
    "\n",
    "        dir_path = os.path.join(root_dir,i)\n",
    "        files = os.listdir(dir_path)\n",
    "\n",
    "        for i in files:\n",
    "\n",
    "            f = open(os.path.join(dir_path,i),'r')\n",
    "            contents = f.read()\n",
    "            js = json.loads(contents)\n",
    "\n",
    "            questions = js['questions']\n",
    "            article = js['article']\n",
    "            answers = js['answers']\n",
    "            options = js['options']\n",
    "\n",
    "            for j in range(len(answers)):\n",
    "                question = questions[j]\n",
    "                answer = answers[j]\n",
    "                option = options[j]\n",
    "\n",
    "                list_of_answers.append(answer)\n",
    "                list_of_questions.append(question)\n",
    "                list_of_articles.append(article)\n",
    "                list_of_options.append(option)\n",
    "            \n",
    "            f.close()\n",
    "    \n",
    "    data = pd.DataFrame()\n",
    "    data['answerKey'] = list_of_answers\n",
    "    data['article'] = list_of_articles\n",
    "    data['question'] = list_of_questions\n",
    "    data['options'] = list_of_options\n",
    "\n",
    "    return data"
   ]
  },
  {
   "cell_type": "code",
   "execution_count": null,
   "metadata": {
    "id": "_V-thcraE6hh"
   },
   "outputs": [],
   "source": [
    "# train_data = create_dataset('/content/drive/MyDrive/RACE/train')\n",
    "# dev_data = create_dataset('/content/drive/MyDrive/RACE/dev')\n",
    "# test_data = create_dataset('/content/drive/MyDrive/RACE/test')"
   ]
  },
  {
   "cell_type": "code",
   "execution_count": null,
   "metadata": {
    "id": "12Kaxm0vFFYO"
   },
   "outputs": [],
   "source": [
    "# train_data.to_csv('/content/drive/MyDrive/race_train_data.csv', index=False)\n",
    "# dev_data.to_csv('/content/drive/MyDrive/race_dev_data.csv', index=False)\n",
    "# test_data.to_csv('/content/drive/MyDrive/race_test_data.csv', index=False)"
   ]
  },
  {
   "cell_type": "code",
   "execution_count": null,
   "metadata": {
    "id": "dJaqkJkEexV6"
   },
   "outputs": [],
   "source": [
    "train_data = pd.read_csv('/content/drive/MyDrive/RACE files/race_train_data.csv')\n",
    "dev_data = pd.read_csv('/content/drive/MyDrive/RACE files/race_dev_data.csv')\n",
    "test_data = pd.read_csv('/content/drive/MyDrive/RACE files/race_test_data.csv')"
   ]
  },
  {
   "cell_type": "code",
   "execution_count": null,
   "metadata": {
    "colab": {
     "base_uri": "https://localhost:8080/",
     "height": 198
    },
    "id": "M2vzFlesIU6-",
    "outputId": "f4502a5d-8feb-4ff2-d54c-6aadf85a4f61"
   },
   "outputs": [
    {
     "data": {
      "text/html": [
       "<div>\n",
       "<style scoped>\n",
       "    .dataframe tbody tr th:only-of-type {\n",
       "        vertical-align: middle;\n",
       "    }\n",
       "\n",
       "    .dataframe tbody tr th {\n",
       "        vertical-align: top;\n",
       "    }\n",
       "\n",
       "    .dataframe thead th {\n",
       "        text-align: right;\n",
       "    }\n",
       "</style>\n",
       "<table border=\"1\" class=\"dataframe\">\n",
       "  <thead>\n",
       "    <tr style=\"text-align: right;\">\n",
       "      <th></th>\n",
       "      <th>answerKey</th>\n",
       "      <th>article</th>\n",
       "      <th>question</th>\n",
       "      <th>options</th>\n",
       "    </tr>\n",
       "  </thead>\n",
       "  <tbody>\n",
       "    <tr>\n",
       "      <th>0</th>\n",
       "      <td>B</td>\n",
       "      <td>Do you like painting? Have you ever seen a pai...</td>\n",
       "      <td>What special things can you see on a road in S...</td>\n",
       "      <td>['Some colourful trees.', 'Paintings in tree h...</td>\n",
       "    </tr>\n",
       "    <tr>\n",
       "      <th>1</th>\n",
       "      <td>A</td>\n",
       "      <td>Do you like painting? Have you ever seen a pai...</td>\n",
       "      <td>Wang Yue paints the tree hole paintings to .</td>\n",
       "      <td>['make the ugly tree holes beautiful', 'make a...</td>\n",
       "    </tr>\n",
       "    <tr>\n",
       "      <th>2</th>\n",
       "      <td>C</td>\n",
       "      <td>Do you like painting? Have you ever seen a pai...</td>\n",
       "      <td>What does Wang Yue worry about before she begi...</td>\n",
       "      <td>['The cost she will spend.', 'The thoughts fro...</td>\n",
       "    </tr>\n",
       "    <tr>\n",
       "      <th>3</th>\n",
       "      <td>B</td>\n",
       "      <td>Do you like painting? Have you ever seen a pai...</td>\n",
       "      <td>What does Wang Yue think of painting on a tree...</td>\n",
       "      <td>[\"It's a boring job.\", \"It's a hard job.\", \"It...</td>\n",
       "    </tr>\n",
       "    <tr>\n",
       "      <th>4</th>\n",
       "      <td>D</td>\n",
       "      <td>Do you like painting? Have you ever seen a pai...</td>\n",
       "      <td>What's the best title for this passage?</td>\n",
       "      <td>['Trees in Shijiazhuang', 'Making Our Roads Be...</td>\n",
       "    </tr>\n",
       "  </tbody>\n",
       "</table>\n",
       "</div>"
      ],
      "text/plain": [
       "  answerKey  ...                                            options\n",
       "0         B  ...  ['Some colourful trees.', 'Paintings in tree h...\n",
       "1         A  ...  ['make the ugly tree holes beautiful', 'make a...\n",
       "2         C  ...  ['The cost she will spend.', 'The thoughts fro...\n",
       "3         B  ...  [\"It's a boring job.\", \"It's a hard job.\", \"It...\n",
       "4         D  ...  ['Trees in Shijiazhuang', 'Making Our Roads Be...\n",
       "\n",
       "[5 rows x 4 columns]"
      ]
     },
     "execution_count": 9,
     "metadata": {
      "tags": []
     },
     "output_type": "execute_result"
    }
   ],
   "source": [
    "train_data.head()"
   ]
  },
  {
   "cell_type": "markdown",
   "metadata": {
    "id": "QEXw80N2iWzc"
   },
   "source": [
    "## Fine tuning BERT with RACE."
   ]
  },
  {
   "cell_type": "markdown",
   "metadata": {
    "id": "tjWXFkpWwZar"
   },
   "source": [
    "### Preparing Data."
   ]
  },
  {
   "cell_type": "code",
   "execution_count": null,
   "metadata": {
    "id": "ANtKK1gK7jqs"
   },
   "outputs": [],
   "source": [
    "def race_preprocessor(dataset, tokenizer):\n",
    "    '''\n",
    "    This function will convert a given article, question, choices in a format:\n",
    "\n",
    "    [CLS] article [SEP] question choices[0] [SEP]\n",
    "    [CLS] article [SEP] question choices[1] [SEP]\n",
    "    [CLS] article [SEP] question choices[2] [SEP]\n",
    "    [CLS] article [SEP] question choices[3] [SEP]\n",
    "\n",
    "    After converting in this format the data will be tokenized using a given tokenizer.\n",
    "    This function will return 4 arrays namely, input_ids, attention_mask, token_type_ids and labels.\n",
    "\n",
    "    individual input_ids, token_type_ids, attention_mask shape will be as: [num_choices, max_seq_length]\n",
    "    '''\n",
    "    all_input_ids = []\n",
    "    all_attention_mask = []\n",
    "    all_token_type_ids = []\n",
    "\n",
    "    for i in range(len(dataset)):\n",
    "\n",
    "        article = dataset['article'].iloc[i]\n",
    "        question = dataset['question'].iloc[i]\n",
    "        options = dataset['options'].iloc[i]\n",
    "        choice_features = []\n",
    "\n",
    "        for j in range(len(options)):\n",
    "\n",
    "            option = options[j]\n",
    "            ques_opt = question + ' ' + f'{j}' + ' ' + option\n",
    "            ques_opt = re.sub(r'\\s+', ' ', ques_opt)\n",
    "\n",
    "            inputs = tokenizer(article,\n",
    "                               ques_opt,\n",
    "                               max_length=MAX_LEN,\n",
    "                               truncation='only_first',\n",
    "                               add_special_tokens=True,\n",
    "                               padding='max_length')\n",
    "            \n",
    "            input_ids = inputs['input_ids']\n",
    "            attention_mask = inputs['attention_mask']\n",
    "            token_type_ids = inputs['token_type_ids']\n",
    "\n",
    "            assert len(input_ids) == MAX_LEN\n",
    "            assert len(token_type_ids) == MAX_LEN\n",
    "            assert len(attention_mask) == MAX_LEN\n",
    "\n",
    "            choice_features.append({'input_ids':input_ids,\n",
    "                                    'attention_mask':attention_mask,\n",
    "                                    'token_type_ids':token_type_ids})\n",
    "\n",
    "        all_input_ids.append(np.asarray([cf['input_ids'] for cf in choice_features], dtype='int32'))\n",
    "        all_attention_mask.append(np.asarray([cf['attention_mask'] for cf in choice_features], dtype='int32'))\n",
    "        all_token_type_ids.append(np.asarray([cf['token_type_ids'] for cf in choice_features], dtype='int32'))\n",
    "\n",
    "    return all_input_ids, all_attention_mask, all_token_type_ids"
   ]
  },
  {
   "cell_type": "code",
   "execution_count": null,
   "metadata": {
    "id": "4a_jD1dwi6xT"
   },
   "outputs": [],
   "source": [
    "from transformers import BertTokenizer, TFBertForMultipleChoice"
   ]
  },
  {
   "cell_type": "code",
   "execution_count": null,
   "metadata": {
    "colab": {
     "referenced_widgets": [
      ""
     ]
    },
    "id": "LUF_zryy78gk",
    "outputId": "06dba5de-c935-4193-cccb-64ce90d5ff3f"
   },
   "outputs": [
    {
     "data": {
      "application/vnd.jupyter.widget-view+json": {
       "model_id": "",
       "version_major": 2,
       "version_minor": 0
      },
      "text/plain": [
       "HBox(children=(FloatProgress(value=0.0, description='Downloading', max=231508.0, style=ProgressStyle(descripti…"
      ]
     },
     "metadata": {
      "tags": []
     },
     "output_type": "display_data"
    },
    {
     "name": "stdout",
     "output_type": "stream",
     "text": [
      "\n"
     ]
    }
   ],
   "source": [
    "MAX_LEN = 512\n",
    "tokenizer = BertTokenizer.from_pretrained('bert-base-uncased', do_lower_case=True)"
   ]
  },
  {
   "cell_type": "code",
   "execution_count": null,
   "metadata": {
    "id": "nX9d3ltCdSwK"
   },
   "outputs": [],
   "source": [
    "dev_input_ids, dev_attention_mask, dev_token_type_ids = race_preprocessor(dataset=dev_data, tokenizer=tokenizer)"
   ]
  },
  {
   "cell_type": "code",
   "execution_count": null,
   "metadata": {
    "id": "Gi0epp7cLGGQ"
   },
   "outputs": [],
   "source": [
    "train_input_ids, train_attention_mask, train_token_type_ids = race_preprocessor(dataset=train_data, tokenizer=tokenizer)"
   ]
  },
  {
   "cell_type": "code",
   "execution_count": null,
   "metadata": {
    "id": "htfJ9vkFLRbH"
   },
   "outputs": [],
   "source": [
    "test_input_ids, test_attention_mask, test_token_type_ids = race_preprocessor(dataset=test_data, tokenizer=tokenizer)"
   ]
  },
  {
   "cell_type": "code",
   "execution_count": null,
   "metadata": {
    "id": "6Cdi_jvzLX_h"
   },
   "outputs": [],
   "source": [
    "train_input_ids = np.asarray(train_input_ids, dtype='int32')\n",
    "train_token_type_ids = np.asarray(train_token_type_ids, dtype='int32')\n",
    "train_attention_mask = np.asarray(train_attention_mask, dtype='int32')"
   ]
  },
  {
   "cell_type": "code",
   "execution_count": null,
   "metadata": {
    "id": "K7Fse7dZLX-D"
   },
   "outputs": [],
   "source": [
    "dev_input_ids = np.asarray(dev_input_ids, dtype='int32')\n",
    "dev_token_type_ids = np.asarray(dev_token_type_ids, dtype='int32')\n",
    "dev_attention_mask = np.asarray(dev_attention_mask, dtype='int32')"
   ]
  },
  {
   "cell_type": "code",
   "execution_count": null,
   "metadata": {
    "id": "ajECvMmbLX6C"
   },
   "outputs": [],
   "source": [
    "test_input_ids = np.asarray(test_input_ids, dtype='int32')\n",
    "test_token_type_ids = np.asarray(test_token_type_ids, dtype='int32')\n",
    "test_attention_mask = np.asarray(test_attention_mask, dtype='int32')"
   ]
  },
  {
   "cell_type": "code",
   "execution_count": null,
   "metadata": {
    "id": "3xI-oFZdLX2q"
   },
   "outputs": [],
   "source": [
    "np.save('/content/drive/MyDrive/race_train_input_ids', train_input_ids)\n",
    "np.save('/content/drive/MyDrive/race_train_token_type_ids', train_token_type_ids)\n",
    "np.save('/content/drive/MyDrive/race_train_attention_mask', train_attention_mask)"
   ]
  },
  {
   "cell_type": "code",
   "execution_count": null,
   "metadata": {
    "id": "oi0iW07iYmQP"
   },
   "outputs": [],
   "source": [
    "np.save('/content/drive/MyDrive/race_dev_input_ids', dev_input_ids)\n",
    "np.save('/content/drive/MyDrive/race_dev_token_type_ids', dev_token_type_ids)\n",
    "np.save('/content/drive/MyDrive/race_dev_attention_mask', dev_attention_mask)"
   ]
  },
  {
   "cell_type": "code",
   "execution_count": null,
   "metadata": {
    "id": "rHdlx2d6YmM2"
   },
   "outputs": [],
   "source": [
    "np.save('/content/drive/MyDrive/race_test_input_ids', test_input_ids)\n",
    "np.save('/content/drive/MyDrive/race_test_token_type_ids', test_token_type_ids)\n",
    "np.save('/content/drive/MyDrive/race_test_attention_mask', test_attention_mask)"
   ]
  },
  {
   "cell_type": "markdown",
   "metadata": {
    "id": "twtiETCHwgzc"
   },
   "source": [
    "### Training Data."
   ]
  },
  {
   "cell_type": "code",
   "execution_count": null,
   "metadata": {
    "id": "yn040HO1e-Ka"
   },
   "outputs": [],
   "source": [
    "train_input_ids = np.load('/content/drive/MyDrive/RACE files/BERT files/race_train_input_ids.npy')\n",
    "train_token_type_ids = np.load('/content/drive/MyDrive/RACE files/BERT files/race_train_token_type_ids.npy')\n",
    "train_attention_mask = np.load('/content/drive/MyDrive/RACE files/BERT files/race_train_attention_mask.npy')"
   ]
  },
  {
   "cell_type": "code",
   "execution_count": null,
   "metadata": {
    "id": "e8BVWq2tbvDV"
   },
   "outputs": [],
   "source": [
    "train_labels = train_data['answerKey'].map(label_map)"
   ]
  },
  {
   "cell_type": "code",
   "execution_count": null,
   "metadata": {
    "id": "FiPgUb5nb1jf",
    "outputId": "b35dcd0d-a24d-47f3-897c-401811d576d9"
   },
   "outputs": [
    {
     "data": {
      "text/plain": [
       "array([1, 0, 2, ..., 2, 2, 3])"
      ]
     },
     "execution_count": 12,
     "metadata": {
      "tags": []
     },
     "output_type": "execute_result"
    }
   ],
   "source": [
    "train_labels.values"
   ]
  },
  {
   "cell_type": "code",
   "execution_count": null,
   "metadata": {
    "id": "69oNxt3iYtNM"
   },
   "outputs": [],
   "source": [
    "train_dict = {'input_ids':train_input_ids,\n",
    "              'attention_mask':train_attention_mask,\n",
    "              'token_type_ids':train_token_type_ids}"
   ]
  },
  {
   "cell_type": "code",
   "execution_count": null,
   "metadata": {
    "id": "L2ceNbk2ZPaj"
   },
   "outputs": [],
   "source": [
    "viola = tf.data.Dataset.from_tensor_slices((train_dict,train_labels.values))"
   ]
  },
  {
   "cell_type": "code",
   "execution_count": null,
   "metadata": {
    "id": "BiUCwr4zBzUt"
   },
   "outputs": [],
   "source": [
    "strategy = tf.distribute.experimental.TPUStrategy(resolver)"
   ]
  },
  {
   "cell_type": "code",
   "execution_count": null,
   "metadata": {
    "id": "QkocSyZwaoxN"
   },
   "outputs": [],
   "source": [
    "viola = viola.shuffle(10).batch(8).cache().prefetch(tf.data.experimental.AUTOTUNE)"
   ]
  },
  {
   "cell_type": "code",
   "execution_count": null,
   "metadata": {
    "colab": {
     "referenced_widgets": [
      ""
     ]
    },
    "id": "JOtqsX7da3Zd",
    "outputId": "e4d9e6dc-c319-4d2c-f545-5d4ab40f9101"
   },
   "outputs": [
    {
     "data": {
      "application/vnd.jupyter.widget-view+json": {
       "model_id": "",
       "version_major": 2,
       "version_minor": 0
      },
      "text/plain": [
       "HBox(children=(FloatProgress(value=0.0, description='Downloading', max=433.0, style=ProgressStyle(description_…"
      ]
     },
     "metadata": {
      "tags": []
     },
     "output_type": "display_data"
    },
    {
     "name": "stdout",
     "output_type": "stream",
     "text": [
      "\n"
     ]
    },
    {
     "data": {
      "application/vnd.jupyter.widget-view+json": {
       "model_id": "",
       "version_major": 2,
       "version_minor": 0
      },
      "text/plain": [
       "HBox(children=(FloatProgress(value=0.0, description='Downloading', max=536063208.0, style=ProgressStyle(descri…"
      ]
     },
     "metadata": {
      "tags": []
     },
     "output_type": "display_data"
    },
    {
     "name": "stdout",
     "output_type": "stream",
     "text": [
      "\n"
     ]
    }
   ],
   "source": [
    "from transformers import TFBertForMultipleChoice\n",
    "\n",
    "with strategy.scope():\n",
    "    model = TFBertForMultipleChoice.from_pretrained('bert-base-uncased')\n",
    "    \n",
    "    optimizer = tf.keras.optimizers.Adam(learning_rate=1e-5)\n",
    "    loss = tf.keras.losses.SparseCategoricalCrossentropy(from_logits=True)\n",
    "    model.compile(optimizer=optimizer, \n",
    "                  loss=loss, metrics=['accuracy'])"
   ]
  },
  {
   "cell_type": "code",
   "execution_count": null,
   "metadata": {
    "id": "31A-QTr4dTAI",
    "outputId": "c9f17cde-b0da-4c95-9ffe-5fd393800523"
   },
   "outputs": [
    {
     "data": {
      "text/plain": [
       "<PrefetchDataset shapes: ({input_ids: (None, 4, 512), attention_mask: (None, 4, 512), token_type_ids: (None, 4, 512)}, (None,)), types: ({input_ids: tf.int32, attention_mask: tf.int32, token_type_ids: tf.int32}, tf.int64)>"
      ]
     },
     "execution_count": 18,
     "metadata": {
      "tags": []
     },
     "output_type": "execute_result"
    }
   ],
   "source": [
    "viola"
   ]
  },
  {
   "cell_type": "code",
   "execution_count": null,
   "metadata": {
    "id": "KuuAyFXpbLhP",
    "outputId": "2d724880-1e6a-427b-d275-d0bf3ea91b79"
   },
   "outputs": [
    {
     "name": "stdout",
     "output_type": "stream",
     "text": [
      "Epoch 1/4\n",
      "10988/10988 [==============================] - 2191s 199ms/step - loss: 1.0943 - accuracy: 0.5268\n",
      "Epoch 2/4\n",
      "10988/10988 [==============================] - 2189s 199ms/step - loss: 0.7879 - accuracy: 0.6838\n",
      "Epoch 3/4\n",
      "10988/10988 [==============================] - 2195s 200ms/step - loss: 0.5474 - accuracy: 0.7865\n",
      "Epoch 4/4\n",
      "10988/10988 [==============================] - 2196s 200ms/step - loss: 0.3699 - accuracy: 0.8578\n"
     ]
    },
    {
     "data": {
      "text/plain": [
       "<tensorflow.python.keras.callbacks.History at 0x7f242c65e4d0>"
      ]
     },
     "execution_count": 19,
     "metadata": {
      "tags": []
     },
     "output_type": "execute_result"
    }
   ],
   "source": [
    "model.fit(viola, epochs=4)"
   ]
  },
  {
   "cell_type": "code",
   "execution_count": null,
   "metadata": {
    "id": "OTEBm8iu9iWx"
   },
   "outputs": [],
   "source": [
    "model.save_pretrained('./')"
   ]
  },
  {
   "cell_type": "markdown",
   "metadata": {
    "id": "LjlsHvWY9iWx"
   },
   "source": [
    "## Fine tuning Roberta with RACE."
   ]
  },
  {
   "cell_type": "code",
   "execution_count": null,
   "metadata": {
    "id": "YEGCD0sOjFy2"
   },
   "outputs": [],
   "source": [
    "from transformers import RobertaTokenizer, TFRobertaForMultipleChoice"
   ]
  },
  {
   "cell_type": "code",
   "execution_count": null,
   "metadata": {
    "id": "qf1BdJ4liyaU"
   },
   "outputs": [],
   "source": [
    "MAX_LEN = 450\n",
    "tokenizer = RobertaTokenizer.from_pretrained('roberta-base', do_lower_case=True)"
   ]
  },
  {
   "cell_type": "code",
   "execution_count": null,
   "metadata": {
    "id": "OkBJXfOEf7NR"
   },
   "outputs": [],
   "source": [
    "def race_preprocessor(dataset, tokenizer):\n",
    "    '''\n",
    "    This function will convert a given article, question, choices in a format:\n",
    "\n",
    "    <s> article </s> question </s> choices[0] </s>\n",
    "    <s> article </s> question </s> choices[1] </s>\n",
    "    <s> article </s> question </s> choices[2] </s>\n",
    "    <s> article </s> question </s> choices[3] </s>\n",
    "\n",
    "    After converting in this format the data will be tokenized using a given tokenizer.\n",
    "    This function will return 4 arrays namely, input_ids, attention_mask, token_type_ids and labels.\n",
    "\n",
    "    individual input_ids, token_type_ids, attention_mask shape will be as: [num_choices, max_seq_length]\n",
    "    '''\n",
    "    all_input_ids = []\n",
    "    all_attention_mask = []\n",
    "    all_token_type_ids = []\n",
    "\n",
    "    for i in range(len(dataset)):\n",
    "\n",
    "        article = dataset['article'].iloc[i]\n",
    "        question = dataset['question'].iloc[i]\n",
    "        options = ast.literal_eval(dataset['options'].iloc[i])\n",
    "        choice_features = []\n",
    "\n",
    "        for j in range(len(options)):\n",
    "\n",
    "            option = options[j]\n",
    "            input_string = '<s>' + ' ' + article + ' ' + '</s>' + ' ' + question + ' ' + '</s>' + ' ' + option + ' ' + '</s>'\n",
    "            input_string = re.sub(r'\\s+', ' ', input_string)\n",
    "\n",
    "            input_ids = tokenizer(input_string,\n",
    "                               max_length=MAX_LEN,\n",
    "                               add_special_tokens=False)['input_ids']\n",
    "            \n",
    "            attention_mask = [1] * len(input_ids)\n",
    "\n",
    "            padding_id = tokenizer.pad_token_id\n",
    "            padding_length = 450 - len(input_ids)\n",
    "\n",
    "            input_ids = input_ids + [padding_id]*padding_length\n",
    "            attention_mask = attention_mask + [0]*padding_length\n",
    "\n",
    "            assert len(input_ids) == MAX_LEN\n",
    "            assert len(attention_mask) == MAX_LEN\n",
    "\n",
    "            choice_features.append({'input_ids':input_ids,\n",
    "                                    'attention_mask':attention_mask})\n",
    "\n",
    "        all_input_ids.append(np.asarray([cf['input_ids'] for cf in choice_features], dtype='int32'))\n",
    "        all_attention_mask.append(np.asarray([cf['attention_mask'] for cf in choice_features], dtype='int32'))\n",
    "\n",
    "    return all_input_ids, all_attention_mask"
   ]
  },
  {
   "cell_type": "code",
   "execution_count": null,
   "metadata": {
    "colab": {
     "base_uri": "https://localhost:8080/"
    },
    "id": "KqUo97aliyaW",
    "outputId": "06d6bd48-42df-479d-fa3c-e49a42987f0b"
   },
   "outputs": [
    {
     "name": "stderr",
     "output_type": "stream",
     "text": [
      "Truncation was not explicitly activated but `max_length` is provided a specific value, please use `truncation=True` to explicitly truncate examples to max length. Defaulting to 'longest_first' truncation strategy. If you encode pairs of sequences (GLUE-style) with the tokenizer you can select this strategy more precisely by providing a specific strategy to `truncation`.\n"
     ]
    }
   ],
   "source": [
    "dev_input_ids, dev_attention_mask = race_preprocessor(dataset=dev_data, tokenizer=tokenizer)"
   ]
  },
  {
   "cell_type": "code",
   "execution_count": null,
   "metadata": {
    "colab": {
     "base_uri": "https://localhost:8080/"
    },
    "id": "sQ_6F26p4KRJ",
    "outputId": "827cbfcc-905d-416b-e12d-6dfbb742da68"
   },
   "outputs": [
    {
     "data": {
      "text/plain": [
       "array([[   0, 1308, 1441, ...,    1,    1,    1],\n",
       "       [   0, 1308, 1441, ...,    1,    1,    1],\n",
       "       [   0, 1308, 1441, ...,    1,    1,    1],\n",
       "       [   0, 1308, 1441, ...,    1,    1,    1]], dtype=int32)"
      ]
     },
     "execution_count": 34,
     "metadata": {
      "tags": []
     },
     "output_type": "execute_result"
    }
   ],
   "source": [
    "dev_input_ids[0]"
   ]
  },
  {
   "cell_type": "code",
   "execution_count": null,
   "metadata": {
    "id": "O3F8GAfXiyaW"
   },
   "outputs": [],
   "source": [
    "dev_input_ids = np.asarray(dev_input_ids, dtype='int32')\n",
    "dev_attention_mask = np.asarray(dev_attention_mask, dtype='int32')"
   ]
  },
  {
   "cell_type": "code",
   "execution_count": null,
   "metadata": {
    "id": "ZeDB-TJ3iyaW"
   },
   "outputs": [],
   "source": [
    "np.save('/content/drive/MyDrive/RACE files/RoBERTa files/race_dev_input_ids', dev_input_ids)\n",
    "np.save('/content/drive/MyDrive/RACE files/RoBERTa files/race_dev_attention_mask', dev_attention_mask)"
   ]
  },
  {
   "cell_type": "code",
   "execution_count": null,
   "metadata": {
    "id": "gkVOgWLdiyaW"
   },
   "outputs": [],
   "source": [
    "test_input_ids, test_attention_mask = race_preprocessor(dataset=test_data, tokenizer=tokenizer)"
   ]
  },
  {
   "cell_type": "code",
   "execution_count": null,
   "metadata": {
    "id": "uEtA9a3MiyaW"
   },
   "outputs": [],
   "source": [
    "test_input_ids = np.asarray(test_input_ids, dtype='int32')\n",
    "test_attention_mask = np.asarray(test_attention_mask, dtype='int32')"
   ]
  },
  {
   "cell_type": "code",
   "execution_count": null,
   "metadata": {
    "id": "toxfYdK9iyaW"
   },
   "outputs": [],
   "source": [
    "np.save('/content/drive/MyDrive/RACE files/RoBERTa files/race_test_input_ids', test_input_ids)\n",
    "np.save('/content/drive/MyDrive/RACE files/RoBERTa files/race_test_attention_mask', test_attention_mask)"
   ]
  },
  {
   "cell_type": "code",
   "execution_count": null,
   "metadata": {
    "id": "E8LS1zU1iyaW"
   },
   "outputs": [],
   "source": [
    "train_input_ids, train_attention_mask = race_preprocessor(dataset=train_data, tokenizer=tokenizer)"
   ]
  },
  {
   "cell_type": "code",
   "execution_count": null,
   "metadata": {
    "id": "BWPLTjYsiyaW"
   },
   "outputs": [],
   "source": [
    "train_input_ids = np.asarray(train_input_ids, dtype='int32')\n",
    "train_attention_mask = np.asarray(train_attention_mask, dtype='int32')"
   ]
  },
  {
   "cell_type": "code",
   "execution_count": null,
   "metadata": {
    "colab": {
     "base_uri": "https://localhost:8080/"
    },
    "id": "cUOmIrZs7G-2",
    "outputId": "ebcc0f6a-6310-4d0d-d100-c597226d6d7d"
   },
   "outputs": [
    {
     "data": {
      "text/plain": [
       "87897"
      ]
     },
     "execution_count": 42,
     "metadata": {
      "tags": []
     },
     "output_type": "execute_result"
    }
   ],
   "source": [
    "len(train_input_ids)"
   ]
  },
  {
   "cell_type": "code",
   "execution_count": null,
   "metadata": {
    "colab": {
     "base_uri": "https://localhost:8080/"
    },
    "id": "SjIUKHC77Ke4",
    "outputId": "b08fdffd-5c71-4a8d-b258-082da408695f"
   },
   "outputs": [
    {
     "data": {
      "text/plain": [
       "array([[1, 1, 1, ..., 0, 0, 0],\n",
       "       [1, 1, 1, ..., 0, 0, 0],\n",
       "       [1, 1, 1, ..., 0, 0, 0],\n",
       "       [1, 1, 1, ..., 0, 0, 0]], dtype=int32)"
      ]
     },
     "execution_count": 43,
     "metadata": {
      "tags": []
     },
     "output_type": "execute_result"
    }
   ],
   "source": [
    "train_attention_mask[0]"
   ]
  },
  {
   "cell_type": "code",
   "execution_count": null,
   "metadata": {
    "id": "r-nC2MJZiyaW"
   },
   "outputs": [],
   "source": [
    "np.save('/content/drive/MyDrive/RACE files/RoBERTa files/race_train_input_ids', train_input_ids)\n",
    "np.save('/content/drive/MyDrive/RACE files/RoBERTa files/race_train_attention_mask', train_attention_mask)"
   ]
  },
  {
   "cell_type": "markdown",
   "metadata": {
    "id": "njgrdZjR71xQ"
   },
   "source": [
    "#### Training"
   ]
  },
  {
   "cell_type": "code",
   "execution_count": null,
   "metadata": {
    "id": "3g4KTilQiyaX"
   },
   "outputs": [],
   "source": [
    "train_input_ids = np.load('/content/drive/MyDrive/RACE files/RoBERTa files/race_train_input_ids.npy')\n",
    "train_attention_mask = np.load('/content/drive/MyDrive/RACE files/RoBERTa files/race_train_attention_mask.npy')"
   ]
  },
  {
   "cell_type": "code",
   "execution_count": null,
   "metadata": {
    "id": "GNEduRU7iyaX"
   },
   "outputs": [],
   "source": [
    "train_labels = train_data['answerKey'].map(label_map)"
   ]
  },
  {
   "cell_type": "code",
   "execution_count": null,
   "metadata": {
    "colab": {
     "base_uri": "https://localhost:8080/"
    },
    "id": "fWik7lO4iyaX",
    "outputId": "0d8bfa98-101a-4ce5-b701-a0504bed9e96"
   },
   "outputs": [
    {
     "data": {
      "text/plain": [
       "array([1, 0, 2, ..., 2, 2, 3])"
      ]
     },
     "execution_count": 34,
     "metadata": {
      "tags": []
     },
     "output_type": "execute_result"
    }
   ],
   "source": [
    "train_labels.values"
   ]
  },
  {
   "cell_type": "code",
   "execution_count": null,
   "metadata": {
    "id": "FYqD9JCciyaX"
   },
   "outputs": [],
   "source": [
    "train_dict = {'input_ids':train_input_ids,\n",
    "              'attention_mask':train_attention_mask}"
   ]
  },
  {
   "cell_type": "code",
   "execution_count": null,
   "metadata": {
    "id": "BGiFkXldiyaX"
   },
   "outputs": [],
   "source": [
    "viola = tf.data.Dataset.from_tensor_slices((train_dict,train_labels.values))"
   ]
  },
  {
   "cell_type": "code",
   "execution_count": null,
   "metadata": {
    "colab": {
     "base_uri": "https://localhost:8080/"
    },
    "id": "oHWZBrmdiyaX",
    "outputId": "52b6dd9b-d8bc-495b-ae1a-d84ebb4e5492"
   },
   "outputs": [
    {
     "name": "stdout",
     "output_type": "stream",
     "text": [
      "INFO:tensorflow:Found TPU system:\n"
     ]
    },
    {
     "name": "stderr",
     "output_type": "stream",
     "text": [
      "INFO:tensorflow:Found TPU system:\n"
     ]
    },
    {
     "name": "stdout",
     "output_type": "stream",
     "text": [
      "INFO:tensorflow:*** Num TPU Cores: 8\n"
     ]
    },
    {
     "name": "stderr",
     "output_type": "stream",
     "text": [
      "INFO:tensorflow:*** Num TPU Cores: 8\n"
     ]
    },
    {
     "name": "stdout",
     "output_type": "stream",
     "text": [
      "INFO:tensorflow:*** Num TPU Workers: 1\n"
     ]
    },
    {
     "name": "stderr",
     "output_type": "stream",
     "text": [
      "INFO:tensorflow:*** Num TPU Workers: 1\n"
     ]
    },
    {
     "name": "stdout",
     "output_type": "stream",
     "text": [
      "INFO:tensorflow:*** Num TPU Cores Per Worker: 8\n"
     ]
    },
    {
     "name": "stderr",
     "output_type": "stream",
     "text": [
      "INFO:tensorflow:*** Num TPU Cores Per Worker: 8\n"
     ]
    },
    {
     "name": "stdout",
     "output_type": "stream",
     "text": [
      "INFO:tensorflow:*** Available Device: _DeviceAttributes(/job:localhost/replica:0/task:0/device:CPU:0, CPU, 0, 0)\n"
     ]
    },
    {
     "name": "stderr",
     "output_type": "stream",
     "text": [
      "INFO:tensorflow:*** Available Device: _DeviceAttributes(/job:localhost/replica:0/task:0/device:CPU:0, CPU, 0, 0)\n"
     ]
    },
    {
     "name": "stdout",
     "output_type": "stream",
     "text": [
      "INFO:tensorflow:*** Available Device: _DeviceAttributes(/job:localhost/replica:0/task:0/device:XLA_CPU:0, XLA_CPU, 0, 0)\n"
     ]
    },
    {
     "name": "stderr",
     "output_type": "stream",
     "text": [
      "INFO:tensorflow:*** Available Device: _DeviceAttributes(/job:localhost/replica:0/task:0/device:XLA_CPU:0, XLA_CPU, 0, 0)\n"
     ]
    },
    {
     "name": "stdout",
     "output_type": "stream",
     "text": [
      "INFO:tensorflow:*** Available Device: _DeviceAttributes(/job:worker/replica:0/task:0/device:CPU:0, CPU, 0, 0)\n"
     ]
    },
    {
     "name": "stderr",
     "output_type": "stream",
     "text": [
      "INFO:tensorflow:*** Available Device: _DeviceAttributes(/job:worker/replica:0/task:0/device:CPU:0, CPU, 0, 0)\n"
     ]
    },
    {
     "name": "stdout",
     "output_type": "stream",
     "text": [
      "INFO:tensorflow:*** Available Device: _DeviceAttributes(/job:worker/replica:0/task:0/device:TPU:0, TPU, 0, 0)\n"
     ]
    },
    {
     "name": "stderr",
     "output_type": "stream",
     "text": [
      "INFO:tensorflow:*** Available Device: _DeviceAttributes(/job:worker/replica:0/task:0/device:TPU:0, TPU, 0, 0)\n"
     ]
    },
    {
     "name": "stdout",
     "output_type": "stream",
     "text": [
      "INFO:tensorflow:*** Available Device: _DeviceAttributes(/job:worker/replica:0/task:0/device:TPU:1, TPU, 0, 0)\n"
     ]
    },
    {
     "name": "stderr",
     "output_type": "stream",
     "text": [
      "INFO:tensorflow:*** Available Device: _DeviceAttributes(/job:worker/replica:0/task:0/device:TPU:1, TPU, 0, 0)\n"
     ]
    },
    {
     "name": "stdout",
     "output_type": "stream",
     "text": [
      "INFO:tensorflow:*** Available Device: _DeviceAttributes(/job:worker/replica:0/task:0/device:TPU:2, TPU, 0, 0)\n"
     ]
    },
    {
     "name": "stderr",
     "output_type": "stream",
     "text": [
      "INFO:tensorflow:*** Available Device: _DeviceAttributes(/job:worker/replica:0/task:0/device:TPU:2, TPU, 0, 0)\n"
     ]
    },
    {
     "name": "stdout",
     "output_type": "stream",
     "text": [
      "INFO:tensorflow:*** Available Device: _DeviceAttributes(/job:worker/replica:0/task:0/device:TPU:3, TPU, 0, 0)\n"
     ]
    },
    {
     "name": "stderr",
     "output_type": "stream",
     "text": [
      "INFO:tensorflow:*** Available Device: _DeviceAttributes(/job:worker/replica:0/task:0/device:TPU:3, TPU, 0, 0)\n"
     ]
    },
    {
     "name": "stdout",
     "output_type": "stream",
     "text": [
      "INFO:tensorflow:*** Available Device: _DeviceAttributes(/job:worker/replica:0/task:0/device:TPU:4, TPU, 0, 0)\n"
     ]
    },
    {
     "name": "stderr",
     "output_type": "stream",
     "text": [
      "INFO:tensorflow:*** Available Device: _DeviceAttributes(/job:worker/replica:0/task:0/device:TPU:4, TPU, 0, 0)\n"
     ]
    },
    {
     "name": "stdout",
     "output_type": "stream",
     "text": [
      "INFO:tensorflow:*** Available Device: _DeviceAttributes(/job:worker/replica:0/task:0/device:TPU:5, TPU, 0, 0)\n"
     ]
    },
    {
     "name": "stderr",
     "output_type": "stream",
     "text": [
      "INFO:tensorflow:*** Available Device: _DeviceAttributes(/job:worker/replica:0/task:0/device:TPU:5, TPU, 0, 0)\n"
     ]
    },
    {
     "name": "stdout",
     "output_type": "stream",
     "text": [
      "INFO:tensorflow:*** Available Device: _DeviceAttributes(/job:worker/replica:0/task:0/device:TPU:6, TPU, 0, 0)\n"
     ]
    },
    {
     "name": "stderr",
     "output_type": "stream",
     "text": [
      "INFO:tensorflow:*** Available Device: _DeviceAttributes(/job:worker/replica:0/task:0/device:TPU:6, TPU, 0, 0)\n"
     ]
    },
    {
     "name": "stdout",
     "output_type": "stream",
     "text": [
      "INFO:tensorflow:*** Available Device: _DeviceAttributes(/job:worker/replica:0/task:0/device:TPU:7, TPU, 0, 0)\n"
     ]
    },
    {
     "name": "stderr",
     "output_type": "stream",
     "text": [
      "INFO:tensorflow:*** Available Device: _DeviceAttributes(/job:worker/replica:0/task:0/device:TPU:7, TPU, 0, 0)\n"
     ]
    },
    {
     "name": "stdout",
     "output_type": "stream",
     "text": [
      "INFO:tensorflow:*** Available Device: _DeviceAttributes(/job:worker/replica:0/task:0/device:TPU_SYSTEM:0, TPU_SYSTEM, 0, 0)\n"
     ]
    },
    {
     "name": "stderr",
     "output_type": "stream",
     "text": [
      "INFO:tensorflow:*** Available Device: _DeviceAttributes(/job:worker/replica:0/task:0/device:TPU_SYSTEM:0, TPU_SYSTEM, 0, 0)\n"
     ]
    },
    {
     "name": "stdout",
     "output_type": "stream",
     "text": [
      "INFO:tensorflow:*** Available Device: _DeviceAttributes(/job:worker/replica:0/task:0/device:XLA_CPU:0, XLA_CPU, 0, 0)\n"
     ]
    },
    {
     "name": "stderr",
     "output_type": "stream",
     "text": [
      "INFO:tensorflow:*** Available Device: _DeviceAttributes(/job:worker/replica:0/task:0/device:XLA_CPU:0, XLA_CPU, 0, 0)\n"
     ]
    }
   ],
   "source": [
    "strategy = tf.distribute.TPUStrategy(resolver)"
   ]
  },
  {
   "cell_type": "code",
   "execution_count": null,
   "metadata": {
    "id": "T6gKSYGYiyaX"
   },
   "outputs": [],
   "source": [
    "viola = viola.shuffle(32).batch(16).cache().prefetch(tf.data.experimental.AUTOTUNE)"
   ]
  },
  {
   "cell_type": "code",
   "execution_count": null,
   "metadata": {
    "colab": {
     "base_uri": "https://localhost:8080/"
    },
    "id": "UOwflRKiiyaX",
    "outputId": "c8e4558f-66e2-40b0-ef76-e3fa73632103"
   },
   "outputs": [
    {
     "name": "stderr",
     "output_type": "stream",
     "text": [
      "Some layers from the model checkpoint at roberta-base were not used when initializing TFRobertaForMultipleChoice: ['lm_head']\n",
      "- This IS expected if you are initializing TFRobertaForMultipleChoice from the checkpoint of a model trained on another task or with another architecture (e.g. initializing a BertForSequenceClassification model from a BertForPreTraining model).\n",
      "- This IS NOT expected if you are initializing TFRobertaForMultipleChoice from the checkpoint of a model that you expect to be exactly identical (initializing a BertForSequenceClassification model from a BertForSequenceClassification model).\n",
      "Some layers of TFRobertaForMultipleChoice were not initialized from the model checkpoint at roberta-base and are newly initialized: ['dropout_113', 'classifier']\n",
      "You should probably TRAIN this model on a down-stream task to be able to use it for predictions and inference.\n"
     ]
    }
   ],
   "source": [
    "with strategy.scope():\n",
    "\n",
    "    model = TFRobertaForMultipleChoice.from_pretrained('roberta-base')\n",
    "\n",
    "    optimizer = tf.keras.optimizers.Adam(learning_rate=1e-5)\n",
    "    loss = tf.keras.losses.SparseCategoricalCrossentropy(from_logits=True)\n",
    "\n",
    "    model.compile(optimizer=optimizer, \n",
    "                  loss=loss, metrics=['accuracy'])"
   ]
  },
  {
   "cell_type": "code",
   "execution_count": null,
   "metadata": {
    "colab": {
     "base_uri": "https://localhost:8080/"
    },
    "id": "JsBCKaKIiyaX",
    "outputId": "178d1a2a-aba8-4ae1-969c-c29418e457d4"
   },
   "outputs": [
    {
     "data": {
      "text/plain": [
       "<PrefetchDataset shapes: ({input_ids: (None, 4, 450), attention_mask: (None, 4, 450)}, (None,)), types: ({input_ids: tf.int32, attention_mask: tf.int32}, tf.int64)>"
      ]
     },
     "execution_count": 43,
     "metadata": {
      "tags": []
     },
     "output_type": "execute_result"
    }
   ],
   "source": [
    "viola"
   ]
  },
  {
   "cell_type": "code",
   "execution_count": null,
   "metadata": {
    "colab": {
     "base_uri": "https://localhost:8080/"
    },
    "id": "-SOTFEjBiyaX",
    "outputId": "3888c206-623e-4e55-e97f-f48a518e3273"
   },
   "outputs": [
    {
     "name": "stdout",
     "output_type": "stream",
     "text": [
      "Epoch 1/4\n",
      "   2/5494 [..............................] - ETA: 28:35:05 - loss: 1.3967 - accuracy: 0.2500WARNING:tensorflow:Callbacks method `on_train_batch_end` is slow compared to the batch time (batch time: 0.0089s vs `on_train_batch_end` time: 0.2702s). Check your callbacks.\n"
     ]
    },
    {
     "name": "stderr",
     "output_type": "stream",
     "text": [
      "WARNING:tensorflow:Callbacks method `on_train_batch_end` is slow compared to the batch time (batch time: 0.0089s vs `on_train_batch_end` time: 0.2702s). Check your callbacks.\n"
     ]
    },
    {
     "name": "stdout",
     "output_type": "stream",
     "text": [
      "5494/5494 [==============================] - 1591s 290ms/step - loss: 1.0194 - accuracy: 0.5506\n",
      "Epoch 2/4\n",
      "5494/5494 [==============================] - 1556s 283ms/step - loss: 0.7615 - accuracy: 0.6753\n",
      "Epoch 3/4\n",
      "5494/5494 [==============================] - 1556s 283ms/step - loss: 0.6037 - accuracy: 0.7391\n",
      "Epoch 4/4\n",
      "5494/5494 [==============================] - 1557s 283ms/step - loss: 0.4840 - accuracy: 0.7846\n"
     ]
    },
    {
     "data": {
      "text/plain": [
       "<tensorflow.python.keras.callbacks.History at 0x7f6ef105c2e8>"
      ]
     },
     "execution_count": 44,
     "metadata": {
      "tags": []
     },
     "output_type": "execute_result"
    }
   ],
   "source": [
    "model.fit(viola, epochs=4)"
   ]
  },
  {
   "cell_type": "code",
   "execution_count": null,
   "metadata": {
    "id": "1hbkgla0iyaX"
   },
   "outputs": [],
   "source": [
    "model.save_pretrained('/content/drive/MyDrive/roberta_model')"
   ]
  },
  {
   "cell_type": "markdown",
   "metadata": {
    "id": "LHtVLEowPT47"
   },
   "source": [
    "## Fine tuning XLNet with RACE."
   ]
  },
  {
   "cell_type": "code",
   "execution_count": null,
   "metadata": {
    "id": "PfjswDFshc98"
   },
   "outputs": [],
   "source": [
    "#Limiting the max length of the article given.\n",
    "max_length = 450\n",
    "\n",
    "for i in range(len(train_data)):\n",
    "    article = train_data['article'].iloc[i]\n",
    "    b = len(article.split())\n",
    "    if b > max_length:\n",
    "        c = article.split()\n",
    "        train_data['article'].iloc[i] = ' '.join(c[:450])"
   ]
  },
  {
   "cell_type": "code",
   "execution_count": null,
   "metadata": {
    "id": "c5kd4NehiO6L"
   },
   "outputs": [],
   "source": [
    "for i in range(len(dev_data)):\n",
    "    article = dev_data['article'].iloc[i]\n",
    "    b = len(article.split())\n",
    "    if b > max_length:\n",
    "        c = article.split()\n",
    "        dev_data['article'].iloc[i] = ' '.join(c[:450])\n",
    "\n",
    "for i in range(len(test_data)):\n",
    "    article = test_data['article'].iloc[i]\n",
    "    b = len(article.split())\n",
    "    if b > max_length:\n",
    "        c = article.split()\n",
    "        test_data['article'].iloc[i] = ' '.join(c[:450])"
   ]
  },
  {
   "cell_type": "code",
   "execution_count": null,
   "metadata": {
    "id": "wEm3OwzbUei4"
   },
   "outputs": [],
   "source": [
    "from transformers import AutoTokenizer"
   ]
  },
  {
   "cell_type": "code",
   "execution_count": null,
   "metadata": {
    "colab": {
     "base_uri": "https://localhost:8080/",
     "height": 167,
     "referenced_widgets": [
      "af48cc1176fe46f78dd14390e4d43ee9",
      "ccaa47b693184bbd889f10fa0758ab8a",
      "e2e034029e3d4ee781179e625cf362bb"
     ]
    },
    "id": "4J3W-oYZUmi2",
    "outputId": "fc0f6999-1bd6-4993-ecbf-1922b473c343"
   },
   "outputs": [
    {
     "data": {
      "application/vnd.jupyter.widget-view+json": {
       "model_id": "af48cc1176fe46f78dd14390e4d43ee9",
       "version_major": 2,
       "version_minor": 0
      },
      "text/plain": [
       "HBox(children=(FloatProgress(value=0.0, description='Downloading', max=760.0, style=ProgressStyle(description_…"
      ]
     },
     "metadata": {
      "tags": []
     },
     "output_type": "display_data"
    },
    {
     "name": "stdout",
     "output_type": "stream",
     "text": [
      "\n"
     ]
    },
    {
     "data": {
      "application/vnd.jupyter.widget-view+json": {
       "model_id": "ccaa47b693184bbd889f10fa0758ab8a",
       "version_major": 2,
       "version_minor": 0
      },
      "text/plain": [
       "HBox(children=(FloatProgress(value=0.0, description='Downloading', max=798011.0, style=ProgressStyle(descripti…"
      ]
     },
     "metadata": {
      "tags": []
     },
     "output_type": "display_data"
    },
    {
     "name": "stdout",
     "output_type": "stream",
     "text": [
      "\n"
     ]
    },
    {
     "data": {
      "application/vnd.jupyter.widget-view+json": {
       "model_id": "e2e034029e3d4ee781179e625cf362bb",
       "version_major": 2,
       "version_minor": 0
      },
      "text/plain": [
       "HBox(children=(FloatProgress(value=0.0, description='Downloading', max=1382015.0, style=ProgressStyle(descript…"
      ]
     },
     "metadata": {
      "tags": []
     },
     "output_type": "display_data"
    },
    {
     "name": "stdout",
     "output_type": "stream",
     "text": [
      "\n"
     ]
    }
   ],
   "source": [
    "tokenizer = AutoTokenizer.from_pretrained('xlnet-base-cased')"
   ]
  },
  {
   "cell_type": "code",
   "execution_count": null,
   "metadata": {
    "id": "sjglhYLrhkug"
   },
   "outputs": [],
   "source": [
    "MAX_LEN = 512"
   ]
  },
  {
   "cell_type": "code",
   "execution_count": null,
   "metadata": {
    "id": "Hpprii3Yepz9"
   },
   "outputs": [],
   "source": [
    "def race_preprocessor(dataset, tokenizer):\n",
    "    '''\n",
    "    This function will convert a given article, question, choices in a format:\n",
    "\n",
    "    article <sep> question choices[0] <sep> <cls>\n",
    "    article <sep> question choices[1] <sep> <cls>\n",
    "    article <sep> question choices[2] <sep> <cls>\n",
    "    article <sep> question choices[3] <sep> <cls>\n",
    "\n",
    "    After converting in this format the data will be tokenized using a given tokenizer.\n",
    "    This function will return 4 arrays namely, input_ids, attention_mask, token_type_ids and labels.\n",
    "\n",
    "    individual input_ids, token_type_ids, attention_mask shape will be as: [num_choices, max_seq_length]\n",
    "    '''\n",
    "    all_input_ids = []\n",
    "    all_attention_mask = []\n",
    "    all_token_type_ids = []\n",
    "\n",
    "    for i in range(len(dataset)):\n",
    "\n",
    "        article = dataset['article'].iloc[i]\n",
    "        question = dataset['question'].iloc[i]\n",
    "        options = ast.literal_eval(dataset['options'].iloc[i])\n",
    "        choice_features = []\n",
    "\n",
    "        for j in range(len(options)):\n",
    "\n",
    "            option = options[j]\n",
    "            input_string = article + '<sep>' + ' ' + question + ' ' + option + '<sep>' + ' ' + '<cls>'\n",
    "            input_string = re.sub(r'\\s+', ' ', input_string)\n",
    "\n",
    "            input_ids = tokenizer.encode(input_string, add_special_tokens=False, max_length=MAX_LEN)\n",
    "\n",
    "            padding_length = MAX_LEN - len(input_ids)\n",
    "            padding_token = tokenizer.pad_token_id\n",
    "\n",
    "            attention_mask = [1] * len(input_ids)\n",
    "            \n",
    "            input_ids = input_ids + [padding_token] * padding_length\n",
    "            attention_mask = attention_mask + [0] * padding_length\n",
    "            \n",
    "            # token_type_ids = inputs['token_type_ids']\n",
    "\n",
    "            assert len(input_ids) == MAX_LEN\n",
    "            assert len(attention_mask) == MAX_LEN\n",
    "            # assert len(token_type_ids) == MAX_LEN\n",
    "\n",
    "            choice_features.append({'input_ids':input_ids,\n",
    "                                    'attention_mask':attention_mask})\n",
    "\n",
    "        all_input_ids.append(np.asarray([cf['input_ids'] for cf in choice_features], dtype='int32'))\n",
    "        all_attention_mask.append(np.asarray([cf['attention_mask'] for cf in choice_features], dtype='int32'))\n",
    "        # all_token_type_ids.append(np.asarray([cf['token_type_ids'] for cf in choice_features], dtype='int32'))\n",
    "\n",
    "    return all_input_ids, all_attention_mask"
   ]
  },
  {
   "cell_type": "code",
   "execution_count": null,
   "metadata": {
    "colab": {
     "base_uri": "https://localhost:8080/"
    },
    "id": "klCQ7AiSjVF-",
    "outputId": "3e7dac5d-1def-4fcd-a8fc-e91136ca2c26"
   },
   "outputs": [
    {
     "name": "stderr",
     "output_type": "stream",
     "text": [
      "Truncation was not explicitly activated but `max_length` is provided a specific value, please use `truncation=True` to explicitly truncate examples to max length. Defaulting to 'longest_first' truncation strategy. If you encode pairs of sequences (GLUE-style) with the tokenizer you can select this strategy more precisely by providing a specific strategy to `truncation`.\n"
     ]
    }
   ],
   "source": [
    "dev_input_ids, dev_attention_mask = race_preprocessor(dev_data, tokenizer)"
   ]
  },
  {
   "cell_type": "code",
   "execution_count": null,
   "metadata": {
    "id": "6c54A0GMw9hX"
   },
   "outputs": [],
   "source": [
    "dev_input_ids = np.asarray(dev_input_ids, dtype='int32')\n",
    "dev_attention_mask = np.asarray(dev_attention_mask, dtype='int32')"
   ]
  },
  {
   "cell_type": "code",
   "execution_count": null,
   "metadata": {
    "id": "-s-1cqOwOays"
   },
   "outputs": [],
   "source": [
    "os.mkdir('XLNet files')"
   ]
  },
  {
   "cell_type": "code",
   "execution_count": null,
   "metadata": {
    "id": "SelPEf0pwySf"
   },
   "outputs": [],
   "source": [
    "np.save('/content/XLNet files/race_dev_input_ids', dev_input_ids)\n",
    "np.save('/content/XLNet files/race_dev_attention_mask', dev_attention_mask)"
   ]
  },
  {
   "cell_type": "code",
   "execution_count": null,
   "metadata": {
    "id": "qcIIBCNajUrS"
   },
   "outputs": [],
   "source": [
    "test_input_ids, test_attention_mask = race_preprocessor(test_data, tokenizer)"
   ]
  },
  {
   "cell_type": "code",
   "execution_count": null,
   "metadata": {
    "id": "CFMgdhShw-dd"
   },
   "outputs": [],
   "source": [
    "test_input_ids = np.asarray(test_input_ids, dtype='int32')\n",
    "test_attention_mask = np.asarray(test_attention_mask, dtype='int32')"
   ]
  },
  {
   "cell_type": "code",
   "execution_count": null,
   "metadata": {
    "id": "GaZkhH9mxIA3"
   },
   "outputs": [],
   "source": [
    "np.save('/content/XLNet files/race_test_input_ids', test_input_ids)\n",
    "np.save('/content/XLNet files/race_test_attention_mask', test_attention_mask)"
   ]
  },
  {
   "cell_type": "code",
   "execution_count": null,
   "metadata": {
    "id": "5cGAxzomw1VM"
   },
   "outputs": [],
   "source": [
    "train_input_ids, train_attention_mask = race_preprocessor(train_data, tokenizer)"
   ]
  },
  {
   "cell_type": "code",
   "execution_count": null,
   "metadata": {
    "id": "oBNO8Os2xBW8"
   },
   "outputs": [],
   "source": [
    "train_input_ids = np.asarray(train_input_ids, dtype='int32')\n",
    "train_attention_mask = np.asarray(train_attention_mask, dtype='int32')"
   ]
  },
  {
   "cell_type": "code",
   "execution_count": null,
   "metadata": {
    "id": "Y9dp8JVYxF5B"
   },
   "outputs": [],
   "source": [
    "np.save('/content/XLNet files/race_train_input_ids', train_input_ids)\n",
    "np.save('/content/XLNet files/race_train_attention_mask', train_attention_mask)"
   ]
  },
  {
   "cell_type": "code",
   "execution_count": null,
   "metadata": {
    "colab": {
     "base_uri": "https://localhost:8080/",
     "height": 35
    },
    "id": "BaRYj6keP2_w",
    "outputId": "bb350db2-7bca-4989-fc9f-815aa3265ac2"
   },
   "outputs": [
    {
     "data": {
      "application/vnd.google.colaboratory.intrinsic+json": {
       "type": "string"
      },
      "text/plain": [
       "'/content/XLNet files.zip'"
      ]
     },
     "execution_count": 37,
     "metadata": {
      "tags": []
     },
     "output_type": "execute_result"
    }
   ],
   "source": [
    "import shutil\n",
    "shutil.make_archive('XLNet files', 'zip', 'XLNet files')"
   ]
  },
  {
   "cell_type": "markdown",
   "metadata": {
    "id": "qYJK_UVVxVOj"
   },
   "source": [
    "### Training."
   ]
  },
  {
   "cell_type": "code",
   "execution_count": null,
   "metadata": {
    "id": "tgta2cluPT49"
   },
   "outputs": [],
   "source": [
    "train_input_ids = np.load('/content/drive/MyDrive/RACE files/XLNet files/race_train_input_ids.npy')\n",
    "train_attention_mask = np.load('/content/drive/MyDrive/RACE files/XLNet files/race_train_attention_mask.npy')"
   ]
  },
  {
   "cell_type": "code",
   "execution_count": null,
   "metadata": {
    "id": "pMaXxfkgPT49"
   },
   "outputs": [],
   "source": [
    "train_labels = train_data['answerKey'].map(label_map)"
   ]
  },
  {
   "cell_type": "code",
   "execution_count": null,
   "metadata": {
    "colab": {
     "base_uri": "https://localhost:8080/"
    },
    "id": "tmzSzlKUPT49",
    "outputId": "ab4f2b6b-3589-4e39-a0df-835122f9a12f"
   },
   "outputs": [
    {
     "data": {
      "text/plain": [
       "array([1, 0, 2, ..., 2, 2, 3])"
      ]
     },
     "execution_count": 15,
     "metadata": {
      "tags": []
     },
     "output_type": "execute_result"
    }
   ],
   "source": [
    "train_labels.values"
   ]
  },
  {
   "cell_type": "code",
   "execution_count": null,
   "metadata": {
    "id": "9BzeZ_87PT49"
   },
   "outputs": [],
   "source": [
    "train_dict = {'input_ids':train_input_ids,\n",
    "              'attention_mask':train_attention_mask}"
   ]
  },
  {
   "cell_type": "code",
   "execution_count": null,
   "metadata": {
    "id": "QCKAkym_PT49"
   },
   "outputs": [],
   "source": [
    "viola = tf.data.Dataset.from_tensor_slices((train_dict,train_labels.values))"
   ]
  },
  {
   "cell_type": "code",
   "execution_count": null,
   "metadata": {
    "colab": {
     "base_uri": "https://localhost:8080/"
    },
    "id": "nMXhmZ6EPT49",
    "outputId": "11a7aad0-3b46-4571-a4ab-760ca9cfe5dc"
   },
   "outputs": [
    {
     "name": "stderr",
     "output_type": "stream",
     "text": [
      "WARNING:absl:`tf.distribute.experimental.TPUStrategy` is deprecated, please use  the non experimental symbol `tf.distribute.TPUStrategy` instead.\n"
     ]
    },
    {
     "name": "stdout",
     "output_type": "stream",
     "text": [
      "INFO:tensorflow:Found TPU system:\n"
     ]
    },
    {
     "name": "stderr",
     "output_type": "stream",
     "text": [
      "INFO:tensorflow:Found TPU system:\n"
     ]
    },
    {
     "name": "stdout",
     "output_type": "stream",
     "text": [
      "INFO:tensorflow:*** Num TPU Cores: 8\n"
     ]
    },
    {
     "name": "stderr",
     "output_type": "stream",
     "text": [
      "INFO:tensorflow:*** Num TPU Cores: 8\n"
     ]
    },
    {
     "name": "stdout",
     "output_type": "stream",
     "text": [
      "INFO:tensorflow:*** Num TPU Workers: 1\n"
     ]
    },
    {
     "name": "stderr",
     "output_type": "stream",
     "text": [
      "INFO:tensorflow:*** Num TPU Workers: 1\n"
     ]
    },
    {
     "name": "stdout",
     "output_type": "stream",
     "text": [
      "INFO:tensorflow:*** Num TPU Cores Per Worker: 8\n"
     ]
    },
    {
     "name": "stderr",
     "output_type": "stream",
     "text": [
      "INFO:tensorflow:*** Num TPU Cores Per Worker: 8\n"
     ]
    },
    {
     "name": "stdout",
     "output_type": "stream",
     "text": [
      "INFO:tensorflow:*** Available Device: _DeviceAttributes(/job:localhost/replica:0/task:0/device:CPU:0, CPU, 0, 0)\n"
     ]
    },
    {
     "name": "stderr",
     "output_type": "stream",
     "text": [
      "INFO:tensorflow:*** Available Device: _DeviceAttributes(/job:localhost/replica:0/task:0/device:CPU:0, CPU, 0, 0)\n"
     ]
    },
    {
     "name": "stdout",
     "output_type": "stream",
     "text": [
      "INFO:tensorflow:*** Available Device: _DeviceAttributes(/job:localhost/replica:0/task:0/device:XLA_CPU:0, XLA_CPU, 0, 0)\n"
     ]
    },
    {
     "name": "stderr",
     "output_type": "stream",
     "text": [
      "INFO:tensorflow:*** Available Device: _DeviceAttributes(/job:localhost/replica:0/task:0/device:XLA_CPU:0, XLA_CPU, 0, 0)\n"
     ]
    },
    {
     "name": "stdout",
     "output_type": "stream",
     "text": [
      "INFO:tensorflow:*** Available Device: _DeviceAttributes(/job:worker/replica:0/task:0/device:CPU:0, CPU, 0, 0)\n"
     ]
    },
    {
     "name": "stderr",
     "output_type": "stream",
     "text": [
      "INFO:tensorflow:*** Available Device: _DeviceAttributes(/job:worker/replica:0/task:0/device:CPU:0, CPU, 0, 0)\n"
     ]
    },
    {
     "name": "stdout",
     "output_type": "stream",
     "text": [
      "INFO:tensorflow:*** Available Device: _DeviceAttributes(/job:worker/replica:0/task:0/device:TPU:0, TPU, 0, 0)\n"
     ]
    },
    {
     "name": "stderr",
     "output_type": "stream",
     "text": [
      "INFO:tensorflow:*** Available Device: _DeviceAttributes(/job:worker/replica:0/task:0/device:TPU:0, TPU, 0, 0)\n"
     ]
    },
    {
     "name": "stdout",
     "output_type": "stream",
     "text": [
      "INFO:tensorflow:*** Available Device: _DeviceAttributes(/job:worker/replica:0/task:0/device:TPU:1, TPU, 0, 0)\n"
     ]
    },
    {
     "name": "stderr",
     "output_type": "stream",
     "text": [
      "INFO:tensorflow:*** Available Device: _DeviceAttributes(/job:worker/replica:0/task:0/device:TPU:1, TPU, 0, 0)\n"
     ]
    },
    {
     "name": "stdout",
     "output_type": "stream",
     "text": [
      "INFO:tensorflow:*** Available Device: _DeviceAttributes(/job:worker/replica:0/task:0/device:TPU:2, TPU, 0, 0)\n"
     ]
    },
    {
     "name": "stderr",
     "output_type": "stream",
     "text": [
      "INFO:tensorflow:*** Available Device: _DeviceAttributes(/job:worker/replica:0/task:0/device:TPU:2, TPU, 0, 0)\n"
     ]
    },
    {
     "name": "stdout",
     "output_type": "stream",
     "text": [
      "INFO:tensorflow:*** Available Device: _DeviceAttributes(/job:worker/replica:0/task:0/device:TPU:3, TPU, 0, 0)\n"
     ]
    },
    {
     "name": "stderr",
     "output_type": "stream",
     "text": [
      "INFO:tensorflow:*** Available Device: _DeviceAttributes(/job:worker/replica:0/task:0/device:TPU:3, TPU, 0, 0)\n"
     ]
    },
    {
     "name": "stdout",
     "output_type": "stream",
     "text": [
      "INFO:tensorflow:*** Available Device: _DeviceAttributes(/job:worker/replica:0/task:0/device:TPU:4, TPU, 0, 0)\n"
     ]
    },
    {
     "name": "stderr",
     "output_type": "stream",
     "text": [
      "INFO:tensorflow:*** Available Device: _DeviceAttributes(/job:worker/replica:0/task:0/device:TPU:4, TPU, 0, 0)\n"
     ]
    },
    {
     "name": "stdout",
     "output_type": "stream",
     "text": [
      "INFO:tensorflow:*** Available Device: _DeviceAttributes(/job:worker/replica:0/task:0/device:TPU:5, TPU, 0, 0)\n"
     ]
    },
    {
     "name": "stderr",
     "output_type": "stream",
     "text": [
      "INFO:tensorflow:*** Available Device: _DeviceAttributes(/job:worker/replica:0/task:0/device:TPU:5, TPU, 0, 0)\n"
     ]
    },
    {
     "name": "stdout",
     "output_type": "stream",
     "text": [
      "INFO:tensorflow:*** Available Device: _DeviceAttributes(/job:worker/replica:0/task:0/device:TPU:6, TPU, 0, 0)\n"
     ]
    },
    {
     "name": "stderr",
     "output_type": "stream",
     "text": [
      "INFO:tensorflow:*** Available Device: _DeviceAttributes(/job:worker/replica:0/task:0/device:TPU:6, TPU, 0, 0)\n"
     ]
    },
    {
     "name": "stdout",
     "output_type": "stream",
     "text": [
      "INFO:tensorflow:*** Available Device: _DeviceAttributes(/job:worker/replica:0/task:0/device:TPU:7, TPU, 0, 0)\n"
     ]
    },
    {
     "name": "stderr",
     "output_type": "stream",
     "text": [
      "INFO:tensorflow:*** Available Device: _DeviceAttributes(/job:worker/replica:0/task:0/device:TPU:7, TPU, 0, 0)\n"
     ]
    },
    {
     "name": "stdout",
     "output_type": "stream",
     "text": [
      "INFO:tensorflow:*** Available Device: _DeviceAttributes(/job:worker/replica:0/task:0/device:TPU_SYSTEM:0, TPU_SYSTEM, 0, 0)\n"
     ]
    },
    {
     "name": "stderr",
     "output_type": "stream",
     "text": [
      "INFO:tensorflow:*** Available Device: _DeviceAttributes(/job:worker/replica:0/task:0/device:TPU_SYSTEM:0, TPU_SYSTEM, 0, 0)\n"
     ]
    },
    {
     "name": "stdout",
     "output_type": "stream",
     "text": [
      "INFO:tensorflow:*** Available Device: _DeviceAttributes(/job:worker/replica:0/task:0/device:XLA_CPU:0, XLA_CPU, 0, 0)\n"
     ]
    },
    {
     "name": "stderr",
     "output_type": "stream",
     "text": [
      "INFO:tensorflow:*** Available Device: _DeviceAttributes(/job:worker/replica:0/task:0/device:XLA_CPU:0, XLA_CPU, 0, 0)\n"
     ]
    }
   ],
   "source": [
    "strategy = tf.distribute.experimental.TPUStrategy(resolver)"
   ]
  },
  {
   "cell_type": "code",
   "execution_count": null,
   "metadata": {
    "id": "wUzc6fkAPT49"
   },
   "outputs": [],
   "source": [
    "viola = viola.shuffle(10).batch(16).cache().prefetch(tf.data.experimental.AUTOTUNE)"
   ]
  },
  {
   "cell_type": "code",
   "execution_count": null,
   "metadata": {
    "colab": {
     "base_uri": "https://localhost:8080/",
     "height": 178,
     "referenced_widgets": [
      "4d337723bec14efabe11ca29c2ade8c9"
     ]
    },
    "id": "z_-qnZq7PT49",
    "outputId": "c6b8490c-0b31-4f0e-be11-8b528c14cd83"
   },
   "outputs": [
    {
     "data": {
      "application/vnd.jupyter.widget-view+json": {
       "model_id": "4d337723bec14efabe11ca29c2ade8c9",
       "version_major": 2,
       "version_minor": 0
      },
      "text/plain": [
       "HBox(children=(FloatProgress(value=0.0, description='Downloading', max=565485600.0, style=ProgressStyle(descri…"
      ]
     },
     "metadata": {
      "tags": []
     },
     "output_type": "display_data"
    },
    {
     "name": "stdout",
     "output_type": "stream",
     "text": [
      "\n"
     ]
    },
    {
     "name": "stderr",
     "output_type": "stream",
     "text": [
      "Some layers from the model checkpoint at xlnet-base-cased were not used when initializing TFXLNetForMultipleChoice: ['lm_loss']\n",
      "- This IS expected if you are initializing TFXLNetForMultipleChoice from the checkpoint of a model trained on another task or with another architecture (e.g. initializing a BertForSequenceClassification model from a BertForPreTraining model).\n",
      "- This IS NOT expected if you are initializing TFXLNetForMultipleChoice from the checkpoint of a model that you expect to be exactly identical (initializing a BertForSequenceClassification model from a BertForSequenceClassification model).\n",
      "Some layers of TFXLNetForMultipleChoice were not initialized from the model checkpoint at xlnet-base-cased and are newly initialized: ['logits_proj', 'sequence_summary']\n",
      "You should probably TRAIN this model on a down-stream task to be able to use it for predictions and inference.\n"
     ]
    }
   ],
   "source": [
    "from transformers import TFXLNetForMultipleChoice\n",
    "\n",
    "with strategy.scope():\n",
    "    model = TFXLNetForMultipleChoice.from_pretrained('xlnet-base-cased')\n",
    "    \n",
    "    optimizer = tf.keras.optimizers.Adam(learning_rate=2e-5)\n",
    "    loss = tf.keras.losses.SparseCategoricalCrossentropy(from_logits=True)\n",
    "    model.compile(optimizer=optimizer, \n",
    "                  loss=loss, metrics=['accuracy'])"
   ]
  },
  {
   "cell_type": "code",
   "execution_count": null,
   "metadata": {
    "colab": {
     "base_uri": "https://localhost:8080/"
    },
    "id": "7X7Qe26OPT49",
    "outputId": "7818f557-1fcd-46be-f767-b202d5859b8e"
   },
   "outputs": [
    {
     "data": {
      "text/plain": [
       "<PrefetchDataset shapes: ({input_ids: (None, 4, 512), attention_mask: (None, 4, 512)}, (None,)), types: ({input_ids: tf.int32, attention_mask: tf.int32}, tf.int64)>"
      ]
     },
     "execution_count": 21,
     "metadata": {
      "tags": []
     },
     "output_type": "execute_result"
    }
   ],
   "source": [
    "viola"
   ]
  },
  {
   "cell_type": "code",
   "execution_count": null,
   "metadata": {
    "colab": {
     "base_uri": "https://localhost:8080/"
    },
    "id": "Qii4AgJoPT49",
    "outputId": "7787decc-ddc3-45a3-b7a6-7d9f931e2a49"
   },
   "outputs": [
    {
     "name": "stdout",
     "output_type": "stream",
     "text": [
      "Epoch 1/5\n",
      "WARNING:tensorflow:From /usr/local/lib/python3.6/dist-packages/tensorflow/python/data/ops/multi_device_iterator_ops.py:601: get_next_as_optional (from tensorflow.python.data.ops.iterator_ops) is deprecated and will be removed in a future version.\n",
      "Instructions for updating:\n",
      "Use `tf.data.Iterator.get_next_as_optional()` instead.\n"
     ]
    },
    {
     "name": "stderr",
     "output_type": "stream",
     "text": [
      "WARNING:tensorflow:From /usr/local/lib/python3.6/dist-packages/tensorflow/python/data/ops/multi_device_iterator_ops.py:601: get_next_as_optional (from tensorflow.python.data.ops.iterator_ops) is deprecated and will be removed in a future version.\n",
      "Instructions for updating:\n",
      "Use `tf.data.Iterator.get_next_as_optional()` instead.\n"
     ]
    },
    {
     "name": "stdout",
     "output_type": "stream",
     "text": [
      "WARNING:tensorflow:Gradients do not exist for variables ['tfxl_net_for_multiple_choice/transformer/mask_emb:0', 'tfxl_net_for_multiple_choice/transformer/layer_._0/rel_attn/r_s_bias:0', 'tfxl_net_for_multiple_choice/transformer/layer_._0/rel_attn/seg_embed:0', 'tfxl_net_for_multiple_choice/transformer/layer_._1/rel_attn/r_s_bias:0', 'tfxl_net_for_multiple_choice/transformer/layer_._1/rel_attn/seg_embed:0', 'tfxl_net_for_multiple_choice/transformer/layer_._2/rel_attn/r_s_bias:0', 'tfxl_net_for_multiple_choice/transformer/layer_._2/rel_attn/seg_embed:0', 'tfxl_net_for_multiple_choice/transformer/layer_._3/rel_attn/r_s_bias:0', 'tfxl_net_for_multiple_choice/transformer/layer_._3/rel_attn/seg_embed:0', 'tfxl_net_for_multiple_choice/transformer/layer_._4/rel_attn/r_s_bias:0', 'tfxl_net_for_multiple_choice/transformer/layer_._4/rel_attn/seg_embed:0', 'tfxl_net_for_multiple_choice/transformer/layer_._5/rel_attn/r_s_bias:0', 'tfxl_net_for_multiple_choice/transformer/layer_._5/rel_attn/seg_embed:0', 'tfxl_net_for_multiple_choice/transformer/layer_._6/rel_attn/r_s_bias:0', 'tfxl_net_for_multiple_choice/transformer/layer_._6/rel_attn/seg_embed:0', 'tfxl_net_for_multiple_choice/transformer/layer_._7/rel_attn/r_s_bias:0', 'tfxl_net_for_multiple_choice/transformer/layer_._7/rel_attn/seg_embed:0', 'tfxl_net_for_multiple_choice/transformer/layer_._8/rel_attn/r_s_bias:0', 'tfxl_net_for_multiple_choice/transformer/layer_._8/rel_attn/seg_embed:0', 'tfxl_net_for_multiple_choice/transformer/layer_._9/rel_attn/r_s_bias:0', 'tfxl_net_for_multiple_choice/transformer/layer_._9/rel_attn/seg_embed:0', 'tfxl_net_for_multiple_choice/transformer/layer_._10/rel_attn/r_s_bias:0', 'tfxl_net_for_multiple_choice/transformer/layer_._10/rel_attn/seg_embed:0', 'tfxl_net_for_multiple_choice/transformer/layer_._11/rel_attn/r_s_bias:0', 'tfxl_net_for_multiple_choice/transformer/layer_._11/rel_attn/seg_embed:0'] when minimizing the loss.\n"
     ]
    },
    {
     "name": "stderr",
     "output_type": "stream",
     "text": [
      "WARNING:tensorflow:Gradients do not exist for variables ['tfxl_net_for_multiple_choice/transformer/mask_emb:0', 'tfxl_net_for_multiple_choice/transformer/layer_._0/rel_attn/r_s_bias:0', 'tfxl_net_for_multiple_choice/transformer/layer_._0/rel_attn/seg_embed:0', 'tfxl_net_for_multiple_choice/transformer/layer_._1/rel_attn/r_s_bias:0', 'tfxl_net_for_multiple_choice/transformer/layer_._1/rel_attn/seg_embed:0', 'tfxl_net_for_multiple_choice/transformer/layer_._2/rel_attn/r_s_bias:0', 'tfxl_net_for_multiple_choice/transformer/layer_._2/rel_attn/seg_embed:0', 'tfxl_net_for_multiple_choice/transformer/layer_._3/rel_attn/r_s_bias:0', 'tfxl_net_for_multiple_choice/transformer/layer_._3/rel_attn/seg_embed:0', 'tfxl_net_for_multiple_choice/transformer/layer_._4/rel_attn/r_s_bias:0', 'tfxl_net_for_multiple_choice/transformer/layer_._4/rel_attn/seg_embed:0', 'tfxl_net_for_multiple_choice/transformer/layer_._5/rel_attn/r_s_bias:0', 'tfxl_net_for_multiple_choice/transformer/layer_._5/rel_attn/seg_embed:0', 'tfxl_net_for_multiple_choice/transformer/layer_._6/rel_attn/r_s_bias:0', 'tfxl_net_for_multiple_choice/transformer/layer_._6/rel_attn/seg_embed:0', 'tfxl_net_for_multiple_choice/transformer/layer_._7/rel_attn/r_s_bias:0', 'tfxl_net_for_multiple_choice/transformer/layer_._7/rel_attn/seg_embed:0', 'tfxl_net_for_multiple_choice/transformer/layer_._8/rel_attn/r_s_bias:0', 'tfxl_net_for_multiple_choice/transformer/layer_._8/rel_attn/seg_embed:0', 'tfxl_net_for_multiple_choice/transformer/layer_._9/rel_attn/r_s_bias:0', 'tfxl_net_for_multiple_choice/transformer/layer_._9/rel_attn/seg_embed:0', 'tfxl_net_for_multiple_choice/transformer/layer_._10/rel_attn/r_s_bias:0', 'tfxl_net_for_multiple_choice/transformer/layer_._10/rel_attn/seg_embed:0', 'tfxl_net_for_multiple_choice/transformer/layer_._11/rel_attn/r_s_bias:0', 'tfxl_net_for_multiple_choice/transformer/layer_._11/rel_attn/seg_embed:0'] when minimizing the loss.\n"
     ]
    },
    {
     "name": "stdout",
     "output_type": "stream",
     "text": [
      "WARNING:tensorflow:Gradients do not exist for variables ['tfxl_net_for_multiple_choice/transformer/mask_emb:0', 'tfxl_net_for_multiple_choice/transformer/layer_._0/rel_attn/r_s_bias:0', 'tfxl_net_for_multiple_choice/transformer/layer_._0/rel_attn/seg_embed:0', 'tfxl_net_for_multiple_choice/transformer/layer_._1/rel_attn/r_s_bias:0', 'tfxl_net_for_multiple_choice/transformer/layer_._1/rel_attn/seg_embed:0', 'tfxl_net_for_multiple_choice/transformer/layer_._2/rel_attn/r_s_bias:0', 'tfxl_net_for_multiple_choice/transformer/layer_._2/rel_attn/seg_embed:0', 'tfxl_net_for_multiple_choice/transformer/layer_._3/rel_attn/r_s_bias:0', 'tfxl_net_for_multiple_choice/transformer/layer_._3/rel_attn/seg_embed:0', 'tfxl_net_for_multiple_choice/transformer/layer_._4/rel_attn/r_s_bias:0', 'tfxl_net_for_multiple_choice/transformer/layer_._4/rel_attn/seg_embed:0', 'tfxl_net_for_multiple_choice/transformer/layer_._5/rel_attn/r_s_bias:0', 'tfxl_net_for_multiple_choice/transformer/layer_._5/rel_attn/seg_embed:0', 'tfxl_net_for_multiple_choice/transformer/layer_._6/rel_attn/r_s_bias:0', 'tfxl_net_for_multiple_choice/transformer/layer_._6/rel_attn/seg_embed:0', 'tfxl_net_for_multiple_choice/transformer/layer_._7/rel_attn/r_s_bias:0', 'tfxl_net_for_multiple_choice/transformer/layer_._7/rel_attn/seg_embed:0', 'tfxl_net_for_multiple_choice/transformer/layer_._8/rel_attn/r_s_bias:0', 'tfxl_net_for_multiple_choice/transformer/layer_._8/rel_attn/seg_embed:0', 'tfxl_net_for_multiple_choice/transformer/layer_._9/rel_attn/r_s_bias:0', 'tfxl_net_for_multiple_choice/transformer/layer_._9/rel_attn/seg_embed:0', 'tfxl_net_for_multiple_choice/transformer/layer_._10/rel_attn/r_s_bias:0', 'tfxl_net_for_multiple_choice/transformer/layer_._10/rel_attn/seg_embed:0', 'tfxl_net_for_multiple_choice/transformer/layer_._11/rel_attn/r_s_bias:0', 'tfxl_net_for_multiple_choice/transformer/layer_._11/rel_attn/seg_embed:0'] when minimizing the loss.\n"
     ]
    },
    {
     "name": "stderr",
     "output_type": "stream",
     "text": [
      "WARNING:tensorflow:Gradients do not exist for variables ['tfxl_net_for_multiple_choice/transformer/mask_emb:0', 'tfxl_net_for_multiple_choice/transformer/layer_._0/rel_attn/r_s_bias:0', 'tfxl_net_for_multiple_choice/transformer/layer_._0/rel_attn/seg_embed:0', 'tfxl_net_for_multiple_choice/transformer/layer_._1/rel_attn/r_s_bias:0', 'tfxl_net_for_multiple_choice/transformer/layer_._1/rel_attn/seg_embed:0', 'tfxl_net_for_multiple_choice/transformer/layer_._2/rel_attn/r_s_bias:0', 'tfxl_net_for_multiple_choice/transformer/layer_._2/rel_attn/seg_embed:0', 'tfxl_net_for_multiple_choice/transformer/layer_._3/rel_attn/r_s_bias:0', 'tfxl_net_for_multiple_choice/transformer/layer_._3/rel_attn/seg_embed:0', 'tfxl_net_for_multiple_choice/transformer/layer_._4/rel_attn/r_s_bias:0', 'tfxl_net_for_multiple_choice/transformer/layer_._4/rel_attn/seg_embed:0', 'tfxl_net_for_multiple_choice/transformer/layer_._5/rel_attn/r_s_bias:0', 'tfxl_net_for_multiple_choice/transformer/layer_._5/rel_attn/seg_embed:0', 'tfxl_net_for_multiple_choice/transformer/layer_._6/rel_attn/r_s_bias:0', 'tfxl_net_for_multiple_choice/transformer/layer_._6/rel_attn/seg_embed:0', 'tfxl_net_for_multiple_choice/transformer/layer_._7/rel_attn/r_s_bias:0', 'tfxl_net_for_multiple_choice/transformer/layer_._7/rel_attn/seg_embed:0', 'tfxl_net_for_multiple_choice/transformer/layer_._8/rel_attn/r_s_bias:0', 'tfxl_net_for_multiple_choice/transformer/layer_._8/rel_attn/seg_embed:0', 'tfxl_net_for_multiple_choice/transformer/layer_._9/rel_attn/r_s_bias:0', 'tfxl_net_for_multiple_choice/transformer/layer_._9/rel_attn/seg_embed:0', 'tfxl_net_for_multiple_choice/transformer/layer_._10/rel_attn/r_s_bias:0', 'tfxl_net_for_multiple_choice/transformer/layer_._10/rel_attn/seg_embed:0', 'tfxl_net_for_multiple_choice/transformer/layer_._11/rel_attn/r_s_bias:0', 'tfxl_net_for_multiple_choice/transformer/layer_._11/rel_attn/seg_embed:0'] when minimizing the loss.\n"
     ]
    },
    {
     "name": "stdout",
     "output_type": "stream",
     "text": [
      "WARNING:tensorflow:Gradients do not exist for variables ['tfxl_net_for_multiple_choice/transformer/mask_emb:0', 'tfxl_net_for_multiple_choice/transformer/layer_._0/rel_attn/r_s_bias:0', 'tfxl_net_for_multiple_choice/transformer/layer_._0/rel_attn/seg_embed:0', 'tfxl_net_for_multiple_choice/transformer/layer_._1/rel_attn/r_s_bias:0', 'tfxl_net_for_multiple_choice/transformer/layer_._1/rel_attn/seg_embed:0', 'tfxl_net_for_multiple_choice/transformer/layer_._2/rel_attn/r_s_bias:0', 'tfxl_net_for_multiple_choice/transformer/layer_._2/rel_attn/seg_embed:0', 'tfxl_net_for_multiple_choice/transformer/layer_._3/rel_attn/r_s_bias:0', 'tfxl_net_for_multiple_choice/transformer/layer_._3/rel_attn/seg_embed:0', 'tfxl_net_for_multiple_choice/transformer/layer_._4/rel_attn/r_s_bias:0', 'tfxl_net_for_multiple_choice/transformer/layer_._4/rel_attn/seg_embed:0', 'tfxl_net_for_multiple_choice/transformer/layer_._5/rel_attn/r_s_bias:0', 'tfxl_net_for_multiple_choice/transformer/layer_._5/rel_attn/seg_embed:0', 'tfxl_net_for_multiple_choice/transformer/layer_._6/rel_attn/r_s_bias:0', 'tfxl_net_for_multiple_choice/transformer/layer_._6/rel_attn/seg_embed:0', 'tfxl_net_for_multiple_choice/transformer/layer_._7/rel_attn/r_s_bias:0', 'tfxl_net_for_multiple_choice/transformer/layer_._7/rel_attn/seg_embed:0', 'tfxl_net_for_multiple_choice/transformer/layer_._8/rel_attn/r_s_bias:0', 'tfxl_net_for_multiple_choice/transformer/layer_._8/rel_attn/seg_embed:0', 'tfxl_net_for_multiple_choice/transformer/layer_._9/rel_attn/r_s_bias:0', 'tfxl_net_for_multiple_choice/transformer/layer_._9/rel_attn/seg_embed:0', 'tfxl_net_for_multiple_choice/transformer/layer_._10/rel_attn/r_s_bias:0', 'tfxl_net_for_multiple_choice/transformer/layer_._10/rel_attn/seg_embed:0', 'tfxl_net_for_multiple_choice/transformer/layer_._11/rel_attn/r_s_bias:0', 'tfxl_net_for_multiple_choice/transformer/layer_._11/rel_attn/seg_embed:0'] when minimizing the loss.\n"
     ]
    },
    {
     "name": "stderr",
     "output_type": "stream",
     "text": [
      "WARNING:tensorflow:Gradients do not exist for variables ['tfxl_net_for_multiple_choice/transformer/mask_emb:0', 'tfxl_net_for_multiple_choice/transformer/layer_._0/rel_attn/r_s_bias:0', 'tfxl_net_for_multiple_choice/transformer/layer_._0/rel_attn/seg_embed:0', 'tfxl_net_for_multiple_choice/transformer/layer_._1/rel_attn/r_s_bias:0', 'tfxl_net_for_multiple_choice/transformer/layer_._1/rel_attn/seg_embed:0', 'tfxl_net_for_multiple_choice/transformer/layer_._2/rel_attn/r_s_bias:0', 'tfxl_net_for_multiple_choice/transformer/layer_._2/rel_attn/seg_embed:0', 'tfxl_net_for_multiple_choice/transformer/layer_._3/rel_attn/r_s_bias:0', 'tfxl_net_for_multiple_choice/transformer/layer_._3/rel_attn/seg_embed:0', 'tfxl_net_for_multiple_choice/transformer/layer_._4/rel_attn/r_s_bias:0', 'tfxl_net_for_multiple_choice/transformer/layer_._4/rel_attn/seg_embed:0', 'tfxl_net_for_multiple_choice/transformer/layer_._5/rel_attn/r_s_bias:0', 'tfxl_net_for_multiple_choice/transformer/layer_._5/rel_attn/seg_embed:0', 'tfxl_net_for_multiple_choice/transformer/layer_._6/rel_attn/r_s_bias:0', 'tfxl_net_for_multiple_choice/transformer/layer_._6/rel_attn/seg_embed:0', 'tfxl_net_for_multiple_choice/transformer/layer_._7/rel_attn/r_s_bias:0', 'tfxl_net_for_multiple_choice/transformer/layer_._7/rel_attn/seg_embed:0', 'tfxl_net_for_multiple_choice/transformer/layer_._8/rel_attn/r_s_bias:0', 'tfxl_net_for_multiple_choice/transformer/layer_._8/rel_attn/seg_embed:0', 'tfxl_net_for_multiple_choice/transformer/layer_._9/rel_attn/r_s_bias:0', 'tfxl_net_for_multiple_choice/transformer/layer_._9/rel_attn/seg_embed:0', 'tfxl_net_for_multiple_choice/transformer/layer_._10/rel_attn/r_s_bias:0', 'tfxl_net_for_multiple_choice/transformer/layer_._10/rel_attn/seg_embed:0', 'tfxl_net_for_multiple_choice/transformer/layer_._11/rel_attn/r_s_bias:0', 'tfxl_net_for_multiple_choice/transformer/layer_._11/rel_attn/seg_embed:0'] when minimizing the loss.\n"
     ]
    },
    {
     "name": "stdout",
     "output_type": "stream",
     "text": [
      "WARNING:tensorflow:Gradients do not exist for variables ['tfxl_net_for_multiple_choice/transformer/mask_emb:0', 'tfxl_net_for_multiple_choice/transformer/layer_._0/rel_attn/r_s_bias:0', 'tfxl_net_for_multiple_choice/transformer/layer_._0/rel_attn/seg_embed:0', 'tfxl_net_for_multiple_choice/transformer/layer_._1/rel_attn/r_s_bias:0', 'tfxl_net_for_multiple_choice/transformer/layer_._1/rel_attn/seg_embed:0', 'tfxl_net_for_multiple_choice/transformer/layer_._2/rel_attn/r_s_bias:0', 'tfxl_net_for_multiple_choice/transformer/layer_._2/rel_attn/seg_embed:0', 'tfxl_net_for_multiple_choice/transformer/layer_._3/rel_attn/r_s_bias:0', 'tfxl_net_for_multiple_choice/transformer/layer_._3/rel_attn/seg_embed:0', 'tfxl_net_for_multiple_choice/transformer/layer_._4/rel_attn/r_s_bias:0', 'tfxl_net_for_multiple_choice/transformer/layer_._4/rel_attn/seg_embed:0', 'tfxl_net_for_multiple_choice/transformer/layer_._5/rel_attn/r_s_bias:0', 'tfxl_net_for_multiple_choice/transformer/layer_._5/rel_attn/seg_embed:0', 'tfxl_net_for_multiple_choice/transformer/layer_._6/rel_attn/r_s_bias:0', 'tfxl_net_for_multiple_choice/transformer/layer_._6/rel_attn/seg_embed:0', 'tfxl_net_for_multiple_choice/transformer/layer_._7/rel_attn/r_s_bias:0', 'tfxl_net_for_multiple_choice/transformer/layer_._7/rel_attn/seg_embed:0', 'tfxl_net_for_multiple_choice/transformer/layer_._8/rel_attn/r_s_bias:0', 'tfxl_net_for_multiple_choice/transformer/layer_._8/rel_attn/seg_embed:0', 'tfxl_net_for_multiple_choice/transformer/layer_._9/rel_attn/r_s_bias:0', 'tfxl_net_for_multiple_choice/transformer/layer_._9/rel_attn/seg_embed:0', 'tfxl_net_for_multiple_choice/transformer/layer_._10/rel_attn/r_s_bias:0', 'tfxl_net_for_multiple_choice/transformer/layer_._10/rel_attn/seg_embed:0', 'tfxl_net_for_multiple_choice/transformer/layer_._11/rel_attn/r_s_bias:0', 'tfxl_net_for_multiple_choice/transformer/layer_._11/rel_attn/seg_embed:0'] when minimizing the loss.\n"
     ]
    },
    {
     "name": "stderr",
     "output_type": "stream",
     "text": [
      "WARNING:tensorflow:Gradients do not exist for variables ['tfxl_net_for_multiple_choice/transformer/mask_emb:0', 'tfxl_net_for_multiple_choice/transformer/layer_._0/rel_attn/r_s_bias:0', 'tfxl_net_for_multiple_choice/transformer/layer_._0/rel_attn/seg_embed:0', 'tfxl_net_for_multiple_choice/transformer/layer_._1/rel_attn/r_s_bias:0', 'tfxl_net_for_multiple_choice/transformer/layer_._1/rel_attn/seg_embed:0', 'tfxl_net_for_multiple_choice/transformer/layer_._2/rel_attn/r_s_bias:0', 'tfxl_net_for_multiple_choice/transformer/layer_._2/rel_attn/seg_embed:0', 'tfxl_net_for_multiple_choice/transformer/layer_._3/rel_attn/r_s_bias:0', 'tfxl_net_for_multiple_choice/transformer/layer_._3/rel_attn/seg_embed:0', 'tfxl_net_for_multiple_choice/transformer/layer_._4/rel_attn/r_s_bias:0', 'tfxl_net_for_multiple_choice/transformer/layer_._4/rel_attn/seg_embed:0', 'tfxl_net_for_multiple_choice/transformer/layer_._5/rel_attn/r_s_bias:0', 'tfxl_net_for_multiple_choice/transformer/layer_._5/rel_attn/seg_embed:0', 'tfxl_net_for_multiple_choice/transformer/layer_._6/rel_attn/r_s_bias:0', 'tfxl_net_for_multiple_choice/transformer/layer_._6/rel_attn/seg_embed:0', 'tfxl_net_for_multiple_choice/transformer/layer_._7/rel_attn/r_s_bias:0', 'tfxl_net_for_multiple_choice/transformer/layer_._7/rel_attn/seg_embed:0', 'tfxl_net_for_multiple_choice/transformer/layer_._8/rel_attn/r_s_bias:0', 'tfxl_net_for_multiple_choice/transformer/layer_._8/rel_attn/seg_embed:0', 'tfxl_net_for_multiple_choice/transformer/layer_._9/rel_attn/r_s_bias:0', 'tfxl_net_for_multiple_choice/transformer/layer_._9/rel_attn/seg_embed:0', 'tfxl_net_for_multiple_choice/transformer/layer_._10/rel_attn/r_s_bias:0', 'tfxl_net_for_multiple_choice/transformer/layer_._10/rel_attn/seg_embed:0', 'tfxl_net_for_multiple_choice/transformer/layer_._11/rel_attn/r_s_bias:0', 'tfxl_net_for_multiple_choice/transformer/layer_._11/rel_attn/seg_embed:0'] when minimizing the loss.\n"
     ]
    },
    {
     "name": "stdout",
     "output_type": "stream",
     "text": [
      "   2/5494 [..............................] - ETA: 31:08:07 - loss: 1.4126 - accuracy: 0.3125WARNING:tensorflow:Callbacks method `on_train_batch_end` is slow compared to the batch time (batch time: 0.0132s vs `on_train_batch_end` time: 0.5312s). Check your callbacks.\n"
     ]
    },
    {
     "name": "stderr",
     "output_type": "stream",
     "text": [
      "WARNING:tensorflow:Callbacks method `on_train_batch_end` is slow compared to the batch time (batch time: 0.0132s vs `on_train_batch_end` time: 0.5312s). Check your callbacks.\n"
     ]
    },
    {
     "name": "stdout",
     "output_type": "stream",
     "text": [
      "5494/5494 [==============================] - 3014s 549ms/step - loss: 1.0618 - accuracy: 0.5346\n",
      "Epoch 2/5\n",
      "5494/5494 [==============================] - 2974s 541ms/step - loss: 0.7351 - accuracy: 0.6963\n",
      "Epoch 3/5\n",
      "5494/5494 [==============================] - 2979s 542ms/step - loss: 0.5258 - accuracy: 0.7827\n",
      "Epoch 4/5\n",
      "5494/5494 [==============================] - 2976s 542ms/step - loss: 0.3962 - accuracy: 0.8325\n",
      "Epoch 5/5\n",
      "5494/5494 [==============================] - 2978s 542ms/step - loss: 0.3248 - accuracy: 0.8614\n"
     ]
    },
    {
     "data": {
      "text/plain": [
       "<tensorflow.python.keras.callbacks.History at 0x7f342490ffd0>"
      ]
     },
     "execution_count": 22,
     "metadata": {
      "tags": []
     },
     "output_type": "execute_result"
    }
   ],
   "source": [
    "model.fit(viola, epochs=5)"
   ]
  },
  {
   "cell_type": "code",
   "execution_count": null,
   "metadata": {
    "id": "1YTG_DT8PT4-"
   },
   "outputs": [],
   "source": [
    "model.save_pretrained('/content/drive/MyDrive/XLNet model')"
   ]
  },
  {
   "cell_type": "markdown",
   "metadata": {
    "id": "Im0zDXhSTTFK"
   },
   "source": [
    "# ARC dataset."
   ]
  },
  {
   "cell_type": "code",
   "execution_count": null,
   "metadata": {
    "id": "3gG3Mq64sScN"
   },
   "outputs": [],
   "source": [
    "df_easy_train = pd.read_csv('/content/drive/My Drive/ARC/df_easy_train_2.csv')\n",
    "df_easy_dev = pd.read_csv('/content/drive/My Drive/ARC/df_easy_dev_2.csv')\n",
    "df_easy_test = pd.read_csv('/content/drive/My Drive/ARC/df_easy_test_2.csv')"
   ]
  },
  {
   "cell_type": "code",
   "execution_count": null,
   "metadata": {
    "colab": {
     "base_uri": "https://localhost:8080/",
     "height": 289
    },
    "id": "-VJfUfFLFzz0",
    "outputId": "7468a68a-308b-40b7-d82e-5843c9f40cdf"
   },
   "outputs": [
    {
     "data": {
      "text/html": [
       "<div>\n",
       "<style scoped>\n",
       "    .dataframe tbody tr th:only-of-type {\n",
       "        vertical-align: middle;\n",
       "    }\n",
       "\n",
       "    .dataframe tbody tr th {\n",
       "        vertical-align: top;\n",
       "    }\n",
       "\n",
       "    .dataframe thead th {\n",
       "        text-align: right;\n",
       "    }\n",
       "</style>\n",
       "<table border=\"1\" class=\"dataframe\">\n",
       "  <thead>\n",
       "    <tr style=\"text-align: right;\">\n",
       "      <th></th>\n",
       "      <th>AnswerKey</th>\n",
       "      <th>question</th>\n",
       "      <th>only_question</th>\n",
       "      <th>quesiton_length</th>\n",
       "      <th>only_answers</th>\n",
       "      <th>context</th>\n",
       "      <th>context_2</th>\n",
       "    </tr>\n",
       "  </thead>\n",
       "  <tbody>\n",
       "    <tr>\n",
       "      <th>0</th>\n",
       "      <td>B</td>\n",
       "      <td>Which factor will most likely cause a person t...</td>\n",
       "      <td>Which factor will most likely cause a person t...</td>\n",
       "      <td>66</td>\n",
       "      <td>(A) a leg muscle relaxing after exercise (B) a...</td>\n",
       "      <td>Piercings show that a person is rebelious and ...</td>\n",
       "      <td>As a result, the food will not be digested pro...</td>\n",
       "    </tr>\n",
       "    <tr>\n",
       "      <th>1</th>\n",
       "      <td>B</td>\n",
       "      <td>Lichens are symbiotic organisms made of green ...</td>\n",
       "      <td>Lichens are symbiotic organisms made of green ...</td>\n",
       "      <td>139</td>\n",
       "      <td>(A) carbon dioxide (B) food (C) protection (D)...</td>\n",
       "      <td>Lichens are comprised of blue green or green a...</td>\n",
       "      <td>In this symbiotic relationship, the algae gain...</td>\n",
       "    </tr>\n",
       "    <tr>\n",
       "      <th>2</th>\n",
       "      <td>D</td>\n",
       "      <td>When a switch is used in an electrical circuit...</td>\n",
       "      <td>When a switch is used in an electrical circuit...</td>\n",
       "      <td>63</td>\n",
       "      <td>(A) cause the charge to build. (B) increase an...</td>\n",
       "      <td>Rotary switch A rotary switch is an electric s...</td>\n",
       "      <td>If an ordinary switch is used to control the w...</td>\n",
       "    </tr>\n",
       "    <tr>\n",
       "      <th>3</th>\n",
       "      <td>A</td>\n",
       "      <td>Which of the following is an example of an ass...</td>\n",
       "      <td>Which of the following is an example of an ass...</td>\n",
       "      <td>61</td>\n",
       "      <td>(A) contact lens (B) motorcycle (C) raincoat (...</td>\n",
       "      <td>Which of the following is an example of an ang...</td>\n",
       "      <td>The characters are typically members of an out...</td>\n",
       "    </tr>\n",
       "    <tr>\n",
       "      <th>4</th>\n",
       "      <td>3</td>\n",
       "      <td>Rocks are classified as igneous, metamorphic, ...</td>\n",
       "      <td>Rocks are classified as igneous, metamorphic, ...</td>\n",
       "      <td>74</td>\n",
       "      <td>(1) their color (2) their shape (3) how they f...</td>\n",
       "      <td>In one simplistic and linear example elements ...</td>\n",
       "      <td>In one simplistic and linear example, elements...</td>\n",
       "    </tr>\n",
       "  </tbody>\n",
       "</table>\n",
       "</div>"
      ],
      "text/plain": [
       "  AnswerKey  ...                                          context_2\n",
       "0         B  ...  As a result, the food will not be digested pro...\n",
       "1         B  ...  In this symbiotic relationship, the algae gain...\n",
       "2         D  ...  If an ordinary switch is used to control the w...\n",
       "3         A  ...  The characters are typically members of an out...\n",
       "4         3  ...  In one simplistic and linear example, elements...\n",
       "\n",
       "[5 rows x 7 columns]"
      ]
     },
     "execution_count": 5,
     "metadata": {
      "tags": []
     },
     "output_type": "execute_result"
    }
   ],
   "source": [
    "df_easy_train.head()"
   ]
  },
  {
   "cell_type": "code",
   "execution_count": null,
   "metadata": {
    "id": "EKMt2s-jsmxm"
   },
   "outputs": [],
   "source": [
    "df_challenge_train = pd.read_csv('/content/drive/My Drive/ARC/df_challenge_train_2.csv')\n",
    "df_challenge_dev = pd.read_csv('/content/drive/My Drive/ARC/df_challenge_dev_2.csv')\n",
    "df_challenge_test = pd.read_csv('/content/drive/My Drive/ARC/df_challenge_test_2.csv')"
   ]
  },
  {
   "cell_type": "code",
   "execution_count": null,
   "metadata": {
    "colab": {
     "base_uri": "https://localhost:8080/",
     "height": 354
    },
    "id": "vmBrS837sq5J",
    "outputId": "2a0073bf-8d65-4845-9ff3-00d5bd95f702"
   },
   "outputs": [
    {
     "data": {
      "text/html": [
       "<div>\n",
       "<style scoped>\n",
       "    .dataframe tbody tr th:only-of-type {\n",
       "        vertical-align: middle;\n",
       "    }\n",
       "\n",
       "    .dataframe tbody tr th {\n",
       "        vertical-align: top;\n",
       "    }\n",
       "\n",
       "    .dataframe thead th {\n",
       "        text-align: right;\n",
       "    }\n",
       "</style>\n",
       "<table border=\"1\" class=\"dataframe\">\n",
       "  <thead>\n",
       "    <tr style=\"text-align: right;\">\n",
       "      <th></th>\n",
       "      <th>AnswerKey</th>\n",
       "      <th>question</th>\n",
       "      <th>only_question</th>\n",
       "      <th>quesiton_length</th>\n",
       "      <th>context</th>\n",
       "      <th>only_answers</th>\n",
       "      <th>context_2</th>\n",
       "    </tr>\n",
       "  </thead>\n",
       "  <tbody>\n",
       "    <tr>\n",
       "      <th>0</th>\n",
       "      <td>A</td>\n",
       "      <td>George wants to warm his hands quickly by rubb...</td>\n",
       "      <td>George wants to warm his hands quickly by rubb...</td>\n",
       "      <td>103</td>\n",
       "      <td>The uneven surface reflects heat into other ar...</td>\n",
       "      <td>(A) dry palms (B) wet palms (C) palms covered ...</td>\n",
       "      <td>severe rash with skin swelling including on th...</td>\n",
       "    </tr>\n",
       "    <tr>\n",
       "      <th>1</th>\n",
       "      <td>B</td>\n",
       "      <td>Which of the following statements best explain...</td>\n",
       "      <td>Which of the following statements best explain...</td>\n",
       "      <td>98</td>\n",
       "      <td>Which of the following statements best explain...</td>\n",
       "      <td>(A) The refrigerator door is smooth. (B) The r...</td>\n",
       "      <td>He stepped around the refrigerator again and s...</td>\n",
       "    </tr>\n",
       "    <tr>\n",
       "      <th>2</th>\n",
       "      <td>B</td>\n",
       "      <td>A fold observed in layers of sedimentary rock ...</td>\n",
       "      <td>A fold observed in layers of sedimentary rock ...</td>\n",
       "      <td>76</td>\n",
       "      <td>A fold in rock layers that forms an arch This ...</td>\n",
       "      <td>(A) cooling of flowing magma. (B) converging o...</td>\n",
       "      <td>Sedimentary rock that forms when minerals crys...</td>\n",
       "    </tr>\n",
       "    <tr>\n",
       "      <th>3</th>\n",
       "      <td>D</td>\n",
       "      <td>Which of these do scientists offer as the most...</td>\n",
       "      <td>Which of these do scientists offer as the most...</td>\n",
       "      <td>141</td>\n",
       "      <td>flowering plants Mesozoic Era The Triassic per...</td>\n",
       "      <td>(A) worldwide disease (B) global mountain buil...</td>\n",
       "      <td>During the Cenozoic era larger mammals gave ri...</td>\n",
       "    </tr>\n",
       "    <tr>\n",
       "      <th>4</th>\n",
       "      <td>B</td>\n",
       "      <td>A boat is acted on by a river current flowing ...</td>\n",
       "      <td>A boat is acted on by a river current flowing ...</td>\n",
       "      <td>198</td>\n",
       "      <td>The direction in which a skipper wishes to ste...</td>\n",
       "      <td>(A) west (B) east (C) north (D) south</td>\n",
       "      <td>A territory in the north Brazil on the northea...</td>\n",
       "    </tr>\n",
       "  </tbody>\n",
       "</table>\n",
       "</div>"
      ],
      "text/plain": [
       "  AnswerKey  ...                                          context_2\n",
       "0         A  ...  severe rash with skin swelling including on th...\n",
       "1         B  ...  He stepped around the refrigerator again and s...\n",
       "2         B  ...  Sedimentary rock that forms when minerals crys...\n",
       "3         D  ...  During the Cenozoic era larger mammals gave ri...\n",
       "4         B  ...  A territory in the north Brazil on the northea...\n",
       "\n",
       "[5 rows x 7 columns]"
      ]
     },
     "execution_count": 7,
     "metadata": {
      "tags": []
     },
     "output_type": "execute_result"
    }
   ],
   "source": [
    "df_challenge_train.head()"
   ]
  },
  {
   "cell_type": "code",
   "execution_count": null,
   "metadata": {
    "id": "fDqp1ZzyHdC2"
   },
   "outputs": [],
   "source": [
    "def data_generator(a):\n",
    "    '''\n",
    "    This function will accept a data point and returns a list of options\n",
    "    converts the only_options list of options.\n",
    "\n",
    "    Output will be as follows:\n",
    "\n",
    "    options = [option_1, option_2, option_3, option_4, option_5]                   \n",
    "\n",
    "    Note: If there's no option E then it will be written as 'None of the above'.\n",
    "    '''\n",
    "    options = []\n",
    "\n",
    "    if '(A)' in a:\n",
    "        option_1 = a.split('(B)')[0].replace('(A)','').lstrip()\n",
    "\n",
    "        b = ' '.join(i for i in a.split() if i not in option_1)\n",
    "        option_2 = b.split('(C)')[0].replace('(B)','').replace('(A)','').lstrip()\n",
    "\n",
    "        c = ' '.join(i for i in b.split() if i not in option_2)\n",
    "        option_3 = c.split('(D)')[0].replace('(C)','').replace('(B)','').replace('(A)','').lstrip()\n",
    "\n",
    "        if '(D)' not in c:\n",
    "            option_4 = 'None of the above'\n",
    "            option_5 = 'None of the above'\n",
    "        else:\n",
    "            if '(E)' not in c:\n",
    "                option_4 = c.split('(D)')[1].lstrip()\n",
    "                option_5 = 'None of the above'\n",
    "            else:\n",
    "                d = ' '.join(i for i in c.split() if i not in option_3)\n",
    "                option_4 = d.split('(E)')[0].replace('(D)','').replace('(C)','').replace('(B)','').replace('(A)','').lstrip()\n",
    "                option_5 = d.split('(E)')[1].lstrip()\n",
    "    else:\n",
    "        option_1 = a.split('(2)')[0].replace('(1)','').lstrip()\n",
    "\n",
    "        b = ' '.join(i for i in a.split() if i not in option_1)\n",
    "        option_2 = b.split('(3)')[0].replace('(2)','').replace('(1)','').lstrip()\n",
    "\n",
    "        c = ' '.join(i for i in b.split() if i not in option_2)\n",
    "        option_3 = c.split('(4)')[0].replace('(3)','').replace('(2)','').replace('(1)','').lstrip()\n",
    "\n",
    "        if '(4)' in c:\n",
    "            option_4 = c.split('(4)')[1].lstrip()\n",
    "        else:\n",
    "            option_4 = 'None of the above'\n",
    "        option_5 = 'None of the above'\n",
    "\n",
    "    options = [option_1, option_2, option_3, option_4, option_5]\n",
    "\n",
    "    return options"
   ]
  },
  {
   "cell_type": "code",
   "execution_count": null,
   "metadata": {
    "id": "HPEZonxLVrSG"
   },
   "outputs": [],
   "source": [
    "df_easy_dev['options_list'] = df_easy_dev['only_answers'].map(data_generator)\n",
    "df_easy_train['options_list'] = df_easy_train['only_answers'].map(data_generator)\n",
    "df_easy_test['options_list'] = df_easy_test['only_answers'].map(data_generator)"
   ]
  },
  {
   "cell_type": "code",
   "execution_count": null,
   "metadata": {
    "id": "-LkQzhFu2yrC"
   },
   "outputs": [],
   "source": [
    "def answer(answer_key, options_list):\n",
    "\n",
    "    label_map = {'A':0,\n",
    "             'B':1,\n",
    "             'C':2,\n",
    "             'D':3,\n",
    "             'E':4,\n",
    "             '1':0,\n",
    "             '2':1,\n",
    "             '3':2,\n",
    "             '4':3,\n",
    "             '5':4}\n",
    "    \n",
    "    number = label_map.get(answer_key)\n",
    "    answer = options_list[number]\n",
    "    return answer"
   ]
  },
  {
   "cell_type": "code",
   "execution_count": null,
   "metadata": {
    "id": "LEtXpC9Irrze"
   },
   "outputs": [],
   "source": [
    "df_easy_train['Answer'] = df_easy_train[['AnswerKey', 'options_list']].apply(lambda x: answer(*x), axis=1)\n",
    "df_easy_dev['Answer'] = df_easy_dev[['AnswerKey', 'options_list']].apply(lambda x: answer(*x), axis=1)\n",
    "df_easy_test['Answer'] = df_easy_test[['AnswerKey', 'options_list']].apply(lambda x: answer(*x), axis=1)"
   ]
  },
  {
   "cell_type": "code",
   "execution_count": null,
   "metadata": {
    "id": "3rkGs8XEFXnq"
   },
   "outputs": [],
   "source": [
    "label_map = {'A':0,\n",
    "             'B':1,\n",
    "             'C':2,\n",
    "             'D':3,\n",
    "             'E':4,\n",
    "             '1':0,\n",
    "             '2':1,\n",
    "             '3':2,\n",
    "             '4':3,\n",
    "             '5':4}\n",
    "\n",
    "easy_train_labels = df_easy_train['AnswerKey'].map(label_map)\n",
    "easy_dev_labels = df_easy_dev['AnswerKey'].map(label_map)\n",
    "easy_test_labels = df_easy_test['AnswerKey'].map(label_map)"
   ]
  },
  {
   "cell_type": "code",
   "execution_count": null,
   "metadata": {
    "id": "P0AP8kW1bRw2"
   },
   "outputs": [],
   "source": [
    "df_challenge_dev['options_list'] = df_challenge_dev['only_answers'].map(data_generator)\n",
    "df_challenge_train['options_list'] = df_challenge_train['only_answers'].map(data_generator)\n",
    "df_challenge_test['options_list'] = df_challenge_test['only_answers'].map(data_generator)"
   ]
  },
  {
   "cell_type": "code",
   "execution_count": null,
   "metadata": {
    "id": "I0qlPHzWbUEL"
   },
   "outputs": [],
   "source": [
    "label_map = {'A':0,\n",
    "             'B':1,\n",
    "             'C':2,\n",
    "             'D':3,\n",
    "             'E':4,\n",
    "             '1':0,\n",
    "             '2':1,\n",
    "             '3':2,\n",
    "             '4':3,\n",
    "             '5':4}\n",
    "\n",
    "challenge_train_labels = df_challenge_train['AnswerKey'].map(label_map)\n",
    "challenge_dev_labels = df_challenge_dev['AnswerKey'].map(label_map)\n",
    "challenge_test_labels = df_challenge_test['AnswerKey'].map(label_map)"
   ]
  },
  {
   "cell_type": "markdown",
   "metadata": {
    "id": "MlrxSHT0tNi5"
   },
   "source": [
    "## Baseline Model."
   ]
  },
  {
   "cell_type": "markdown",
   "metadata": {
    "id": "yK9XDWYZtcDf"
   },
   "source": [
    "For base model we will select answers randomly."
   ]
  },
  {
   "cell_type": "code",
   "execution_count": null,
   "metadata": {
    "id": "WlWNz0TItSAR"
   },
   "outputs": [],
   "source": [
    "char_list_1 = ['A','B','C','D']\n",
    "char_list_2 = ['A','B','C','D','E']\n",
    "num_list = ['1','2','3','4']"
   ]
  },
  {
   "cell_type": "code",
   "execution_count": null,
   "metadata": {
    "id": "171YS-L6ttq6"
   },
   "outputs": [],
   "source": [
    "easy_train_preds = []\n",
    "easy_dev_preds = []\n",
    "easy_test_preds = []\n",
    "\n",
    "for i in range(len(df_easy_train)):\n",
    "    if '(1)' in df_easy_train['only_answers'].iloc[i]:\n",
    "        easy_train_preds.append(random.choice(num_list))\n",
    "    else:\n",
    "        if '(E)' in df_easy_train['only_answers'].iloc[i]:\n",
    "            easy_train_preds.append(random.choice(char_list_2))\n",
    "        else:\n",
    "            easy_train_preds.append(random.choice(char_list_1))"
   ]
  },
  {
   "cell_type": "code",
   "execution_count": null,
   "metadata": {
    "id": "ATESxtxkNthB"
   },
   "outputs": [],
   "source": [
    "for i in range(len(df_easy_dev)):\n",
    "    if '(1)' in df_easy_dev['only_answers'].iloc[i]:\n",
    "        easy_dev_preds.append(random.choice(num_list))\n",
    "    else:\n",
    "        if '(E)' in df_easy_dev['only_answers'].iloc[i]:\n",
    "            easy_dev_preds.append(random.choice(char_list_2))\n",
    "        else:\n",
    "            easy_dev_preds.append(random.choice(char_list_1))"
   ]
  },
  {
   "cell_type": "code",
   "execution_count": null,
   "metadata": {
    "id": "2edysn7HNy1o"
   },
   "outputs": [],
   "source": [
    "for i in range(len(df_easy_test)):\n",
    "    if '(1)' in df_easy_test['only_answers'].iloc[i]:\n",
    "        easy_test_preds.append(random.choice(num_list))\n",
    "    else:\n",
    "        if '(E)' in df_easy_test['only_answers'].iloc[i]:\n",
    "            easy_test_preds.append(random.choice(char_list_2))\n",
    "        else:\n",
    "            easy_test_preds.append(random.choice(char_list_1))"
   ]
  },
  {
   "cell_type": "code",
   "execution_count": null,
   "metadata": {
    "id": "y4vlPs0TN3L5"
   },
   "outputs": [],
   "source": [
    "challenge_train_preds = []\n",
    "challenge_dev_preds = []\n",
    "challenge_test_preds = []\n",
    "\n",
    "for i in range(len(df_challenge_train)):\n",
    "    if '(1)' in df_challenge_train['only_answers'].iloc[i]:\n",
    "        challenge_train_preds.append(random.choice(num_list))\n",
    "    else:\n",
    "        if '(E)' in df_challenge_train['only_answers'].iloc[i]:\n",
    "            challenge_train_preds.append(random.choice(char_list_2))\n",
    "        else:\n",
    "            challenge_train_preds.append(random.choice(char_list_1))\n",
    "\n",
    "for i in range(len(df_challenge_dev)):\n",
    "    if '(1)' in df_challenge_dev['only_answers'].iloc[i]:\n",
    "        challenge_dev_preds.append(random.choice(num_list))\n",
    "    else:\n",
    "        if '(E)' in df_challenge_dev['only_answers'].iloc[i]:\n",
    "            challenge_dev_preds.append(random.choice(char_list_2))\n",
    "        else:\n",
    "            challenge_dev_preds.append(random.choice(char_list_1))\n",
    "\n",
    "for i in range(len(df_challenge_test)):\n",
    "    if '(1)' in df_challenge_test['only_answers'].iloc[i]:\n",
    "        challenge_test_preds.append(random.choice(num_list))\n",
    "    else:\n",
    "        if '(E)' in df_challenge_test['only_answers'].iloc[i]:\n",
    "            challenge_test_preds.append(random.choice(char_list_2))\n",
    "        else:\n",
    "            challenge_test_preds.append(random.choice(char_list_1))"
   ]
  },
  {
   "cell_type": "code",
   "execution_count": null,
   "metadata": {
    "id": "kmc2Ia6tPZpj"
   },
   "outputs": [],
   "source": [
    "easy_train_score = accuracy_score(df_easy_train['AnswerKey'], easy_train_preds)\n",
    "easy_dev_score = accuracy_score(df_easy_dev['AnswerKey'], easy_dev_preds)\n",
    "easy_test_score = accuracy_score(df_easy_test['AnswerKey'], easy_test_preds)\n",
    "\n",
    "print(f'Accuracy score on easy train set is {easy_train_score}.')\n",
    "print(f'Accuracy score on easy dev set is {easy_dev_score}.')\n",
    "print(f'Accuracy score on easy test set is {easy_test_score}.')"
   ]
  },
  {
   "cell_type": "code",
   "execution_count": null,
   "metadata": {
    "id": "OwfeQZtYQKqD"
   },
   "outputs": [],
   "source": [
    "challenge_train_score = accuracy_score(df_challenge_train['AnswerKey'], challenge_train_preds)\n",
    "challenge_dev_score = accuracy_score(df_challenge_dev['AnswerKey'], challenge_dev_preds)\n",
    "challenge_test_score = accuracy_score(df_challenge_test['AnswerKey'], challenge_test_preds)\n",
    "\n",
    "print(f'Accuracy score on challenge train set is {challenge_train_score}.')\n",
    "print(f'Accuracy score on challenge dev set is {challenge_dev_score}.')\n",
    "print(f'Accuracy score on challenge test set is {challenge_test_score}.')"
   ]
  },
  {
   "cell_type": "code",
   "execution_count": null,
   "metadata": {
    "id": "rzshhxtG5gQK"
   },
   "outputs": [],
   "source": []
  },
  {
   "cell_type": "markdown",
   "metadata": {
    "id": "k2mXxwxEr8Ba"
   },
   "source": [
    "## BERT Model."
   ]
  },
  {
   "cell_type": "markdown",
   "metadata": {
    "id": "D2I3OWf9sKKk"
   },
   "source": [
    "### Preparing data according to BERT."
   ]
  },
  {
   "cell_type": "code",
   "execution_count": null,
   "metadata": {
    "id": "ce4gF2y9R1Li"
   },
   "outputs": [],
   "source": [
    "from transformers import BertTokenizer, TFBertForMultipleChoice"
   ]
  },
  {
   "cell_type": "code",
   "execution_count": null,
   "metadata": {
    "colab": {
     "base_uri": "https://localhost:8080/",
     "height": 67,
     "referenced_widgets": [
      "cb961542fd464f6cb3de6beee918c2c1"
     ]
    },
    "id": "s0ILvSFu5YBK",
    "outputId": "16973dec-f7c5-4233-fd25-b830786052c7"
   },
   "outputs": [
    {
     "data": {
      "application/vnd.jupyter.widget-view+json": {
       "model_id": "cb961542fd464f6cb3de6beee918c2c1",
       "version_major": 2,
       "version_minor": 0
      },
      "text/plain": [
       "HBox(children=(FloatProgress(value=0.0, description='Downloading', max=231508.0, style=ProgressStyle(descripti…"
      ]
     },
     "metadata": {
      "tags": []
     },
     "output_type": "display_data"
    },
    {
     "name": "stdout",
     "output_type": "stream",
     "text": [
      "\n"
     ]
    }
   ],
   "source": [
    "tokenizer = BertTokenizer.from_pretrained('bert-base-uncased', do_lower_case=True)"
   ]
  },
  {
   "cell_type": "code",
   "execution_count": null,
   "metadata": {
    "id": "s3IEyRXc7L6v"
   },
   "outputs": [],
   "source": [
    "MAX_LEN = 512"
   ]
  },
  {
   "cell_type": "code",
   "execution_count": null,
   "metadata": {
    "id": "7TuDzJ9iWwvu"
   },
   "outputs": [],
   "source": [
    "def arc_preprocessor(dataset, tokenizer):\n",
    "    '''\n",
    "    This function will convert a given context, question, choices in a format:\n",
    "\n",
    "    [CLS] context [SEP] question choices[0] [SEP]\n",
    "    [CLS] context [SEP] question choices[1] [SEP]\n",
    "    [CLS] context [SEP] question choices[2] [SEP]\n",
    "    [CLS] context [SEP] question choices[3] [SEP]\n",
    "\n",
    "    After converting in this format the data will be tokenized using a given tokenizer.\n",
    "    This function will return 4 arrays namely, input_ids, attention_mask, token_type_ids and labels.\n",
    "\n",
    "    individual input_ids, token_type_ids, attention_mask shape will be as: [num_choices, max_seq_length]\n",
    "    '''\n",
    "    all_input_ids = []\n",
    "    all_attention_mask = []\n",
    "    all_token_type_ids = []\n",
    "\n",
    "    for i in range(len(dataset)):\n",
    "\n",
    "        context = dataset['context_2'].iloc[i]\n",
    "        question = dataset['only_question'].iloc[i]\n",
    "        options = dataset['options_list'].iloc[i]\n",
    "        choice_features = []\n",
    "\n",
    "        for j in range(len(options)):\n",
    "\n",
    "            option = options[j]\n",
    "            ques_opt = question + ' ' + f'{j}' + ' ' + option\n",
    "            ques_opt = re.sub(r'\\s+', ' ', ques_opt)\n",
    "\n",
    "            inputs = tokenizer(context,\n",
    "                               ques_opt,\n",
    "                               max_length=MAX_LEN,\n",
    "                               truncation='only_first',\n",
    "                               padding='max_length')\n",
    "            \n",
    "            input_ids = inputs['input_ids']\n",
    "            attention_mask = inputs['attention_mask']\n",
    "            token_type_ids = inputs['token_type_ids']\n",
    "\n",
    "            assert len(input_ids) == MAX_LEN\n",
    "            assert len(token_type_ids) == MAX_LEN\n",
    "            assert len(attention_mask) == MAX_LEN\n",
    "\n",
    "            choice_features.append({'input_ids':input_ids,\n",
    "                                    'attention_mask':attention_mask,\n",
    "                                    'token_type_ids':token_type_ids})\n",
    "\n",
    "        all_input_ids.append(np.asarray([cf['input_ids'] for cf in choice_features], dtype='int32'))\n",
    "        all_attention_mask.append(np.asarray([cf['attention_mask'] for cf in choice_features], dtype='int32'))\n",
    "        all_token_type_ids.append(np.asarray([cf['token_type_ids'] for cf in choice_features], dtype='int32'))\n",
    "\n",
    "    return all_input_ids, all_attention_mask, all_token_type_ids"
   ]
  },
  {
   "cell_type": "code",
   "execution_count": null,
   "metadata": {
    "id": "QZhxd4jDYVsC"
   },
   "outputs": [],
   "source": [
    "easy_train_input_ids, easy_train_attention_mask, easy_train_token_type_ids = arc_preprocessor(df_easy_train, tokenizer)\n",
    "easy_dev_input_ids, easy_dev_attention_mask, easy_dev_token_type_ids = arc_preprocessor(df_easy_dev, tokenizer)\n",
    "easy_test_input_ids, easy_test_attention_mask, easy_test_token_type_ids = arc_preprocessor(df_easy_test, tokenizer)"
   ]
  },
  {
   "cell_type": "code",
   "execution_count": null,
   "metadata": {
    "id": "2gDYtCxAZV5h"
   },
   "outputs": [],
   "source": [
    "easy_train_input_ids = np.asarray(easy_train_input_ids, dtype='int32')\n",
    "easy_train_token_type_ids = np.asarray(easy_train_token_type_ids, dtype='int32')\n",
    "easy_train_attention_mask = np.asarray(easy_train_attention_mask, dtype='int32')"
   ]
  },
  {
   "cell_type": "code",
   "execution_count": null,
   "metadata": {
    "id": "i9NKnlZPZevx"
   },
   "outputs": [],
   "source": [
    "easy_dev_input_ids = np.asarray(easy_dev_input_ids, dtype='int32')\n",
    "easy_dev_token_type_ids = np.asarray(easy_dev_token_type_ids, dtype='int32')\n",
    "easy_dev_attention_mask = np.asarray(easy_dev_attention_mask, dtype='int32')"
   ]
  },
  {
   "cell_type": "code",
   "execution_count": null,
   "metadata": {
    "id": "1-x3J8XKZecH"
   },
   "outputs": [],
   "source": [
    "easy_test_input_ids = np.asarray(easy_test_input_ids, dtype='int32')\n",
    "easy_test_token_type_ids = np.asarray(easy_test_token_type_ids, dtype='int32')\n",
    "easy_test_attention_mask = np.asarray(easy_test_attention_mask, dtype='int32')"
   ]
  },
  {
   "cell_type": "code",
   "execution_count": null,
   "metadata": {
    "id": "9GJVHvKjU2J2"
   },
   "outputs": [],
   "source": [
    "np.save('/content/drive/MyDrive/ARC/BERT files/easy_train_input_ids', easy_train_input_ids)\n",
    "np.save('/content/drive/MyDrive/ARC/BERT files/easy_train_attention_mask', easy_train_attention_mask)\n",
    "np.save('/content/drive/MyDrive/ARC/BERT files/easy_train_token_type_ids', easy_train_token_type_ids)"
   ]
  },
  {
   "cell_type": "code",
   "execution_count": null,
   "metadata": {
    "id": "f_4kVsJJVCLQ"
   },
   "outputs": [],
   "source": [
    "np.save('/content/drive/MyDrive/ARC/BERT files/easy_dev_input_ids', easy_dev_input_ids)\n",
    "np.save('/content/drive/MyDrive/ARC/BERT files/easy_dev_attention_mask', easy_dev_attention_mask)\n",
    "np.save('/content/drive/MyDrive/ARC/BERT files/easy_dev_token_type_ids', easy_dev_token_type_ids)"
   ]
  },
  {
   "cell_type": "code",
   "execution_count": null,
   "metadata": {
    "id": "bJMnhHCdVEQH"
   },
   "outputs": [],
   "source": [
    "np.save('/content/drive/MyDrive/ARC/BERT files/easy_test_input_ids', easy_test_input_ids)\n",
    "np.save('/content/drive/MyDrive/ARC/BERT files/easy_test_attention_mask', easy_test_attention_mask)\n",
    "np.save('/content/drive/MyDrive/ARC/BERT files/easy_test_token_type_ids', easy_test_token_type_ids)"
   ]
  },
  {
   "cell_type": "markdown",
   "metadata": {
    "id": "df4SolleA_Ng"
   },
   "source": [
    "### Training BERT."
   ]
  },
  {
   "cell_type": "code",
   "execution_count": null,
   "metadata": {
    "id": "NpQw-JBqqpFv"
   },
   "outputs": [],
   "source": [
    "easy_dev_input_ids = np.load('/content/drive/MyDrive/ARC/BERT files/easy_dev_input_ids.npy')\n",
    "easy_dev_attention_mask = np.load('/content/drive/MyDrive/ARC/BERT files/easy_dev_attention_mask.npy')\n",
    "easy_dev_token_type_ids = np.load('/content/drive/MyDrive/ARC/BERT files/easy_dev_token_type_ids.npy')"
   ]
  },
  {
   "cell_type": "code",
   "execution_count": null,
   "metadata": {
    "id": "vV7Af9IuLPLH"
   },
   "outputs": [],
   "source": [
    "easy_test_input_ids = np.load('/content/drive/MyDrive/ARC/BERT files/easy_test_input_ids.npy')\n",
    "easy_test_attention_mask = np.load('/content/drive/MyDrive/ARC/BERT files/easy_test_attention_mask.npy')\n",
    "easy_test_token_type_ids = np.load('/content/drive/MyDrive/ARC/BERT files/easy_test_token_type_ids.npy')"
   ]
  },
  {
   "cell_type": "code",
   "execution_count": null,
   "metadata": {
    "id": "KCBuJpaTvAvf"
   },
   "outputs": [],
   "source": [
    "easy_train_input_ids = np.load('/content/drive/MyDrive/ARC/BERT files/easy_train_input_ids.npy')\n",
    "easy_train_attention_mask = np.load('/content/drive/MyDrive/ARC/BERT files/easy_train_attention_mask.npy')\n",
    "easy_train_token_type_ids = np.load('/content/drive/MyDrive/ARC/BERT files/easy_train_token_type_ids.npy')"
   ]
  },
  {
   "cell_type": "code",
   "execution_count": null,
   "metadata": {
    "colab": {
     "base_uri": "https://localhost:8080/"
    },
    "id": "vA4gHYJZvK6W",
    "outputId": "bb6f75ee-513d-4a66-e5cf-aa78015d3bb1"
   },
   "outputs": [
    {
     "name": "stderr",
     "output_type": "stream",
     "text": [
      "All model checkpoint layers were used when initializing TFBertForMultipleChoice.\n",
      "\n",
      "All the layers of TFBertForMultipleChoice were initialized from the model checkpoint at /content/drive/MyDrive/race_bert model.\n",
      "If your task is similar to the task the model of the checkpoint was trained on, you can already use TFBertForMultipleChoice for predictions without further training.\n"
     ]
    }
   ],
   "source": [
    "pre_trained_model = TFBertForMultipleChoice.from_pretrained('/content/drive/MyDrive/race_bert model', return_dict=True)\n",
    "\n",
    "model_input_ids = Input(shape=(5,512,), name='input_tokens', dtype='int32')\n",
    "masks_input = Input(shape=(5,512,), name='attention_mask', dtype='int32')\n",
    "model_token_type_ids = Input(shape=(5,512,), name='token_type_ids', dtype='int32')\n",
    "\n",
    "x = {'input_ids':model_input_ids,\n",
    "        'attention_mask':masks_input,\n",
    "        'token_type_ids':model_token_type_ids}\n",
    "\n",
    "x = pre_trained_model(x)['logits']\n",
    "outputs = Dense(5, activation='softmax')(x)\n",
    "\n",
    "model = Model(inputs=[model_input_ids, masks_input,model_token_type_ids], outputs=outputs)\n",
    "\n",
    "optimizer = tf.keras.optimizers.Adam(learning_rate=1e-5)\n",
    "loss = tf.keras.losses.CategoricalCrossentropy()\n",
    "model.compile(optimizer=optimizer, \n",
    "                loss=loss, metrics=['accuracy'])"
   ]
  },
  {
   "cell_type": "code",
   "execution_count": null,
   "metadata": {
    "colab": {
     "base_uri": "https://localhost:8080/"
    },
    "id": "CqPgsk_Hg03o",
    "outputId": "69c237c3-ea6b-4f01-9089-fae4c1562a41"
   },
   "outputs": [
    {
     "name": "stdout",
     "output_type": "stream",
     "text": [
      "Epoch 1/4\n",
      "1126/1126 [==============================] - 1427s 1s/step - loss: 1.2875 - accuracy: 0.3980\n",
      "Epoch 2/4\n",
      "1126/1126 [==============================] - 1425s 1s/step - loss: 0.8313 - accuracy: 0.6242\n",
      "Epoch 3/4\n",
      "1126/1126 [==============================] - 1427s 1s/step - loss: 0.5845 - accuracy: 0.7579\n",
      "Epoch 4/4\n",
      "1126/1126 [==============================] - 1426s 1s/step - loss: 0.4036 - accuracy: 0.8423\n"
     ]
    },
    {
     "data": {
      "text/plain": [
       "<tensorflow.python.keras.callbacks.History at 0x7f7efc080b38>"
      ]
     },
     "execution_count": 40,
     "metadata": {
      "tags": []
     },
     "output_type": "execute_result"
    }
   ],
   "source": [
    "early_stop = EarlyStopping(patience=2, monitor='val_accuracy')\n",
    "\n",
    "model.fit(x=[easy_train_input_ids, easy_train_attention_mask, easy_train_token_type_ids], y=tf.keras.utils.to_categorical(easy_train_labels.values),\n",
    "          epochs=4, batch_size=2)"
   ]
  },
  {
   "cell_type": "code",
   "execution_count": null,
   "metadata": {
    "colab": {
     "base_uri": "https://localhost:8080/"
    },
    "id": "NNNPPqHg7ejV",
    "outputId": "7ed16d7d-d2c5-45ff-ad8a-3f5481f2c106"
   },
   "outputs": [
    {
     "name": "stdout",
     "output_type": "stream",
     "text": [
      "WARNING:tensorflow:From /usr/local/lib/python3.6/dist-packages/tensorflow/python/training/tracking/tracking.py:111: Model.state_updates (from tensorflow.python.keras.engine.training) is deprecated and will be removed in a future version.\n",
      "Instructions for updating:\n",
      "This property should not be used in TensorFlow 2.0, as updates are applied automatically.\n",
      "WARNING:tensorflow:From /usr/local/lib/python3.6/dist-packages/tensorflow/python/training/tracking/tracking.py:111: Layer.updates (from tensorflow.python.keras.engine.base_layer) is deprecated and will be removed in a future version.\n",
      "Instructions for updating:\n",
      "This property should not be used in TensorFlow 2.0, as updates are applied automatically.\n",
      "INFO:tensorflow:Assets written to: /content/drive/MyDrive/ARC/bert_model/assets\n"
     ]
    }
   ],
   "source": [
    "model.save('/content/drive/MyDrive/ARC/bert_model')"
   ]
  },
  {
   "cell_type": "code",
   "execution_count": null,
   "metadata": {
    "id": "k7qGNw3WXDEr"
   },
   "outputs": [],
   "source": [
    "model.save_weights('/content/drive/MyDrive/ARC/bert_weights')"
   ]
  },
  {
   "cell_type": "code",
   "execution_count": null,
   "metadata": {
    "colab": {
     "base_uri": "https://localhost:8080/"
    },
    "id": "LqkfbmzRLVRk",
    "outputId": "c749c537-9ee6-449e-acbc-0c5f09c5c781"
   },
   "outputs": [
    {
     "data": {
      "text/plain": [
       "<tensorflow.python.training.tracking.util.CheckpointLoadStatus at 0x7f66564e1cc0>"
      ]
     },
     "execution_count": 11,
     "metadata": {
      "tags": []
     },
     "output_type": "execute_result"
    }
   ],
   "source": [
    "model.load_weights('/content/drive/MyDrive/ARC/bert weights/bert_weights')"
   ]
  },
  {
   "cell_type": "code",
   "execution_count": null,
   "metadata": {
    "id": "MYcIlY9nTeau"
   },
   "outputs": [],
   "source": [
    "dev_preds = model.predict([easy_dev_input_ids,easy_dev_attention_mask,easy_dev_token_type_ids])\n",
    "dev_preds_max = tf.argmax(dev_preds, axis=1)"
   ]
  },
  {
   "cell_type": "code",
   "execution_count": null,
   "metadata": {
    "colab": {
     "base_uri": "https://localhost:8080/"
    },
    "id": "cvUTW8dgaYjf",
    "outputId": "06e3468d-4571-4abc-ec05-5b22480f034c"
   },
   "outputs": [
    {
     "name": "stdout",
     "output_type": "stream",
     "text": [
      "Accuracy score on easy dev set is 0.3263157894736842.\n"
     ]
    }
   ],
   "source": [
    "print(f'Accuracy score on easy dev set is {accuracy_score(easy_dev_labels,dev_preds_max)}.')"
   ]
  },
  {
   "cell_type": "code",
   "execution_count": null,
   "metadata": {
    "id": "m8kVNj6FaiWu"
   },
   "outputs": [],
   "source": [
    "test_preds = model.predict([easy_test_input_ids,easy_test_attention_mask,easy_test_token_type_ids])\n",
    "test_preds_max = tf.argmax(test_preds, axis=1)"
   ]
  },
  {
   "cell_type": "code",
   "execution_count": null,
   "metadata": {
    "colab": {
     "base_uri": "https://localhost:8080/"
    },
    "id": "TpdrGLdfcPKh",
    "outputId": "e4f234d2-a020-40a8-e8e4-11348e3fd837"
   },
   "outputs": [
    {
     "name": "stdout",
     "output_type": "stream",
     "text": [
      "Accuracy score on easy test set is 0.33080808080808083.\n"
     ]
    }
   ],
   "source": [
    "print(f'Accuracy score on easy test set is {accuracy_score(easy_test_labels,test_preds_max)}.')"
   ]
  },
  {
   "cell_type": "markdown",
   "metadata": {
    "id": "PbDFX03nQs_o"
   },
   "source": [
    "## RoBERTa Model."
   ]
  },
  {
   "cell_type": "code",
   "execution_count": null,
   "metadata": {
    "id": "uvBiUe3xRYaI"
   },
   "outputs": [],
   "source": [
    "from transformers import RobertaTokenizer, TFRobertaForMultipleChoice"
   ]
  },
  {
   "cell_type": "markdown",
   "metadata": {
    "id": "z7CofgwgQs_o"
   },
   "source": [
    "### Preparing data according to RoBERTa."
   ]
  },
  {
   "cell_type": "code",
   "execution_count": null,
   "metadata": {
    "colab": {
     "base_uri": "https://localhost:8080/",
     "referenced_widgets": [
      "fea0e244cb7b46a6ab2050da765c0511",
      "2c5cf2754df645a8877ec2e9b6d2483f",
      "27a8c32677a34da9a07c038b1e50245d",
      "29bea31dbb4748c5814e882672f02b1a",
      "5f4bf1c4e16946588d5496a56d082d7c",
      "3328edc9ea10416ca7b19ef5a7aca42e",
      "286d1704222648eca16cf45c2c7592f6",
      "76ac15018512475aad0a27671a8f3e40",
      "f8abbb3a8b2f4593a18699e1a40a7c9a",
      "1df44509c0554821ab6db6b7f20deedb",
      "597b47ceb630498ca10c61720db18afc",
      "9c5e959deb5f4a75bdbf0ce1f9492b6a",
      "3dc89ed43a8d40a89f772e4b8ede821b",
      "dd0f06d276f54e0abaeb3fec27927d2a",
      "c42073bb336b40f79c5d96beac4b54e5",
      "a9ee4c0fcf9b48369ac3331acdf2f9c0"
     ]
    },
    "id": "FB6XjCVYQs_p",
    "outputId": "8544b184-d998-4f8e-f0c9-f7ddedd33270"
   },
   "outputs": [
    {
     "data": {
      "application/vnd.jupyter.widget-view+json": {
       "model_id": "fea0e244cb7b46a6ab2050da765c0511",
       "version_major": 2,
       "version_minor": 0
      },
      "text/plain": [
       "HBox(children=(FloatProgress(value=0.0, description='Downloading', max=898823.0, style=ProgressStyle(descripti…"
      ]
     },
     "metadata": {
      "tags": []
     },
     "output_type": "display_data"
    },
    {
     "name": "stdout",
     "output_type": "stream",
     "text": [
      "\n"
     ]
    },
    {
     "data": {
      "application/vnd.jupyter.widget-view+json": {
       "model_id": "f8abbb3a8b2f4593a18699e1a40a7c9a",
       "version_major": 2,
       "version_minor": 0
      },
      "text/plain": [
       "HBox(children=(FloatProgress(value=0.0, description='Downloading', max=456318.0, style=ProgressStyle(descripti…"
      ]
     },
     "metadata": {
      "tags": []
     },
     "output_type": "display_data"
    },
    {
     "name": "stdout",
     "output_type": "stream",
     "text": [
      "\n"
     ]
    }
   ],
   "source": [
    "tokenizer = RobertaTokenizer.from_pretrained('roberta-base', do_lower_case=True)"
   ]
  },
  {
   "cell_type": "code",
   "execution_count": null,
   "metadata": {
    "id": "Q4-ltj6YGY8Y"
   },
   "outputs": [],
   "source": [
    "MAX_LEN=512"
   ]
  },
  {
   "cell_type": "code",
   "execution_count": null,
   "metadata": {
    "id": "GYVcvUQkExMc"
   },
   "outputs": [],
   "source": [
    "def arc_preprocessor(dataset, tokenizer):\n",
    "    '''\n",
    "    This function will convert a given article, question, choices in a format:\n",
    "\n",
    "    <s> article </s> </s> question </s> </s> choices[0] </s>\n",
    "    <s> article </s> </s> question </s> </s> choices[1] </s>\n",
    "    <s> article </s> </s> question </s> </s> choices[2] </s>\n",
    "    <s> article </s> </s> question </s> </s> choices[3] </s>\n",
    "\n",
    "    After converting in this format the data will be tokenized using a given tokenizer.\n",
    "    This function will return 4 arrays namely, input_ids, attention_mask, token_type_ids and labels.\n",
    "\n",
    "    individual input_ids, token_type_ids, attention_mask shape will be as: [num_choices, max_seq_length]\n",
    "    '''\n",
    "    global MAX_LEN\n",
    "    all_input_ids = []\n",
    "    all_attention_mask = []\n",
    "    all_token_type_ids = []\n",
    "\n",
    "    for i in range(len(dataset)):\n",
    "        \n",
    "        context = ' '.join(dataset['context_2'].iloc[i].split()[:400]) #Limiting the maximum length of context to 400 words.\n",
    "        question = dataset['only_question'].iloc[i]\n",
    "        options = dataset['options_list'].iloc[i]\n",
    "        choice_features = []\n",
    "\n",
    "        for j in range(len(options)):\n",
    "\n",
    "            option = options[j]\n",
    "            input_string = '<s>' + ' ' + context + ' ' + '</s>' + ' ' + '</s>' + ' ' + question + ' ' + '</s>' + ' ' + '</s>' + ' ' + option + ' ' + '</s>'\n",
    "            input_string = re.sub(r'\\s+', ' ', input_string)\n",
    "\n",
    "            input_ids = tokenizer(input_string,\n",
    "                               max_length=MAX_LEN,\n",
    "                               add_special_tokens=False, truncation='only_first')['input_ids']\n",
    "            \n",
    "            attention_mask = [1] * len(input_ids)\n",
    "\n",
    "            padding_id = tokenizer.pad_token_id\n",
    "            padding_length = MAX_LEN - len(input_ids)\n",
    "\n",
    "            input_ids = input_ids + [padding_id]*padding_length\n",
    "            attention_mask = attention_mask + [0]*padding_length\n",
    "\n",
    "            assert len(input_ids) == MAX_LEN\n",
    "            assert len(attention_mask) == MAX_LEN\n",
    "\n",
    "            choice_features.append({'input_ids':input_ids,\n",
    "                                    'attention_mask':attention_mask})\n",
    "\n",
    "        all_input_ids.append(np.asarray([cf['input_ids'] for cf in choice_features], dtype='int32'))\n",
    "        all_attention_mask.append(np.asarray([cf['attention_mask'] for cf in choice_features], dtype='int32'))\n",
    "\n",
    "    return all_input_ids, all_attention_mask"
   ]
  },
  {
   "cell_type": "code",
   "execution_count": null,
   "metadata": {
    "id": "iBORBzTLPoKQ"
   },
   "outputs": [],
   "source": [
    "easy_train_input_ids, easy_train_attention_mask = arc_preprocessor(df_easy_train, tokenizer)\n",
    "easy_dev_input_ids, easy_dev_attention_mask = arc_preprocessor(df_easy_dev, tokenizer)\n",
    "easy_test_input_ids, easy_test_attention_mask = arc_preprocessor(df_easy_test, tokenizer)"
   ]
  },
  {
   "cell_type": "code",
   "execution_count": null,
   "metadata": {
    "id": "bcN6RvVGO1xH"
   },
   "outputs": [],
   "source": [
    "easy_train_input_ids = np.asarray(easy_train_input_ids, dtype='int32')\n",
    "easy_train_attention_mask = np.asarray(easy_train_attention_mask, dtype='int32')"
   ]
  },
  {
   "cell_type": "code",
   "execution_count": null,
   "metadata": {
    "id": "7qTDsgVMO1if"
   },
   "outputs": [],
   "source": [
    "easy_dev_input_ids = np.asarray(easy_dev_input_ids, dtype='int32')\n",
    "easy_dev_attention_mask = np.asarray(easy_dev_attention_mask, dtype='int32')"
   ]
  },
  {
   "cell_type": "code",
   "execution_count": null,
   "metadata": {
    "id": "c6A8dbi_P0W2"
   },
   "outputs": [],
   "source": [
    "easy_test_input_ids = np.asarray(easy_test_input_ids, dtype='int32')\n",
    "easy_test_attention_mask = np.asarray(easy_test_attention_mask, dtype='int32')"
   ]
  },
  {
   "cell_type": "code",
   "execution_count": null,
   "metadata": {
    "id": "ZaK2Ej5zP4rq"
   },
   "outputs": [],
   "source": [
    "np.save('/content/drive/MyDrive/ARC/RoBERTa_2 files/easy_train_input_ids', easy_train_input_ids)\n",
    "np.save('/content/drive/MyDrive/ARC/RoBERTa_2 files/easy_train_attention_mask', easy_train_attention_mask)"
   ]
  },
  {
   "cell_type": "code",
   "execution_count": null,
   "metadata": {
    "id": "sQ2024V6QCGA"
   },
   "outputs": [],
   "source": [
    "np.save('/content/drive/MyDrive/ARC/RoBERTa_2 files/easy_dev_input_ids', easy_dev_input_ids)\n",
    "np.save('/content/drive/MyDrive/ARC/RoBERTa_2 files/easy_dev_attention_mask', easy_dev_attention_mask)"
   ]
  },
  {
   "cell_type": "code",
   "execution_count": null,
   "metadata": {
    "id": "XLUKu9z7QB9p"
   },
   "outputs": [],
   "source": [
    "np.save('/content/drive/MyDrive/ARC/RoBERTa_2 files/easy_test_input_ids', easy_test_input_ids)\n",
    "np.save('/content/drive/MyDrive/ARC/RoBERTa_2 files/easy_test_attention_mask', easy_test_attention_mask)"
   ]
  },
  {
   "cell_type": "markdown",
   "metadata": {
    "id": "CJgxmb0bQs_v"
   },
   "source": [
    "### Training RoBERTa."
   ]
  },
  {
   "cell_type": "code",
   "execution_count": null,
   "metadata": {
    "id": "AUV2KGsisdHE"
   },
   "outputs": [],
   "source": [
    "easy_train_input_ids = np.load('/content/drive/MyDrive/ARC/RoBERTa_2 files/easy_train_input_ids.npy')\n",
    "easy_train_attention_mask = np.load('/content/drive/MyDrive/ARC/RoBERTa_2 files/easy_train_attention_mask.npy')"
   ]
  },
  {
   "cell_type": "code",
   "execution_count": null,
   "metadata": {
    "id": "a5Hlg_J7vksA"
   },
   "outputs": [],
   "source": [
    "easy_dev_input_ids = np.load('/content/drive/MyDrive/ARC/RoBERTa_2 files/easy_dev_input_ids.npy')\n",
    "easy_dev_attention_mask = np.load('/content/drive/MyDrive/ARC/RoBERTa_2 files/easy_dev_attention_mask.npy')"
   ]
  },
  {
   "cell_type": "code",
   "execution_count": null,
   "metadata": {
    "id": "10XCCJJUvklB"
   },
   "outputs": [],
   "source": [
    "easy_test_input_ids = np.load('/content/drive/MyDrive/ARC/RoBERTa_2 files/easy_test_input_ids.npy')\n",
    "easy_test_attention_mask = np.load('/content/drive/MyDrive/ARC/RoBERTa_2 files/easy_test_attention_mask.npy')"
   ]
  },
  {
   "cell_type": "code",
   "execution_count": null,
   "metadata": {
    "colab": {
     "base_uri": "https://localhost:8080/"
    },
    "id": "wZPewaue_Yg0",
    "outputId": "3c02ba09-f924-494e-f30e-3756316507d1"
   },
   "outputs": [
    {
     "name": "stdout",
     "output_type": "stream",
     "text": [
      "INFO:tensorflow:Found TPU system:\n"
     ]
    },
    {
     "name": "stderr",
     "output_type": "stream",
     "text": [
      "INFO:tensorflow:Found TPU system:\n"
     ]
    },
    {
     "name": "stdout",
     "output_type": "stream",
     "text": [
      "INFO:tensorflow:*** Num TPU Cores: 8\n"
     ]
    },
    {
     "name": "stderr",
     "output_type": "stream",
     "text": [
      "INFO:tensorflow:*** Num TPU Cores: 8\n"
     ]
    },
    {
     "name": "stdout",
     "output_type": "stream",
     "text": [
      "INFO:tensorflow:*** Num TPU Workers: 1\n"
     ]
    },
    {
     "name": "stderr",
     "output_type": "stream",
     "text": [
      "INFO:tensorflow:*** Num TPU Workers: 1\n"
     ]
    },
    {
     "name": "stdout",
     "output_type": "stream",
     "text": [
      "INFO:tensorflow:*** Num TPU Cores Per Worker: 8\n"
     ]
    },
    {
     "name": "stderr",
     "output_type": "stream",
     "text": [
      "INFO:tensorflow:*** Num TPU Cores Per Worker: 8\n"
     ]
    },
    {
     "name": "stdout",
     "output_type": "stream",
     "text": [
      "INFO:tensorflow:*** Available Device: _DeviceAttributes(/job:localhost/replica:0/task:0/device:CPU:0, CPU, 0, 0)\n"
     ]
    },
    {
     "name": "stderr",
     "output_type": "stream",
     "text": [
      "INFO:tensorflow:*** Available Device: _DeviceAttributes(/job:localhost/replica:0/task:0/device:CPU:0, CPU, 0, 0)\n"
     ]
    },
    {
     "name": "stdout",
     "output_type": "stream",
     "text": [
      "INFO:tensorflow:*** Available Device: _DeviceAttributes(/job:localhost/replica:0/task:0/device:XLA_CPU:0, XLA_CPU, 0, 0)\n"
     ]
    },
    {
     "name": "stderr",
     "output_type": "stream",
     "text": [
      "INFO:tensorflow:*** Available Device: _DeviceAttributes(/job:localhost/replica:0/task:0/device:XLA_CPU:0, XLA_CPU, 0, 0)\n"
     ]
    },
    {
     "name": "stdout",
     "output_type": "stream",
     "text": [
      "INFO:tensorflow:*** Available Device: _DeviceAttributes(/job:worker/replica:0/task:0/device:CPU:0, CPU, 0, 0)\n"
     ]
    },
    {
     "name": "stderr",
     "output_type": "stream",
     "text": [
      "INFO:tensorflow:*** Available Device: _DeviceAttributes(/job:worker/replica:0/task:0/device:CPU:0, CPU, 0, 0)\n"
     ]
    },
    {
     "name": "stdout",
     "output_type": "stream",
     "text": [
      "INFO:tensorflow:*** Available Device: _DeviceAttributes(/job:worker/replica:0/task:0/device:TPU:0, TPU, 0, 0)\n"
     ]
    },
    {
     "name": "stderr",
     "output_type": "stream",
     "text": [
      "INFO:tensorflow:*** Available Device: _DeviceAttributes(/job:worker/replica:0/task:0/device:TPU:0, TPU, 0, 0)\n"
     ]
    },
    {
     "name": "stdout",
     "output_type": "stream",
     "text": [
      "INFO:tensorflow:*** Available Device: _DeviceAttributes(/job:worker/replica:0/task:0/device:TPU:1, TPU, 0, 0)\n"
     ]
    },
    {
     "name": "stderr",
     "output_type": "stream",
     "text": [
      "INFO:tensorflow:*** Available Device: _DeviceAttributes(/job:worker/replica:0/task:0/device:TPU:1, TPU, 0, 0)\n"
     ]
    },
    {
     "name": "stdout",
     "output_type": "stream",
     "text": [
      "INFO:tensorflow:*** Available Device: _DeviceAttributes(/job:worker/replica:0/task:0/device:TPU:2, TPU, 0, 0)\n"
     ]
    },
    {
     "name": "stderr",
     "output_type": "stream",
     "text": [
      "INFO:tensorflow:*** Available Device: _DeviceAttributes(/job:worker/replica:0/task:0/device:TPU:2, TPU, 0, 0)\n"
     ]
    },
    {
     "name": "stdout",
     "output_type": "stream",
     "text": [
      "INFO:tensorflow:*** Available Device: _DeviceAttributes(/job:worker/replica:0/task:0/device:TPU:3, TPU, 0, 0)\n"
     ]
    },
    {
     "name": "stderr",
     "output_type": "stream",
     "text": [
      "INFO:tensorflow:*** Available Device: _DeviceAttributes(/job:worker/replica:0/task:0/device:TPU:3, TPU, 0, 0)\n"
     ]
    },
    {
     "name": "stdout",
     "output_type": "stream",
     "text": [
      "INFO:tensorflow:*** Available Device: _DeviceAttributes(/job:worker/replica:0/task:0/device:TPU:4, TPU, 0, 0)\n"
     ]
    },
    {
     "name": "stderr",
     "output_type": "stream",
     "text": [
      "INFO:tensorflow:*** Available Device: _DeviceAttributes(/job:worker/replica:0/task:0/device:TPU:4, TPU, 0, 0)\n"
     ]
    },
    {
     "name": "stdout",
     "output_type": "stream",
     "text": [
      "INFO:tensorflow:*** Available Device: _DeviceAttributes(/job:worker/replica:0/task:0/device:TPU:5, TPU, 0, 0)\n"
     ]
    },
    {
     "name": "stderr",
     "output_type": "stream",
     "text": [
      "INFO:tensorflow:*** Available Device: _DeviceAttributes(/job:worker/replica:0/task:0/device:TPU:5, TPU, 0, 0)\n"
     ]
    },
    {
     "name": "stdout",
     "output_type": "stream",
     "text": [
      "INFO:tensorflow:*** Available Device: _DeviceAttributes(/job:worker/replica:0/task:0/device:TPU:6, TPU, 0, 0)\n"
     ]
    },
    {
     "name": "stderr",
     "output_type": "stream",
     "text": [
      "INFO:tensorflow:*** Available Device: _DeviceAttributes(/job:worker/replica:0/task:0/device:TPU:6, TPU, 0, 0)\n"
     ]
    },
    {
     "name": "stdout",
     "output_type": "stream",
     "text": [
      "INFO:tensorflow:*** Available Device: _DeviceAttributes(/job:worker/replica:0/task:0/device:TPU:7, TPU, 0, 0)\n"
     ]
    },
    {
     "name": "stderr",
     "output_type": "stream",
     "text": [
      "INFO:tensorflow:*** Available Device: _DeviceAttributes(/job:worker/replica:0/task:0/device:TPU:7, TPU, 0, 0)\n"
     ]
    },
    {
     "name": "stdout",
     "output_type": "stream",
     "text": [
      "INFO:tensorflow:*** Available Device: _DeviceAttributes(/job:worker/replica:0/task:0/device:TPU_SYSTEM:0, TPU_SYSTEM, 0, 0)\n"
     ]
    },
    {
     "name": "stderr",
     "output_type": "stream",
     "text": [
      "INFO:tensorflow:*** Available Device: _DeviceAttributes(/job:worker/replica:0/task:0/device:TPU_SYSTEM:0, TPU_SYSTEM, 0, 0)\n"
     ]
    },
    {
     "name": "stdout",
     "output_type": "stream",
     "text": [
      "INFO:tensorflow:*** Available Device: _DeviceAttributes(/job:worker/replica:0/task:0/device:XLA_CPU:0, XLA_CPU, 0, 0)\n"
     ]
    },
    {
     "name": "stderr",
     "output_type": "stream",
     "text": [
      "INFO:tensorflow:*** Available Device: _DeviceAttributes(/job:worker/replica:0/task:0/device:XLA_CPU:0, XLA_CPU, 0, 0)\n"
     ]
    }
   ],
   "source": [
    "strategy = tf.distribute.TPUStrategy(resolver)"
   ]
  },
  {
   "cell_type": "code",
   "execution_count": null,
   "metadata": {
    "id": "kklGjmnCQs_v"
   },
   "outputs": [],
   "source": [
    "with strategy.scope():\n",
    "    pre_trained_model = TFRobertaForMultipleChoice.from_pretrained('/content/drive/MyDrive/roberta_model', return_dict=True)\n",
    "\n",
    "    model_input_ids = Input(shape=(5,512,), name='input_tokens', dtype='int32')\n",
    "    masks_input = Input(shape=(5,512,), name='attention_mask', dtype='int32')\n",
    "\n",
    "    x =  {'input_ids':model_input_ids,\n",
    "            'attention_mask':masks_input}\n",
    "\n",
    "    x = pre_trained_model(x)['logits']\n",
    "    outputs = Dense(5, activation='softmax')(x)\n",
    "\n",
    "    model = Model(inputs=[model_input_ids, masks_input], outputs=outputs)\n",
    "\n",
    "    model.compile(optimizer=tf.keras.optimizers.Adam(learning_rate=1e-5),\n",
    "              loss=tf.keras.losses.CategoricalCrossentropy(),\n",
    "              metrics=['accuracy'])"
   ]
  },
  {
   "cell_type": "code",
   "execution_count": null,
   "metadata": {
    "id": "opB9T3pO1pla"
   },
   "outputs": [],
   "source": [
    "valid_y = tf.keras.utils.to_categorical(easy_dev_labels, num_classes=5)"
   ]
  },
  {
   "cell_type": "code",
   "execution_count": null,
   "metadata": {
    "colab": {
     "base_uri": "https://localhost:8080/"
    },
    "id": "hMLS9TYbQs_w",
    "outputId": "a25db911-ad46-4904-e43a-8e3694aca567"
   },
   "outputs": [
    {
     "name": "stdout",
     "output_type": "stream",
     "text": [
      "Epoch 1/5\n",
      "WARNING:tensorflow:From /usr/local/lib/python3.6/dist-packages/tensorflow/python/data/ops/multi_device_iterator_ops.py:601: get_next_as_optional (from tensorflow.python.data.ops.iterator_ops) is deprecated and will be removed in a future version.\n",
      "Instructions for updating:\n",
      "Use `tf.data.Iterator.get_next_as_optional()` instead.\n"
     ]
    },
    {
     "name": "stderr",
     "output_type": "stream",
     "text": [
      "WARNING:tensorflow:From /usr/local/lib/python3.6/dist-packages/tensorflow/python/data/ops/multi_device_iterator_ops.py:601: get_next_as_optional (from tensorflow.python.data.ops.iterator_ops) is deprecated and will be removed in a future version.\n",
      "Instructions for updating:\n",
      "Use `tf.data.Iterator.get_next_as_optional()` instead.\n"
     ]
    },
    {
     "name": "stdout",
     "output_type": "stream",
     "text": [
      "  2/282 [..............................] - ETA: 1:32:15 - loss: 3.5207 - accuracy: 0.0000e+00WARNING:tensorflow:Callbacks method `on_train_batch_end` is slow compared to the batch time (batch time: 0.0112s vs `on_train_batch_end` time: 0.3293s). Check your callbacks.\n"
     ]
    },
    {
     "name": "stderr",
     "output_type": "stream",
     "text": [
      "WARNING:tensorflow:Callbacks method `on_train_batch_end` is slow compared to the batch time (batch time: 0.0112s vs `on_train_batch_end` time: 0.3293s). Check your callbacks.\n"
     ]
    },
    {
     "name": "stdout",
     "output_type": "stream",
     "text": [
      "282/282 [==============================] - ETA: 0s - loss: 1.6328 - accuracy: 0.2155WARNING:tensorflow:Callbacks method `on_test_batch_end` is slow compared to the batch time (batch time: 0.0039s vs `on_test_batch_end` time: 0.0912s). Check your callbacks.\n"
     ]
    },
    {
     "name": "stderr",
     "output_type": "stream",
     "text": [
      "WARNING:tensorflow:Callbacks method `on_test_batch_end` is slow compared to the batch time (batch time: 0.0039s vs `on_test_batch_end` time: 0.0912s). Check your callbacks.\n"
     ]
    },
    {
     "name": "stdout",
     "output_type": "stream",
     "text": [
      "\b\b\b\b\b\b\b\b\b\b\b\b\b\b\b\b\b\b\b\b\b\b\b\b\b\b\b\b\b\b\b\b\b\b\b\b\b\b\b\b\b\b\b\b\b\b\b\b\b\b\b\b\b\b\b\b\b\b\b\b\b\b\b\b\b\b\b\b\b\b\b\b\b\b\b\b\b\b\b\b\b\b\b\b\r",
      "282/282 [==============================] - 152s 540ms/step - loss: 1.6328 - accuracy: 0.2155 - val_loss: 1.6083 - val_accuracy: 0.2719\n",
      "Epoch 2/5\n",
      "282/282 [==============================] - 102s 361ms/step - loss: 1.6115 - accuracy: 0.2350 - val_loss: 1.6070 - val_accuracy: 0.2561\n",
      "Epoch 3/5\n",
      "282/282 [==============================] - 102s 361ms/step - loss: 1.6096 - accuracy: 0.2439 - val_loss: 1.6107 - val_accuracy: 0.2649\n",
      "Epoch 4/5\n",
      "282/282 [==============================] - 102s 362ms/step - loss: 1.6017 - accuracy: 0.2612 - val_loss: 1.6383 - val_accuracy: 0.2474\n",
      "Epoch 5/5\n",
      "282/282 [==============================] - 102s 362ms/step - loss: 1.5941 - accuracy: 0.2803 - val_loss: 1.6233 - val_accuracy: 0.2421\n"
     ]
    },
    {
     "data": {
      "text/plain": [
       "<tensorflow.python.keras.callbacks.History at 0x7fa6d4ecd748>"
      ]
     },
     "execution_count": 26,
     "metadata": {
      "tags": []
     },
     "output_type": "execute_result"
    }
   ],
   "source": [
    "model.fit(x=[easy_train_input_ids, easy_train_attention_mask], y=tf.keras.utils.to_categorical(easy_train_labels),\n",
    "          batch_size=8, epochs=5,\n",
    "          validation_data=([easy_dev_input_ids, easy_dev_attention_mask], valid_y),\n",
    "          validation_batch_size=8)"
   ]
  },
  {
   "cell_type": "code",
   "execution_count": null,
   "metadata": {
    "id": "BNNQlTCuQs_w"
   },
   "outputs": [],
   "source": [
    "model.save_weights('/content/drive/MyDrive/ARC/roberta weights/roberta_weights')"
   ]
  },
  {
   "cell_type": "code",
   "execution_count": null,
   "metadata": {
    "id": "bV4uzfAX07Xr"
   },
   "outputs": [],
   "source": [
    "# model.load_weights('/content/drive/MyDrive/ARC/roberta weights/roberta_weights')"
   ]
  },
  {
   "cell_type": "code",
   "execution_count": null,
   "metadata": {
    "id": "ICkXCXc3DedP"
   },
   "outputs": [],
   "source": [
    "test_preds = model.predict([easy_test_input_ids,easy_test_attention_mask])\n",
    "test_preds_max = tf.argmax(test_preds, axis=1)"
   ]
  },
  {
   "cell_type": "code",
   "execution_count": null,
   "metadata": {
    "colab": {
     "base_uri": "https://localhost:8080/"
    },
    "id": "kY1mDa0DDhIp",
    "outputId": "c4c1ff54-7537-45b5-b41b-34946021bf74"
   },
   "outputs": [
    {
     "name": "stdout",
     "output_type": "stream",
     "text": [
      "Accuracy score on easy test set is 0.255050505050505.\n"
     ]
    }
   ],
   "source": [
    "print(f'Accuracy score on easy test set is {accuracy_score(easy_test_labels,test_preds_max)}.')"
   ]
  },
  {
   "cell_type": "markdown",
   "metadata": {
    "id": "lRq7E7bs_lkU"
   },
   "source": [
    "## XLNET Model."
   ]
  },
  {
   "cell_type": "markdown",
   "metadata": {
    "id": "1xkn2wMX_lkW"
   },
   "source": [
    "### Preparing data according to XLNET."
   ]
  },
  {
   "cell_type": "code",
   "execution_count": null,
   "metadata": {
    "id": "Aa5LMggB_lkW"
   },
   "outputs": [],
   "source": [
    "from transformers import AutoTokenizer"
   ]
  },
  {
   "cell_type": "code",
   "execution_count": null,
   "metadata": {
    "colab": {
     "base_uri": "https://localhost:8080/",
     "height": 167,
     "referenced_widgets": [
      "a128ce09f3a947c69e1291212a23f7a6",
      "86e19f70c3b94ff2ad386ad466673ce7",
      "037a9d5e42c44c2782d6c070119ca3ed",
      "3c38b08a5e3c470c93a6378210490b25",
      "ad1c9f15bea842b5833446f4828521dc",
      "de7e515fc9dc4fcd99f4bbc4a29a621a",
      "63e185d1a4784dd290197ed78ba15ebd",
      "5ad2725427054f2f990140397e5a3777",
      "f8158c74b37d4ad8888289a3ead6364c",
      "a8fc9137c0a14e3080b138ec0ee21c2f",
      "ca42af32c14247e380f913484a43ca63",
      "eccf8f817011499294270d5ba84eba49",
      "02e97f3fc1354621a7d3fa2db0758c5e",
      "e7f7387cefa54b7a84889cd5012a321c",
      "518754f08ef4499fa29229cb01059480",
      "5984befaee4d48dbbffd887a9f80640b",
      "a799bb55e37e4f2185a8cd9b12ef7cf9",
      "7771124210794272b047a611b7982a3c",
      "208bb02c3eb549e59efe143e2e61b603",
      "58ca4c346be74b6e910865bdb77ed6f5",
      "1ef2031cf50c47548b0aaf77049cbe08",
      "32bb3371e4ca48ac9996fec112e944e2",
      "0693b99ef26846888b599ddae37c7efb",
      "91b73fc4e1334e428700e8a753870978"
     ]
    },
    "id": "3rbjkzsX_lkX",
    "outputId": "2f26d825-f961-4fb6-a280-ce344ef03b4a"
   },
   "outputs": [
    {
     "data": {
      "application/vnd.jupyter.widget-view+json": {
       "model_id": "a128ce09f3a947c69e1291212a23f7a6",
       "version_major": 2,
       "version_minor": 0
      },
      "text/plain": [
       "HBox(children=(FloatProgress(value=0.0, description='Downloading', max=760.0, style=ProgressStyle(description_…"
      ]
     },
     "metadata": {
      "tags": []
     },
     "output_type": "display_data"
    },
    {
     "name": "stdout",
     "output_type": "stream",
     "text": [
      "\n"
     ]
    },
    {
     "data": {
      "application/vnd.jupyter.widget-view+json": {
       "model_id": "f8158c74b37d4ad8888289a3ead6364c",
       "version_major": 2,
       "version_minor": 0
      },
      "text/plain": [
       "HBox(children=(FloatProgress(value=0.0, description='Downloading', max=798011.0, style=ProgressStyle(descripti…"
      ]
     },
     "metadata": {
      "tags": []
     },
     "output_type": "display_data"
    },
    {
     "name": "stdout",
     "output_type": "stream",
     "text": [
      "\n"
     ]
    },
    {
     "data": {
      "application/vnd.jupyter.widget-view+json": {
       "model_id": "a799bb55e37e4f2185a8cd9b12ef7cf9",
       "version_major": 2,
       "version_minor": 0
      },
      "text/plain": [
       "HBox(children=(FloatProgress(value=0.0, description='Downloading', max=1382015.0, style=ProgressStyle(descript…"
      ]
     },
     "metadata": {
      "tags": []
     },
     "output_type": "display_data"
    },
    {
     "name": "stdout",
     "output_type": "stream",
     "text": [
      "\n"
     ]
    }
   ],
   "source": [
    "tokenizer = AutoTokenizer.from_pretrained('xlnet-base-cased', do_lower_case=True)"
   ]
  },
  {
   "cell_type": "code",
   "execution_count": null,
   "metadata": {
    "id": "nI3aGYhf_lkY"
   },
   "outputs": [],
   "source": [
    "MAX_LEN=512"
   ]
  },
  {
   "cell_type": "code",
   "execution_count": null,
   "metadata": {
    "id": "Gxzus_D5_lkZ"
   },
   "outputs": [],
   "source": [
    "def arc_preprocessor(dataset, tokenizer):\n",
    "    '''\n",
    "    This function will convert a given article, question, choices in a format:\n",
    "\n",
    "    article <sep> question choices[0] <sep> <cls>\n",
    "    article <sep> question choices[1] <sep> <cls>\n",
    "    article <sep> question choices[2] <sep> <cls>\n",
    "    article <sep> question choices[3] <sep> <cls>\n",
    "\n",
    "    After converting in this format the data will be tokenized using a given tokenizer.\n",
    "    This function will return 4 arrays namely, input_ids, attention_mask, token_type_ids and labels.\n",
    "\n",
    "    individual input_ids, token_type_ids, attention_mask shape will be as: [num_choices, max_seq_length]\n",
    "    '''\n",
    "    global MAX_LEN\n",
    "    all_input_ids = []\n",
    "    all_attention_mask = []\n",
    "    all_token_type_ids = []\n",
    "\n",
    "    for i in range(len(dataset)):\n",
    "        \n",
    "        context = ' '.join(dataset['context_2'].iloc[i].split()[:400]) #Limiting the maximum length of context to 400 words.\n",
    "        question = dataset['only_question'].iloc[i]\n",
    "        options = dataset['options_list'].iloc[i]\n",
    "        choice_features = []\n",
    "\n",
    "        for j in range(len(options)):\n",
    "\n",
    "            option = options[j]\n",
    "            input_string = '<s>' + ' ' + context + ' ' + '</s>' + ' ' + question + ' ' + '</s>' + ' ' + option + ' ' + '</s>'\n",
    "            input_string = re.sub(r'\\s+', ' ', input_string)\n",
    "\n",
    "            input_ids = tokenizer(input_string,\n",
    "                               max_length=MAX_LEN,\n",
    "                               add_special_tokens=False)['input_ids']\n",
    "            \n",
    "            attention_mask = [1] * len(input_ids)\n",
    "\n",
    "            padding_id = tokenizer.pad_token_id\n",
    "            padding_length = MAX_LEN - len(input_ids)\n",
    "\n",
    "            input_ids = input_ids + [padding_id]*padding_length\n",
    "            attention_mask = attention_mask + [0]*padding_length\n",
    "\n",
    "            assert len(input_ids) == MAX_LEN\n",
    "            assert len(attention_mask) == MAX_LEN\n",
    "\n",
    "            choice_features.append({'input_ids':input_ids,\n",
    "                                    'attention_mask':attention_mask})\n",
    "\n",
    "        all_input_ids.append(np.asarray([cf['input_ids'] for cf in choice_features], dtype='int32'))\n",
    "        all_attention_mask.append(np.asarray([cf['attention_mask'] for cf in choice_features], dtype='int32'))\n",
    "\n",
    "    return all_input_ids, all_attention_mask"
   ]
  },
  {
   "cell_type": "code",
   "execution_count": null,
   "metadata": {
    "colab": {
     "base_uri": "https://localhost:8080/"
    },
    "id": "nzRRZZw5_lka",
    "outputId": "4b69dd09-db55-463a-8c9b-640a195cde3a"
   },
   "outputs": [
    {
     "name": "stderr",
     "output_type": "stream",
     "text": [
      "Truncation was not explicitly activated but `max_length` is provided a specific value, please use `truncation=True` to explicitly truncate examples to max length. Defaulting to 'longest_first' truncation strategy. If you encode pairs of sequences (GLUE-style) with the tokenizer you can select this strategy more precisely by providing a specific strategy to `truncation`.\n"
     ]
    }
   ],
   "source": [
    "easy_train_input_ids, easy_train_attention_mask = arc_preprocessor(df_easy_train, tokenizer)\n",
    "easy_dev_input_ids, easy_dev_attention_mask = arc_preprocessor(df_easy_dev, tokenizer)\n",
    "easy_test_input_ids, easy_test_attention_mask = arc_preprocessor(df_easy_test, tokenizer)"
   ]
  },
  {
   "cell_type": "code",
   "execution_count": null,
   "metadata": {
    "id": "F8Geg4fC_lka"
   },
   "outputs": [],
   "source": [
    "easy_train_input_ids = np.asarray(easy_train_input_ids, dtype='int32')\n",
    "easy_train_attention_mask = np.asarray(easy_train_attention_mask, dtype='int32')"
   ]
  },
  {
   "cell_type": "code",
   "execution_count": null,
   "metadata": {
    "id": "NX8ghh5w_lkb"
   },
   "outputs": [],
   "source": [
    "easy_dev_input_ids = np.asarray(easy_dev_input_ids, dtype='int32')\n",
    "easy_dev_attention_mask = np.asarray(easy_dev_attention_mask, dtype='int32')"
   ]
  },
  {
   "cell_type": "code",
   "execution_count": null,
   "metadata": {
    "id": "p-PmbjqL_lkb"
   },
   "outputs": [],
   "source": [
    "easy_test_input_ids = np.asarray(easy_test_input_ids, dtype='int32')\n",
    "easy_test_attention_mask = np.asarray(easy_test_attention_mask, dtype='int32')"
   ]
  },
  {
   "cell_type": "code",
   "execution_count": null,
   "metadata": {
    "id": "o1ROi78B_lkb"
   },
   "outputs": [],
   "source": [
    "np.save('/content/drive/MyDrive/ARC/XLNet files/easy_train_input_ids', easy_train_input_ids)\n",
    "np.save('/content/drive/MyDrive/ARC/XLNet files/easy_train_attention_mask', easy_train_attention_mask)"
   ]
  },
  {
   "cell_type": "code",
   "execution_count": null,
   "metadata": {
    "id": "RQU2N3kY_lkc"
   },
   "outputs": [],
   "source": [
    "np.save('/content/drive/MyDrive/ARC/XLNet files/easy_dev_input_ids', easy_dev_input_ids)\n",
    "np.save('/content/drive/MyDrive/ARC/XLNet files/easy_dev_attention_mask', easy_dev_attention_mask)"
   ]
  },
  {
   "cell_type": "code",
   "execution_count": null,
   "metadata": {
    "id": "2gspwgyz_lkc"
   },
   "outputs": [],
   "source": [
    "np.save('/content/drive/MyDrive/ARC/XLNet files/easy_test_input_ids', easy_test_input_ids)\n",
    "np.save('/content/drive/MyDrive/ARC/XLNet files/easy_test_attention_mask', easy_test_attention_mask)"
   ]
  },
  {
   "cell_type": "markdown",
   "metadata": {
    "id": "AN8ImCZe_lkd"
   },
   "source": [
    "### Training XLNet."
   ]
  },
  {
   "cell_type": "code",
   "execution_count": null,
   "metadata": {
    "id": "8hJVq_qT_lkd"
   },
   "outputs": [],
   "source": [
    "easy_train_input_ids = np.load('/content/drive/MyDrive/ARC/XLNet files/easy_train_input_ids.npy')\n",
    "easy_train_attention_mask = np.load('/content/drive/MyDrive/ARC/XLNet files/easy_train_attention_mask.npy')"
   ]
  },
  {
   "cell_type": "code",
   "execution_count": null,
   "metadata": {
    "id": "EZzxnwpK_lkd"
   },
   "outputs": [],
   "source": [
    "easy_dev_input_ids = np.load('/content/drive/MyDrive/ARC/XLNet files/easy_dev_input_ids.npy')\n",
    "easy_dev_attention_mask = np.load('/content/drive/MyDrive/ARC/XLNet files/easy_dev_attention_mask.npy')"
   ]
  },
  {
   "cell_type": "code",
   "execution_count": null,
   "metadata": {
    "id": "EySonRaq_lkd"
   },
   "outputs": [],
   "source": [
    "easy_test_input_ids = np.load('/content/drive/MyDrive/ARC/XLNet files/easy_test_input_ids.npy')\n",
    "easy_test_attention_mask = np.load('/content/drive/MyDrive/ARC/XLNet files/easy_test_attention_mask.npy')"
   ]
  },
  {
   "cell_type": "code",
   "execution_count": null,
   "metadata": {
    "id": "8ezXOof8_lke"
   },
   "outputs": [],
   "source": [
    "from transformers import TFXLNetForMultipleChoice"
   ]
  },
  {
   "cell_type": "code",
   "execution_count": null,
   "metadata": {
    "colab": {
     "base_uri": "https://localhost:8080/"
    },
    "id": "zQGQFb7W_lke",
    "outputId": "e19356a0-53a9-4204-cf88-38568df9b2bd"
   },
   "outputs": [
    {
     "name": "stderr",
     "output_type": "stream",
     "text": [
      "WARNING:absl:`tf.distribute.experimental.TPUStrategy` is deprecated, please use  the non experimental symbol `tf.distribute.TPUStrategy` instead.\n"
     ]
    },
    {
     "name": "stdout",
     "output_type": "stream",
     "text": [
      "INFO:tensorflow:Found TPU system:\n"
     ]
    },
    {
     "name": "stderr",
     "output_type": "stream",
     "text": [
      "INFO:tensorflow:Found TPU system:\n"
     ]
    },
    {
     "name": "stdout",
     "output_type": "stream",
     "text": [
      "INFO:tensorflow:*** Num TPU Cores: 8\n"
     ]
    },
    {
     "name": "stderr",
     "output_type": "stream",
     "text": [
      "INFO:tensorflow:*** Num TPU Cores: 8\n"
     ]
    },
    {
     "name": "stdout",
     "output_type": "stream",
     "text": [
      "INFO:tensorflow:*** Num TPU Workers: 1\n"
     ]
    },
    {
     "name": "stderr",
     "output_type": "stream",
     "text": [
      "INFO:tensorflow:*** Num TPU Workers: 1\n"
     ]
    },
    {
     "name": "stdout",
     "output_type": "stream",
     "text": [
      "INFO:tensorflow:*** Num TPU Cores Per Worker: 8\n"
     ]
    },
    {
     "name": "stderr",
     "output_type": "stream",
     "text": [
      "INFO:tensorflow:*** Num TPU Cores Per Worker: 8\n"
     ]
    },
    {
     "name": "stdout",
     "output_type": "stream",
     "text": [
      "INFO:tensorflow:*** Available Device: _DeviceAttributes(/job:localhost/replica:0/task:0/device:CPU:0, CPU, 0, 0)\n"
     ]
    },
    {
     "name": "stderr",
     "output_type": "stream",
     "text": [
      "INFO:tensorflow:*** Available Device: _DeviceAttributes(/job:localhost/replica:0/task:0/device:CPU:0, CPU, 0, 0)\n"
     ]
    },
    {
     "name": "stdout",
     "output_type": "stream",
     "text": [
      "INFO:tensorflow:*** Available Device: _DeviceAttributes(/job:localhost/replica:0/task:0/device:XLA_CPU:0, XLA_CPU, 0, 0)\n"
     ]
    },
    {
     "name": "stderr",
     "output_type": "stream",
     "text": [
      "INFO:tensorflow:*** Available Device: _DeviceAttributes(/job:localhost/replica:0/task:0/device:XLA_CPU:0, XLA_CPU, 0, 0)\n"
     ]
    },
    {
     "name": "stdout",
     "output_type": "stream",
     "text": [
      "INFO:tensorflow:*** Available Device: _DeviceAttributes(/job:worker/replica:0/task:0/device:CPU:0, CPU, 0, 0)\n"
     ]
    },
    {
     "name": "stderr",
     "output_type": "stream",
     "text": [
      "INFO:tensorflow:*** Available Device: _DeviceAttributes(/job:worker/replica:0/task:0/device:CPU:0, CPU, 0, 0)\n"
     ]
    },
    {
     "name": "stdout",
     "output_type": "stream",
     "text": [
      "INFO:tensorflow:*** Available Device: _DeviceAttributes(/job:worker/replica:0/task:0/device:TPU:0, TPU, 0, 0)\n"
     ]
    },
    {
     "name": "stderr",
     "output_type": "stream",
     "text": [
      "INFO:tensorflow:*** Available Device: _DeviceAttributes(/job:worker/replica:0/task:0/device:TPU:0, TPU, 0, 0)\n"
     ]
    },
    {
     "name": "stdout",
     "output_type": "stream",
     "text": [
      "INFO:tensorflow:*** Available Device: _DeviceAttributes(/job:worker/replica:0/task:0/device:TPU:1, TPU, 0, 0)\n"
     ]
    },
    {
     "name": "stderr",
     "output_type": "stream",
     "text": [
      "INFO:tensorflow:*** Available Device: _DeviceAttributes(/job:worker/replica:0/task:0/device:TPU:1, TPU, 0, 0)\n"
     ]
    },
    {
     "name": "stdout",
     "output_type": "stream",
     "text": [
      "INFO:tensorflow:*** Available Device: _DeviceAttributes(/job:worker/replica:0/task:0/device:TPU:2, TPU, 0, 0)\n"
     ]
    },
    {
     "name": "stderr",
     "output_type": "stream",
     "text": [
      "INFO:tensorflow:*** Available Device: _DeviceAttributes(/job:worker/replica:0/task:0/device:TPU:2, TPU, 0, 0)\n"
     ]
    },
    {
     "name": "stdout",
     "output_type": "stream",
     "text": [
      "INFO:tensorflow:*** Available Device: _DeviceAttributes(/job:worker/replica:0/task:0/device:TPU:3, TPU, 0, 0)\n"
     ]
    },
    {
     "name": "stderr",
     "output_type": "stream",
     "text": [
      "INFO:tensorflow:*** Available Device: _DeviceAttributes(/job:worker/replica:0/task:0/device:TPU:3, TPU, 0, 0)\n"
     ]
    },
    {
     "name": "stdout",
     "output_type": "stream",
     "text": [
      "INFO:tensorflow:*** Available Device: _DeviceAttributes(/job:worker/replica:0/task:0/device:TPU:4, TPU, 0, 0)\n"
     ]
    },
    {
     "name": "stderr",
     "output_type": "stream",
     "text": [
      "INFO:tensorflow:*** Available Device: _DeviceAttributes(/job:worker/replica:0/task:0/device:TPU:4, TPU, 0, 0)\n"
     ]
    },
    {
     "name": "stdout",
     "output_type": "stream",
     "text": [
      "INFO:tensorflow:*** Available Device: _DeviceAttributes(/job:worker/replica:0/task:0/device:TPU:5, TPU, 0, 0)\n"
     ]
    },
    {
     "name": "stderr",
     "output_type": "stream",
     "text": [
      "INFO:tensorflow:*** Available Device: _DeviceAttributes(/job:worker/replica:0/task:0/device:TPU:5, TPU, 0, 0)\n"
     ]
    },
    {
     "name": "stdout",
     "output_type": "stream",
     "text": [
      "INFO:tensorflow:*** Available Device: _DeviceAttributes(/job:worker/replica:0/task:0/device:TPU:6, TPU, 0, 0)\n"
     ]
    },
    {
     "name": "stderr",
     "output_type": "stream",
     "text": [
      "INFO:tensorflow:*** Available Device: _DeviceAttributes(/job:worker/replica:0/task:0/device:TPU:6, TPU, 0, 0)\n"
     ]
    },
    {
     "name": "stdout",
     "output_type": "stream",
     "text": [
      "INFO:tensorflow:*** Available Device: _DeviceAttributes(/job:worker/replica:0/task:0/device:TPU:7, TPU, 0, 0)\n"
     ]
    },
    {
     "name": "stderr",
     "output_type": "stream",
     "text": [
      "INFO:tensorflow:*** Available Device: _DeviceAttributes(/job:worker/replica:0/task:0/device:TPU:7, TPU, 0, 0)\n"
     ]
    },
    {
     "name": "stdout",
     "output_type": "stream",
     "text": [
      "INFO:tensorflow:*** Available Device: _DeviceAttributes(/job:worker/replica:0/task:0/device:TPU_SYSTEM:0, TPU_SYSTEM, 0, 0)\n"
     ]
    },
    {
     "name": "stderr",
     "output_type": "stream",
     "text": [
      "INFO:tensorflow:*** Available Device: _DeviceAttributes(/job:worker/replica:0/task:0/device:TPU_SYSTEM:0, TPU_SYSTEM, 0, 0)\n"
     ]
    },
    {
     "name": "stdout",
     "output_type": "stream",
     "text": [
      "INFO:tensorflow:*** Available Device: _DeviceAttributes(/job:worker/replica:0/task:0/device:XLA_CPU:0, XLA_CPU, 0, 0)\n"
     ]
    },
    {
     "name": "stderr",
     "output_type": "stream",
     "text": [
      "INFO:tensorflow:*** Available Device: _DeviceAttributes(/job:worker/replica:0/task:0/device:XLA_CPU:0, XLA_CPU, 0, 0)\n"
     ]
    }
   ],
   "source": [
    "strategy = tf.distribute.experimental.TPUStrategy(resolver)"
   ]
  },
  {
   "cell_type": "code",
   "execution_count": null,
   "metadata": {
    "id": "aa63PUnFgnqR"
   },
   "outputs": [],
   "source": [
    "easy_train_dict = {'input_ids':easy_train_input_ids,\n",
    "                   'attention_mask':easy_train_attention_mask}\n",
    "\n",
    "viola = tf.data.Dataset.from_tensor_slices((easy_train_dict,tf.keras.utils.to_categorical(easy_train_labels.values)))"
   ]
  },
  {
   "cell_type": "code",
   "execution_count": null,
   "metadata": {
    "id": "TLBEyC77hJZq"
   },
   "outputs": [],
   "source": [
    "viola = viola.shuffle(32).batch(8).cache().prefetch(tf.data.experimental.AUTOTUNE)"
   ]
  },
  {
   "cell_type": "code",
   "execution_count": null,
   "metadata": {
    "id": "gDhNaZddXN7n"
   },
   "outputs": [],
   "source": [
    "easy_dev_dict = {'input_ids':easy_dev_input_ids,\n",
    "                   'attention_mask':easy_dev_attention_mask}\n",
    "\n",
    "viola_dev = tf.data.Dataset.from_tensor_slices((easy_dev_dict,tf.keras.utils.to_categorical(easy_dev_labels.values, num_classes=5)))"
   ]
  },
  {
   "cell_type": "code",
   "execution_count": null,
   "metadata": {
    "id": "M3ARhMzXXZvi"
   },
   "outputs": [],
   "source": [
    "viola_dev = viola_dev.shuffle(32).batch(8).cache().prefetch(tf.data.experimental.AUTOTUNE)"
   ]
  },
  {
   "cell_type": "code",
   "execution_count": null,
   "metadata": {
    "colab": {
     "base_uri": "https://localhost:8080/"
    },
    "id": "sGZ-11uj_lkf",
    "outputId": "a6a8a0de-8208-451f-e29a-617d627cdc4e"
   },
   "outputs": [
    {
     "ename": "InvalidArgumentError",
     "evalue": "ignored",
     "output_type": "error",
     "traceback": [
      "\u001b[0;31m---------------------------------------------------------------------------\u001b[0m",
      "\u001b[0;31mInvalidArgumentError\u001b[0m                      Traceback (most recent call last)",
      "\u001b[0;32m<ipython-input-20-ffc63ab0b7e8>\u001b[0m in \u001b[0;36m<module>\u001b[0;34m()\u001b[0m\n\u001b[1;32m      1\u001b[0m \u001b[0;32mwith\u001b[0m \u001b[0mstrategy\u001b[0m\u001b[0;34m.\u001b[0m\u001b[0mscope\u001b[0m\u001b[0;34m(\u001b[0m\u001b[0;34m)\u001b[0m\u001b[0;34m:\u001b[0m\u001b[0;34m\u001b[0m\u001b[0;34m\u001b[0m\u001b[0m\n\u001b[0;32m----> 2\u001b[0;31m     \u001b[0mpre_trained_model\u001b[0m \u001b[0;34m=\u001b[0m \u001b[0mTFXLNetForMultipleChoice\u001b[0m\u001b[0;34m.\u001b[0m\u001b[0mfrom_pretrained\u001b[0m\u001b[0;34m(\u001b[0m\u001b[0;34m'/content/drive/MyDrive/XLNet model'\u001b[0m\u001b[0;34m,\u001b[0m \u001b[0mreturn_dict\u001b[0m\u001b[0;34m=\u001b[0m\u001b[0;32mTrue\u001b[0m\u001b[0;34m)\u001b[0m\u001b[0;34m\u001b[0m\u001b[0;34m\u001b[0m\u001b[0m\n\u001b[0m\u001b[1;32m      3\u001b[0m \u001b[0;34m\u001b[0m\u001b[0m\n\u001b[1;32m      4\u001b[0m     \u001b[0mmodel_input_ids\u001b[0m \u001b[0;34m=\u001b[0m \u001b[0mInput\u001b[0m\u001b[0;34m(\u001b[0m\u001b[0mshape\u001b[0m\u001b[0;34m=\u001b[0m\u001b[0;34m(\u001b[0m\u001b[0;36m5\u001b[0m\u001b[0;34m,\u001b[0m\u001b[0;36m512\u001b[0m\u001b[0;34m,\u001b[0m\u001b[0;34m)\u001b[0m\u001b[0;34m,\u001b[0m \u001b[0mname\u001b[0m\u001b[0;34m=\u001b[0m\u001b[0;34m'input_tokens'\u001b[0m\u001b[0;34m,\u001b[0m \u001b[0mdtype\u001b[0m\u001b[0;34m=\u001b[0m\u001b[0;34m'int32'\u001b[0m\u001b[0;34m)\u001b[0m\u001b[0;34m\u001b[0m\u001b[0;34m\u001b[0m\u001b[0m\n\u001b[1;32m      5\u001b[0m     \u001b[0mmasks_input\u001b[0m \u001b[0;34m=\u001b[0m \u001b[0mInput\u001b[0m\u001b[0;34m(\u001b[0m\u001b[0mshape\u001b[0m\u001b[0;34m=\u001b[0m\u001b[0;34m(\u001b[0m\u001b[0;36m5\u001b[0m\u001b[0;34m,\u001b[0m\u001b[0;36m512\u001b[0m\u001b[0;34m,\u001b[0m\u001b[0;34m)\u001b[0m\u001b[0;34m,\u001b[0m \u001b[0mname\u001b[0m\u001b[0;34m=\u001b[0m\u001b[0;34m'attention_mask'\u001b[0m\u001b[0;34m,\u001b[0m \u001b[0mdtype\u001b[0m\u001b[0;34m=\u001b[0m\u001b[0;34m'int32'\u001b[0m\u001b[0;34m)\u001b[0m\u001b[0;34m\u001b[0m\u001b[0;34m\u001b[0m\u001b[0m\n",
      "\u001b[0;32m/usr/local/lib/python3.6/dist-packages/transformers/modeling_tf_utils.py\u001b[0m in \u001b[0;36mfrom_pretrained\u001b[0;34m(cls, pretrained_model_name_or_path, *model_args, **kwargs)\u001b[0m\n\u001b[1;32m    720\u001b[0m \u001b[0;34m\u001b[0m\u001b[0m\n\u001b[1;32m    721\u001b[0m         \u001b[0;31m# Instantiate model.\u001b[0m\u001b[0;34m\u001b[0m\u001b[0;34m\u001b[0m\u001b[0;34m\u001b[0m\u001b[0m\n\u001b[0;32m--> 722\u001b[0;31m         \u001b[0mmodel\u001b[0m \u001b[0;34m=\u001b[0m \u001b[0mcls\u001b[0m\u001b[0;34m(\u001b[0m\u001b[0mconfig\u001b[0m\u001b[0;34m,\u001b[0m \u001b[0;34m*\u001b[0m\u001b[0mmodel_args\u001b[0m\u001b[0;34m,\u001b[0m \u001b[0;34m**\u001b[0m\u001b[0mmodel_kwargs\u001b[0m\u001b[0;34m)\u001b[0m\u001b[0;34m\u001b[0m\u001b[0;34m\u001b[0m\u001b[0m\n\u001b[0m\u001b[1;32m    723\u001b[0m \u001b[0;34m\u001b[0m\u001b[0m\n\u001b[1;32m    724\u001b[0m         \u001b[0;32mif\u001b[0m \u001b[0mfrom_pt\u001b[0m\u001b[0;34m:\u001b[0m\u001b[0;34m\u001b[0m\u001b[0;34m\u001b[0m\u001b[0m\n",
      "\u001b[0;32m/usr/local/lib/python3.6/dist-packages/transformers/models/xlnet/modeling_tf_xlnet.py\u001b[0m in \u001b[0;36m__init__\u001b[0;34m(self, config, *inputs, **kwargs)\u001b[0m\n\u001b[1;32m   1415\u001b[0m \u001b[0;32mclass\u001b[0m \u001b[0mTFXLNetForMultipleChoice\u001b[0m\u001b[0;34m(\u001b[0m\u001b[0mTFXLNetPreTrainedModel\u001b[0m\u001b[0;34m,\u001b[0m \u001b[0mTFMultipleChoiceLoss\u001b[0m\u001b[0;34m)\u001b[0m\u001b[0;34m:\u001b[0m\u001b[0;34m\u001b[0m\u001b[0;34m\u001b[0m\u001b[0m\n\u001b[1;32m   1416\u001b[0m     \u001b[0;32mdef\u001b[0m \u001b[0m__init__\u001b[0m\u001b[0;34m(\u001b[0m\u001b[0mself\u001b[0m\u001b[0;34m,\u001b[0m \u001b[0mconfig\u001b[0m\u001b[0;34m,\u001b[0m \u001b[0;34m*\u001b[0m\u001b[0minputs\u001b[0m\u001b[0;34m,\u001b[0m \u001b[0;34m**\u001b[0m\u001b[0mkwargs\u001b[0m\u001b[0;34m)\u001b[0m\u001b[0;34m:\u001b[0m\u001b[0;34m\u001b[0m\u001b[0;34m\u001b[0m\u001b[0m\n\u001b[0;32m-> 1417\u001b[0;31m         \u001b[0msuper\u001b[0m\u001b[0;34m(\u001b[0m\u001b[0;34m)\u001b[0m\u001b[0;34m.\u001b[0m\u001b[0m__init__\u001b[0m\u001b[0;34m(\u001b[0m\u001b[0mconfig\u001b[0m\u001b[0;34m,\u001b[0m \u001b[0;34m*\u001b[0m\u001b[0minputs\u001b[0m\u001b[0;34m,\u001b[0m \u001b[0;34m**\u001b[0m\u001b[0mkwargs\u001b[0m\u001b[0;34m)\u001b[0m\u001b[0;34m\u001b[0m\u001b[0;34m\u001b[0m\u001b[0m\n\u001b[0m\u001b[1;32m   1418\u001b[0m \u001b[0;34m\u001b[0m\u001b[0m\n\u001b[1;32m   1419\u001b[0m         \u001b[0mself\u001b[0m\u001b[0;34m.\u001b[0m\u001b[0mtransformer\u001b[0m \u001b[0;34m=\u001b[0m \u001b[0mTFXLNetMainLayer\u001b[0m\u001b[0;34m(\u001b[0m\u001b[0mconfig\u001b[0m\u001b[0;34m,\u001b[0m \u001b[0mname\u001b[0m\u001b[0;34m=\u001b[0m\u001b[0;34m\"transformer\"\u001b[0m\u001b[0;34m)\u001b[0m\u001b[0;34m\u001b[0m\u001b[0;34m\u001b[0m\u001b[0m\n",
      "\u001b[0;32m/usr/local/lib/python3.6/dist-packages/transformers/modeling_tf_utils.py\u001b[0m in \u001b[0;36m__init__\u001b[0;34m(self, config, *inputs, **kwargs)\u001b[0m\n\u001b[1;32m    365\u001b[0m \u001b[0;34m\u001b[0m\u001b[0m\n\u001b[1;32m    366\u001b[0m     \u001b[0;32mdef\u001b[0m \u001b[0m__init__\u001b[0m\u001b[0;34m(\u001b[0m\u001b[0mself\u001b[0m\u001b[0;34m,\u001b[0m \u001b[0mconfig\u001b[0m\u001b[0;34m,\u001b[0m \u001b[0;34m*\u001b[0m\u001b[0minputs\u001b[0m\u001b[0;34m,\u001b[0m \u001b[0;34m**\u001b[0m\u001b[0mkwargs\u001b[0m\u001b[0;34m)\u001b[0m\u001b[0;34m:\u001b[0m\u001b[0;34m\u001b[0m\u001b[0;34m\u001b[0m\u001b[0m\n\u001b[0;32m--> 367\u001b[0;31m         \u001b[0msuper\u001b[0m\u001b[0;34m(\u001b[0m\u001b[0;34m)\u001b[0m\u001b[0;34m.\u001b[0m\u001b[0m__init__\u001b[0m\u001b[0;34m(\u001b[0m\u001b[0;34m*\u001b[0m\u001b[0minputs\u001b[0m\u001b[0;34m,\u001b[0m \u001b[0;34m**\u001b[0m\u001b[0mkwargs\u001b[0m\u001b[0;34m)\u001b[0m\u001b[0;34m\u001b[0m\u001b[0;34m\u001b[0m\u001b[0m\n\u001b[0m\u001b[1;32m    368\u001b[0m         \u001b[0;32mif\u001b[0m \u001b[0;32mnot\u001b[0m \u001b[0misinstance\u001b[0m\u001b[0;34m(\u001b[0m\u001b[0mconfig\u001b[0m\u001b[0;34m,\u001b[0m \u001b[0mPretrainedConfig\u001b[0m\u001b[0;34m)\u001b[0m\u001b[0;34m:\u001b[0m\u001b[0;34m\u001b[0m\u001b[0;34m\u001b[0m\u001b[0m\n\u001b[1;32m    369\u001b[0m             raise ValueError(\n",
      "\u001b[0;32m/usr/local/lib/python3.6/dist-packages/tensorflow/python/training/tracking/base.py\u001b[0m in \u001b[0;36m_method_wrapper\u001b[0;34m(self, *args, **kwargs)\u001b[0m\n\u001b[1;32m    455\u001b[0m     \u001b[0mself\u001b[0m\u001b[0;34m.\u001b[0m\u001b[0m_self_setattr_tracking\u001b[0m \u001b[0;34m=\u001b[0m \u001b[0;32mFalse\u001b[0m  \u001b[0;31m# pylint: disable=protected-access\u001b[0m\u001b[0;34m\u001b[0m\u001b[0;34m\u001b[0m\u001b[0m\n\u001b[1;32m    456\u001b[0m     \u001b[0;32mtry\u001b[0m\u001b[0;34m:\u001b[0m\u001b[0;34m\u001b[0m\u001b[0;34m\u001b[0m\u001b[0m\n\u001b[0;32m--> 457\u001b[0;31m       \u001b[0mresult\u001b[0m \u001b[0;34m=\u001b[0m \u001b[0mmethod\u001b[0m\u001b[0;34m(\u001b[0m\u001b[0mself\u001b[0m\u001b[0;34m,\u001b[0m \u001b[0;34m*\u001b[0m\u001b[0margs\u001b[0m\u001b[0;34m,\u001b[0m \u001b[0;34m**\u001b[0m\u001b[0mkwargs\u001b[0m\u001b[0;34m)\u001b[0m\u001b[0;34m\u001b[0m\u001b[0;34m\u001b[0m\u001b[0m\n\u001b[0m\u001b[1;32m    458\u001b[0m     \u001b[0;32mfinally\u001b[0m\u001b[0;34m:\u001b[0m\u001b[0;34m\u001b[0m\u001b[0;34m\u001b[0m\u001b[0m\n\u001b[1;32m    459\u001b[0m       \u001b[0mself\u001b[0m\u001b[0;34m.\u001b[0m\u001b[0m_self_setattr_tracking\u001b[0m \u001b[0;34m=\u001b[0m \u001b[0mprevious_value\u001b[0m  \u001b[0;31m# pylint: disable=protected-access\u001b[0m\u001b[0;34m\u001b[0m\u001b[0;34m\u001b[0m\u001b[0m\n",
      "\u001b[0;32m/usr/local/lib/python3.6/dist-packages/tensorflow/python/keras/engine/training.py\u001b[0m in \u001b[0;36m__init__\u001b[0;34m(self, *args, **kwargs)\u001b[0m\n\u001b[1;32m    306\u001b[0m     \u001b[0mself\u001b[0m\u001b[0;34m.\u001b[0m\u001b[0m_steps_per_execution\u001b[0m \u001b[0;34m=\u001b[0m \u001b[0;32mNone\u001b[0m\u001b[0;34m\u001b[0m\u001b[0;34m\u001b[0m\u001b[0m\n\u001b[1;32m    307\u001b[0m \u001b[0;34m\u001b[0m\u001b[0m\n\u001b[0;32m--> 308\u001b[0;31m     \u001b[0mself\u001b[0m\u001b[0;34m.\u001b[0m\u001b[0m_init_batch_counters\u001b[0m\u001b[0;34m(\u001b[0m\u001b[0;34m)\u001b[0m\u001b[0;34m\u001b[0m\u001b[0;34m\u001b[0m\u001b[0m\n\u001b[0m\u001b[1;32m    309\u001b[0m     \u001b[0mself\u001b[0m\u001b[0;34m.\u001b[0m\u001b[0m_base_model_initialized\u001b[0m \u001b[0;34m=\u001b[0m \u001b[0;32mTrue\u001b[0m\u001b[0;34m\u001b[0m\u001b[0;34m\u001b[0m\u001b[0m\n\u001b[1;32m    310\u001b[0m     \u001b[0m_keras_api_gauge\u001b[0m\u001b[0;34m.\u001b[0m\u001b[0mget_cell\u001b[0m\u001b[0;34m(\u001b[0m\u001b[0;34m'model'\u001b[0m\u001b[0;34m)\u001b[0m\u001b[0;34m.\u001b[0m\u001b[0mset\u001b[0m\u001b[0;34m(\u001b[0m\u001b[0;32mTrue\u001b[0m\u001b[0;34m)\u001b[0m\u001b[0;34m\u001b[0m\u001b[0;34m\u001b[0m\u001b[0m\n",
      "\u001b[0;32m/usr/local/lib/python3.6/dist-packages/tensorflow/python/training/tracking/base.py\u001b[0m in \u001b[0;36m_method_wrapper\u001b[0;34m(self, *args, **kwargs)\u001b[0m\n\u001b[1;32m    455\u001b[0m     \u001b[0mself\u001b[0m\u001b[0;34m.\u001b[0m\u001b[0m_self_setattr_tracking\u001b[0m \u001b[0;34m=\u001b[0m \u001b[0;32mFalse\u001b[0m  \u001b[0;31m# pylint: disable=protected-access\u001b[0m\u001b[0;34m\u001b[0m\u001b[0;34m\u001b[0m\u001b[0m\n\u001b[1;32m    456\u001b[0m     \u001b[0;32mtry\u001b[0m\u001b[0;34m:\u001b[0m\u001b[0;34m\u001b[0m\u001b[0;34m\u001b[0m\u001b[0m\n\u001b[0;32m--> 457\u001b[0;31m       \u001b[0mresult\u001b[0m \u001b[0;34m=\u001b[0m \u001b[0mmethod\u001b[0m\u001b[0;34m(\u001b[0m\u001b[0mself\u001b[0m\u001b[0;34m,\u001b[0m \u001b[0;34m*\u001b[0m\u001b[0margs\u001b[0m\u001b[0;34m,\u001b[0m \u001b[0;34m**\u001b[0m\u001b[0mkwargs\u001b[0m\u001b[0;34m)\u001b[0m\u001b[0;34m\u001b[0m\u001b[0;34m\u001b[0m\u001b[0m\n\u001b[0m\u001b[1;32m    458\u001b[0m     \u001b[0;32mfinally\u001b[0m\u001b[0;34m:\u001b[0m\u001b[0;34m\u001b[0m\u001b[0;34m\u001b[0m\u001b[0m\n\u001b[1;32m    459\u001b[0m       \u001b[0mself\u001b[0m\u001b[0;34m.\u001b[0m\u001b[0m_self_setattr_tracking\u001b[0m \u001b[0;34m=\u001b[0m \u001b[0mprevious_value\u001b[0m  \u001b[0;31m# pylint: disable=protected-access\u001b[0m\u001b[0;34m\u001b[0m\u001b[0;34m\u001b[0m\u001b[0m\n",
      "\u001b[0;32m/usr/local/lib/python3.6/dist-packages/tensorflow/python/keras/engine/training.py\u001b[0m in \u001b[0;36m_init_batch_counters\u001b[0;34m(self)\u001b[0m\n\u001b[1;32m    315\u001b[0m     \u001b[0;31m# `evaluate`, and `predict`.\u001b[0m\u001b[0;34m\u001b[0m\u001b[0;34m\u001b[0m\u001b[0;34m\u001b[0m\u001b[0m\n\u001b[1;32m    316\u001b[0m     \u001b[0magg\u001b[0m \u001b[0;34m=\u001b[0m \u001b[0mvariables\u001b[0m\u001b[0;34m.\u001b[0m\u001b[0mVariableAggregationV2\u001b[0m\u001b[0;34m.\u001b[0m\u001b[0mONLY_FIRST_REPLICA\u001b[0m\u001b[0;34m\u001b[0m\u001b[0;34m\u001b[0m\u001b[0m\n\u001b[0;32m--> 317\u001b[0;31m     \u001b[0mself\u001b[0m\u001b[0;34m.\u001b[0m\u001b[0m_train_counter\u001b[0m \u001b[0;34m=\u001b[0m \u001b[0mvariables\u001b[0m\u001b[0;34m.\u001b[0m\u001b[0mVariable\u001b[0m\u001b[0;34m(\u001b[0m\u001b[0;36m0\u001b[0m\u001b[0;34m,\u001b[0m \u001b[0mdtype\u001b[0m\u001b[0;34m=\u001b[0m\u001b[0;34m'int64'\u001b[0m\u001b[0;34m,\u001b[0m \u001b[0maggregation\u001b[0m\u001b[0;34m=\u001b[0m\u001b[0magg\u001b[0m\u001b[0;34m)\u001b[0m\u001b[0;34m\u001b[0m\u001b[0;34m\u001b[0m\u001b[0m\n\u001b[0m\u001b[1;32m    318\u001b[0m     \u001b[0mself\u001b[0m\u001b[0;34m.\u001b[0m\u001b[0m_test_counter\u001b[0m \u001b[0;34m=\u001b[0m \u001b[0mvariables\u001b[0m\u001b[0;34m.\u001b[0m\u001b[0mVariable\u001b[0m\u001b[0;34m(\u001b[0m\u001b[0;36m0\u001b[0m\u001b[0;34m,\u001b[0m \u001b[0mdtype\u001b[0m\u001b[0;34m=\u001b[0m\u001b[0;34m'int64'\u001b[0m\u001b[0;34m,\u001b[0m \u001b[0maggregation\u001b[0m\u001b[0;34m=\u001b[0m\u001b[0magg\u001b[0m\u001b[0;34m)\u001b[0m\u001b[0;34m\u001b[0m\u001b[0;34m\u001b[0m\u001b[0m\n\u001b[1;32m    319\u001b[0m     self._predict_counter = variables.Variable(\n",
      "\u001b[0;32m/usr/local/lib/python3.6/dist-packages/tensorflow/python/ops/variables.py\u001b[0m in \u001b[0;36m__call__\u001b[0;34m(cls, *args, **kwargs)\u001b[0m\n\u001b[1;32m    260\u001b[0m       \u001b[0;32mreturn\u001b[0m \u001b[0mcls\u001b[0m\u001b[0;34m.\u001b[0m\u001b[0m_variable_v1_call\u001b[0m\u001b[0;34m(\u001b[0m\u001b[0;34m*\u001b[0m\u001b[0margs\u001b[0m\u001b[0;34m,\u001b[0m \u001b[0;34m**\u001b[0m\u001b[0mkwargs\u001b[0m\u001b[0;34m)\u001b[0m\u001b[0;34m\u001b[0m\u001b[0;34m\u001b[0m\u001b[0m\n\u001b[1;32m    261\u001b[0m     \u001b[0;32melif\u001b[0m \u001b[0mcls\u001b[0m \u001b[0;32mis\u001b[0m \u001b[0mVariable\u001b[0m\u001b[0;34m:\u001b[0m\u001b[0;34m\u001b[0m\u001b[0;34m\u001b[0m\u001b[0m\n\u001b[0;32m--> 262\u001b[0;31m       \u001b[0;32mreturn\u001b[0m \u001b[0mcls\u001b[0m\u001b[0;34m.\u001b[0m\u001b[0m_variable_v2_call\u001b[0m\u001b[0;34m(\u001b[0m\u001b[0;34m*\u001b[0m\u001b[0margs\u001b[0m\u001b[0;34m,\u001b[0m \u001b[0;34m**\u001b[0m\u001b[0mkwargs\u001b[0m\u001b[0;34m)\u001b[0m\u001b[0;34m\u001b[0m\u001b[0;34m\u001b[0m\u001b[0m\n\u001b[0m\u001b[1;32m    263\u001b[0m     \u001b[0;32melse\u001b[0m\u001b[0;34m:\u001b[0m\u001b[0;34m\u001b[0m\u001b[0;34m\u001b[0m\u001b[0m\n\u001b[1;32m    264\u001b[0m       \u001b[0;32mreturn\u001b[0m \u001b[0msuper\u001b[0m\u001b[0;34m(\u001b[0m\u001b[0mVariableMetaclass\u001b[0m\u001b[0;34m,\u001b[0m \u001b[0mcls\u001b[0m\u001b[0;34m)\u001b[0m\u001b[0;34m.\u001b[0m\u001b[0m__call__\u001b[0m\u001b[0;34m(\u001b[0m\u001b[0;34m*\u001b[0m\u001b[0margs\u001b[0m\u001b[0;34m,\u001b[0m \u001b[0;34m**\u001b[0m\u001b[0mkwargs\u001b[0m\u001b[0;34m)\u001b[0m\u001b[0;34m\u001b[0m\u001b[0;34m\u001b[0m\u001b[0m\n",
      "\u001b[0;32m/usr/local/lib/python3.6/dist-packages/tensorflow/python/ops/variables.py\u001b[0m in \u001b[0;36m_variable_v2_call\u001b[0;34m(cls, initial_value, trainable, validate_shape, caching_device, name, variable_def, dtype, import_scope, constraint, synchronization, aggregation, shape)\u001b[0m\n\u001b[1;32m    254\u001b[0m         \u001b[0msynchronization\u001b[0m\u001b[0;34m=\u001b[0m\u001b[0msynchronization\u001b[0m\u001b[0;34m,\u001b[0m\u001b[0;34m\u001b[0m\u001b[0;34m\u001b[0m\u001b[0m\n\u001b[1;32m    255\u001b[0m         \u001b[0maggregation\u001b[0m\u001b[0;34m=\u001b[0m\u001b[0maggregation\u001b[0m\u001b[0;34m,\u001b[0m\u001b[0;34m\u001b[0m\u001b[0;34m\u001b[0m\u001b[0m\n\u001b[0;32m--> 256\u001b[0;31m         shape=shape)\n\u001b[0m\u001b[1;32m    257\u001b[0m \u001b[0;34m\u001b[0m\u001b[0m\n\u001b[1;32m    258\u001b[0m   \u001b[0;32mdef\u001b[0m \u001b[0m__call__\u001b[0m\u001b[0;34m(\u001b[0m\u001b[0mcls\u001b[0m\u001b[0;34m,\u001b[0m \u001b[0;34m*\u001b[0m\u001b[0margs\u001b[0m\u001b[0;34m,\u001b[0m \u001b[0;34m**\u001b[0m\u001b[0mkwargs\u001b[0m\u001b[0;34m)\u001b[0m\u001b[0;34m:\u001b[0m\u001b[0;34m\u001b[0m\u001b[0;34m\u001b[0m\u001b[0m\n",
      "\u001b[0;32m/usr/local/lib/python3.6/dist-packages/tensorflow/python/ops/variables.py\u001b[0m in \u001b[0;36mgetter\u001b[0;34m(**kwargs)\u001b[0m\n\u001b[1;32m     65\u001b[0m \u001b[0;34m\u001b[0m\u001b[0m\n\u001b[1;32m     66\u001b[0m   \u001b[0;32mdef\u001b[0m \u001b[0mgetter\u001b[0m\u001b[0;34m(\u001b[0m\u001b[0;34m**\u001b[0m\u001b[0mkwargs\u001b[0m\u001b[0;34m)\u001b[0m\u001b[0;34m:\u001b[0m\u001b[0;34m\u001b[0m\u001b[0;34m\u001b[0m\u001b[0m\n\u001b[0;32m---> 67\u001b[0;31m     \u001b[0;32mreturn\u001b[0m \u001b[0mcaptured_getter\u001b[0m\u001b[0;34m(\u001b[0m\u001b[0mcaptured_previous\u001b[0m\u001b[0;34m,\u001b[0m \u001b[0;34m**\u001b[0m\u001b[0mkwargs\u001b[0m\u001b[0;34m)\u001b[0m\u001b[0;34m\u001b[0m\u001b[0;34m\u001b[0m\u001b[0m\n\u001b[0m\u001b[1;32m     68\u001b[0m \u001b[0;34m\u001b[0m\u001b[0m\n\u001b[1;32m     69\u001b[0m   \u001b[0;32mreturn\u001b[0m \u001b[0mgetter\u001b[0m\u001b[0;34m\u001b[0m\u001b[0;34m\u001b[0m\u001b[0m\n",
      "\u001b[0;32m/usr/local/lib/python3.6/dist-packages/tensorflow/python/distribute/distribute_lib.py\u001b[0m in \u001b[0;36mcreator_with_resource_vars\u001b[0;34m(next_creator, **kwargs)\u001b[0m\n\u001b[1;32m   2022\u001b[0m         \u001b[0mcheckpoint_restore_uid\u001b[0m \u001b[0;34m=\u001b[0m \u001b[0;32mNone\u001b[0m\u001b[0;34m\u001b[0m\u001b[0;34m\u001b[0m\u001b[0m\n\u001b[1;32m   2023\u001b[0m \u001b[0;34m\u001b[0m\u001b[0m\n\u001b[0;32m-> 2024\u001b[0;31m       \u001b[0mcreated\u001b[0m \u001b[0;34m=\u001b[0m \u001b[0mself\u001b[0m\u001b[0;34m.\u001b[0m\u001b[0m_create_variable\u001b[0m\u001b[0;34m(\u001b[0m\u001b[0mnext_creator\u001b[0m\u001b[0;34m,\u001b[0m \u001b[0;34m**\u001b[0m\u001b[0mkwargs\u001b[0m\u001b[0;34m)\u001b[0m\u001b[0;34m\u001b[0m\u001b[0;34m\u001b[0m\u001b[0m\n\u001b[0m\u001b[1;32m   2025\u001b[0m \u001b[0;34m\u001b[0m\u001b[0m\n\u001b[1;32m   2026\u001b[0m       \u001b[0;32mif\u001b[0m \u001b[0mcheckpoint_restore_uid\u001b[0m \u001b[0;32mis\u001b[0m \u001b[0;32mnot\u001b[0m \u001b[0;32mNone\u001b[0m\u001b[0;34m:\u001b[0m\u001b[0;34m\u001b[0m\u001b[0;34m\u001b[0m\u001b[0m\n",
      "\u001b[0;32m/usr/local/lib/python3.6/dist-packages/tensorflow/python/distribute/tpu_strategy.py\u001b[0m in \u001b[0;36m_create_variable\u001b[0;34m(self, next_creator, **kwargs)\u001b[0m\n\u001b[1;32m    868\u001b[0m         \u001b[0mself\u001b[0m\u001b[0;34m.\u001b[0m\u001b[0m_container_strategy\u001b[0m\u001b[0;34m(\u001b[0m\u001b[0;34m)\u001b[0m\u001b[0;34m,\u001b[0m \u001b[0m_real_mirrored_creator\u001b[0m\u001b[0;34m,\u001b[0m\u001b[0;34m\u001b[0m\u001b[0;34m\u001b[0m\u001b[0m\n\u001b[1;32m    869\u001b[0m         \u001b[0mtpu_values\u001b[0m\u001b[0;34m.\u001b[0m\u001b[0mTPUMirroredVariable\u001b[0m\u001b[0;34m,\u001b[0m \u001b[0mtpu_values\u001b[0m\u001b[0;34m.\u001b[0m\u001b[0mTPUSyncOnReadVariable\u001b[0m\u001b[0;34m,\u001b[0m\u001b[0;34m\u001b[0m\u001b[0;34m\u001b[0m\u001b[0m\n\u001b[0;32m--> 870\u001b[0;31m         **kwargs)\n\u001b[0m\u001b[1;32m    871\u001b[0m \u001b[0;34m\u001b[0m\u001b[0m\n\u001b[1;32m    872\u001b[0m   \u001b[0;32mdef\u001b[0m \u001b[0m_reduce_to\u001b[0m\u001b[0;34m(\u001b[0m\u001b[0mself\u001b[0m\u001b[0;34m,\u001b[0m \u001b[0mreduce_op\u001b[0m\u001b[0;34m,\u001b[0m \u001b[0mvalue\u001b[0m\u001b[0;34m,\u001b[0m \u001b[0mdestinations\u001b[0m\u001b[0;34m,\u001b[0m \u001b[0mexperimental_hints\u001b[0m\u001b[0;34m)\u001b[0m\u001b[0;34m:\u001b[0m\u001b[0;34m\u001b[0m\u001b[0;34m\u001b[0m\u001b[0m\n",
      "\u001b[0;32m/usr/local/lib/python3.6/dist-packages/tensorflow/python/distribute/distribute_utils.py\u001b[0m in \u001b[0;36mcreate_mirrored_variable\u001b[0;34m(strategy, real_mirrored_creator, mirrored_cls, sync_on_read_cls, **kwargs)\u001b[0m\n\u001b[1;32m    289\u001b[0m   \u001b[0;31m# here.\u001b[0m\u001b[0;34m\u001b[0m\u001b[0;34m\u001b[0m\u001b[0;34m\u001b[0m\u001b[0m\n\u001b[1;32m    290\u001b[0m   \u001b[0;32mwith\u001b[0m \u001b[0mtape\u001b[0m\u001b[0;34m.\u001b[0m\u001b[0mstop_recording\u001b[0m\u001b[0;34m(\u001b[0m\u001b[0;34m)\u001b[0m\u001b[0;34m:\u001b[0m\u001b[0;34m\u001b[0m\u001b[0;34m\u001b[0m\u001b[0m\n\u001b[0;32m--> 291\u001b[0;31m     \u001b[0mvalue_list\u001b[0m \u001b[0;34m=\u001b[0m \u001b[0mreal_mirrored_creator\u001b[0m\u001b[0;34m(\u001b[0m\u001b[0;34m**\u001b[0m\u001b[0mkwargs\u001b[0m\u001b[0;34m)\u001b[0m\u001b[0;34m\u001b[0m\u001b[0;34m\u001b[0m\u001b[0m\n\u001b[0m\u001b[1;32m    292\u001b[0m     \u001b[0mvar_cls\u001b[0m \u001b[0;34m=\u001b[0m \u001b[0msync_on_read_cls\u001b[0m \u001b[0;32mif\u001b[0m \u001b[0mis_sync_on_read\u001b[0m \u001b[0;32melse\u001b[0m \u001b[0mmirrored_cls\u001b[0m\u001b[0;34m\u001b[0m\u001b[0;34m\u001b[0m\u001b[0m\n\u001b[1;32m    293\u001b[0m     \u001b[0mresult\u001b[0m \u001b[0;34m=\u001b[0m \u001b[0mvar_cls\u001b[0m\u001b[0;34m(\u001b[0m\u001b[0mstrategy\u001b[0m\u001b[0;34m,\u001b[0m \u001b[0mvalue_list\u001b[0m\u001b[0;34m,\u001b[0m \u001b[0maggregation\u001b[0m\u001b[0;34m)\u001b[0m\u001b[0;34m\u001b[0m\u001b[0;34m\u001b[0m\u001b[0m\n",
      "\u001b[0;32m/usr/local/lib/python3.6/dist-packages/tensorflow/python/distribute/tpu_strategy.py\u001b[0m in \u001b[0;36m_real_mirrored_creator\u001b[0;34m(**kwargs)\u001b[0m\n\u001b[1;32m    859\u001b[0m \u001b[0;34m\u001b[0m\u001b[0m\n\u001b[1;32m    860\u001b[0m           \u001b[0;32mwith\u001b[0m \u001b[0mcontext\u001b[0m\u001b[0;34m.\u001b[0m\u001b[0mdevice_policy\u001b[0m\u001b[0;34m(\u001b[0m\u001b[0mcontext\u001b[0m\u001b[0;34m.\u001b[0m\u001b[0mDEVICE_PLACEMENT_SILENT\u001b[0m\u001b[0;34m)\u001b[0m\u001b[0;34m:\u001b[0m\u001b[0;34m\u001b[0m\u001b[0;34m\u001b[0m\u001b[0m\n\u001b[0;32m--> 861\u001b[0;31m             \u001b[0mv\u001b[0m \u001b[0;34m=\u001b[0m \u001b[0mnext_creator\u001b[0m\u001b[0;34m(\u001b[0m\u001b[0;34m**\u001b[0m\u001b[0mkwargs\u001b[0m\u001b[0;34m)\u001b[0m\u001b[0;34m\u001b[0m\u001b[0;34m\u001b[0m\u001b[0m\n\u001b[0m\u001b[1;32m    862\u001b[0m \u001b[0;34m\u001b[0m\u001b[0m\n\u001b[1;32m    863\u001b[0m           \u001b[0;32massert\u001b[0m \u001b[0;32mnot\u001b[0m \u001b[0misinstance\u001b[0m\u001b[0;34m(\u001b[0m\u001b[0mv\u001b[0m\u001b[0;34m,\u001b[0m \u001b[0mtpu_values\u001b[0m\u001b[0;34m.\u001b[0m\u001b[0mTPUMirroredVariable\u001b[0m\u001b[0;34m)\u001b[0m\u001b[0;34m\u001b[0m\u001b[0;34m\u001b[0m\u001b[0m\n",
      "\u001b[0;32m/usr/local/lib/python3.6/dist-packages/tensorflow/python/ops/variables.py\u001b[0m in \u001b[0;36m<lambda>\u001b[0;34m(**kws)\u001b[0m\n\u001b[1;32m    235\u001b[0m                         shape=None):\n\u001b[1;32m    236\u001b[0m     \u001b[0;34m\"\"\"Call on Variable class. Useful to force the signature.\"\"\"\u001b[0m\u001b[0;34m\u001b[0m\u001b[0;34m\u001b[0m\u001b[0m\n\u001b[0;32m--> 237\u001b[0;31m     \u001b[0mprevious_getter\u001b[0m \u001b[0;34m=\u001b[0m \u001b[0;32mlambda\u001b[0m \u001b[0;34m**\u001b[0m\u001b[0mkws\u001b[0m\u001b[0;34m:\u001b[0m \u001b[0mdefault_variable_creator_v2\u001b[0m\u001b[0;34m(\u001b[0m\u001b[0;32mNone\u001b[0m\u001b[0;34m,\u001b[0m \u001b[0;34m**\u001b[0m\u001b[0mkws\u001b[0m\u001b[0;34m)\u001b[0m\u001b[0;34m\u001b[0m\u001b[0;34m\u001b[0m\u001b[0m\n\u001b[0m\u001b[1;32m    238\u001b[0m     \u001b[0;32mfor\u001b[0m \u001b[0m_\u001b[0m\u001b[0;34m,\u001b[0m \u001b[0mgetter\u001b[0m \u001b[0;32min\u001b[0m \u001b[0mops\u001b[0m\u001b[0;34m.\u001b[0m\u001b[0mget_default_graph\u001b[0m\u001b[0;34m(\u001b[0m\u001b[0;34m)\u001b[0m\u001b[0;34m.\u001b[0m\u001b[0m_variable_creator_stack\u001b[0m\u001b[0;34m:\u001b[0m  \u001b[0;31m# pylint: disable=protected-access\u001b[0m\u001b[0;34m\u001b[0m\u001b[0;34m\u001b[0m\u001b[0m\n\u001b[1;32m    239\u001b[0m       \u001b[0mprevious_getter\u001b[0m \u001b[0;34m=\u001b[0m \u001b[0m_make_getter\u001b[0m\u001b[0;34m(\u001b[0m\u001b[0mgetter\u001b[0m\u001b[0;34m,\u001b[0m \u001b[0mprevious_getter\u001b[0m\u001b[0;34m)\u001b[0m\u001b[0;34m\u001b[0m\u001b[0;34m\u001b[0m\u001b[0m\n",
      "\u001b[0;32m/usr/local/lib/python3.6/dist-packages/tensorflow/python/ops/variable_scope.py\u001b[0m in \u001b[0;36mdefault_variable_creator_v2\u001b[0;34m(next_creator, **kwargs)\u001b[0m\n\u001b[1;32m   2644\u001b[0m       \u001b[0msynchronization\u001b[0m\u001b[0;34m=\u001b[0m\u001b[0msynchronization\u001b[0m\u001b[0;34m,\u001b[0m\u001b[0;34m\u001b[0m\u001b[0;34m\u001b[0m\u001b[0m\n\u001b[1;32m   2645\u001b[0m       \u001b[0maggregation\u001b[0m\u001b[0;34m=\u001b[0m\u001b[0maggregation\u001b[0m\u001b[0;34m,\u001b[0m\u001b[0;34m\u001b[0m\u001b[0;34m\u001b[0m\u001b[0m\n\u001b[0;32m-> 2646\u001b[0;31m       shape=shape)\n\u001b[0m\u001b[1;32m   2647\u001b[0m \u001b[0;34m\u001b[0m\u001b[0m\n\u001b[1;32m   2648\u001b[0m \u001b[0;34m\u001b[0m\u001b[0m\n",
      "\u001b[0;32m/usr/local/lib/python3.6/dist-packages/tensorflow/python/ops/variables.py\u001b[0m in \u001b[0;36m__call__\u001b[0;34m(cls, *args, **kwargs)\u001b[0m\n\u001b[1;32m    262\u001b[0m       \u001b[0;32mreturn\u001b[0m \u001b[0mcls\u001b[0m\u001b[0;34m.\u001b[0m\u001b[0m_variable_v2_call\u001b[0m\u001b[0;34m(\u001b[0m\u001b[0;34m*\u001b[0m\u001b[0margs\u001b[0m\u001b[0;34m,\u001b[0m \u001b[0;34m**\u001b[0m\u001b[0mkwargs\u001b[0m\u001b[0;34m)\u001b[0m\u001b[0;34m\u001b[0m\u001b[0;34m\u001b[0m\u001b[0m\n\u001b[1;32m    263\u001b[0m     \u001b[0;32melse\u001b[0m\u001b[0;34m:\u001b[0m\u001b[0;34m\u001b[0m\u001b[0;34m\u001b[0m\u001b[0m\n\u001b[0;32m--> 264\u001b[0;31m       \u001b[0;32mreturn\u001b[0m \u001b[0msuper\u001b[0m\u001b[0;34m(\u001b[0m\u001b[0mVariableMetaclass\u001b[0m\u001b[0;34m,\u001b[0m \u001b[0mcls\u001b[0m\u001b[0;34m)\u001b[0m\u001b[0;34m.\u001b[0m\u001b[0m__call__\u001b[0m\u001b[0;34m(\u001b[0m\u001b[0;34m*\u001b[0m\u001b[0margs\u001b[0m\u001b[0;34m,\u001b[0m \u001b[0;34m**\u001b[0m\u001b[0mkwargs\u001b[0m\u001b[0;34m)\u001b[0m\u001b[0;34m\u001b[0m\u001b[0;34m\u001b[0m\u001b[0m\n\u001b[0m\u001b[1;32m    265\u001b[0m \u001b[0;34m\u001b[0m\u001b[0m\n\u001b[1;32m    266\u001b[0m \u001b[0;34m\u001b[0m\u001b[0m\n",
      "\u001b[0;32m/usr/local/lib/python3.6/dist-packages/tensorflow/python/ops/resource_variable_ops.py\u001b[0m in \u001b[0;36m__init__\u001b[0;34m(self, initial_value, trainable, collections, validate_shape, caching_device, name, dtype, variable_def, import_scope, constraint, distribute_strategy, synchronization, aggregation, shape)\u001b[0m\n\u001b[1;32m   1516\u001b[0m           \u001b[0maggregation\u001b[0m\u001b[0;34m=\u001b[0m\u001b[0maggregation\u001b[0m\u001b[0;34m,\u001b[0m\u001b[0;34m\u001b[0m\u001b[0;34m\u001b[0m\u001b[0m\n\u001b[1;32m   1517\u001b[0m           \u001b[0mshape\u001b[0m\u001b[0;34m=\u001b[0m\u001b[0mshape\u001b[0m\u001b[0;34m,\u001b[0m\u001b[0;34m\u001b[0m\u001b[0;34m\u001b[0m\u001b[0m\n\u001b[0;32m-> 1518\u001b[0;31m           distribute_strategy=distribute_strategy)\n\u001b[0m\u001b[1;32m   1519\u001b[0m \u001b[0;34m\u001b[0m\u001b[0m\n\u001b[1;32m   1520\u001b[0m   def _init_from_args(self,\n",
      "\u001b[0;32m/usr/local/lib/python3.6/dist-packages/tensorflow/python/ops/resource_variable_ops.py\u001b[0m in \u001b[0;36m_init_from_args\u001b[0;34m(self, initial_value, trainable, collections, caching_device, name, dtype, constraint, synchronization, aggregation, distribute_strategy, shape)\u001b[0m\n\u001b[1;32m   1664\u001b[0m               \u001b[0mshared_name\u001b[0m\u001b[0;34m=\u001b[0m\u001b[0mshared_name\u001b[0m\u001b[0;34m,\u001b[0m\u001b[0;34m\u001b[0m\u001b[0;34m\u001b[0m\u001b[0m\n\u001b[1;32m   1665\u001b[0m               \u001b[0mname\u001b[0m\u001b[0;34m=\u001b[0m\u001b[0mname\u001b[0m\u001b[0;34m,\u001b[0m\u001b[0;34m\u001b[0m\u001b[0;34m\u001b[0m\u001b[0m\n\u001b[0;32m-> 1666\u001b[0;31m               graph_mode=self._in_graph_mode)\n\u001b[0m\u001b[1;32m   1667\u001b[0m         \u001b[0;31m# pylint: disable=protected-access\u001b[0m\u001b[0;34m\u001b[0m\u001b[0;34m\u001b[0m\u001b[0;34m\u001b[0m\u001b[0m\n\u001b[1;32m   1668\u001b[0m         if (self._in_graph_mode and initial_value is not None and\n",
      "\u001b[0;32m/usr/local/lib/python3.6/dist-packages/tensorflow/python/ops/resource_variable_ops.py\u001b[0m in \u001b[0;36meager_safe_variable_handle\u001b[0;34m(initial_value, shape, shared_name, name, graph_mode)\u001b[0m\n\u001b[1;32m    241\u001b[0m   \u001b[0mdtype\u001b[0m \u001b[0;34m=\u001b[0m \u001b[0minitial_value\u001b[0m\u001b[0;34m.\u001b[0m\u001b[0mdtype\u001b[0m\u001b[0;34m.\u001b[0m\u001b[0mbase_dtype\u001b[0m\u001b[0;34m\u001b[0m\u001b[0;34m\u001b[0m\u001b[0m\n\u001b[1;32m    242\u001b[0m   return _variable_handle_from_shape_and_dtype(\n\u001b[0;32m--> 243\u001b[0;31m       shape, dtype, shared_name, name, graph_mode, initial_value)\n\u001b[0m\u001b[1;32m    244\u001b[0m \u001b[0;34m\u001b[0m\u001b[0m\n\u001b[1;32m    245\u001b[0m \u001b[0;34m\u001b[0m\u001b[0m\n",
      "\u001b[0;32m/usr/local/lib/python3.6/dist-packages/tensorflow/python/ops/resource_variable_ops.py\u001b[0m in \u001b[0;36m_variable_handle_from_shape_and_dtype\u001b[0;34m(shape, dtype, shared_name, name, graph_mode, initial_value)\u001b[0m\n\u001b[1;32m    155\u001b[0m                                                    \u001b[0mshared_name\u001b[0m\u001b[0;34m=\u001b[0m\u001b[0mshared_name\u001b[0m\u001b[0;34m,\u001b[0m\u001b[0;34m\u001b[0m\u001b[0;34m\u001b[0m\u001b[0m\n\u001b[1;32m    156\u001b[0m                                                    \u001b[0mname\u001b[0m\u001b[0;34m=\u001b[0m\u001b[0mname\u001b[0m\u001b[0;34m,\u001b[0m\u001b[0;34m\u001b[0m\u001b[0;34m\u001b[0m\u001b[0m\n\u001b[0;32m--> 157\u001b[0;31m                                                    container=container)\n\u001b[0m\u001b[1;32m    158\u001b[0m   \u001b[0;32mif\u001b[0m \u001b[0minitial_value\u001b[0m \u001b[0;32mis\u001b[0m \u001b[0;32mNone\u001b[0m\u001b[0;34m:\u001b[0m\u001b[0;34m\u001b[0m\u001b[0;34m\u001b[0m\u001b[0m\n\u001b[1;32m    159\u001b[0m     \u001b[0minitial_value\u001b[0m \u001b[0;34m=\u001b[0m \u001b[0mhandle\u001b[0m\u001b[0;34m\u001b[0m\u001b[0;34m\u001b[0m\u001b[0m\n",
      "\u001b[0;32m/usr/local/lib/python3.6/dist-packages/tensorflow/python/ops/gen_resource_variable_ops.py\u001b[0m in \u001b[0;36mvar_handle_op\u001b[0;34m(dtype, shape, container, shared_name, allowed_devices, name)\u001b[0m\n\u001b[1;32m   1191\u001b[0m       \u001b[0;32mreturn\u001b[0m \u001b[0m_result\u001b[0m\u001b[0;34m\u001b[0m\u001b[0;34m\u001b[0m\u001b[0m\n\u001b[1;32m   1192\u001b[0m     \u001b[0;32mexcept\u001b[0m \u001b[0m_core\u001b[0m\u001b[0;34m.\u001b[0m\u001b[0m_NotOkStatusException\u001b[0m \u001b[0;32mas\u001b[0m \u001b[0me\u001b[0m\u001b[0;34m:\u001b[0m\u001b[0;34m\u001b[0m\u001b[0;34m\u001b[0m\u001b[0m\n\u001b[0;32m-> 1193\u001b[0;31m       \u001b[0m_ops\u001b[0m\u001b[0;34m.\u001b[0m\u001b[0mraise_from_not_ok_status\u001b[0m\u001b[0;34m(\u001b[0m\u001b[0me\u001b[0m\u001b[0;34m,\u001b[0m \u001b[0mname\u001b[0m\u001b[0;34m)\u001b[0m\u001b[0;34m\u001b[0m\u001b[0;34m\u001b[0m\u001b[0m\n\u001b[0m\u001b[1;32m   1194\u001b[0m     \u001b[0;32mexcept\u001b[0m \u001b[0m_core\u001b[0m\u001b[0;34m.\u001b[0m\u001b[0m_FallbackException\u001b[0m\u001b[0;34m:\u001b[0m\u001b[0;34m\u001b[0m\u001b[0;34m\u001b[0m\u001b[0m\n\u001b[1;32m   1195\u001b[0m       \u001b[0;32mpass\u001b[0m\u001b[0;34m\u001b[0m\u001b[0;34m\u001b[0m\u001b[0m\n",
      "\u001b[0;32m/usr/local/lib/python3.6/dist-packages/tensorflow/python/framework/ops.py\u001b[0m in \u001b[0;36mraise_from_not_ok_status\u001b[0;34m(e, name)\u001b[0m\n\u001b[1;32m   6841\u001b[0m   \u001b[0mmessage\u001b[0m \u001b[0;34m=\u001b[0m \u001b[0me\u001b[0m\u001b[0;34m.\u001b[0m\u001b[0mmessage\u001b[0m \u001b[0;34m+\u001b[0m \u001b[0;34m(\u001b[0m\u001b[0;34m\" name: \"\u001b[0m \u001b[0;34m+\u001b[0m \u001b[0mname\u001b[0m \u001b[0;32mif\u001b[0m \u001b[0mname\u001b[0m \u001b[0;32mis\u001b[0m \u001b[0;32mnot\u001b[0m \u001b[0;32mNone\u001b[0m \u001b[0;32melse\u001b[0m \u001b[0;34m\"\"\u001b[0m\u001b[0;34m)\u001b[0m\u001b[0;34m\u001b[0m\u001b[0;34m\u001b[0m\u001b[0m\n\u001b[1;32m   6842\u001b[0m   \u001b[0;31m# pylint: disable=protected-access\u001b[0m\u001b[0;34m\u001b[0m\u001b[0;34m\u001b[0m\u001b[0;34m\u001b[0m\u001b[0m\n\u001b[0;32m-> 6843\u001b[0;31m   \u001b[0msix\u001b[0m\u001b[0;34m.\u001b[0m\u001b[0mraise_from\u001b[0m\u001b[0;34m(\u001b[0m\u001b[0mcore\u001b[0m\u001b[0;34m.\u001b[0m\u001b[0m_status_to_exception\u001b[0m\u001b[0;34m(\u001b[0m\u001b[0me\u001b[0m\u001b[0;34m.\u001b[0m\u001b[0mcode\u001b[0m\u001b[0;34m,\u001b[0m \u001b[0mmessage\u001b[0m\u001b[0;34m)\u001b[0m\u001b[0;34m,\u001b[0m \u001b[0;32mNone\u001b[0m\u001b[0;34m)\u001b[0m\u001b[0;34m\u001b[0m\u001b[0;34m\u001b[0m\u001b[0m\n\u001b[0m\u001b[1;32m   6844\u001b[0m   \u001b[0;31m# pylint: enable=protected-access\u001b[0m\u001b[0;34m\u001b[0m\u001b[0;34m\u001b[0m\u001b[0;34m\u001b[0m\u001b[0m\n\u001b[1;32m   6845\u001b[0m \u001b[0;34m\u001b[0m\u001b[0m\n",
      "\u001b[0;32m/usr/local/lib/python3.6/dist-packages/six.py\u001b[0m in \u001b[0;36mraise_from\u001b[0;34m(value, from_value)\u001b[0m\n",
      "\u001b[0;31mInvalidArgumentError\u001b[0m: stream is uninitialized or in an error state [Op:VarHandleOp] name: Variable/replica_2/"
     ]
    }
   ],
   "source": [
    "with strategy.scope():\n",
    "    pre_trained_model = TFXLNetForMultipleChoice.from_pretrained('/content/drive/MyDrive/XLNet model', return_dict=True)\n",
    "\n",
    "    model_input_ids = Input(shape=(5,512,), name='input_tokens', dtype='int32')\n",
    "    masks_input = Input(shape=(5,512,), name='attention_mask', dtype='int32')\n",
    "\n",
    "    x =  {'input_ids':model_input_ids,\n",
    "            'attention_mask':masks_input}\n",
    "\n",
    "    x = pre_trained_model(x)['logits']\n",
    "    # x = Dense(64, activation='relu', kernel_initializer='he_normal')(x)\n",
    "    # x = Dropout(0.2)(x)\n",
    "    outputs = Dense(5, activation='softmax')(x)\n",
    "\n",
    "    model = Model(inputs=[model_input_ids, masks_input], outputs=outputs)\n",
    "\n",
    "    model.compile(optimizer=tf.keras.optimizers.Adam(learning_rate=5e-6),\n",
    "                loss=tf.keras.losses.CategoricalCrossentropy(),\n",
    "                metrics=['accuracy'])"
   ]
  },
  {
   "cell_type": "code",
   "execution_count": null,
   "metadata": {
    "colab": {
     "base_uri": "https://localhost:8080/"
    },
    "id": "F7yxzOLh_lkf",
    "outputId": "d373243a-168b-4513-dcc1-08ca6dd6650d"
   },
   "outputs": [
    {
     "name": "stdout",
     "output_type": "stream",
     "text": [
      "Epoch 1/5\n",
      "WARNING:tensorflow:From /usr/local/lib/python3.6/dist-packages/tensorflow/python/data/ops/multi_device_iterator_ops.py:601: get_next_as_optional (from tensorflow.python.data.ops.iterator_ops) is deprecated and will be removed in a future version.\n",
      "Instructions for updating:\n",
      "Use `tf.data.Iterator.get_next_as_optional()` instead.\n"
     ]
    },
    {
     "name": "stderr",
     "output_type": "stream",
     "text": [
      "WARNING:tensorflow:From /usr/local/lib/python3.6/dist-packages/tensorflow/python/data/ops/multi_device_iterator_ops.py:601: get_next_as_optional (from tensorflow.python.data.ops.iterator_ops) is deprecated and will be removed in a future version.\n",
      "Instructions for updating:\n",
      "Use `tf.data.Iterator.get_next_as_optional()` instead.\n"
     ]
    },
    {
     "name": "stdout",
     "output_type": "stream",
     "text": [
      "WARNING:tensorflow:Gradients do not exist for variables ['tfxl_net_for_multiple_choice/transformer/mask_emb:0', 'tfxl_net_for_multiple_choice/transformer/layer_._0/rel_attn/r_s_bias:0', 'tfxl_net_for_multiple_choice/transformer/layer_._0/rel_attn/seg_embed:0', 'tfxl_net_for_multiple_choice/transformer/layer_._1/rel_attn/r_s_bias:0', 'tfxl_net_for_multiple_choice/transformer/layer_._1/rel_attn/seg_embed:0', 'tfxl_net_for_multiple_choice/transformer/layer_._2/rel_attn/r_s_bias:0', 'tfxl_net_for_multiple_choice/transformer/layer_._2/rel_attn/seg_embed:0', 'tfxl_net_for_multiple_choice/transformer/layer_._3/rel_attn/r_s_bias:0', 'tfxl_net_for_multiple_choice/transformer/layer_._3/rel_attn/seg_embed:0', 'tfxl_net_for_multiple_choice/transformer/layer_._4/rel_attn/r_s_bias:0', 'tfxl_net_for_multiple_choice/transformer/layer_._4/rel_attn/seg_embed:0', 'tfxl_net_for_multiple_choice/transformer/layer_._5/rel_attn/r_s_bias:0', 'tfxl_net_for_multiple_choice/transformer/layer_._5/rel_attn/seg_embed:0', 'tfxl_net_for_multiple_choice/transformer/layer_._6/rel_attn/r_s_bias:0', 'tfxl_net_for_multiple_choice/transformer/layer_._6/rel_attn/seg_embed:0', 'tfxl_net_for_multiple_choice/transformer/layer_._7/rel_attn/r_s_bias:0', 'tfxl_net_for_multiple_choice/transformer/layer_._7/rel_attn/seg_embed:0', 'tfxl_net_for_multiple_choice/transformer/layer_._8/rel_attn/r_s_bias:0', 'tfxl_net_for_multiple_choice/transformer/layer_._8/rel_attn/seg_embed:0', 'tfxl_net_for_multiple_choice/transformer/layer_._9/rel_attn/r_s_bias:0', 'tfxl_net_for_multiple_choice/transformer/layer_._9/rel_attn/seg_embed:0', 'tfxl_net_for_multiple_choice/transformer/layer_._10/rel_attn/r_s_bias:0', 'tfxl_net_for_multiple_choice/transformer/layer_._10/rel_attn/seg_embed:0', 'tfxl_net_for_multiple_choice/transformer/layer_._11/rel_attn/r_s_bias:0', 'tfxl_net_for_multiple_choice/transformer/layer_._11/rel_attn/seg_embed:0'] when minimizing the loss.\n"
     ]
    },
    {
     "name": "stderr",
     "output_type": "stream",
     "text": [
      "WARNING:tensorflow:Gradients do not exist for variables ['tfxl_net_for_multiple_choice/transformer/mask_emb:0', 'tfxl_net_for_multiple_choice/transformer/layer_._0/rel_attn/r_s_bias:0', 'tfxl_net_for_multiple_choice/transformer/layer_._0/rel_attn/seg_embed:0', 'tfxl_net_for_multiple_choice/transformer/layer_._1/rel_attn/r_s_bias:0', 'tfxl_net_for_multiple_choice/transformer/layer_._1/rel_attn/seg_embed:0', 'tfxl_net_for_multiple_choice/transformer/layer_._2/rel_attn/r_s_bias:0', 'tfxl_net_for_multiple_choice/transformer/layer_._2/rel_attn/seg_embed:0', 'tfxl_net_for_multiple_choice/transformer/layer_._3/rel_attn/r_s_bias:0', 'tfxl_net_for_multiple_choice/transformer/layer_._3/rel_attn/seg_embed:0', 'tfxl_net_for_multiple_choice/transformer/layer_._4/rel_attn/r_s_bias:0', 'tfxl_net_for_multiple_choice/transformer/layer_._4/rel_attn/seg_embed:0', 'tfxl_net_for_multiple_choice/transformer/layer_._5/rel_attn/r_s_bias:0', 'tfxl_net_for_multiple_choice/transformer/layer_._5/rel_attn/seg_embed:0', 'tfxl_net_for_multiple_choice/transformer/layer_._6/rel_attn/r_s_bias:0', 'tfxl_net_for_multiple_choice/transformer/layer_._6/rel_attn/seg_embed:0', 'tfxl_net_for_multiple_choice/transformer/layer_._7/rel_attn/r_s_bias:0', 'tfxl_net_for_multiple_choice/transformer/layer_._7/rel_attn/seg_embed:0', 'tfxl_net_for_multiple_choice/transformer/layer_._8/rel_attn/r_s_bias:0', 'tfxl_net_for_multiple_choice/transformer/layer_._8/rel_attn/seg_embed:0', 'tfxl_net_for_multiple_choice/transformer/layer_._9/rel_attn/r_s_bias:0', 'tfxl_net_for_multiple_choice/transformer/layer_._9/rel_attn/seg_embed:0', 'tfxl_net_for_multiple_choice/transformer/layer_._10/rel_attn/r_s_bias:0', 'tfxl_net_for_multiple_choice/transformer/layer_._10/rel_attn/seg_embed:0', 'tfxl_net_for_multiple_choice/transformer/layer_._11/rel_attn/r_s_bias:0', 'tfxl_net_for_multiple_choice/transformer/layer_._11/rel_attn/seg_embed:0'] when minimizing the loss.\n"
     ]
    },
    {
     "name": "stdout",
     "output_type": "stream",
     "text": [
      "WARNING:tensorflow:Gradients do not exist for variables ['tfxl_net_for_multiple_choice/transformer/mask_emb:0', 'tfxl_net_for_multiple_choice/transformer/layer_._0/rel_attn/r_s_bias:0', 'tfxl_net_for_multiple_choice/transformer/layer_._0/rel_attn/seg_embed:0', 'tfxl_net_for_multiple_choice/transformer/layer_._1/rel_attn/r_s_bias:0', 'tfxl_net_for_multiple_choice/transformer/layer_._1/rel_attn/seg_embed:0', 'tfxl_net_for_multiple_choice/transformer/layer_._2/rel_attn/r_s_bias:0', 'tfxl_net_for_multiple_choice/transformer/layer_._2/rel_attn/seg_embed:0', 'tfxl_net_for_multiple_choice/transformer/layer_._3/rel_attn/r_s_bias:0', 'tfxl_net_for_multiple_choice/transformer/layer_._3/rel_attn/seg_embed:0', 'tfxl_net_for_multiple_choice/transformer/layer_._4/rel_attn/r_s_bias:0', 'tfxl_net_for_multiple_choice/transformer/layer_._4/rel_attn/seg_embed:0', 'tfxl_net_for_multiple_choice/transformer/layer_._5/rel_attn/r_s_bias:0', 'tfxl_net_for_multiple_choice/transformer/layer_._5/rel_attn/seg_embed:0', 'tfxl_net_for_multiple_choice/transformer/layer_._6/rel_attn/r_s_bias:0', 'tfxl_net_for_multiple_choice/transformer/layer_._6/rel_attn/seg_embed:0', 'tfxl_net_for_multiple_choice/transformer/layer_._7/rel_attn/r_s_bias:0', 'tfxl_net_for_multiple_choice/transformer/layer_._7/rel_attn/seg_embed:0', 'tfxl_net_for_multiple_choice/transformer/layer_._8/rel_attn/r_s_bias:0', 'tfxl_net_for_multiple_choice/transformer/layer_._8/rel_attn/seg_embed:0', 'tfxl_net_for_multiple_choice/transformer/layer_._9/rel_attn/r_s_bias:0', 'tfxl_net_for_multiple_choice/transformer/layer_._9/rel_attn/seg_embed:0', 'tfxl_net_for_multiple_choice/transformer/layer_._10/rel_attn/r_s_bias:0', 'tfxl_net_for_multiple_choice/transformer/layer_._10/rel_attn/seg_embed:0', 'tfxl_net_for_multiple_choice/transformer/layer_._11/rel_attn/r_s_bias:0', 'tfxl_net_for_multiple_choice/transformer/layer_._11/rel_attn/seg_embed:0'] when minimizing the loss.\n"
     ]
    },
    {
     "name": "stderr",
     "output_type": "stream",
     "text": [
      "WARNING:tensorflow:Gradients do not exist for variables ['tfxl_net_for_multiple_choice/transformer/mask_emb:0', 'tfxl_net_for_multiple_choice/transformer/layer_._0/rel_attn/r_s_bias:0', 'tfxl_net_for_multiple_choice/transformer/layer_._0/rel_attn/seg_embed:0', 'tfxl_net_for_multiple_choice/transformer/layer_._1/rel_attn/r_s_bias:0', 'tfxl_net_for_multiple_choice/transformer/layer_._1/rel_attn/seg_embed:0', 'tfxl_net_for_multiple_choice/transformer/layer_._2/rel_attn/r_s_bias:0', 'tfxl_net_for_multiple_choice/transformer/layer_._2/rel_attn/seg_embed:0', 'tfxl_net_for_multiple_choice/transformer/layer_._3/rel_attn/r_s_bias:0', 'tfxl_net_for_multiple_choice/transformer/layer_._3/rel_attn/seg_embed:0', 'tfxl_net_for_multiple_choice/transformer/layer_._4/rel_attn/r_s_bias:0', 'tfxl_net_for_multiple_choice/transformer/layer_._4/rel_attn/seg_embed:0', 'tfxl_net_for_multiple_choice/transformer/layer_._5/rel_attn/r_s_bias:0', 'tfxl_net_for_multiple_choice/transformer/layer_._5/rel_attn/seg_embed:0', 'tfxl_net_for_multiple_choice/transformer/layer_._6/rel_attn/r_s_bias:0', 'tfxl_net_for_multiple_choice/transformer/layer_._6/rel_attn/seg_embed:0', 'tfxl_net_for_multiple_choice/transformer/layer_._7/rel_attn/r_s_bias:0', 'tfxl_net_for_multiple_choice/transformer/layer_._7/rel_attn/seg_embed:0', 'tfxl_net_for_multiple_choice/transformer/layer_._8/rel_attn/r_s_bias:0', 'tfxl_net_for_multiple_choice/transformer/layer_._8/rel_attn/seg_embed:0', 'tfxl_net_for_multiple_choice/transformer/layer_._9/rel_attn/r_s_bias:0', 'tfxl_net_for_multiple_choice/transformer/layer_._9/rel_attn/seg_embed:0', 'tfxl_net_for_multiple_choice/transformer/layer_._10/rel_attn/r_s_bias:0', 'tfxl_net_for_multiple_choice/transformer/layer_._10/rel_attn/seg_embed:0', 'tfxl_net_for_multiple_choice/transformer/layer_._11/rel_attn/r_s_bias:0', 'tfxl_net_for_multiple_choice/transformer/layer_._11/rel_attn/seg_embed:0'] when minimizing the loss.\n"
     ]
    },
    {
     "name": "stdout",
     "output_type": "stream",
     "text": [
      "WARNING:tensorflow:Gradients do not exist for variables ['tfxl_net_for_multiple_choice/transformer/mask_emb:0', 'tfxl_net_for_multiple_choice/transformer/layer_._0/rel_attn/r_s_bias:0', 'tfxl_net_for_multiple_choice/transformer/layer_._0/rel_attn/seg_embed:0', 'tfxl_net_for_multiple_choice/transformer/layer_._1/rel_attn/r_s_bias:0', 'tfxl_net_for_multiple_choice/transformer/layer_._1/rel_attn/seg_embed:0', 'tfxl_net_for_multiple_choice/transformer/layer_._2/rel_attn/r_s_bias:0', 'tfxl_net_for_multiple_choice/transformer/layer_._2/rel_attn/seg_embed:0', 'tfxl_net_for_multiple_choice/transformer/layer_._3/rel_attn/r_s_bias:0', 'tfxl_net_for_multiple_choice/transformer/layer_._3/rel_attn/seg_embed:0', 'tfxl_net_for_multiple_choice/transformer/layer_._4/rel_attn/r_s_bias:0', 'tfxl_net_for_multiple_choice/transformer/layer_._4/rel_attn/seg_embed:0', 'tfxl_net_for_multiple_choice/transformer/layer_._5/rel_attn/r_s_bias:0', 'tfxl_net_for_multiple_choice/transformer/layer_._5/rel_attn/seg_embed:0', 'tfxl_net_for_multiple_choice/transformer/layer_._6/rel_attn/r_s_bias:0', 'tfxl_net_for_multiple_choice/transformer/layer_._6/rel_attn/seg_embed:0', 'tfxl_net_for_multiple_choice/transformer/layer_._7/rel_attn/r_s_bias:0', 'tfxl_net_for_multiple_choice/transformer/layer_._7/rel_attn/seg_embed:0', 'tfxl_net_for_multiple_choice/transformer/layer_._8/rel_attn/r_s_bias:0', 'tfxl_net_for_multiple_choice/transformer/layer_._8/rel_attn/seg_embed:0', 'tfxl_net_for_multiple_choice/transformer/layer_._9/rel_attn/r_s_bias:0', 'tfxl_net_for_multiple_choice/transformer/layer_._9/rel_attn/seg_embed:0', 'tfxl_net_for_multiple_choice/transformer/layer_._10/rel_attn/r_s_bias:0', 'tfxl_net_for_multiple_choice/transformer/layer_._10/rel_attn/seg_embed:0', 'tfxl_net_for_multiple_choice/transformer/layer_._11/rel_attn/r_s_bias:0', 'tfxl_net_for_multiple_choice/transformer/layer_._11/rel_attn/seg_embed:0'] when minimizing the loss.\n"
     ]
    },
    {
     "name": "stderr",
     "output_type": "stream",
     "text": [
      "WARNING:tensorflow:Gradients do not exist for variables ['tfxl_net_for_multiple_choice/transformer/mask_emb:0', 'tfxl_net_for_multiple_choice/transformer/layer_._0/rel_attn/r_s_bias:0', 'tfxl_net_for_multiple_choice/transformer/layer_._0/rel_attn/seg_embed:0', 'tfxl_net_for_multiple_choice/transformer/layer_._1/rel_attn/r_s_bias:0', 'tfxl_net_for_multiple_choice/transformer/layer_._1/rel_attn/seg_embed:0', 'tfxl_net_for_multiple_choice/transformer/layer_._2/rel_attn/r_s_bias:0', 'tfxl_net_for_multiple_choice/transformer/layer_._2/rel_attn/seg_embed:0', 'tfxl_net_for_multiple_choice/transformer/layer_._3/rel_attn/r_s_bias:0', 'tfxl_net_for_multiple_choice/transformer/layer_._3/rel_attn/seg_embed:0', 'tfxl_net_for_multiple_choice/transformer/layer_._4/rel_attn/r_s_bias:0', 'tfxl_net_for_multiple_choice/transformer/layer_._4/rel_attn/seg_embed:0', 'tfxl_net_for_multiple_choice/transformer/layer_._5/rel_attn/r_s_bias:0', 'tfxl_net_for_multiple_choice/transformer/layer_._5/rel_attn/seg_embed:0', 'tfxl_net_for_multiple_choice/transformer/layer_._6/rel_attn/r_s_bias:0', 'tfxl_net_for_multiple_choice/transformer/layer_._6/rel_attn/seg_embed:0', 'tfxl_net_for_multiple_choice/transformer/layer_._7/rel_attn/r_s_bias:0', 'tfxl_net_for_multiple_choice/transformer/layer_._7/rel_attn/seg_embed:0', 'tfxl_net_for_multiple_choice/transformer/layer_._8/rel_attn/r_s_bias:0', 'tfxl_net_for_multiple_choice/transformer/layer_._8/rel_attn/seg_embed:0', 'tfxl_net_for_multiple_choice/transformer/layer_._9/rel_attn/r_s_bias:0', 'tfxl_net_for_multiple_choice/transformer/layer_._9/rel_attn/seg_embed:0', 'tfxl_net_for_multiple_choice/transformer/layer_._10/rel_attn/r_s_bias:0', 'tfxl_net_for_multiple_choice/transformer/layer_._10/rel_attn/seg_embed:0', 'tfxl_net_for_multiple_choice/transformer/layer_._11/rel_attn/r_s_bias:0', 'tfxl_net_for_multiple_choice/transformer/layer_._11/rel_attn/seg_embed:0'] when minimizing the loss.\n"
     ]
    },
    {
     "name": "stdout",
     "output_type": "stream",
     "text": [
      "WARNING:tensorflow:Gradients do not exist for variables ['tfxl_net_for_multiple_choice/transformer/mask_emb:0', 'tfxl_net_for_multiple_choice/transformer/layer_._0/rel_attn/r_s_bias:0', 'tfxl_net_for_multiple_choice/transformer/layer_._0/rel_attn/seg_embed:0', 'tfxl_net_for_multiple_choice/transformer/layer_._1/rel_attn/r_s_bias:0', 'tfxl_net_for_multiple_choice/transformer/layer_._1/rel_attn/seg_embed:0', 'tfxl_net_for_multiple_choice/transformer/layer_._2/rel_attn/r_s_bias:0', 'tfxl_net_for_multiple_choice/transformer/layer_._2/rel_attn/seg_embed:0', 'tfxl_net_for_multiple_choice/transformer/layer_._3/rel_attn/r_s_bias:0', 'tfxl_net_for_multiple_choice/transformer/layer_._3/rel_attn/seg_embed:0', 'tfxl_net_for_multiple_choice/transformer/layer_._4/rel_attn/r_s_bias:0', 'tfxl_net_for_multiple_choice/transformer/layer_._4/rel_attn/seg_embed:0', 'tfxl_net_for_multiple_choice/transformer/layer_._5/rel_attn/r_s_bias:0', 'tfxl_net_for_multiple_choice/transformer/layer_._5/rel_attn/seg_embed:0', 'tfxl_net_for_multiple_choice/transformer/layer_._6/rel_attn/r_s_bias:0', 'tfxl_net_for_multiple_choice/transformer/layer_._6/rel_attn/seg_embed:0', 'tfxl_net_for_multiple_choice/transformer/layer_._7/rel_attn/r_s_bias:0', 'tfxl_net_for_multiple_choice/transformer/layer_._7/rel_attn/seg_embed:0', 'tfxl_net_for_multiple_choice/transformer/layer_._8/rel_attn/r_s_bias:0', 'tfxl_net_for_multiple_choice/transformer/layer_._8/rel_attn/seg_embed:0', 'tfxl_net_for_multiple_choice/transformer/layer_._9/rel_attn/r_s_bias:0', 'tfxl_net_for_multiple_choice/transformer/layer_._9/rel_attn/seg_embed:0', 'tfxl_net_for_multiple_choice/transformer/layer_._10/rel_attn/r_s_bias:0', 'tfxl_net_for_multiple_choice/transformer/layer_._10/rel_attn/seg_embed:0', 'tfxl_net_for_multiple_choice/transformer/layer_._11/rel_attn/r_s_bias:0', 'tfxl_net_for_multiple_choice/transformer/layer_._11/rel_attn/seg_embed:0'] when minimizing the loss.\n"
     ]
    },
    {
     "name": "stderr",
     "output_type": "stream",
     "text": [
      "WARNING:tensorflow:Gradients do not exist for variables ['tfxl_net_for_multiple_choice/transformer/mask_emb:0', 'tfxl_net_for_multiple_choice/transformer/layer_._0/rel_attn/r_s_bias:0', 'tfxl_net_for_multiple_choice/transformer/layer_._0/rel_attn/seg_embed:0', 'tfxl_net_for_multiple_choice/transformer/layer_._1/rel_attn/r_s_bias:0', 'tfxl_net_for_multiple_choice/transformer/layer_._1/rel_attn/seg_embed:0', 'tfxl_net_for_multiple_choice/transformer/layer_._2/rel_attn/r_s_bias:0', 'tfxl_net_for_multiple_choice/transformer/layer_._2/rel_attn/seg_embed:0', 'tfxl_net_for_multiple_choice/transformer/layer_._3/rel_attn/r_s_bias:0', 'tfxl_net_for_multiple_choice/transformer/layer_._3/rel_attn/seg_embed:0', 'tfxl_net_for_multiple_choice/transformer/layer_._4/rel_attn/r_s_bias:0', 'tfxl_net_for_multiple_choice/transformer/layer_._4/rel_attn/seg_embed:0', 'tfxl_net_for_multiple_choice/transformer/layer_._5/rel_attn/r_s_bias:0', 'tfxl_net_for_multiple_choice/transformer/layer_._5/rel_attn/seg_embed:0', 'tfxl_net_for_multiple_choice/transformer/layer_._6/rel_attn/r_s_bias:0', 'tfxl_net_for_multiple_choice/transformer/layer_._6/rel_attn/seg_embed:0', 'tfxl_net_for_multiple_choice/transformer/layer_._7/rel_attn/r_s_bias:0', 'tfxl_net_for_multiple_choice/transformer/layer_._7/rel_attn/seg_embed:0', 'tfxl_net_for_multiple_choice/transformer/layer_._8/rel_attn/r_s_bias:0', 'tfxl_net_for_multiple_choice/transformer/layer_._8/rel_attn/seg_embed:0', 'tfxl_net_for_multiple_choice/transformer/layer_._9/rel_attn/r_s_bias:0', 'tfxl_net_for_multiple_choice/transformer/layer_._9/rel_attn/seg_embed:0', 'tfxl_net_for_multiple_choice/transformer/layer_._10/rel_attn/r_s_bias:0', 'tfxl_net_for_multiple_choice/transformer/layer_._10/rel_attn/seg_embed:0', 'tfxl_net_for_multiple_choice/transformer/layer_._11/rel_attn/r_s_bias:0', 'tfxl_net_for_multiple_choice/transformer/layer_._11/rel_attn/seg_embed:0'] when minimizing the loss.\n"
     ]
    },
    {
     "name": "stdout",
     "output_type": "stream",
     "text": [
      "  2/282 [..............................] - ETA: 1:45:49 - loss: 7.7513 - accuracy: 0.1250WARNING:tensorflow:Callbacks method `on_train_batch_end` is slow compared to the batch time (batch time: 0.0093s vs `on_train_batch_end` time: 0.7045s). Check your callbacks.\n"
     ]
    },
    {
     "name": "stderr",
     "output_type": "stream",
     "text": [
      "WARNING:tensorflow:Callbacks method `on_train_batch_end` is slow compared to the batch time (batch time: 0.0093s vs `on_train_batch_end` time: 0.7045s). Check your callbacks.\n"
     ]
    },
    {
     "name": "stdout",
     "output_type": "stream",
     "text": [
      "282/282 [==============================] - 246s 874ms/step - loss: 1.8952 - accuracy: 0.2177\n",
      "Epoch 2/5\n",
      "282/282 [==============================] - 203s 719ms/step - loss: 1.6157 - accuracy: 0.2399\n",
      "Epoch 3/5\n",
      "282/282 [==============================] - 203s 719ms/step - loss: 1.6113 - accuracy: 0.2319\n",
      "Epoch 4/5\n",
      "282/282 [==============================] - 203s 719ms/step - loss: 1.5863 - accuracy: 0.2394\n",
      "Epoch 5/5\n",
      "282/282 [==============================] - 203s 719ms/step - loss: 1.5850 - accuracy: 0.2443\n"
     ]
    },
    {
     "data": {
      "text/plain": [
       "<tensorflow.python.keras.callbacks.History at 0x7f009b185be0>"
      ]
     },
     "execution_count": 19,
     "metadata": {
      "tags": []
     },
     "output_type": "execute_result"
    }
   ],
   "source": [
    "model.fit(viola, epochs=5)"
   ]
  },
  {
   "cell_type": "code",
   "execution_count": null,
   "metadata": {
    "id": "lNbwkJP2_lki"
   },
   "outputs": [],
   "source": [
    "model.save_weights('/content/drive/MyDrive/ARC/xlnet weights/')"
   ]
  },
  {
   "cell_type": "code",
   "execution_count": null,
   "metadata": {
    "id": "SMpP6o1p_lki"
   },
   "outputs": [],
   "source": [
    "# model.load_weights('/content/drive/MyDrive/ARC/xlnet weights')"
   ]
  },
  {
   "cell_type": "code",
   "execution_count": null,
   "metadata": {
    "id": "GZGVPSxF_lki"
   },
   "outputs": [],
   "source": [
    "dev_preds = model.predict([easy_dev_input_ids,easy_dev_attention_mask])\n",
    "dev_preds_max = tf.argmax(dev_preds, axis=1)"
   ]
  },
  {
   "cell_type": "code",
   "execution_count": null,
   "metadata": {
    "colab": {
     "base_uri": "https://localhost:8080/"
    },
    "id": "h3Pn-LK1_lki",
    "outputId": "1de12a79-7eab-49fe-ea6a-eb7f37d405af"
   },
   "outputs": [
    {
     "name": "stdout",
     "output_type": "stream",
     "text": [
      "Accuracy score on easy dev set is 0.21754385964912282.\n"
     ]
    }
   ],
   "source": [
    "print(f'Accuracy score on easy dev set is {accuracy_score(easy_dev_labels,dev_preds_max)}.')"
   ]
  },
  {
   "cell_type": "code",
   "execution_count": null,
   "metadata": {
    "id": "8RxtYWMV_lkj"
   },
   "outputs": [],
   "source": [
    "test_preds = model.predict([easy_test_input_ids,easy_test_attention_mask])\n",
    "test_preds_max = tf.argmax(test_preds, axis=1)"
   ]
  },
  {
   "cell_type": "code",
   "execution_count": null,
   "metadata": {
    "colab": {
     "base_uri": "https://localhost:8080/"
    },
    "id": "Yt3oiajG_lkj",
    "outputId": "42fc820e-90c1-494c-d299-865bcd0513fa"
   },
   "outputs": [
    {
     "name": "stdout",
     "output_type": "stream",
     "text": [
      "Accuracy score on easy test set is 0.24116161616161616.\n"
     ]
    }
   ],
   "source": [
    "print(f'Accuracy score on easy test set is {accuracy_score(easy_test_labels,test_preds_max)}.')"
   ]
  },
  {
   "cell_type": "markdown",
   "metadata": {
    "id": "mPKAJF3anAtr"
   },
   "source": [
    "# Fine tuning Unified QA on ARC without using context."
   ]
  },
  {
   "cell_type": "markdown",
   "metadata": {
    "id": "ISkLmTXVnAtx"
   },
   "source": [
    "### Preparing Data."
   ]
  },
  {
   "cell_type": "code",
   "execution_count": null,
   "metadata": {
    "colab": {
     "base_uri": "https://localhost:8080/",
     "height": 164,
     "referenced_widgets": [
      "f76ebf9b788e470ba21cb14ea58db76d",
      "4600b0e0266147abb6d49a9fb1ad5ba2",
      "942b3b7b06934cfd8265066ba4658ac1",
      "b0bfaf588675416cb876be85ec59e821",
      "a662859710024329bb0d1424c6c9b8a7",
      "fd44f468b0a146c1a9b3d7aee7c30e14",
      "54360d3bc02d4d5497f3d887eb88437e",
      "5119de77423e464885abf641c96e0108",
      "9dfbdf14522e48faa5d38191f8b0c51c",
      "f0a11935543f4b42ab7f37a293f2887b",
      "e486f7be6830403587d9db0c2be9098f",
      "8c46200c8a1341378156ae23c6ed6e25",
      "f9ebd9bd17b94ed58d092ec69b32b641",
      "dcdf79736ee44056a5f3cfba7f7b31aa",
      "c4ea08133212450bab3997d193992d4c",
      "61ca8b67283a4f6b8e8b7a4c27b99902",
      "f1a3b136c0a64c8e92582ac4c664ee64",
      "8811c41798954d7ba14d440c844c1a03",
      "bb30e633574349f3a32c1c79e1fe8531",
      "79838a170b1d4ec792cd5586ae0cf38a",
      "9295bcb86d224f4cb4f5f0b29c838cca",
      "4892e833d7e5412ebedb66413ac5bc40",
      "2f5b573dbae94a3eb318f81a36c0fbb7",
      "a88f2857efd7408aaeec44afef0b144c"
     ]
    },
    "id": "J_2jUJq4nAtx",
    "outputId": "d961d2fd-1a3a-40e0-e704-c3a05b1fccab"
   },
   "outputs": [
    {
     "data": {
      "application/vnd.jupyter.widget-view+json": {
       "model_id": "f76ebf9b788e470ba21cb14ea58db76d",
       "version_major": 2,
       "version_minor": 0
      },
      "text/plain": [
       "HBox(children=(FloatProgress(value=0.0, description='Downloading', max=1197.0, style=ProgressStyle(description…"
      ]
     },
     "metadata": {
      "tags": []
     },
     "output_type": "display_data"
    },
    {
     "name": "stdout",
     "output_type": "stream",
     "text": [
      "\n"
     ]
    },
    {
     "data": {
      "application/vnd.jupyter.widget-view+json": {
       "model_id": "9dfbdf14522e48faa5d38191f8b0c51c",
       "version_major": 2,
       "version_minor": 0
      },
      "text/plain": [
       "HBox(children=(FloatProgress(value=0.0, description='Downloading', max=791656.0, style=ProgressStyle(descripti…"
      ]
     },
     "metadata": {
      "tags": []
     },
     "output_type": "display_data"
    },
    {
     "name": "stdout",
     "output_type": "stream",
     "text": [
      "\n"
     ]
    },
    {
     "data": {
      "application/vnd.jupyter.widget-view+json": {
       "model_id": "f1a3b136c0a64c8e92582ac4c664ee64",
       "version_major": 2,
       "version_minor": 0
      },
      "text/plain": [
       "HBox(children=(FloatProgress(value=0.0, description='Downloading', max=1389353.0, style=ProgressStyle(descript…"
      ]
     },
     "metadata": {
      "tags": []
     },
     "output_type": "display_data"
    },
    {
     "name": "stdout",
     "output_type": "stream",
     "text": [
      "\n"
     ]
    }
   ],
   "source": [
    "from transformers import AutoTokenizer, T5ForConditionalGeneration\n",
    "\n",
    "tokenizer = AutoTokenizer.from_pretrained('t5-small')"
   ]
  },
  {
   "cell_type": "code",
   "execution_count": null,
   "metadata": {
    "id": "KJ-wk23xnAtz"
   },
   "outputs": [],
   "source": [
    "MAX_LEN = 512\n",
    "decoder_max_len = 30"
   ]
  },
  {
   "cell_type": "code",
   "execution_count": null,
   "metadata": {
    "id": "PdgEQyB1nAt0"
   },
   "outputs": [],
   "source": [
    "def arc_preprocessor(dataset, tokenizer):\n",
    "    '''\n",
    "    This function will convert a given context, question, choices in a format:\n",
    "\n",
    "    input: question \\n options \\n context </s>\n",
    "    target: label </s>\n",
    "\n",
    "    After converting in this format the data will be tokenized using a given tokenizer.\n",
    "    This function will return 4 arrays namely, input_ids, attention_mask, token_type_ids and labels.\n",
    "    '''\n",
    "    global MAX_LEN\n",
    "    all_input_ids = []\n",
    "    all_attention_mask = []\n",
    "    all_decoder_input_ids = []\n",
    "    all_labels = []\n",
    "\n",
    "    for i in range(len(dataset)):\n",
    "        \n",
    "        context = ' '.join(dataset['context_2'].iloc[i].split()[:350]) #Limiting the maximum length of context to 350 words.\n",
    "        question = dataset['only_question'].iloc[i]\n",
    "        options = dataset['only_answers'].iloc[i]\n",
    "        target = dataset['Answer'].iloc[i]\n",
    "        choice_features = []\n",
    "\n",
    "        input_string = question + ' ' + '\\\\n' + ' ' + options + ' ' + '</s>'\n",
    "        decoder_input = tokenizer.pad_token + ' ' + target\n",
    "        target = target + ' ' + '</s>'\n",
    "\n",
    "        input_ids = tokenizer.encode(input_string, truncation=True, max_length=MAX_LEN)\n",
    "        decoder_input_ids = tokenizer.encode(decoder_input, max_length=decoder_max_len, truncation=True) #Max length of a answer is 23\n",
    "        labels = tokenizer.encode(target, max_length=decoder_max_len, truncation=True)\n",
    "\n",
    "        attention_mask = [1] * len(input_ids)\n",
    "\n",
    "        padding_id = tokenizer.pad_token_id\n",
    "        padding_length = MAX_LEN - len(input_ids)\n",
    "\n",
    "        input_ids = input_ids + [padding_id]*padding_length\n",
    "        attention_mask = attention_mask + [0]*padding_length\n",
    "\n",
    "        deocder_padding_length = decoder_max_len - len(decoder_input_ids)\n",
    "\n",
    "        decoder_input_ids = decoder_input_ids + [padding_id]*deocder_padding_length\n",
    "        labels = labels + [padding_id]*deocder_padding_length\n",
    "\n",
    "        assert len(input_ids) == MAX_LEN\n",
    "        assert len(attention_mask) == MAX_LEN\n",
    "\n",
    "        all_input_ids.append(np.asarray(input_ids, dtype='int32'))\n",
    "        all_attention_mask.append(np.asarray(attention_mask, dtype='int32'))\n",
    "        all_decoder_input_ids.append(np.asarray(decoder_input_ids, dtype='int32'))\n",
    "        all_labels.append(np.asarray(labels, dtype='int32'))\n",
    "\n",
    "    return all_input_ids, all_attention_mask, all_decoder_input_ids, all_labels"
   ]
  },
  {
   "cell_type": "code",
   "execution_count": null,
   "metadata": {
    "id": "7U2W9ujdnAt1"
   },
   "outputs": [],
   "source": [
    "easy_train_input_ids, easy_train_attention_mask, easy_train_decoder_input_ids, easy_train_labels = arc_preprocessor(df_easy_train, tokenizer)"
   ]
  },
  {
   "cell_type": "code",
   "execution_count": null,
   "metadata": {
    "id": "g3tw_MPinAt1"
   },
   "outputs": [],
   "source": [
    "easy_dev_input_ids, easy_dev_attention_mask, easy_dev_decoder_input_ids, easy_dev_labels = arc_preprocessor(df_easy_dev, tokenizer)"
   ]
  },
  {
   "cell_type": "code",
   "execution_count": null,
   "metadata": {
    "id": "WKnQPLsMnAt2"
   },
   "outputs": [],
   "source": [
    "easy_test_input_ids, easy_test_attention_mask, _, easy_test_labels = arc_preprocessor(df_easy_test, tokenizer)"
   ]
  },
  {
   "cell_type": "code",
   "execution_count": null,
   "metadata": {
    "id": "BuMIBaZtnAt2"
   },
   "outputs": [],
   "source": [
    "easy_train_input_ids = np.asarray(easy_train_input_ids, dtype='int32')\n",
    "easy_train_attention_mask = np.asarray(easy_train_attention_mask, dtype='int32')\n",
    "easy_train_decoder_input_ids = np.asarray(easy_train_decoder_input_ids, dtype='int32')\n",
    "easy_train_labels = np.asarray(easy_train_labels, dtype='int32')"
   ]
  },
  {
   "cell_type": "code",
   "execution_count": null,
   "metadata": {
    "id": "AxJTLxM2nAt3"
   },
   "outputs": [],
   "source": [
    "easy_dev_input_ids = np.asarray(easy_dev_input_ids, dtype='int32')\n",
    "easy_dev_attention_mask = np.asarray(easy_dev_attention_mask, dtype='int32')\n",
    "easy_dev_decoder_input_ids = np.asarray(easy_dev_decoder_input_ids, dtype='int32')\n",
    "easy_dev_labels = np.asarray(easy_dev_labels, dtype='int32')"
   ]
  },
  {
   "cell_type": "code",
   "execution_count": null,
   "metadata": {
    "id": "MXb-3ByonAt3"
   },
   "outputs": [],
   "source": [
    "easy_test_input_ids = np.asarray(easy_test_input_ids, dtype='int32')\n",
    "easy_test_attention_mask = np.asarray(easy_test_attention_mask, dtype='int32')\n",
    "easy_test_labels = np.asarray(easy_test_labels, dtype='int32')"
   ]
  },
  {
   "cell_type": "code",
   "execution_count": null,
   "metadata": {
    "id": "vA_cN6eWnAt3"
   },
   "outputs": [],
   "source": [
    "np.save('/content/drive/MyDrive/ARC/Unified QA/easy_train_input_ids', easy_train_input_ids)\n",
    "np.save('/content/drive/MyDrive/ARC/Unified QA/easy_train_attention_mask', easy_train_attention_mask)\n",
    "np.save('/content/drive/MyDrive/ARC/Unified QA/easy_train_decoder_input_ids', easy_train_decoder_input_ids)\n",
    "np.save('/content/drive/MyDrive/ARC/Unified QA/easy_train_labels', easy_train_labels)"
   ]
  },
  {
   "cell_type": "code",
   "execution_count": null,
   "metadata": {
    "id": "kiithaaAnAt4"
   },
   "outputs": [],
   "source": [
    "np.save('/content/drive/MyDrive/ARC/Unified QA/easy_dev_input_ids', easy_dev_input_ids)\n",
    "np.save('/content/drive/MyDrive/ARC/Unified QA/easy_dev_attention_mask', easy_dev_attention_mask)\n",
    "np.save('/content/drive/MyDrive/ARC/Unified QA/easy_dev_decoder_input_ids', easy_dev_decoder_input_ids)\n",
    "np.save('/content/drive/MyDrive/ARC/Unified QA/easy_dev_labels', easy_dev_labels)"
   ]
  },
  {
   "cell_type": "code",
   "execution_count": null,
   "metadata": {
    "id": "X5hNaWf4nAt4"
   },
   "outputs": [],
   "source": [
    "np.save('/content/drive/MyDrive/ARC/Unified QA/easy_test_input_ids', easy_test_input_ids)\n",
    "np.save('/content/drive/MyDrive/ARC/Unified QA/easy_test_attention_mask', easy_test_attention_mask)\n",
    "np.save('/content/drive/MyDrive/ARC/Unified QA/easy_test_labels', easy_test_labels)"
   ]
  },
  {
   "cell_type": "markdown",
   "metadata": {
    "id": "qU80Nl0wnAt4"
   },
   "source": [
    "### Training."
   ]
  },
  {
   "cell_type": "code",
   "execution_count": null,
   "metadata": {
    "id": "073_OUGDnAt5"
   },
   "outputs": [],
   "source": [
    "easy_train_input_ids = np.load('/content/drive/MyDrive/ARC/Unified QA/easy_train_input_ids.npy')\n",
    "easy_train_attention_mask = np.load('/content/drive/MyDrive/ARC/Unified QA/easy_train_attention_mask.npy')\n",
    "easy_train_decoder_input_ids = np.load('/content/drive/MyDrive/ARC/Unified QA/easy_train_decoder_input_ids.npy')\n",
    "easy_train_labels = np.load('/content/drive/MyDrive/ARC/Unified QA/easy_train_labels.npy')"
   ]
  },
  {
   "cell_type": "code",
   "execution_count": null,
   "metadata": {
    "id": "ac2CO6FknAt5"
   },
   "outputs": [],
   "source": [
    "easy_dev_input_ids = np.load('/content/drive/MyDrive/ARC/Unified QA/easy_dev_input_ids.npy')\n",
    "easy_dev_attention_mask = np.load('/content/drive/MyDrive/ARC/Unified QA/easy_dev_attention_mask.npy')\n",
    "easy_dev_decoder_input_ids = np.load('/content/drive/MyDrive/ARC/Unified QA/easy_dev_decoder_input_ids.npy')\n",
    "easy_dev_labels = np.load('/content/drive/MyDrive/ARC/Unified QA/easy_dev_labels.npy')"
   ]
  },
  {
   "cell_type": "code",
   "execution_count": null,
   "metadata": {
    "id": "jgm_oklXnAt5"
   },
   "outputs": [],
   "source": [
    "easy_test_input_ids = np.load('/content/drive/MyDrive/ARC/Unified QA/easy_test_input_ids.npy')\n",
    "easy_test_attention_mask = np.load('/content/drive/MyDrive/ARC/Unified QA/easy_test_attention_mask.npy')\n",
    "easy_test_labels = np.load('/content/drive/MyDrive/ARC/Unified QA/easy_test_labels.npy')"
   ]
  },
  {
   "cell_type": "code",
   "execution_count": null,
   "metadata": {
    "id": "SzIc0yR7nAt7"
   },
   "outputs": [],
   "source": [
    "import torch\n",
    "from torch.utils.data import Dataset, DataLoader"
   ]
  },
  {
   "cell_type": "code",
   "execution_count": null,
   "metadata": {
    "id": "xoNEM60gnAt7"
   },
   "outputs": [],
   "source": [
    "class arc_dataset(Dataset):\n",
    "\n",
    "    def __init__(self, input_ids, attention_mask, decoder_input_ids, labels):\n",
    "        self.input_ids = input_ids\n",
    "        self.attention_mask = attention_mask\n",
    "        self.decoder_input_ids = decoder_input_ids\n",
    "        self.labels = labels\n",
    "    \n",
    "    def __len__(self):\n",
    "        return len(self.input_ids)\n",
    "    \n",
    "    def __getitem__(self, idx):\n",
    "        if torch.is_tensor(idx):\n",
    "            idx = idx.tolist()\n",
    "        \n",
    "        sample = {'input_ids': self.input_ids[idx],\n",
    "                  'attention_mask': self.attention_mask[idx],\n",
    "                  'decoder_input_ids':self.decoder_input_ids[idx],\n",
    "                  'labels':self.labels[idx]}\n",
    "        \n",
    "        return sample"
   ]
  },
  {
   "cell_type": "code",
   "execution_count": null,
   "metadata": {
    "id": "WAbNUcQSnAt8"
   },
   "outputs": [],
   "source": [
    "train_dataset = arc_dataset(easy_train_input_ids, easy_train_attention_mask, easy_train_decoder_input_ids, easy_train_labels)"
   ]
  },
  {
   "cell_type": "code",
   "execution_count": null,
   "metadata": {
    "id": "jK0Qd730nAt8"
   },
   "outputs": [],
   "source": [
    "dev_dataset = arc_dataset(easy_dev_input_ids, easy_dev_attention_mask, easy_dev_decoder_input_ids, easy_dev_labels)"
   ]
  },
  {
   "cell_type": "code",
   "execution_count": null,
   "metadata": {
    "id": "lfPaFqETnAt8"
   },
   "outputs": [],
   "source": [
    "train_dataloader = DataLoader(train_dataset, batch_size=4, shuffle=True, num_workers=4)\n",
    "dev_dataloader = DataLoader(dev_dataset, batch_size=4, shuffle=True, num_workers=4)"
   ]
  },
  {
   "cell_type": "code",
   "execution_count": null,
   "metadata": {
    "id": "gnb1Sp1FnAt-"
   },
   "outputs": [],
   "source": [
    "from transformers import T5ForConditionalGeneration, AdamW"
   ]
  },
  {
   "cell_type": "code",
   "execution_count": null,
   "metadata": {
    "colab": {
     "base_uri": "https://localhost:8080/",
     "height": 1000,
     "referenced_widgets": [
      "eac3273ea74842a7a1e484d9f9b26588",
      "c26e08d04bc44b0cae83cfe88845c081",
      "a2da8a465e944f6f94d00296913a7a19",
      "235f723567124a31aa77a3d8a18e8923",
      "cdf7e3e94ea04d9bbbf938856f952f78",
      "bdfefefbc9284546a8376cb843be94b2",
      "a24059bb7c9a4ee9adbf28f0f10f6a4c",
      "03634e9ac86e4e15ab65f0fb01d2e0dd",
      "be5ae842bfcc4c759986e7affa91c1a5",
      "fede310f93fe4bebb2bebc48e26d9a14",
      "aea05888c99a4301bd3bb54e560a1c5c",
      "a04b721a9a2741aa8a3d8ce6384129c2",
      "51bbf5291d304308913ae885d0d3872d",
      "8891caf18d1e4d6a83d6972c4076c894",
      "1774bc85d79146d485ff392f48a70226",
      "9cb4e2e27f624216bc816dd3edf3daa2"
     ]
    },
    "id": "sYpYb-ojnAt-",
    "outputId": "44538f20-31cb-4c3f-b93c-98df2aeca310"
   },
   "outputs": [
    {
     "data": {
      "application/vnd.jupyter.widget-view+json": {
       "model_id": "eac3273ea74842a7a1e484d9f9b26588",
       "version_major": 2,
       "version_minor": 0
      },
      "text/plain": [
       "HBox(children=(FloatProgress(value=0.0, description='Downloading', max=1236.0, style=ProgressStyle(description…"
      ]
     },
     "metadata": {
      "tags": []
     },
     "output_type": "display_data"
    },
    {
     "name": "stdout",
     "output_type": "stream",
     "text": [
      "\n"
     ]
    },
    {
     "data": {
      "application/vnd.jupyter.widget-view+json": {
       "model_id": "be5ae842bfcc4c759986e7affa91c1a5",
       "version_major": 2,
       "version_minor": 0
      },
      "text/plain": [
       "HBox(children=(FloatProgress(value=0.0, description='Downloading', max=891736323.0, style=ProgressStyle(descri…"
      ]
     },
     "metadata": {
      "tags": []
     },
     "output_type": "display_data"
    },
    {
     "name": "stdout",
     "output_type": "stream",
     "text": [
      "\n"
     ]
    },
    {
     "name": "stderr",
     "output_type": "stream",
     "text": [
      "Some weights of the model checkpoint at allenai/unifiedqa-t5-base were not used when initializing T5ForConditionalGeneration: ['decoder.block.0.layer.1.EncDecAttention.relative_attention_bias.weight']\n",
      "- This IS expected if you are initializing T5ForConditionalGeneration from the checkpoint of a model trained on another task or with another architecture (e.g. initializing a BertForSequenceClassification model from a BertForPreTraining model).\n",
      "- This IS NOT expected if you are initializing T5ForConditionalGeneration from the checkpoint of a model that you expect to be exactly identical (initializing a BertForSequenceClassification model from a BertForSequenceClassification model).\n"
     ]
    },
    {
     "data": {
      "text/plain": [
       "T5ForConditionalGeneration(\n",
       "  (shared): Embedding(32128, 768)\n",
       "  (encoder): T5Stack(\n",
       "    (embed_tokens): Embedding(32128, 768)\n",
       "    (block): ModuleList(\n",
       "      (0): T5Block(\n",
       "        (layer): ModuleList(\n",
       "          (0): T5LayerSelfAttention(\n",
       "            (SelfAttention): T5Attention(\n",
       "              (q): Linear(in_features=768, out_features=768, bias=False)\n",
       "              (k): Linear(in_features=768, out_features=768, bias=False)\n",
       "              (v): Linear(in_features=768, out_features=768, bias=False)\n",
       "              (o): Linear(in_features=768, out_features=768, bias=False)\n",
       "              (relative_attention_bias): Embedding(32, 12)\n",
       "            )\n",
       "            (layer_norm): T5LayerNorm()\n",
       "            (dropout): Dropout(p=0.1, inplace=False)\n",
       "          )\n",
       "          (1): T5LayerFF(\n",
       "            (DenseReluDense): T5DenseReluDense(\n",
       "              (wi): Linear(in_features=768, out_features=3072, bias=False)\n",
       "              (wo): Linear(in_features=3072, out_features=768, bias=False)\n",
       "              (dropout): Dropout(p=0.1, inplace=False)\n",
       "            )\n",
       "            (layer_norm): T5LayerNorm()\n",
       "            (dropout): Dropout(p=0.1, inplace=False)\n",
       "          )\n",
       "        )\n",
       "      )\n",
       "      (1): T5Block(\n",
       "        (layer): ModuleList(\n",
       "          (0): T5LayerSelfAttention(\n",
       "            (SelfAttention): T5Attention(\n",
       "              (q): Linear(in_features=768, out_features=768, bias=False)\n",
       "              (k): Linear(in_features=768, out_features=768, bias=False)\n",
       "              (v): Linear(in_features=768, out_features=768, bias=False)\n",
       "              (o): Linear(in_features=768, out_features=768, bias=False)\n",
       "            )\n",
       "            (layer_norm): T5LayerNorm()\n",
       "            (dropout): Dropout(p=0.1, inplace=False)\n",
       "          )\n",
       "          (1): T5LayerFF(\n",
       "            (DenseReluDense): T5DenseReluDense(\n",
       "              (wi): Linear(in_features=768, out_features=3072, bias=False)\n",
       "              (wo): Linear(in_features=3072, out_features=768, bias=False)\n",
       "              (dropout): Dropout(p=0.1, inplace=False)\n",
       "            )\n",
       "            (layer_norm): T5LayerNorm()\n",
       "            (dropout): Dropout(p=0.1, inplace=False)\n",
       "          )\n",
       "        )\n",
       "      )\n",
       "      (2): T5Block(\n",
       "        (layer): ModuleList(\n",
       "          (0): T5LayerSelfAttention(\n",
       "            (SelfAttention): T5Attention(\n",
       "              (q): Linear(in_features=768, out_features=768, bias=False)\n",
       "              (k): Linear(in_features=768, out_features=768, bias=False)\n",
       "              (v): Linear(in_features=768, out_features=768, bias=False)\n",
       "              (o): Linear(in_features=768, out_features=768, bias=False)\n",
       "            )\n",
       "            (layer_norm): T5LayerNorm()\n",
       "            (dropout): Dropout(p=0.1, inplace=False)\n",
       "          )\n",
       "          (1): T5LayerFF(\n",
       "            (DenseReluDense): T5DenseReluDense(\n",
       "              (wi): Linear(in_features=768, out_features=3072, bias=False)\n",
       "              (wo): Linear(in_features=3072, out_features=768, bias=False)\n",
       "              (dropout): Dropout(p=0.1, inplace=False)\n",
       "            )\n",
       "            (layer_norm): T5LayerNorm()\n",
       "            (dropout): Dropout(p=0.1, inplace=False)\n",
       "          )\n",
       "        )\n",
       "      )\n",
       "      (3): T5Block(\n",
       "        (layer): ModuleList(\n",
       "          (0): T5LayerSelfAttention(\n",
       "            (SelfAttention): T5Attention(\n",
       "              (q): Linear(in_features=768, out_features=768, bias=False)\n",
       "              (k): Linear(in_features=768, out_features=768, bias=False)\n",
       "              (v): Linear(in_features=768, out_features=768, bias=False)\n",
       "              (o): Linear(in_features=768, out_features=768, bias=False)\n",
       "            )\n",
       "            (layer_norm): T5LayerNorm()\n",
       "            (dropout): Dropout(p=0.1, inplace=False)\n",
       "          )\n",
       "          (1): T5LayerFF(\n",
       "            (DenseReluDense): T5DenseReluDense(\n",
       "              (wi): Linear(in_features=768, out_features=3072, bias=False)\n",
       "              (wo): Linear(in_features=3072, out_features=768, bias=False)\n",
       "              (dropout): Dropout(p=0.1, inplace=False)\n",
       "            )\n",
       "            (layer_norm): T5LayerNorm()\n",
       "            (dropout): Dropout(p=0.1, inplace=False)\n",
       "          )\n",
       "        )\n",
       "      )\n",
       "      (4): T5Block(\n",
       "        (layer): ModuleList(\n",
       "          (0): T5LayerSelfAttention(\n",
       "            (SelfAttention): T5Attention(\n",
       "              (q): Linear(in_features=768, out_features=768, bias=False)\n",
       "              (k): Linear(in_features=768, out_features=768, bias=False)\n",
       "              (v): Linear(in_features=768, out_features=768, bias=False)\n",
       "              (o): Linear(in_features=768, out_features=768, bias=False)\n",
       "            )\n",
       "            (layer_norm): T5LayerNorm()\n",
       "            (dropout): Dropout(p=0.1, inplace=False)\n",
       "          )\n",
       "          (1): T5LayerFF(\n",
       "            (DenseReluDense): T5DenseReluDense(\n",
       "              (wi): Linear(in_features=768, out_features=3072, bias=False)\n",
       "              (wo): Linear(in_features=3072, out_features=768, bias=False)\n",
       "              (dropout): Dropout(p=0.1, inplace=False)\n",
       "            )\n",
       "            (layer_norm): T5LayerNorm()\n",
       "            (dropout): Dropout(p=0.1, inplace=False)\n",
       "          )\n",
       "        )\n",
       "      )\n",
       "      (5): T5Block(\n",
       "        (layer): ModuleList(\n",
       "          (0): T5LayerSelfAttention(\n",
       "            (SelfAttention): T5Attention(\n",
       "              (q): Linear(in_features=768, out_features=768, bias=False)\n",
       "              (k): Linear(in_features=768, out_features=768, bias=False)\n",
       "              (v): Linear(in_features=768, out_features=768, bias=False)\n",
       "              (o): Linear(in_features=768, out_features=768, bias=False)\n",
       "            )\n",
       "            (layer_norm): T5LayerNorm()\n",
       "            (dropout): Dropout(p=0.1, inplace=False)\n",
       "          )\n",
       "          (1): T5LayerFF(\n",
       "            (DenseReluDense): T5DenseReluDense(\n",
       "              (wi): Linear(in_features=768, out_features=3072, bias=False)\n",
       "              (wo): Linear(in_features=3072, out_features=768, bias=False)\n",
       "              (dropout): Dropout(p=0.1, inplace=False)\n",
       "            )\n",
       "            (layer_norm): T5LayerNorm()\n",
       "            (dropout): Dropout(p=0.1, inplace=False)\n",
       "          )\n",
       "        )\n",
       "      )\n",
       "      (6): T5Block(\n",
       "        (layer): ModuleList(\n",
       "          (0): T5LayerSelfAttention(\n",
       "            (SelfAttention): T5Attention(\n",
       "              (q): Linear(in_features=768, out_features=768, bias=False)\n",
       "              (k): Linear(in_features=768, out_features=768, bias=False)\n",
       "              (v): Linear(in_features=768, out_features=768, bias=False)\n",
       "              (o): Linear(in_features=768, out_features=768, bias=False)\n",
       "            )\n",
       "            (layer_norm): T5LayerNorm()\n",
       "            (dropout): Dropout(p=0.1, inplace=False)\n",
       "          )\n",
       "          (1): T5LayerFF(\n",
       "            (DenseReluDense): T5DenseReluDense(\n",
       "              (wi): Linear(in_features=768, out_features=3072, bias=False)\n",
       "              (wo): Linear(in_features=3072, out_features=768, bias=False)\n",
       "              (dropout): Dropout(p=0.1, inplace=False)\n",
       "            )\n",
       "            (layer_norm): T5LayerNorm()\n",
       "            (dropout): Dropout(p=0.1, inplace=False)\n",
       "          )\n",
       "        )\n",
       "      )\n",
       "      (7): T5Block(\n",
       "        (layer): ModuleList(\n",
       "          (0): T5LayerSelfAttention(\n",
       "            (SelfAttention): T5Attention(\n",
       "              (q): Linear(in_features=768, out_features=768, bias=False)\n",
       "              (k): Linear(in_features=768, out_features=768, bias=False)\n",
       "              (v): Linear(in_features=768, out_features=768, bias=False)\n",
       "              (o): Linear(in_features=768, out_features=768, bias=False)\n",
       "            )\n",
       "            (layer_norm): T5LayerNorm()\n",
       "            (dropout): Dropout(p=0.1, inplace=False)\n",
       "          )\n",
       "          (1): T5LayerFF(\n",
       "            (DenseReluDense): T5DenseReluDense(\n",
       "              (wi): Linear(in_features=768, out_features=3072, bias=False)\n",
       "              (wo): Linear(in_features=3072, out_features=768, bias=False)\n",
       "              (dropout): Dropout(p=0.1, inplace=False)\n",
       "            )\n",
       "            (layer_norm): T5LayerNorm()\n",
       "            (dropout): Dropout(p=0.1, inplace=False)\n",
       "          )\n",
       "        )\n",
       "      )\n",
       "      (8): T5Block(\n",
       "        (layer): ModuleList(\n",
       "          (0): T5LayerSelfAttention(\n",
       "            (SelfAttention): T5Attention(\n",
       "              (q): Linear(in_features=768, out_features=768, bias=False)\n",
       "              (k): Linear(in_features=768, out_features=768, bias=False)\n",
       "              (v): Linear(in_features=768, out_features=768, bias=False)\n",
       "              (o): Linear(in_features=768, out_features=768, bias=False)\n",
       "            )\n",
       "            (layer_norm): T5LayerNorm()\n",
       "            (dropout): Dropout(p=0.1, inplace=False)\n",
       "          )\n",
       "          (1): T5LayerFF(\n",
       "            (DenseReluDense): T5DenseReluDense(\n",
       "              (wi): Linear(in_features=768, out_features=3072, bias=False)\n",
       "              (wo): Linear(in_features=3072, out_features=768, bias=False)\n",
       "              (dropout): Dropout(p=0.1, inplace=False)\n",
       "            )\n",
       "            (layer_norm): T5LayerNorm()\n",
       "            (dropout): Dropout(p=0.1, inplace=False)\n",
       "          )\n",
       "        )\n",
       "      )\n",
       "      (9): T5Block(\n",
       "        (layer): ModuleList(\n",
       "          (0): T5LayerSelfAttention(\n",
       "            (SelfAttention): T5Attention(\n",
       "              (q): Linear(in_features=768, out_features=768, bias=False)\n",
       "              (k): Linear(in_features=768, out_features=768, bias=False)\n",
       "              (v): Linear(in_features=768, out_features=768, bias=False)\n",
       "              (o): Linear(in_features=768, out_features=768, bias=False)\n",
       "            )\n",
       "            (layer_norm): T5LayerNorm()\n",
       "            (dropout): Dropout(p=0.1, inplace=False)\n",
       "          )\n",
       "          (1): T5LayerFF(\n",
       "            (DenseReluDense): T5DenseReluDense(\n",
       "              (wi): Linear(in_features=768, out_features=3072, bias=False)\n",
       "              (wo): Linear(in_features=3072, out_features=768, bias=False)\n",
       "              (dropout): Dropout(p=0.1, inplace=False)\n",
       "            )\n",
       "            (layer_norm): T5LayerNorm()\n",
       "            (dropout): Dropout(p=0.1, inplace=False)\n",
       "          )\n",
       "        )\n",
       "      )\n",
       "      (10): T5Block(\n",
       "        (layer): ModuleList(\n",
       "          (0): T5LayerSelfAttention(\n",
       "            (SelfAttention): T5Attention(\n",
       "              (q): Linear(in_features=768, out_features=768, bias=False)\n",
       "              (k): Linear(in_features=768, out_features=768, bias=False)\n",
       "              (v): Linear(in_features=768, out_features=768, bias=False)\n",
       "              (o): Linear(in_features=768, out_features=768, bias=False)\n",
       "            )\n",
       "            (layer_norm): T5LayerNorm()\n",
       "            (dropout): Dropout(p=0.1, inplace=False)\n",
       "          )\n",
       "          (1): T5LayerFF(\n",
       "            (DenseReluDense): T5DenseReluDense(\n",
       "              (wi): Linear(in_features=768, out_features=3072, bias=False)\n",
       "              (wo): Linear(in_features=3072, out_features=768, bias=False)\n",
       "              (dropout): Dropout(p=0.1, inplace=False)\n",
       "            )\n",
       "            (layer_norm): T5LayerNorm()\n",
       "            (dropout): Dropout(p=0.1, inplace=False)\n",
       "          )\n",
       "        )\n",
       "      )\n",
       "      (11): T5Block(\n",
       "        (layer): ModuleList(\n",
       "          (0): T5LayerSelfAttention(\n",
       "            (SelfAttention): T5Attention(\n",
       "              (q): Linear(in_features=768, out_features=768, bias=False)\n",
       "              (k): Linear(in_features=768, out_features=768, bias=False)\n",
       "              (v): Linear(in_features=768, out_features=768, bias=False)\n",
       "              (o): Linear(in_features=768, out_features=768, bias=False)\n",
       "            )\n",
       "            (layer_norm): T5LayerNorm()\n",
       "            (dropout): Dropout(p=0.1, inplace=False)\n",
       "          )\n",
       "          (1): T5LayerFF(\n",
       "            (DenseReluDense): T5DenseReluDense(\n",
       "              (wi): Linear(in_features=768, out_features=3072, bias=False)\n",
       "              (wo): Linear(in_features=3072, out_features=768, bias=False)\n",
       "              (dropout): Dropout(p=0.1, inplace=False)\n",
       "            )\n",
       "            (layer_norm): T5LayerNorm()\n",
       "            (dropout): Dropout(p=0.1, inplace=False)\n",
       "          )\n",
       "        )\n",
       "      )\n",
       "    )\n",
       "    (final_layer_norm): T5LayerNorm()\n",
       "    (dropout): Dropout(p=0.1, inplace=False)\n",
       "  )\n",
       "  (decoder): T5Stack(\n",
       "    (embed_tokens): Embedding(32128, 768)\n",
       "    (block): ModuleList(\n",
       "      (0): T5Block(\n",
       "        (layer): ModuleList(\n",
       "          (0): T5LayerSelfAttention(\n",
       "            (SelfAttention): T5Attention(\n",
       "              (q): Linear(in_features=768, out_features=768, bias=False)\n",
       "              (k): Linear(in_features=768, out_features=768, bias=False)\n",
       "              (v): Linear(in_features=768, out_features=768, bias=False)\n",
       "              (o): Linear(in_features=768, out_features=768, bias=False)\n",
       "              (relative_attention_bias): Embedding(32, 12)\n",
       "            )\n",
       "            (layer_norm): T5LayerNorm()\n",
       "            (dropout): Dropout(p=0.1, inplace=False)\n",
       "          )\n",
       "          (1): T5LayerCrossAttention(\n",
       "            (EncDecAttention): T5Attention(\n",
       "              (q): Linear(in_features=768, out_features=768, bias=False)\n",
       "              (k): Linear(in_features=768, out_features=768, bias=False)\n",
       "              (v): Linear(in_features=768, out_features=768, bias=False)\n",
       "              (o): Linear(in_features=768, out_features=768, bias=False)\n",
       "            )\n",
       "            (layer_norm): T5LayerNorm()\n",
       "            (dropout): Dropout(p=0.1, inplace=False)\n",
       "          )\n",
       "          (2): T5LayerFF(\n",
       "            (DenseReluDense): T5DenseReluDense(\n",
       "              (wi): Linear(in_features=768, out_features=3072, bias=False)\n",
       "              (wo): Linear(in_features=3072, out_features=768, bias=False)\n",
       "              (dropout): Dropout(p=0.1, inplace=False)\n",
       "            )\n",
       "            (layer_norm): T5LayerNorm()\n",
       "            (dropout): Dropout(p=0.1, inplace=False)\n",
       "          )\n",
       "        )\n",
       "      )\n",
       "      (1): T5Block(\n",
       "        (layer): ModuleList(\n",
       "          (0): T5LayerSelfAttention(\n",
       "            (SelfAttention): T5Attention(\n",
       "              (q): Linear(in_features=768, out_features=768, bias=False)\n",
       "              (k): Linear(in_features=768, out_features=768, bias=False)\n",
       "              (v): Linear(in_features=768, out_features=768, bias=False)\n",
       "              (o): Linear(in_features=768, out_features=768, bias=False)\n",
       "            )\n",
       "            (layer_norm): T5LayerNorm()\n",
       "            (dropout): Dropout(p=0.1, inplace=False)\n",
       "          )\n",
       "          (1): T5LayerCrossAttention(\n",
       "            (EncDecAttention): T5Attention(\n",
       "              (q): Linear(in_features=768, out_features=768, bias=False)\n",
       "              (k): Linear(in_features=768, out_features=768, bias=False)\n",
       "              (v): Linear(in_features=768, out_features=768, bias=False)\n",
       "              (o): Linear(in_features=768, out_features=768, bias=False)\n",
       "            )\n",
       "            (layer_norm): T5LayerNorm()\n",
       "            (dropout): Dropout(p=0.1, inplace=False)\n",
       "          )\n",
       "          (2): T5LayerFF(\n",
       "            (DenseReluDense): T5DenseReluDense(\n",
       "              (wi): Linear(in_features=768, out_features=3072, bias=False)\n",
       "              (wo): Linear(in_features=3072, out_features=768, bias=False)\n",
       "              (dropout): Dropout(p=0.1, inplace=False)\n",
       "            )\n",
       "            (layer_norm): T5LayerNorm()\n",
       "            (dropout): Dropout(p=0.1, inplace=False)\n",
       "          )\n",
       "        )\n",
       "      )\n",
       "      (2): T5Block(\n",
       "        (layer): ModuleList(\n",
       "          (0): T5LayerSelfAttention(\n",
       "            (SelfAttention): T5Attention(\n",
       "              (q): Linear(in_features=768, out_features=768, bias=False)\n",
       "              (k): Linear(in_features=768, out_features=768, bias=False)\n",
       "              (v): Linear(in_features=768, out_features=768, bias=False)\n",
       "              (o): Linear(in_features=768, out_features=768, bias=False)\n",
       "            )\n",
       "            (layer_norm): T5LayerNorm()\n",
       "            (dropout): Dropout(p=0.1, inplace=False)\n",
       "          )\n",
       "          (1): T5LayerCrossAttention(\n",
       "            (EncDecAttention): T5Attention(\n",
       "              (q): Linear(in_features=768, out_features=768, bias=False)\n",
       "              (k): Linear(in_features=768, out_features=768, bias=False)\n",
       "              (v): Linear(in_features=768, out_features=768, bias=False)\n",
       "              (o): Linear(in_features=768, out_features=768, bias=False)\n",
       "            )\n",
       "            (layer_norm): T5LayerNorm()\n",
       "            (dropout): Dropout(p=0.1, inplace=False)\n",
       "          )\n",
       "          (2): T5LayerFF(\n",
       "            (DenseReluDense): T5DenseReluDense(\n",
       "              (wi): Linear(in_features=768, out_features=3072, bias=False)\n",
       "              (wo): Linear(in_features=3072, out_features=768, bias=False)\n",
       "              (dropout): Dropout(p=0.1, inplace=False)\n",
       "            )\n",
       "            (layer_norm): T5LayerNorm()\n",
       "            (dropout): Dropout(p=0.1, inplace=False)\n",
       "          )\n",
       "        )\n",
       "      )\n",
       "      (3): T5Block(\n",
       "        (layer): ModuleList(\n",
       "          (0): T5LayerSelfAttention(\n",
       "            (SelfAttention): T5Attention(\n",
       "              (q): Linear(in_features=768, out_features=768, bias=False)\n",
       "              (k): Linear(in_features=768, out_features=768, bias=False)\n",
       "              (v): Linear(in_features=768, out_features=768, bias=False)\n",
       "              (o): Linear(in_features=768, out_features=768, bias=False)\n",
       "            )\n",
       "            (layer_norm): T5LayerNorm()\n",
       "            (dropout): Dropout(p=0.1, inplace=False)\n",
       "          )\n",
       "          (1): T5LayerCrossAttention(\n",
       "            (EncDecAttention): T5Attention(\n",
       "              (q): Linear(in_features=768, out_features=768, bias=False)\n",
       "              (k): Linear(in_features=768, out_features=768, bias=False)\n",
       "              (v): Linear(in_features=768, out_features=768, bias=False)\n",
       "              (o): Linear(in_features=768, out_features=768, bias=False)\n",
       "            )\n",
       "            (layer_norm): T5LayerNorm()\n",
       "            (dropout): Dropout(p=0.1, inplace=False)\n",
       "          )\n",
       "          (2): T5LayerFF(\n",
       "            (DenseReluDense): T5DenseReluDense(\n",
       "              (wi): Linear(in_features=768, out_features=3072, bias=False)\n",
       "              (wo): Linear(in_features=3072, out_features=768, bias=False)\n",
       "              (dropout): Dropout(p=0.1, inplace=False)\n",
       "            )\n",
       "            (layer_norm): T5LayerNorm()\n",
       "            (dropout): Dropout(p=0.1, inplace=False)\n",
       "          )\n",
       "        )\n",
       "      )\n",
       "      (4): T5Block(\n",
       "        (layer): ModuleList(\n",
       "          (0): T5LayerSelfAttention(\n",
       "            (SelfAttention): T5Attention(\n",
       "              (q): Linear(in_features=768, out_features=768, bias=False)\n",
       "              (k): Linear(in_features=768, out_features=768, bias=False)\n",
       "              (v): Linear(in_features=768, out_features=768, bias=False)\n",
       "              (o): Linear(in_features=768, out_features=768, bias=False)\n",
       "            )\n",
       "            (layer_norm): T5LayerNorm()\n",
       "            (dropout): Dropout(p=0.1, inplace=False)\n",
       "          )\n",
       "          (1): T5LayerCrossAttention(\n",
       "            (EncDecAttention): T5Attention(\n",
       "              (q): Linear(in_features=768, out_features=768, bias=False)\n",
       "              (k): Linear(in_features=768, out_features=768, bias=False)\n",
       "              (v): Linear(in_features=768, out_features=768, bias=False)\n",
       "              (o): Linear(in_features=768, out_features=768, bias=False)\n",
       "            )\n",
       "            (layer_norm): T5LayerNorm()\n",
       "            (dropout): Dropout(p=0.1, inplace=False)\n",
       "          )\n",
       "          (2): T5LayerFF(\n",
       "            (DenseReluDense): T5DenseReluDense(\n",
       "              (wi): Linear(in_features=768, out_features=3072, bias=False)\n",
       "              (wo): Linear(in_features=3072, out_features=768, bias=False)\n",
       "              (dropout): Dropout(p=0.1, inplace=False)\n",
       "            )\n",
       "            (layer_norm): T5LayerNorm()\n",
       "            (dropout): Dropout(p=0.1, inplace=False)\n",
       "          )\n",
       "        )\n",
       "      )\n",
       "      (5): T5Block(\n",
       "        (layer): ModuleList(\n",
       "          (0): T5LayerSelfAttention(\n",
       "            (SelfAttention): T5Attention(\n",
       "              (q): Linear(in_features=768, out_features=768, bias=False)\n",
       "              (k): Linear(in_features=768, out_features=768, bias=False)\n",
       "              (v): Linear(in_features=768, out_features=768, bias=False)\n",
       "              (o): Linear(in_features=768, out_features=768, bias=False)\n",
       "            )\n",
       "            (layer_norm): T5LayerNorm()\n",
       "            (dropout): Dropout(p=0.1, inplace=False)\n",
       "          )\n",
       "          (1): T5LayerCrossAttention(\n",
       "            (EncDecAttention): T5Attention(\n",
       "              (q): Linear(in_features=768, out_features=768, bias=False)\n",
       "              (k): Linear(in_features=768, out_features=768, bias=False)\n",
       "              (v): Linear(in_features=768, out_features=768, bias=False)\n",
       "              (o): Linear(in_features=768, out_features=768, bias=False)\n",
       "            )\n",
       "            (layer_norm): T5LayerNorm()\n",
       "            (dropout): Dropout(p=0.1, inplace=False)\n",
       "          )\n",
       "          (2): T5LayerFF(\n",
       "            (DenseReluDense): T5DenseReluDense(\n",
       "              (wi): Linear(in_features=768, out_features=3072, bias=False)\n",
       "              (wo): Linear(in_features=3072, out_features=768, bias=False)\n",
       "              (dropout): Dropout(p=0.1, inplace=False)\n",
       "            )\n",
       "            (layer_norm): T5LayerNorm()\n",
       "            (dropout): Dropout(p=0.1, inplace=False)\n",
       "          )\n",
       "        )\n",
       "      )\n",
       "      (6): T5Block(\n",
       "        (layer): ModuleList(\n",
       "          (0): T5LayerSelfAttention(\n",
       "            (SelfAttention): T5Attention(\n",
       "              (q): Linear(in_features=768, out_features=768, bias=False)\n",
       "              (k): Linear(in_features=768, out_features=768, bias=False)\n",
       "              (v): Linear(in_features=768, out_features=768, bias=False)\n",
       "              (o): Linear(in_features=768, out_features=768, bias=False)\n",
       "            )\n",
       "            (layer_norm): T5LayerNorm()\n",
       "            (dropout): Dropout(p=0.1, inplace=False)\n",
       "          )\n",
       "          (1): T5LayerCrossAttention(\n",
       "            (EncDecAttention): T5Attention(\n",
       "              (q): Linear(in_features=768, out_features=768, bias=False)\n",
       "              (k): Linear(in_features=768, out_features=768, bias=False)\n",
       "              (v): Linear(in_features=768, out_features=768, bias=False)\n",
       "              (o): Linear(in_features=768, out_features=768, bias=False)\n",
       "            )\n",
       "            (layer_norm): T5LayerNorm()\n",
       "            (dropout): Dropout(p=0.1, inplace=False)\n",
       "          )\n",
       "          (2): T5LayerFF(\n",
       "            (DenseReluDense): T5DenseReluDense(\n",
       "              (wi): Linear(in_features=768, out_features=3072, bias=False)\n",
       "              (wo): Linear(in_features=3072, out_features=768, bias=False)\n",
       "              (dropout): Dropout(p=0.1, inplace=False)\n",
       "            )\n",
       "            (layer_norm): T5LayerNorm()\n",
       "            (dropout): Dropout(p=0.1, inplace=False)\n",
       "          )\n",
       "        )\n",
       "      )\n",
       "      (7): T5Block(\n",
       "        (layer): ModuleList(\n",
       "          (0): T5LayerSelfAttention(\n",
       "            (SelfAttention): T5Attention(\n",
       "              (q): Linear(in_features=768, out_features=768, bias=False)\n",
       "              (k): Linear(in_features=768, out_features=768, bias=False)\n",
       "              (v): Linear(in_features=768, out_features=768, bias=False)\n",
       "              (o): Linear(in_features=768, out_features=768, bias=False)\n",
       "            )\n",
       "            (layer_norm): T5LayerNorm()\n",
       "            (dropout): Dropout(p=0.1, inplace=False)\n",
       "          )\n",
       "          (1): T5LayerCrossAttention(\n",
       "            (EncDecAttention): T5Attention(\n",
       "              (q): Linear(in_features=768, out_features=768, bias=False)\n",
       "              (k): Linear(in_features=768, out_features=768, bias=False)\n",
       "              (v): Linear(in_features=768, out_features=768, bias=False)\n",
       "              (o): Linear(in_features=768, out_features=768, bias=False)\n",
       "            )\n",
       "            (layer_norm): T5LayerNorm()\n",
       "            (dropout): Dropout(p=0.1, inplace=False)\n",
       "          )\n",
       "          (2): T5LayerFF(\n",
       "            (DenseReluDense): T5DenseReluDense(\n",
       "              (wi): Linear(in_features=768, out_features=3072, bias=False)\n",
       "              (wo): Linear(in_features=3072, out_features=768, bias=False)\n",
       "              (dropout): Dropout(p=0.1, inplace=False)\n",
       "            )\n",
       "            (layer_norm): T5LayerNorm()\n",
       "            (dropout): Dropout(p=0.1, inplace=False)\n",
       "          )\n",
       "        )\n",
       "      )\n",
       "      (8): T5Block(\n",
       "        (layer): ModuleList(\n",
       "          (0): T5LayerSelfAttention(\n",
       "            (SelfAttention): T5Attention(\n",
       "              (q): Linear(in_features=768, out_features=768, bias=False)\n",
       "              (k): Linear(in_features=768, out_features=768, bias=False)\n",
       "              (v): Linear(in_features=768, out_features=768, bias=False)\n",
       "              (o): Linear(in_features=768, out_features=768, bias=False)\n",
       "            )\n",
       "            (layer_norm): T5LayerNorm()\n",
       "            (dropout): Dropout(p=0.1, inplace=False)\n",
       "          )\n",
       "          (1): T5LayerCrossAttention(\n",
       "            (EncDecAttention): T5Attention(\n",
       "              (q): Linear(in_features=768, out_features=768, bias=False)\n",
       "              (k): Linear(in_features=768, out_features=768, bias=False)\n",
       "              (v): Linear(in_features=768, out_features=768, bias=False)\n",
       "              (o): Linear(in_features=768, out_features=768, bias=False)\n",
       "            )\n",
       "            (layer_norm): T5LayerNorm()\n",
       "            (dropout): Dropout(p=0.1, inplace=False)\n",
       "          )\n",
       "          (2): T5LayerFF(\n",
       "            (DenseReluDense): T5DenseReluDense(\n",
       "              (wi): Linear(in_features=768, out_features=3072, bias=False)\n",
       "              (wo): Linear(in_features=3072, out_features=768, bias=False)\n",
       "              (dropout): Dropout(p=0.1, inplace=False)\n",
       "            )\n",
       "            (layer_norm): T5LayerNorm()\n",
       "            (dropout): Dropout(p=0.1, inplace=False)\n",
       "          )\n",
       "        )\n",
       "      )\n",
       "      (9): T5Block(\n",
       "        (layer): ModuleList(\n",
       "          (0): T5LayerSelfAttention(\n",
       "            (SelfAttention): T5Attention(\n",
       "              (q): Linear(in_features=768, out_features=768, bias=False)\n",
       "              (k): Linear(in_features=768, out_features=768, bias=False)\n",
       "              (v): Linear(in_features=768, out_features=768, bias=False)\n",
       "              (o): Linear(in_features=768, out_features=768, bias=False)\n",
       "            )\n",
       "            (layer_norm): T5LayerNorm()\n",
       "            (dropout): Dropout(p=0.1, inplace=False)\n",
       "          )\n",
       "          (1): T5LayerCrossAttention(\n",
       "            (EncDecAttention): T5Attention(\n",
       "              (q): Linear(in_features=768, out_features=768, bias=False)\n",
       "              (k): Linear(in_features=768, out_features=768, bias=False)\n",
       "              (v): Linear(in_features=768, out_features=768, bias=False)\n",
       "              (o): Linear(in_features=768, out_features=768, bias=False)\n",
       "            )\n",
       "            (layer_norm): T5LayerNorm()\n",
       "            (dropout): Dropout(p=0.1, inplace=False)\n",
       "          )\n",
       "          (2): T5LayerFF(\n",
       "            (DenseReluDense): T5DenseReluDense(\n",
       "              (wi): Linear(in_features=768, out_features=3072, bias=False)\n",
       "              (wo): Linear(in_features=3072, out_features=768, bias=False)\n",
       "              (dropout): Dropout(p=0.1, inplace=False)\n",
       "            )\n",
       "            (layer_norm): T5LayerNorm()\n",
       "            (dropout): Dropout(p=0.1, inplace=False)\n",
       "          )\n",
       "        )\n",
       "      )\n",
       "      (10): T5Block(\n",
       "        (layer): ModuleList(\n",
       "          (0): T5LayerSelfAttention(\n",
       "            (SelfAttention): T5Attention(\n",
       "              (q): Linear(in_features=768, out_features=768, bias=False)\n",
       "              (k): Linear(in_features=768, out_features=768, bias=False)\n",
       "              (v): Linear(in_features=768, out_features=768, bias=False)\n",
       "              (o): Linear(in_features=768, out_features=768, bias=False)\n",
       "            )\n",
       "            (layer_norm): T5LayerNorm()\n",
       "            (dropout): Dropout(p=0.1, inplace=False)\n",
       "          )\n",
       "          (1): T5LayerCrossAttention(\n",
       "            (EncDecAttention): T5Attention(\n",
       "              (q): Linear(in_features=768, out_features=768, bias=False)\n",
       "              (k): Linear(in_features=768, out_features=768, bias=False)\n",
       "              (v): Linear(in_features=768, out_features=768, bias=False)\n",
       "              (o): Linear(in_features=768, out_features=768, bias=False)\n",
       "            )\n",
       "            (layer_norm): T5LayerNorm()\n",
       "            (dropout): Dropout(p=0.1, inplace=False)\n",
       "          )\n",
       "          (2): T5LayerFF(\n",
       "            (DenseReluDense): T5DenseReluDense(\n",
       "              (wi): Linear(in_features=768, out_features=3072, bias=False)\n",
       "              (wo): Linear(in_features=3072, out_features=768, bias=False)\n",
       "              (dropout): Dropout(p=0.1, inplace=False)\n",
       "            )\n",
       "            (layer_norm): T5LayerNorm()\n",
       "            (dropout): Dropout(p=0.1, inplace=False)\n",
       "          )\n",
       "        )\n",
       "      )\n",
       "      (11): T5Block(\n",
       "        (layer): ModuleList(\n",
       "          (0): T5LayerSelfAttention(\n",
       "            (SelfAttention): T5Attention(\n",
       "              (q): Linear(in_features=768, out_features=768, bias=False)\n",
       "              (k): Linear(in_features=768, out_features=768, bias=False)\n",
       "              (v): Linear(in_features=768, out_features=768, bias=False)\n",
       "              (o): Linear(in_features=768, out_features=768, bias=False)\n",
       "            )\n",
       "            (layer_norm): T5LayerNorm()\n",
       "            (dropout): Dropout(p=0.1, inplace=False)\n",
       "          )\n",
       "          (1): T5LayerCrossAttention(\n",
       "            (EncDecAttention): T5Attention(\n",
       "              (q): Linear(in_features=768, out_features=768, bias=False)\n",
       "              (k): Linear(in_features=768, out_features=768, bias=False)\n",
       "              (v): Linear(in_features=768, out_features=768, bias=False)\n",
       "              (o): Linear(in_features=768, out_features=768, bias=False)\n",
       "            )\n",
       "            (layer_norm): T5LayerNorm()\n",
       "            (dropout): Dropout(p=0.1, inplace=False)\n",
       "          )\n",
       "          (2): T5LayerFF(\n",
       "            (DenseReluDense): T5DenseReluDense(\n",
       "              (wi): Linear(in_features=768, out_features=3072, bias=False)\n",
       "              (wo): Linear(in_features=3072, out_features=768, bias=False)\n",
       "              (dropout): Dropout(p=0.1, inplace=False)\n",
       "            )\n",
       "            (layer_norm): T5LayerNorm()\n",
       "            (dropout): Dropout(p=0.1, inplace=False)\n",
       "          )\n",
       "        )\n",
       "      )\n",
       "    )\n",
       "    (final_layer_norm): T5LayerNorm()\n",
       "    (dropout): Dropout(p=0.1, inplace=False)\n",
       "  )\n",
       "  (lm_head): Linear(in_features=768, out_features=32128, bias=False)\n",
       ")"
      ]
     },
     "execution_count": 13,
     "metadata": {
      "tags": []
     },
     "output_type": "execute_result"
    }
   ],
   "source": [
    "device = torch.device(\"cuda\" if torch.cuda.is_available() else \"cpu\")\n",
    "model = T5ForConditionalGeneration.from_pretrained(\"allenai/unifiedqa-t5-base\")\n",
    "\n",
    "model.cuda()"
   ]
  },
  {
   "cell_type": "code",
   "execution_count": null,
   "metadata": {
    "id": "0jNiEF96X7f5"
   },
   "outputs": [],
   "source": [
    "from transformers import get_linear_schedule_with_warmup"
   ]
  },
  {
   "cell_type": "code",
   "execution_count": null,
   "metadata": {
    "id": "qpk60giznAt-"
   },
   "outputs": [],
   "source": [
    "# This variable contains all of the hyperparemeter information our training loop needs\n",
    "# Parameters:\n",
    "lr = 1e-4\n",
    "max_grad_norm = 1.0\n",
    "num_training_steps = 1000\n",
    "num_warmup_steps = 100\n",
    "warmup_proportion = float(num_warmup_steps) / float(num_training_steps)  # 0.1\n",
    "\n",
    "### In Transformers, optimizer and schedules are splitted and instantiated like this:\n",
    "optimizer = AdamW(model.parameters(), lr=lr)  # To reproduce BertAdam specific behavior set correct_bias=False\n",
    "scheduler = get_linear_schedule_with_warmup(optimizer, num_warmup_steps=num_warmup_steps, num_training_steps=num_training_steps)  # PyTorch scheduler\n",
    "\n",
    "# Store our loss and accuracy for plotting\n",
    "train_loss_set = []"
   ]
  },
  {
   "cell_type": "code",
   "execution_count": null,
   "metadata": {
    "id": "arB7FJDytc3i"
   },
   "outputs": [],
   "source": [
    "# Number of training epochs (authors recommend between 2 and 4)\n",
    "epochs = 4"
   ]
  },
  {
   "cell_type": "code",
   "execution_count": null,
   "metadata": {
    "colab": {
     "base_uri": "https://localhost:8080/"
    },
    "id": "lVi3RLLCtaCi",
    "outputId": "3b063fc8-8c1f-42ea-8ae3-d404d2c1ed90"
   },
   "outputs": [
    {
     "name": "stdout",
     "output_type": "stream",
     "text": [
      "Epoch:0 Batch:99 Loss:0.27922549843788147\n",
      "Epoch:0 Batch:199 Loss:0.07268071174621582\n",
      "Epoch:0 Batch:299 Loss:0.10768556594848633\n",
      "Epoch:0 Batch:399 Loss:0.05161546543240547\n",
      "Epoch:0 Batch:499 Loss:0.13190971314907074\n",
      "Epoch:1 Batch:99 Loss:0.05984129756689072\n",
      "Epoch:1 Batch:199 Loss:0.07223325222730637\n",
      "Epoch:1 Batch:299 Loss:0.003910482861101627\n",
      "Epoch:1 Batch:399 Loss:0.07332498580217361\n",
      "Epoch:1 Batch:499 Loss:0.10768122225999832\n",
      "Epoch:2 Batch:99 Loss:0.00032124866265803576\n",
      "Epoch:2 Batch:199 Loss:0.052936945110559464\n",
      "Epoch:2 Batch:299 Loss:0.05737551301717758\n",
      "Epoch:2 Batch:399 Loss:0.0011466998839750886\n",
      "Epoch:2 Batch:499 Loss:0.029311392456293106\n",
      "Epoch:3 Batch:99 Loss:0.047593243420124054\n",
      "Epoch:3 Batch:199 Loss:0.00819129403680563\n",
      "Epoch:3 Batch:299 Loss:0.044628120958805084\n",
      "Epoch:3 Batch:399 Loss:2.61419263551943e-05\n",
      "Epoch:3 Batch:499 Loss:0.018908299505710602\n",
      "Training finished.\n"
     ]
    }
   ],
   "source": [
    "for epoch in range(epochs):\n",
    "    # Training\n",
    "    # Set our model to training mode (as opposed to evaluation mode)\n",
    "    model.train()\n",
    "    # Tracking variables\n",
    "    tr_loss = 0\n",
    "    nb_tr_examples, nb_tr_steps = 0, 0\n",
    "\n",
    "    running_loss = 0\n",
    "\n",
    "    # Train the data for one epoch\n",
    "    for step, batch in enumerate(train_dataloader):\n",
    "        # Add batch to GPU\n",
    "        # batch = tuple(t.to(device) for t in batch)\n",
    "\n",
    "        # Unpack the inputs from our dataloader\n",
    "        b_input_ids, b_input_mask, b_decoder_ids, b_labels = batch['input_ids'], batch['attention_mask'], batch['decoder_input_ids'], batch['labels']\n",
    "\n",
    "        ###############Bug fix code####################\n",
    "        b_input_ids = b_input_ids.type(torch.LongTensor)\n",
    "        b_input_mask = b_input_mask.type(torch.LongTensor)\n",
    "        b_decoder_ids = b_decoder_ids.type(torch.LongTensor)\n",
    "        b_labels = b_labels.type(torch.LongTensor)\n",
    "\n",
    "        b_input_ids = b_input_ids.to(device)\n",
    "        b_input_mask = b_input_mask.to(device)\n",
    "        b_decoder_ids = b_decoder_ids.to(device)\n",
    "        b_labels = b_labels.to(device)\n",
    "         ############################################\n",
    "        # Clear out the gradients (by default they accumulate)\n",
    "        optimizer.zero_grad()\n",
    "        \n",
    "        # Forward pass\n",
    "        outputs = model(input_ids = b_input_ids, attention_mask=b_input_mask, decoder_input_ids=b_decoder_ids, labels=b_labels)\n",
    "        loss, logits = outputs[:2]\n",
    "\n",
    "        loss.backward()\n",
    "        torch.nn.utils.clip_grad_norm_(model.parameters(), max_grad_norm)  # Gradient clipping is not in AdamW anymore (so you can use amp without issue)\n",
    "        optimizer.step()\n",
    "        scheduler.step()\n",
    "\n",
    "        running_loss = loss.item()\n",
    "\n",
    "        if step%100 == 99:\n",
    "            print(f'Epoch:{epoch} Batch:{step} Loss:{running_loss}')\n",
    "            running_loss = 0\n",
    "\n",
    "print('Training finished.')"
   ]
  },
  {
   "cell_type": "code",
   "execution_count": null,
   "metadata": {
    "colab": {
     "base_uri": "https://localhost:8080/"
    },
    "id": "zSyt8G_MLenZ",
    "outputId": "5823517c-ff27-4c8f-c324-2df9213d03e4"
   },
   "outputs": [
    {
     "data": {
      "text/plain": [
       "tensor(0.0240, device='cuda:0', grad_fn=<NllLossBackward>)"
      ]
     },
     "execution_count": 19,
     "metadata": {
      "tags": []
     },
     "output_type": "execute_result"
    }
   ],
   "source": [
    "loss"
   ]
  },
  {
   "cell_type": "code",
   "execution_count": null,
   "metadata": {
    "id": "1Y5uewrhnAt_"
   },
   "outputs": [],
   "source": [
    "model.save_pretrained('/content/drive/MyDrive/Unified_QA_2')"
   ]
  },
  {
   "cell_type": "markdown",
   "metadata": {
    "id": "RhRNpivwnAt_"
   },
   "source": [
    "### Inference."
   ]
  },
  {
   "cell_type": "code",
   "execution_count": null,
   "metadata": {
    "id": "QbC5g9rznAuA"
   },
   "outputs": [],
   "source": [
    "from transformers import T5ForConditionalGeneration\n",
    "\n",
    "model = T5ForConditionalGeneration.from_pretrained('/content/drive/MyDrive/Unified_QA_2').to('cuda')"
   ]
  },
  {
   "cell_type": "code",
   "execution_count": null,
   "metadata": {
    "colab": {
     "base_uri": "https://localhost:8080/",
     "height": 164,
     "referenced_widgets": [
      "b6fc3787559e48aba58763f9bde41def",
      "3a648a5079624e3f8e718500cafce78c",
      "6359948bdcfb4411b5df430fd7ffdb60",
      "94e4f7b70108466bb3cd13ca69fd7c1e",
      "4bdc3eade4cd47ae8e7757fca7e650fc",
      "37a39cb2a14548be90c2f20e6bdcbf1c",
      "46ba39913584437c894ec74bea0f8d66",
      "c895155b696d4114906dc986949ff6c9",
      "ed4013e73cd54e1e9d8b3444a08ae507",
      "d9a9e43476f946c0bfcacad1682e2a59",
      "adaf9fb9c646458d9b1bd3fae2da6548",
      "2710710ccadc4c2990753e6bb5b847a1",
      "7b160992186a4a37a139777ddf9dc3af",
      "f64b726b3c4743c993e29242b85f5161",
      "1bb3f5084b2f45068b58faec7890d284",
      "f3254585e019431a8ee8a268fc489a14",
      "6d6bbd24c2294a03994b81e96f763476",
      "2ed6fbe3bf45449998e307525cbd0a9a",
      "e7d14d6a450e49e0aeabc1e9f6b2e4cd",
      "380f922cea79467290d1ebc2ed61bc19",
      "c5e10070d6a0457494dbc5218dbeafce",
      "00ad34e12bdf4eebbf86d6a0a751c5f9",
      "8cfabbaff29d4ab0832841aec8f15424",
      "dd229f7dee274b2cb4f03649c8046839"
     ]
    },
    "id": "e0S32NZqLV8a",
    "outputId": "42e00ca6-af28-457a-8eb3-786e68f54bc7"
   },
   "outputs": [
    {
     "data": {
      "application/vnd.jupyter.widget-view+json": {
       "model_id": "b6fc3787559e48aba58763f9bde41def",
       "version_major": 2,
       "version_minor": 0
      },
      "text/plain": [
       "HBox(children=(FloatProgress(value=0.0, description='Downloading', max=1197.0, style=ProgressStyle(description…"
      ]
     },
     "metadata": {
      "tags": []
     },
     "output_type": "display_data"
    },
    {
     "name": "stdout",
     "output_type": "stream",
     "text": [
      "\n"
     ]
    },
    {
     "data": {
      "application/vnd.jupyter.widget-view+json": {
       "model_id": "ed4013e73cd54e1e9d8b3444a08ae507",
       "version_major": 2,
       "version_minor": 0
      },
      "text/plain": [
       "HBox(children=(FloatProgress(value=0.0, description='Downloading', max=791656.0, style=ProgressStyle(descripti…"
      ]
     },
     "metadata": {
      "tags": []
     },
     "output_type": "display_data"
    },
    {
     "name": "stdout",
     "output_type": "stream",
     "text": [
      "\n"
     ]
    },
    {
     "data": {
      "application/vnd.jupyter.widget-view+json": {
       "model_id": "6d6bbd24c2294a03994b81e96f763476",
       "version_major": 2,
       "version_minor": 0
      },
      "text/plain": [
       "HBox(children=(FloatProgress(value=0.0, description='Downloading', max=1389353.0, style=ProgressStyle(descript…"
      ]
     },
     "metadata": {
      "tags": []
     },
     "output_type": "display_data"
    },
    {
     "name": "stdout",
     "output_type": "stream",
     "text": [
      "\n"
     ]
    }
   ],
   "source": [
    "from transformers import AutoTokenizer\n",
    "\n",
    "tokenizer = AutoTokenizer.from_pretrained(\"t5-small\")"
   ]
  },
  {
   "cell_type": "code",
   "execution_count": null,
   "metadata": {
    "id": "63PS_9CInAuB"
   },
   "outputs": [],
   "source": [
    "def run_model(input_ids, **generator_args):\n",
    "    global tokenizer\n",
    "    res = model.generate(input_ids, **generator_args)\n",
    "    return [tokenizer.decode(x) for x in res]"
   ]
  },
  {
   "cell_type": "code",
   "execution_count": null,
   "metadata": {
    "id": "oeEsyWlxnAuB"
   },
   "outputs": [],
   "source": [
    "def predict(array_of_input_ids, options_list):\n",
    "    '''\n",
    "    This function takes list of string. Each string is a pair of question and \n",
    "    answers separated using \\n(all lower cased). \n",
    "    For example: \n",
    "    which of the following is an example of a physical change? \\n (a) lighting a match (b) breaking a glass (c) burning of gasoline (d) rusting of iron\n",
    "\n",
    "    label_map = {'A':0,\n",
    "                'B':1,\n",
    "                'C':2,\n",
    "                'D':3,\n",
    "                'E':4,\n",
    "                '1':0,\n",
    "                '2':1,\n",
    "                '3':2,\n",
    "                '4':3,\n",
    "                '5':4}\n",
    "\n",
    "    This function will return predicted option. All answers are converted to 0, 1, 2, 3 and 4. \n",
    "\n",
    "    '''\n",
    "    preds = [] # List to store all predicted labels.\n",
    "        \n",
    "    for i in range(len(array_of_input_ids)):\n",
    "\n",
    "        # Converting input ids to torch tensor of Long type.\n",
    "        input_ids = torch.from_numpy(array_of_input_ids[i]).type(torch.LongTensor).to('cuda')\n",
    "\n",
    "        pred = run_model(input_ids.reshape((1,-1)))[0] #Reshaping because model takes input like (batch_size, sequence_length)\n",
    "\n",
    "        #Pred is in the form like '<pad> answer </s>'. So we have to remove <pad> and </s>.\n",
    "        pred = pred.replace('<pad>','')\n",
    "        pred = pred.replace('</s>','')\n",
    "        pred = pred.lstrip()\n",
    "\n",
    "        options_list_i = options_list[i]\n",
    "\n",
    "        label = None\n",
    "        for j in range(len(options_list_i)):\n",
    "            if pred in options_list_i[j]:\n",
    "                label = j\n",
    "        \n",
    "        if label == None:\n",
    "            label = random.randint(0,4)       \n",
    "\n",
    "        preds.append(label)\n",
    "\n",
    "    return preds"
   ]
  },
  {
   "cell_type": "code",
   "execution_count": null,
   "metadata": {
    "id": "2oDNqHMsfJFL"
   },
   "outputs": [],
   "source": [
    "easy_train_preds = predict(easy_train_input_ids, df_easy_train['options_list'].values)"
   ]
  },
  {
   "cell_type": "code",
   "execution_count": null,
   "metadata": {
    "id": "BllJIT-sfJVE"
   },
   "outputs": [],
   "source": [
    "easy_dev_preds = predict(easy_dev_input_ids, df_easy_dev['options_list'].values)"
   ]
  },
  {
   "cell_type": "code",
   "execution_count": null,
   "metadata": {
    "id": "4SKPFYyxBAG3"
   },
   "outputs": [],
   "source": [
    "easy_test_preds = predict(easy_test_input_ids, df_easy_test['options_list'].values)"
   ]
  },
  {
   "cell_type": "code",
   "execution_count": null,
   "metadata": {
    "colab": {
     "base_uri": "https://localhost:8080/"
    },
    "id": "RouG8HtInAuD",
    "outputId": "6adf9927-2482-4a90-cf5a-ecd6fcd14cc3"
   },
   "outputs": [
    {
     "name": "stdout",
     "output_type": "stream",
     "text": [
      "Easy train accuracy is 0.9098178587294535\n",
      "Easy dev accuracy score is 0.47368421052631576\n",
      "Easy test accuracy score is 0.4802188552188552\n"
     ]
    }
   ],
   "source": [
    "a = accuracy_score(easy_train_labels, easy_train_preds)\n",
    "print(f'Easy train accuracy is {a}')\n",
    "\n",
    "b = accuracy_score(easy_dev_labels, easy_dev_preds)\n",
    "print(f'Easy dev accuracy score is {b}')\n",
    "\n",
    "c = accuracy_score(easy_test_labels, easy_test_preds)\n",
    "print(f'Easy test accuracy score is {c}')"
   ]
  },
  {
   "cell_type": "markdown",
   "metadata": {
    "id": "ImWZjbncL7Y3"
   },
   "source": [
    "# Fine tuning Unified QA on ARC with using context."
   ]
  },
  {
   "cell_type": "markdown",
   "metadata": {
    "id": "2ODqhVZPL7Y9"
   },
   "source": [
    "### Preparing Data."
   ]
  },
  {
   "cell_type": "code",
   "execution_count": 67,
   "metadata": {
    "id": "xvnvTYD4MW3r"
   },
   "outputs": [],
   "source": [
    "#Context derived using DRD and ARD models.\n",
    "df_easy_train = pd.read_csv('/content/drive/MyDrive/arc_train_context')\n",
    "df_easy_dev = pd.read_csv('/content/drive/MyDrive/arc_dev_context')\n",
    "df_easy_test = pd.read_csv('/content/drive/MyDrive/arc_test_context')"
   ]
  },
  {
   "cell_type": "code",
   "execution_count": 68,
   "metadata": {
    "id": "9RDEea_I0tjM"
   },
   "outputs": [],
   "source": [
    "label_map = {'A':0,\n",
    "             'B':1,\n",
    "             'C':2,\n",
    "             'D':3,\n",
    "             'E':4,\n",
    "             '1':0,\n",
    "             '2':1,\n",
    "             '3':2,\n",
    "             '4':3,\n",
    "             '5':4}\n",
    "\n",
    "train_labels = df_easy_train['AnswerKey'].map(label_map)\n",
    "dev_labels = df_easy_dev['AnswerKey'].map(label_map)\n",
    "test_labels = df_easy_test['AnswerKey'].map(label_map)"
   ]
  },
  {
   "cell_type": "code",
   "execution_count": 69,
   "metadata": {
    "id": "CRpUWixpOYP0"
   },
   "outputs": [],
   "source": [
    "def answer(answer_key, options_list):\n",
    "\n",
    "    label_map = {'A':0,\n",
    "             'B':1,\n",
    "             'C':2,\n",
    "             'D':3,\n",
    "             'E':4,\n",
    "             '1':0,\n",
    "             '2':1,\n",
    "             '3':2,\n",
    "             '4':3,\n",
    "             '5':4}\n",
    "    \n",
    "    number = label_map.get(answer_key)\n",
    "    answer = ast.literal_eval(options_list)[number]\n",
    "    return answer\n",
    "    \n",
    "df_easy_train['Answer'] = df_easy_train[['AnswerKey', 'options_list']].apply(lambda x: answer(*x), axis=1)\n",
    "df_easy_dev['Answer'] = df_easy_dev[['AnswerKey', 'options_list']].apply(lambda x: answer(*x), axis=1)\n",
    "df_easy_test['Answer'] = df_easy_test[['AnswerKey', 'options_list']].apply(lambda x: answer(*x), axis=1)"
   ]
  },
  {
   "cell_type": "code",
   "execution_count": 70,
   "metadata": {
    "id": "CgBqkodqQadg"
   },
   "outputs": [],
   "source": [
    "def context_preprocess(context):\n",
    "    context = re.sub('\\s+\\W+\\s+', ' ', context)\n",
    "    context = re.sub('\\s+',' ', context)\n",
    "\n",
    "    return context"
   ]
  },
  {
   "cell_type": "code",
   "execution_count": 71,
   "metadata": {
    "id": "i7u3oHBGRIV2"
   },
   "outputs": [],
   "source": [
    "df_easy_train['context'] = df_easy_train['context'].map(context_preprocess)"
   ]
  },
  {
   "cell_type": "code",
   "execution_count": 72,
   "metadata": {
    "id": "21JNfnYFRN8M"
   },
   "outputs": [],
   "source": [
    "df_easy_dev['context'] = df_easy_dev['context'].map(context_preprocess)\n",
    "df_easy_test['context'] = df_easy_test['context'].map(context_preprocess)"
   ]
  },
  {
   "cell_type": "code",
   "execution_count": 21,
   "metadata": {
    "colab": {
     "base_uri": "https://localhost:8080/",
     "height": 649
    },
    "id": "qUR6_twMZjzA",
    "outputId": "422bbe7c-b18d-4b01-aa2b-36522826fd89"
   },
   "outputs": [
    {
     "data": {
      "text/html": [
       "<div>\n",
       "<style scoped>\n",
       "    .dataframe tbody tr th:only-of-type {\n",
       "        vertical-align: middle;\n",
       "    }\n",
       "\n",
       "    .dataframe tbody tr th {\n",
       "        vertical-align: top;\n",
       "    }\n",
       "\n",
       "    .dataframe thead th {\n",
       "        text-align: right;\n",
       "    }\n",
       "</style>\n",
       "<table border=\"1\" class=\"dataframe\">\n",
       "  <thead>\n",
       "    <tr style=\"text-align: right;\">\n",
       "      <th></th>\n",
       "      <th>AnswerKey</th>\n",
       "      <th>question</th>\n",
       "      <th>only_question</th>\n",
       "      <th>quesiton_length</th>\n",
       "      <th>only_answers</th>\n",
       "      <th>context</th>\n",
       "      <th>options_list</th>\n",
       "      <th>option_1_docs</th>\n",
       "      <th>option_2_docs</th>\n",
       "      <th>option_3_docs</th>\n",
       "      <th>option_4_docs</th>\n",
       "      <th>option_5_docs</th>\n",
       "      <th>Answer</th>\n",
       "    </tr>\n",
       "  </thead>\n",
       "  <tbody>\n",
       "    <tr>\n",
       "      <th>0</th>\n",
       "      <td>B</td>\n",
       "      <td>Which factor will most likely cause a person t...</td>\n",
       "      <td>Which factor will most likely cause a person t...</td>\n",
       "      <td>66</td>\n",
       "      <td>(A) a leg muscle relaxing after exercise (B) a...</td>\n",
       "      <td>-' Which joint of the leg con- tains most musc...</td>\n",
       "      <td>['a leg muscle relaxing after exercise ', 'bac...</td>\n",
       "      <td>{\"-' Which joint of the leg con- tains most mu...</td>\n",
       "      <td>{'When the larvae of Trichinella worms get int...</td>\n",
       "      <td>{'Environmental perturbations are most likely ...</td>\n",
       "      <td>{'Carbohydrates will most likely be the larges...</td>\n",
       "      <td>{'Which technique was most likely used to deve...</td>\n",
       "      <td>bacterial population the bloodstream</td>\n",
       "    </tr>\n",
       "    <tr>\n",
       "      <th>1</th>\n",
       "      <td>B</td>\n",
       "      <td>Lichens are symbiotic organisms made of green ...</td>\n",
       "      <td>Lichens are symbiotic organisms made of green ...</td>\n",
       "      <td>139</td>\n",
       "      <td>(A) carbon dioxide (B) food (C) protection (D)...</td>\n",
       "      <td>Lichens are comprised of blue-green or green a...</td>\n",
       "      <td>['carbon dioxide ', 'food ', 'protection ', 'w...</td>\n",
       "      <td>{\"The hydras let these algae live inside them ...</td>\n",
       "      <td>{'algae near the surface of ponds, lakes, and ...</td>\n",
       "      <td>{\"In this symbiotic relationship, the algae ga...</td>\n",
       "      <td>{'This is a small genus of marine and brackish...</td>\n",
       "      <td>{'Lichens are comprised of blue-green or green...</td>\n",
       "      <td>food</td>\n",
       "    </tr>\n",
       "    <tr>\n",
       "      <th>2</th>\n",
       "      <td>D</td>\n",
       "      <td>When a switch is used in an electrical circuit...</td>\n",
       "      <td>When a switch is used in an electrical circuit...</td>\n",
       "      <td>63</td>\n",
       "      <td>(A) cause the charge to build. (B) increase an...</td>\n",
       "      <td>When the circuit switch is open (Figure 2) cur...</td>\n",
       "      <td>['cause the charge to build. ', 'increase and ...</td>\n",
       "      <td>{'If an ordinary switch is used to control the...</td>\n",
       "      <td>{'And when the electrical switch was turned OF...</td>\n",
       "      <td>{'If an ordinary switch is used to control the...</td>\n",
       "      <td>{'When the circuit switch is open (Figure 2) c...</td>\n",
       "      <td>{'If an ordinary switch is used to control the...</td>\n",
       "      <td>stop start flow of current.</td>\n",
       "    </tr>\n",
       "    <tr>\n",
       "      <th>3</th>\n",
       "      <td>A</td>\n",
       "      <td>Which of the following is an example of an ass...</td>\n",
       "      <td>Which of the following is an example of an ass...</td>\n",
       "      <td>61</td>\n",
       "      <td>(A) contact lens (B) motorcycle (C) raincoat (...</td>\n",
       "      <td>Which of the following is an example of an ang...</td>\n",
       "      <td>['contact lens ', 'motorcycle ', 'raincoat ', ...</td>\n",
       "      <td>{'An instrument for measuring the degree of cu...</td>\n",
       "      <td>{'The characters are typically members of an o...</td>\n",
       "      <td>{'[DUSSEL hurriedly takes off the raincoat, gi...</td>\n",
       "      <td>{'coffee\\tn\\ta beverage consisting of an infus...</td>\n",
       "      <td>{'Which of the following is an example of an a...</td>\n",
       "      <td>contact lens</td>\n",
       "    </tr>\n",
       "    <tr>\n",
       "      <th>4</th>\n",
       "      <td>3</td>\n",
       "      <td>Rocks are classified as igneous, metamorphic, ...</td>\n",
       "      <td>Rocks are classified as igneous, metamorphic, ...</td>\n",
       "      <td>74</td>\n",
       "      <td>(1) their color (2) their shape (3) how they f...</td>\n",
       "      <td>- formed by “changing” preexisting igneous, se...</td>\n",
       "      <td>['their color ', 'shape ', 'how they formed ',...</td>\n",
       "      <td>{'In one simplistic and linear example, elemen...</td>\n",
       "      <td>{'Western carrot cultivars are commonly classi...</td>\n",
       "      <td>{'- formed by “changing” preexisting igneous, ...</td>\n",
       "      <td>{'This group of minerals is of common occur- r...</td>\n",
       "      <td>{'The second class of rocks, sedimentary,\\xa0 ...</td>\n",
       "      <td>how they formed</td>\n",
       "    </tr>\n",
       "  </tbody>\n",
       "</table>\n",
       "</div>"
      ],
      "text/plain": [
       "  AnswerKey  ...                                 Answer\n",
       "0         B  ...  bacterial population the bloodstream \n",
       "1         B  ...                                  food \n",
       "2         D  ...            stop start flow of current.\n",
       "3         A  ...                          contact lens \n",
       "4         3  ...                       how they formed \n",
       "\n",
       "[5 rows x 13 columns]"
      ]
     },
     "execution_count": 21,
     "metadata": {
      "tags": []
     },
     "output_type": "execute_result"
    }
   ],
   "source": [
    "df_easy_train.head()"
   ]
  },
  {
   "cell_type": "code",
   "execution_count": 10,
   "metadata": {
    "colab": {
     "base_uri": "https://localhost:8080/",
     "height": 164,
     "referenced_widgets": [
      "2e3acf19a14b4fbc8fe2ab29d8495796",
      "f834a3bedb4c4a09bb69360d71590854",
      "ef43692e2c7447faaac3a91b8956261b",
      "43c4a39630c0451c8a223cb756212155",
      "79a7484dc3dd45d480d6af3dc6fabacf",
      "dc7c79a4049d4279a542acf4c2ba32d8",
      "b8d95b37a9864581a45852a45bba10c3",
      "8a7b408976014278946e5a4ab3bf8dda",
      "568fc3b331d04a0c8e4b37fe929af71f",
      "dcd54a90456f42589eb9402b7559d466",
      "4625bfaf47df4169891504560311630f",
      "a32165f18a654cc48e7be3834a5c052c",
      "da660713f3004df0b732abb125274208",
      "05fcc2d102244560ab11a99767e3e6ae",
      "d724601f2a5f43bd94b0c7a8d587f140",
      "669e2df2658b4dbe8ee3b96d8a6e8689",
      "af85119f1580452183c04c5f4a9ff3ac",
      "6cc29fc6e9a646bf944a878bbf29e05a",
      "ac229e0fda184b4d813ff706edacff76",
      "eaba1ea67d27467a8dad1268442c28b3",
      "a915b7ea2ffa4760a59aa8ba0c57f6b6",
      "b8cf9ffcba4f43f7957cfc40ca7a372c",
      "bf21e7828abe4636af7f7188ab18b431",
      "3357692ab1ca4605ba40fe8c002af160"
     ]
    },
    "id": "PAB_zy48L7Y-",
    "outputId": "585ccf61-62dd-41af-bb97-a0ad5b3f5640"
   },
   "outputs": [
    {
     "data": {
      "application/vnd.jupyter.widget-view+json": {
       "model_id": "2e3acf19a14b4fbc8fe2ab29d8495796",
       "version_major": 2,
       "version_minor": 0
      },
      "text/plain": [
       "HBox(children=(FloatProgress(value=0.0, description='Downloading', max=1197.0, style=ProgressStyle(description…"
      ]
     },
     "metadata": {
      "tags": []
     },
     "output_type": "display_data"
    },
    {
     "name": "stdout",
     "output_type": "stream",
     "text": [
      "\n"
     ]
    },
    {
     "data": {
      "application/vnd.jupyter.widget-view+json": {
       "model_id": "568fc3b331d04a0c8e4b37fe929af71f",
       "version_major": 2,
       "version_minor": 0
      },
      "text/plain": [
       "HBox(children=(FloatProgress(value=0.0, description='Downloading', max=791656.0, style=ProgressStyle(descripti…"
      ]
     },
     "metadata": {
      "tags": []
     },
     "output_type": "display_data"
    },
    {
     "name": "stdout",
     "output_type": "stream",
     "text": [
      "\n"
     ]
    },
    {
     "data": {
      "application/vnd.jupyter.widget-view+json": {
       "model_id": "af85119f1580452183c04c5f4a9ff3ac",
       "version_major": 2,
       "version_minor": 0
      },
      "text/plain": [
       "HBox(children=(FloatProgress(value=0.0, description='Downloading', max=1389353.0, style=ProgressStyle(descript…"
      ]
     },
     "metadata": {
      "tags": []
     },
     "output_type": "display_data"
    },
    {
     "name": "stdout",
     "output_type": "stream",
     "text": [
      "\n"
     ]
    }
   ],
   "source": [
    "from transformers import AutoTokenizer, T5ForConditionalGeneration\n",
    "\n",
    "tokenizer = AutoTokenizer.from_pretrained('t5-small')"
   ]
  },
  {
   "cell_type": "code",
   "execution_count": 11,
   "metadata": {
    "id": "zwVQkTJdL7ZA"
   },
   "outputs": [],
   "source": [
    "MAX_LEN = 512\n",
    "decoder_max_len = 30"
   ]
  },
  {
   "cell_type": "code",
   "execution_count": 22,
   "metadata": {
    "id": "ktQtgtm2L7ZA"
   },
   "outputs": [],
   "source": [
    "def arc_preprocessor(dataset, tokenizer):\n",
    "    '''\n",
    "    This function will convert a given context, question, choices in a format:\n",
    "\n",
    "    input: question \\n options \\n context </s>\n",
    "    target: label </s>\n",
    "\n",
    "    After converting in this format the data will be tokenized using a given tokenizer.\n",
    "    This function will return 4 arrays namely, input_ids, attention_mask, token_type_ids and labels.\n",
    "    '''\n",
    "    global MAX_LEN\n",
    "    all_input_ids = []\n",
    "    all_attention_mask = []\n",
    "    all_decoder_input_ids = []\n",
    "    all_labels = []\n",
    "\n",
    "    for i in range(len(dataset)):\n",
    "        \n",
    "        context = ' '.join(dataset['context'].iloc[i].split()[:350]) #Limiting the maximum length of context to 350 words.\n",
    "        question = dataset['only_question'].iloc[i]\n",
    "        options = dataset['only_answers'].iloc[i]\n",
    "        target = dataset['Answer'].iloc[i]\n",
    "        choice_features = []\n",
    "\n",
    "        input_string = question + ' ' + '\\\\n' + ' ' + options + ' ' + '\\\\n' + ' ' + context + ' ' + '</s>'\n",
    "        decoder_input = tokenizer.pad_token + ' ' + target\n",
    "        target = target + ' ' + '</s>'\n",
    "\n",
    "        input_ids = tokenizer.encode(input_string, truncation=True, max_length=MAX_LEN)\n",
    "        decoder_input_ids = tokenizer.encode(decoder_input, max_length=decoder_max_len, truncation=True) #Max length of a answer is 23\n",
    "        labels = tokenizer.encode(target, max_length=decoder_max_len, truncation=True)\n",
    "\n",
    "        attention_mask = [1] * len(input_ids)\n",
    "\n",
    "        padding_id = tokenizer.pad_token_id\n",
    "        padding_length = MAX_LEN - len(input_ids)\n",
    "\n",
    "        input_ids = input_ids + [padding_id]*padding_length\n",
    "        attention_mask = attention_mask + [0]*padding_length\n",
    "\n",
    "        deocder_padding_length = decoder_max_len - len(decoder_input_ids)\n",
    "\n",
    "        decoder_input_ids = decoder_input_ids + [padding_id]*deocder_padding_length\n",
    "        labels = labels + [padding_id]*deocder_padding_length\n",
    "\n",
    "        assert len(input_ids) == MAX_LEN\n",
    "        assert len(attention_mask) == MAX_LEN\n",
    "\n",
    "        all_input_ids.append(np.asarray(input_ids, dtype='int32'))\n",
    "        all_attention_mask.append(np.asarray(attention_mask, dtype='int32'))\n",
    "        all_decoder_input_ids.append(np.asarray(decoder_input_ids, dtype='int32'))\n",
    "        all_labels.append(np.asarray(labels, dtype='int32'))\n",
    "\n",
    "    return all_input_ids, all_attention_mask, all_decoder_input_ids, all_labels"
   ]
  },
  {
   "cell_type": "code",
   "execution_count": 23,
   "metadata": {
    "id": "M6lxULupL7ZB"
   },
   "outputs": [],
   "source": [
    "easy_train_input_ids, easy_train_attention_mask, easy_train_decoder_input_ids, easy_train_labels = arc_preprocessor(df_easy_train, tokenizer)"
   ]
  },
  {
   "cell_type": "code",
   "execution_count": 24,
   "metadata": {
    "id": "pg3J-oYqL7ZC"
   },
   "outputs": [],
   "source": [
    "easy_dev_input_ids, easy_dev_attention_mask, easy_dev_decoder_input_ids, easy_dev_labels = arc_preprocessor(df_easy_dev, tokenizer)"
   ]
  },
  {
   "cell_type": "code",
   "execution_count": 25,
   "metadata": {
    "id": "jbJkV9HHL7ZC"
   },
   "outputs": [],
   "source": [
    "easy_test_input_ids, easy_test_attention_mask, _, easy_test_labels = arc_preprocessor(df_easy_test, tokenizer)"
   ]
  },
  {
   "cell_type": "code",
   "execution_count": 26,
   "metadata": {
    "id": "R_rxN3nML7ZC"
   },
   "outputs": [],
   "source": [
    "easy_train_input_ids = np.asarray(easy_train_input_ids, dtype='int32')\n",
    "easy_train_attention_mask = np.asarray(easy_train_attention_mask, dtype='int32')\n",
    "easy_train_decoder_input_ids = np.asarray(easy_train_decoder_input_ids, dtype='int32')\n",
    "easy_train_labels = np.asarray(easy_train_labels, dtype='int32')"
   ]
  },
  {
   "cell_type": "code",
   "execution_count": 27,
   "metadata": {
    "id": "I5ima9NAL7ZD"
   },
   "outputs": [],
   "source": [
    "easy_dev_input_ids = np.asarray(easy_dev_input_ids, dtype='int32')\n",
    "easy_dev_attention_mask = np.asarray(easy_dev_attention_mask, dtype='int32')\n",
    "easy_dev_decoder_input_ids = np.asarray(easy_dev_decoder_input_ids, dtype='int32')\n",
    "easy_dev_labels = np.asarray(easy_dev_labels, dtype='int32')"
   ]
  },
  {
   "cell_type": "code",
   "execution_count": 28,
   "metadata": {
    "id": "MSwLbZEUL7ZD"
   },
   "outputs": [],
   "source": [
    "easy_test_input_ids = np.asarray(easy_test_input_ids, dtype='int32')\n",
    "easy_test_attention_mask = np.asarray(easy_test_attention_mask, dtype='int32')\n",
    "easy_test_labels = np.asarray(easy_test_labels, dtype='int32')"
   ]
  },
  {
   "cell_type": "code",
   "execution_count": 46,
   "metadata": {
    "id": "j7QPyDGwL7ZE"
   },
   "outputs": [],
   "source": [
    "np.save('/content/drive/MyDrive/ARC/Unified QA with context/easy_train_input_ids', easy_train_input_ids)\n",
    "np.save('/content/drive/MyDrive/ARC/Unified QA with context/easy_train_attention_mask', easy_train_attention_mask)\n",
    "np.save('/content/drive/MyDrive/ARC/Unified QA with context/easy_train_decoder_input_ids', easy_train_decoder_input_ids)\n",
    "np.save('/content/drive/MyDrive/ARC/Unified QA with context/easy_train_labels', easy_train_labels)"
   ]
  },
  {
   "cell_type": "code",
   "execution_count": 47,
   "metadata": {
    "id": "Qr-vgrfHL7ZE"
   },
   "outputs": [],
   "source": [
    "np.save('/content/drive/MyDrive/ARC/Unified QA/easy_dev_input_ids', easy_dev_input_ids)\n",
    "np.save('/content/drive/MyDrive/ARC/Unified QA/easy_dev_attention_mask', easy_dev_attention_mask)\n",
    "np.save('/content/drive/MyDrive/ARC/Unified QA/easy_dev_decoder_input_ids', easy_dev_decoder_input_ids)\n",
    "np.save('/content/drive/MyDrive/ARC/Unified QA/easy_dev_labels', easy_dev_labels)"
   ]
  },
  {
   "cell_type": "code",
   "execution_count": 48,
   "metadata": {
    "id": "qOanzeakL7ZF"
   },
   "outputs": [],
   "source": [
    "np.save('/content/drive/MyDrive/ARC/Unified QA/easy_test_input_ids', easy_test_input_ids)\n",
    "np.save('/content/drive/MyDrive/ARC/Unified QA/easy_test_attention_mask', easy_test_attention_mask)\n",
    "np.save('/content/drive/MyDrive/ARC/Unified QA/easy_test_labels', easy_test_labels)"
   ]
  },
  {
   "cell_type": "markdown",
   "metadata": {
    "id": "7MeQ5L4kL7ZF"
   },
   "source": [
    "### Training."
   ]
  },
  {
   "cell_type": "code",
   "execution_count": 9,
   "metadata": {
    "id": "2UGP1914L7ZF"
   },
   "outputs": [],
   "source": [
    "easy_train_input_ids = np.load('/content/drive/MyDrive/ARC/Unified QA with context/easy_train_input_ids.npy')\n",
    "easy_train_attention_mask = np.load('/content/drive/MyDrive/ARC/Unified QA with context/easy_train_attention_mask.npy')\n",
    "easy_train_decoder_input_ids = np.load('/content/drive/MyDrive/ARC/Unified QA with context/easy_train_decoder_input_ids.npy')\n",
    "easy_train_labels = np.load('/content/drive/MyDrive/ARC/Unified QA with context/easy_train_labels.npy')"
   ]
  },
  {
   "cell_type": "code",
   "execution_count": 10,
   "metadata": {
    "id": "VtPqJTjuL7ZG"
   },
   "outputs": [],
   "source": [
    "easy_dev_input_ids = np.load('/content/drive/MyDrive/ARC/Unified QA/easy_dev_input_ids.npy')\n",
    "easy_dev_attention_mask = np.load('/content/drive/MyDrive/ARC/Unified QA/easy_dev_attention_mask.npy')\n",
    "easy_dev_decoder_input_ids = np.load('/content/drive/MyDrive/ARC/Unified QA/easy_dev_decoder_input_ids.npy')\n",
    "easy_dev_labels = np.load('/content/drive/MyDrive/ARC/Unified QA/easy_dev_labels.npy')"
   ]
  },
  {
   "cell_type": "code",
   "execution_count": 11,
   "metadata": {
    "id": "Mq7rQaEGL7ZG"
   },
   "outputs": [],
   "source": [
    "easy_test_input_ids = np.load('/content/drive/MyDrive/ARC/Unified QA/easy_test_input_ids.npy')\n",
    "easy_test_attention_mask = np.load('/content/drive/MyDrive/ARC/Unified QA/easy_test_attention_mask.npy')\n",
    "easy_test_labels = np.load('/content/drive/MyDrive/ARC/Unified QA/easy_test_labels.npy')"
   ]
  },
  {
   "cell_type": "code",
   "execution_count": 10,
   "metadata": {
    "id": "2fh1S0laL7ZH"
   },
   "outputs": [],
   "source": [
    "import torch\n",
    "from torch.utils.data import Dataset, DataLoader"
   ]
  },
  {
   "cell_type": "code",
   "execution_count": 11,
   "metadata": {
    "id": "tGiYISuZL7ZI"
   },
   "outputs": [],
   "source": [
    "class arc_dataset(Dataset):\n",
    "\n",
    "    def __init__(self, input_ids, attention_mask, decoder_input_ids, labels):\n",
    "        self.input_ids = input_ids\n",
    "        self.attention_mask = attention_mask\n",
    "        self.decoder_input_ids = decoder_input_ids\n",
    "        self.labels = labels\n",
    "    \n",
    "    def __len__(self):\n",
    "        return len(self.input_ids)\n",
    "    \n",
    "    def __getitem__(self, idx):\n",
    "        if torch.is_tensor(idx):\n",
    "            idx = idx.tolist()\n",
    "        \n",
    "        sample = {'input_ids': self.input_ids[idx],\n",
    "                  'attention_mask': self.attention_mask[idx],\n",
    "                  'decoder_input_ids':self.decoder_input_ids[idx],\n",
    "                  'labels':self.labels[idx]}\n",
    "        \n",
    "        return sample"
   ]
  },
  {
   "cell_type": "code",
   "execution_count": 12,
   "metadata": {
    "id": "w7EPvJtWL7ZI"
   },
   "outputs": [],
   "source": [
    "train_dataset = arc_dataset(easy_train_input_ids, easy_train_attention_mask, easy_train_decoder_input_ids, easy_train_labels)"
   ]
  },
  {
   "cell_type": "code",
   "execution_count": 13,
   "metadata": {
    "id": "abVTbBbJL7ZI"
   },
   "outputs": [],
   "source": [
    "dev_dataset = arc_dataset(easy_dev_input_ids, easy_dev_attention_mask, easy_dev_decoder_input_ids, easy_dev_labels)"
   ]
  },
  {
   "cell_type": "code",
   "execution_count": 14,
   "metadata": {
    "id": "oI1CYCm6L7ZJ"
   },
   "outputs": [],
   "source": [
    "train_dataloader = DataLoader(train_dataset, batch_size=4, shuffle=True, num_workers=4)\n",
    "dev_dataloader = DataLoader(dev_dataset, batch_size=4, shuffle=True, num_workers=4)"
   ]
  },
  {
   "cell_type": "code",
   "execution_count": 15,
   "metadata": {
    "id": "G4FVfZzGL7ZJ"
   },
   "outputs": [],
   "source": [
    "from transformers import T5ForConditionalGeneration, AdamW"
   ]
  },
  {
   "cell_type": "code",
   "execution_count": 16,
   "metadata": {
    "colab": {
     "base_uri": "https://localhost:8080/",
     "height": 1000,
     "referenced_widgets": [
      "e3c23e420aae47d5943cf7ffbe543b3c",
      "bd3b08fd398d4e8082e7024035b3c392",
      "a941de2fb3bf4326a00a946ec0cb199c",
      "f566a92d92aa43f8aeb2648a3a158d5a",
      "587011d660c649f596c69bcaece9a360",
      "36dcce95cd464644b16d67d2d0776ef8",
      "c03aef4a00a141d0858f7a956b7f8baf",
      "dd08295849604d19b0c3587c7b603a1a",
      "25961e8719ac42b2b5b1988912cf28c4",
      "2fe40bec53af481b9e5faa66e227207f",
      "098b4d1dd308478ab7784bc83d065473",
      "1e2cd062f69b4a269d91269f912cda6e",
      "ed1f477389224dd3b4032948ffa0a8fb",
      "700233d871414517b5974939124eb2bc",
      "dff0e83e8b49468bac5a8c4f6dc74d8b",
      "4f2944fefce9471aa9efa58c879f8c8d"
     ]
    },
    "id": "rAMlK1CfL7ZJ",
    "outputId": "28594c31-916f-4598-9840-7d8ca275f6e2"
   },
   "outputs": [
    {
     "data": {
      "application/vnd.jupyter.widget-view+json": {
       "model_id": "e3c23e420aae47d5943cf7ffbe543b3c",
       "version_major": 2,
       "version_minor": 0
      },
      "text/plain": [
       "HBox(children=(FloatProgress(value=0.0, description='Downloading', max=1236.0, style=ProgressStyle(description…"
      ]
     },
     "metadata": {
      "tags": []
     },
     "output_type": "display_data"
    },
    {
     "name": "stdout",
     "output_type": "stream",
     "text": [
      "\n"
     ]
    },
    {
     "data": {
      "application/vnd.jupyter.widget-view+json": {
       "model_id": "25961e8719ac42b2b5b1988912cf28c4",
       "version_major": 2,
       "version_minor": 0
      },
      "text/plain": [
       "HBox(children=(FloatProgress(value=0.0, description='Downloading', max=891736323.0, style=ProgressStyle(descri…"
      ]
     },
     "metadata": {
      "tags": []
     },
     "output_type": "display_data"
    },
    {
     "name": "stdout",
     "output_type": "stream",
     "text": [
      "\n"
     ]
    },
    {
     "name": "stderr",
     "output_type": "stream",
     "text": [
      "Some weights of the model checkpoint at allenai/unifiedqa-t5-base were not used when initializing T5ForConditionalGeneration: ['decoder.block.0.layer.1.EncDecAttention.relative_attention_bias.weight']\n",
      "- This IS expected if you are initializing T5ForConditionalGeneration from the checkpoint of a model trained on another task or with another architecture (e.g. initializing a BertForSequenceClassification model from a BertForPreTraining model).\n",
      "- This IS NOT expected if you are initializing T5ForConditionalGeneration from the checkpoint of a model that you expect to be exactly identical (initializing a BertForSequenceClassification model from a BertForSequenceClassification model).\n"
     ]
    },
    {
     "data": {
      "text/plain": [
       "T5ForConditionalGeneration(\n",
       "  (shared): Embedding(32128, 768)\n",
       "  (encoder): T5Stack(\n",
       "    (embed_tokens): Embedding(32128, 768)\n",
       "    (block): ModuleList(\n",
       "      (0): T5Block(\n",
       "        (layer): ModuleList(\n",
       "          (0): T5LayerSelfAttention(\n",
       "            (SelfAttention): T5Attention(\n",
       "              (q): Linear(in_features=768, out_features=768, bias=False)\n",
       "              (k): Linear(in_features=768, out_features=768, bias=False)\n",
       "              (v): Linear(in_features=768, out_features=768, bias=False)\n",
       "              (o): Linear(in_features=768, out_features=768, bias=False)\n",
       "              (relative_attention_bias): Embedding(32, 12)\n",
       "            )\n",
       "            (layer_norm): T5LayerNorm()\n",
       "            (dropout): Dropout(p=0.1, inplace=False)\n",
       "          )\n",
       "          (1): T5LayerFF(\n",
       "            (DenseReluDense): T5DenseReluDense(\n",
       "              (wi): Linear(in_features=768, out_features=3072, bias=False)\n",
       "              (wo): Linear(in_features=3072, out_features=768, bias=False)\n",
       "              (dropout): Dropout(p=0.1, inplace=False)\n",
       "            )\n",
       "            (layer_norm): T5LayerNorm()\n",
       "            (dropout): Dropout(p=0.1, inplace=False)\n",
       "          )\n",
       "        )\n",
       "      )\n",
       "      (1): T5Block(\n",
       "        (layer): ModuleList(\n",
       "          (0): T5LayerSelfAttention(\n",
       "            (SelfAttention): T5Attention(\n",
       "              (q): Linear(in_features=768, out_features=768, bias=False)\n",
       "              (k): Linear(in_features=768, out_features=768, bias=False)\n",
       "              (v): Linear(in_features=768, out_features=768, bias=False)\n",
       "              (o): Linear(in_features=768, out_features=768, bias=False)\n",
       "            )\n",
       "            (layer_norm): T5LayerNorm()\n",
       "            (dropout): Dropout(p=0.1, inplace=False)\n",
       "          )\n",
       "          (1): T5LayerFF(\n",
       "            (DenseReluDense): T5DenseReluDense(\n",
       "              (wi): Linear(in_features=768, out_features=3072, bias=False)\n",
       "              (wo): Linear(in_features=3072, out_features=768, bias=False)\n",
       "              (dropout): Dropout(p=0.1, inplace=False)\n",
       "            )\n",
       "            (layer_norm): T5LayerNorm()\n",
       "            (dropout): Dropout(p=0.1, inplace=False)\n",
       "          )\n",
       "        )\n",
       "      )\n",
       "      (2): T5Block(\n",
       "        (layer): ModuleList(\n",
       "          (0): T5LayerSelfAttention(\n",
       "            (SelfAttention): T5Attention(\n",
       "              (q): Linear(in_features=768, out_features=768, bias=False)\n",
       "              (k): Linear(in_features=768, out_features=768, bias=False)\n",
       "              (v): Linear(in_features=768, out_features=768, bias=False)\n",
       "              (o): Linear(in_features=768, out_features=768, bias=False)\n",
       "            )\n",
       "            (layer_norm): T5LayerNorm()\n",
       "            (dropout): Dropout(p=0.1, inplace=False)\n",
       "          )\n",
       "          (1): T5LayerFF(\n",
       "            (DenseReluDense): T5DenseReluDense(\n",
       "              (wi): Linear(in_features=768, out_features=3072, bias=False)\n",
       "              (wo): Linear(in_features=3072, out_features=768, bias=False)\n",
       "              (dropout): Dropout(p=0.1, inplace=False)\n",
       "            )\n",
       "            (layer_norm): T5LayerNorm()\n",
       "            (dropout): Dropout(p=0.1, inplace=False)\n",
       "          )\n",
       "        )\n",
       "      )\n",
       "      (3): T5Block(\n",
       "        (layer): ModuleList(\n",
       "          (0): T5LayerSelfAttention(\n",
       "            (SelfAttention): T5Attention(\n",
       "              (q): Linear(in_features=768, out_features=768, bias=False)\n",
       "              (k): Linear(in_features=768, out_features=768, bias=False)\n",
       "              (v): Linear(in_features=768, out_features=768, bias=False)\n",
       "              (o): Linear(in_features=768, out_features=768, bias=False)\n",
       "            )\n",
       "            (layer_norm): T5LayerNorm()\n",
       "            (dropout): Dropout(p=0.1, inplace=False)\n",
       "          )\n",
       "          (1): T5LayerFF(\n",
       "            (DenseReluDense): T5DenseReluDense(\n",
       "              (wi): Linear(in_features=768, out_features=3072, bias=False)\n",
       "              (wo): Linear(in_features=3072, out_features=768, bias=False)\n",
       "              (dropout): Dropout(p=0.1, inplace=False)\n",
       "            )\n",
       "            (layer_norm): T5LayerNorm()\n",
       "            (dropout): Dropout(p=0.1, inplace=False)\n",
       "          )\n",
       "        )\n",
       "      )\n",
       "      (4): T5Block(\n",
       "        (layer): ModuleList(\n",
       "          (0): T5LayerSelfAttention(\n",
       "            (SelfAttention): T5Attention(\n",
       "              (q): Linear(in_features=768, out_features=768, bias=False)\n",
       "              (k): Linear(in_features=768, out_features=768, bias=False)\n",
       "              (v): Linear(in_features=768, out_features=768, bias=False)\n",
       "              (o): Linear(in_features=768, out_features=768, bias=False)\n",
       "            )\n",
       "            (layer_norm): T5LayerNorm()\n",
       "            (dropout): Dropout(p=0.1, inplace=False)\n",
       "          )\n",
       "          (1): T5LayerFF(\n",
       "            (DenseReluDense): T5DenseReluDense(\n",
       "              (wi): Linear(in_features=768, out_features=3072, bias=False)\n",
       "              (wo): Linear(in_features=3072, out_features=768, bias=False)\n",
       "              (dropout): Dropout(p=0.1, inplace=False)\n",
       "            )\n",
       "            (layer_norm): T5LayerNorm()\n",
       "            (dropout): Dropout(p=0.1, inplace=False)\n",
       "          )\n",
       "        )\n",
       "      )\n",
       "      (5): T5Block(\n",
       "        (layer): ModuleList(\n",
       "          (0): T5LayerSelfAttention(\n",
       "            (SelfAttention): T5Attention(\n",
       "              (q): Linear(in_features=768, out_features=768, bias=False)\n",
       "              (k): Linear(in_features=768, out_features=768, bias=False)\n",
       "              (v): Linear(in_features=768, out_features=768, bias=False)\n",
       "              (o): Linear(in_features=768, out_features=768, bias=False)\n",
       "            )\n",
       "            (layer_norm): T5LayerNorm()\n",
       "            (dropout): Dropout(p=0.1, inplace=False)\n",
       "          )\n",
       "          (1): T5LayerFF(\n",
       "            (DenseReluDense): T5DenseReluDense(\n",
       "              (wi): Linear(in_features=768, out_features=3072, bias=False)\n",
       "              (wo): Linear(in_features=3072, out_features=768, bias=False)\n",
       "              (dropout): Dropout(p=0.1, inplace=False)\n",
       "            )\n",
       "            (layer_norm): T5LayerNorm()\n",
       "            (dropout): Dropout(p=0.1, inplace=False)\n",
       "          )\n",
       "        )\n",
       "      )\n",
       "      (6): T5Block(\n",
       "        (layer): ModuleList(\n",
       "          (0): T5LayerSelfAttention(\n",
       "            (SelfAttention): T5Attention(\n",
       "              (q): Linear(in_features=768, out_features=768, bias=False)\n",
       "              (k): Linear(in_features=768, out_features=768, bias=False)\n",
       "              (v): Linear(in_features=768, out_features=768, bias=False)\n",
       "              (o): Linear(in_features=768, out_features=768, bias=False)\n",
       "            )\n",
       "            (layer_norm): T5LayerNorm()\n",
       "            (dropout): Dropout(p=0.1, inplace=False)\n",
       "          )\n",
       "          (1): T5LayerFF(\n",
       "            (DenseReluDense): T5DenseReluDense(\n",
       "              (wi): Linear(in_features=768, out_features=3072, bias=False)\n",
       "              (wo): Linear(in_features=3072, out_features=768, bias=False)\n",
       "              (dropout): Dropout(p=0.1, inplace=False)\n",
       "            )\n",
       "            (layer_norm): T5LayerNorm()\n",
       "            (dropout): Dropout(p=0.1, inplace=False)\n",
       "          )\n",
       "        )\n",
       "      )\n",
       "      (7): T5Block(\n",
       "        (layer): ModuleList(\n",
       "          (0): T5LayerSelfAttention(\n",
       "            (SelfAttention): T5Attention(\n",
       "              (q): Linear(in_features=768, out_features=768, bias=False)\n",
       "              (k): Linear(in_features=768, out_features=768, bias=False)\n",
       "              (v): Linear(in_features=768, out_features=768, bias=False)\n",
       "              (o): Linear(in_features=768, out_features=768, bias=False)\n",
       "            )\n",
       "            (layer_norm): T5LayerNorm()\n",
       "            (dropout): Dropout(p=0.1, inplace=False)\n",
       "          )\n",
       "          (1): T5LayerFF(\n",
       "            (DenseReluDense): T5DenseReluDense(\n",
       "              (wi): Linear(in_features=768, out_features=3072, bias=False)\n",
       "              (wo): Linear(in_features=3072, out_features=768, bias=False)\n",
       "              (dropout): Dropout(p=0.1, inplace=False)\n",
       "            )\n",
       "            (layer_norm): T5LayerNorm()\n",
       "            (dropout): Dropout(p=0.1, inplace=False)\n",
       "          )\n",
       "        )\n",
       "      )\n",
       "      (8): T5Block(\n",
       "        (layer): ModuleList(\n",
       "          (0): T5LayerSelfAttention(\n",
       "            (SelfAttention): T5Attention(\n",
       "              (q): Linear(in_features=768, out_features=768, bias=False)\n",
       "              (k): Linear(in_features=768, out_features=768, bias=False)\n",
       "              (v): Linear(in_features=768, out_features=768, bias=False)\n",
       "              (o): Linear(in_features=768, out_features=768, bias=False)\n",
       "            )\n",
       "            (layer_norm): T5LayerNorm()\n",
       "            (dropout): Dropout(p=0.1, inplace=False)\n",
       "          )\n",
       "          (1): T5LayerFF(\n",
       "            (DenseReluDense): T5DenseReluDense(\n",
       "              (wi): Linear(in_features=768, out_features=3072, bias=False)\n",
       "              (wo): Linear(in_features=3072, out_features=768, bias=False)\n",
       "              (dropout): Dropout(p=0.1, inplace=False)\n",
       "            )\n",
       "            (layer_norm): T5LayerNorm()\n",
       "            (dropout): Dropout(p=0.1, inplace=False)\n",
       "          )\n",
       "        )\n",
       "      )\n",
       "      (9): T5Block(\n",
       "        (layer): ModuleList(\n",
       "          (0): T5LayerSelfAttention(\n",
       "            (SelfAttention): T5Attention(\n",
       "              (q): Linear(in_features=768, out_features=768, bias=False)\n",
       "              (k): Linear(in_features=768, out_features=768, bias=False)\n",
       "              (v): Linear(in_features=768, out_features=768, bias=False)\n",
       "              (o): Linear(in_features=768, out_features=768, bias=False)\n",
       "            )\n",
       "            (layer_norm): T5LayerNorm()\n",
       "            (dropout): Dropout(p=0.1, inplace=False)\n",
       "          )\n",
       "          (1): T5LayerFF(\n",
       "            (DenseReluDense): T5DenseReluDense(\n",
       "              (wi): Linear(in_features=768, out_features=3072, bias=False)\n",
       "              (wo): Linear(in_features=3072, out_features=768, bias=False)\n",
       "              (dropout): Dropout(p=0.1, inplace=False)\n",
       "            )\n",
       "            (layer_norm): T5LayerNorm()\n",
       "            (dropout): Dropout(p=0.1, inplace=False)\n",
       "          )\n",
       "        )\n",
       "      )\n",
       "      (10): T5Block(\n",
       "        (layer): ModuleList(\n",
       "          (0): T5LayerSelfAttention(\n",
       "            (SelfAttention): T5Attention(\n",
       "              (q): Linear(in_features=768, out_features=768, bias=False)\n",
       "              (k): Linear(in_features=768, out_features=768, bias=False)\n",
       "              (v): Linear(in_features=768, out_features=768, bias=False)\n",
       "              (o): Linear(in_features=768, out_features=768, bias=False)\n",
       "            )\n",
       "            (layer_norm): T5LayerNorm()\n",
       "            (dropout): Dropout(p=0.1, inplace=False)\n",
       "          )\n",
       "          (1): T5LayerFF(\n",
       "            (DenseReluDense): T5DenseReluDense(\n",
       "              (wi): Linear(in_features=768, out_features=3072, bias=False)\n",
       "              (wo): Linear(in_features=3072, out_features=768, bias=False)\n",
       "              (dropout): Dropout(p=0.1, inplace=False)\n",
       "            )\n",
       "            (layer_norm): T5LayerNorm()\n",
       "            (dropout): Dropout(p=0.1, inplace=False)\n",
       "          )\n",
       "        )\n",
       "      )\n",
       "      (11): T5Block(\n",
       "        (layer): ModuleList(\n",
       "          (0): T5LayerSelfAttention(\n",
       "            (SelfAttention): T5Attention(\n",
       "              (q): Linear(in_features=768, out_features=768, bias=False)\n",
       "              (k): Linear(in_features=768, out_features=768, bias=False)\n",
       "              (v): Linear(in_features=768, out_features=768, bias=False)\n",
       "              (o): Linear(in_features=768, out_features=768, bias=False)\n",
       "            )\n",
       "            (layer_norm): T5LayerNorm()\n",
       "            (dropout): Dropout(p=0.1, inplace=False)\n",
       "          )\n",
       "          (1): T5LayerFF(\n",
       "            (DenseReluDense): T5DenseReluDense(\n",
       "              (wi): Linear(in_features=768, out_features=3072, bias=False)\n",
       "              (wo): Linear(in_features=3072, out_features=768, bias=False)\n",
       "              (dropout): Dropout(p=0.1, inplace=False)\n",
       "            )\n",
       "            (layer_norm): T5LayerNorm()\n",
       "            (dropout): Dropout(p=0.1, inplace=False)\n",
       "          )\n",
       "        )\n",
       "      )\n",
       "    )\n",
       "    (final_layer_norm): T5LayerNorm()\n",
       "    (dropout): Dropout(p=0.1, inplace=False)\n",
       "  )\n",
       "  (decoder): T5Stack(\n",
       "    (embed_tokens): Embedding(32128, 768)\n",
       "    (block): ModuleList(\n",
       "      (0): T5Block(\n",
       "        (layer): ModuleList(\n",
       "          (0): T5LayerSelfAttention(\n",
       "            (SelfAttention): T5Attention(\n",
       "              (q): Linear(in_features=768, out_features=768, bias=False)\n",
       "              (k): Linear(in_features=768, out_features=768, bias=False)\n",
       "              (v): Linear(in_features=768, out_features=768, bias=False)\n",
       "              (o): Linear(in_features=768, out_features=768, bias=False)\n",
       "              (relative_attention_bias): Embedding(32, 12)\n",
       "            )\n",
       "            (layer_norm): T5LayerNorm()\n",
       "            (dropout): Dropout(p=0.1, inplace=False)\n",
       "          )\n",
       "          (1): T5LayerCrossAttention(\n",
       "            (EncDecAttention): T5Attention(\n",
       "              (q): Linear(in_features=768, out_features=768, bias=False)\n",
       "              (k): Linear(in_features=768, out_features=768, bias=False)\n",
       "              (v): Linear(in_features=768, out_features=768, bias=False)\n",
       "              (o): Linear(in_features=768, out_features=768, bias=False)\n",
       "            )\n",
       "            (layer_norm): T5LayerNorm()\n",
       "            (dropout): Dropout(p=0.1, inplace=False)\n",
       "          )\n",
       "          (2): T5LayerFF(\n",
       "            (DenseReluDense): T5DenseReluDense(\n",
       "              (wi): Linear(in_features=768, out_features=3072, bias=False)\n",
       "              (wo): Linear(in_features=3072, out_features=768, bias=False)\n",
       "              (dropout): Dropout(p=0.1, inplace=False)\n",
       "            )\n",
       "            (layer_norm): T5LayerNorm()\n",
       "            (dropout): Dropout(p=0.1, inplace=False)\n",
       "          )\n",
       "        )\n",
       "      )\n",
       "      (1): T5Block(\n",
       "        (layer): ModuleList(\n",
       "          (0): T5LayerSelfAttention(\n",
       "            (SelfAttention): T5Attention(\n",
       "              (q): Linear(in_features=768, out_features=768, bias=False)\n",
       "              (k): Linear(in_features=768, out_features=768, bias=False)\n",
       "              (v): Linear(in_features=768, out_features=768, bias=False)\n",
       "              (o): Linear(in_features=768, out_features=768, bias=False)\n",
       "            )\n",
       "            (layer_norm): T5LayerNorm()\n",
       "            (dropout): Dropout(p=0.1, inplace=False)\n",
       "          )\n",
       "          (1): T5LayerCrossAttention(\n",
       "            (EncDecAttention): T5Attention(\n",
       "              (q): Linear(in_features=768, out_features=768, bias=False)\n",
       "              (k): Linear(in_features=768, out_features=768, bias=False)\n",
       "              (v): Linear(in_features=768, out_features=768, bias=False)\n",
       "              (o): Linear(in_features=768, out_features=768, bias=False)\n",
       "            )\n",
       "            (layer_norm): T5LayerNorm()\n",
       "            (dropout): Dropout(p=0.1, inplace=False)\n",
       "          )\n",
       "          (2): T5LayerFF(\n",
       "            (DenseReluDense): T5DenseReluDense(\n",
       "              (wi): Linear(in_features=768, out_features=3072, bias=False)\n",
       "              (wo): Linear(in_features=3072, out_features=768, bias=False)\n",
       "              (dropout): Dropout(p=0.1, inplace=False)\n",
       "            )\n",
       "            (layer_norm): T5LayerNorm()\n",
       "            (dropout): Dropout(p=0.1, inplace=False)\n",
       "          )\n",
       "        )\n",
       "      )\n",
       "      (2): T5Block(\n",
       "        (layer): ModuleList(\n",
       "          (0): T5LayerSelfAttention(\n",
       "            (SelfAttention): T5Attention(\n",
       "              (q): Linear(in_features=768, out_features=768, bias=False)\n",
       "              (k): Linear(in_features=768, out_features=768, bias=False)\n",
       "              (v): Linear(in_features=768, out_features=768, bias=False)\n",
       "              (o): Linear(in_features=768, out_features=768, bias=False)\n",
       "            )\n",
       "            (layer_norm): T5LayerNorm()\n",
       "            (dropout): Dropout(p=0.1, inplace=False)\n",
       "          )\n",
       "          (1): T5LayerCrossAttention(\n",
       "            (EncDecAttention): T5Attention(\n",
       "              (q): Linear(in_features=768, out_features=768, bias=False)\n",
       "              (k): Linear(in_features=768, out_features=768, bias=False)\n",
       "              (v): Linear(in_features=768, out_features=768, bias=False)\n",
       "              (o): Linear(in_features=768, out_features=768, bias=False)\n",
       "            )\n",
       "            (layer_norm): T5LayerNorm()\n",
       "            (dropout): Dropout(p=0.1, inplace=False)\n",
       "          )\n",
       "          (2): T5LayerFF(\n",
       "            (DenseReluDense): T5DenseReluDense(\n",
       "              (wi): Linear(in_features=768, out_features=3072, bias=False)\n",
       "              (wo): Linear(in_features=3072, out_features=768, bias=False)\n",
       "              (dropout): Dropout(p=0.1, inplace=False)\n",
       "            )\n",
       "            (layer_norm): T5LayerNorm()\n",
       "            (dropout): Dropout(p=0.1, inplace=False)\n",
       "          )\n",
       "        )\n",
       "      )\n",
       "      (3): T5Block(\n",
       "        (layer): ModuleList(\n",
       "          (0): T5LayerSelfAttention(\n",
       "            (SelfAttention): T5Attention(\n",
       "              (q): Linear(in_features=768, out_features=768, bias=False)\n",
       "              (k): Linear(in_features=768, out_features=768, bias=False)\n",
       "              (v): Linear(in_features=768, out_features=768, bias=False)\n",
       "              (o): Linear(in_features=768, out_features=768, bias=False)\n",
       "            )\n",
       "            (layer_norm): T5LayerNorm()\n",
       "            (dropout): Dropout(p=0.1, inplace=False)\n",
       "          )\n",
       "          (1): T5LayerCrossAttention(\n",
       "            (EncDecAttention): T5Attention(\n",
       "              (q): Linear(in_features=768, out_features=768, bias=False)\n",
       "              (k): Linear(in_features=768, out_features=768, bias=False)\n",
       "              (v): Linear(in_features=768, out_features=768, bias=False)\n",
       "              (o): Linear(in_features=768, out_features=768, bias=False)\n",
       "            )\n",
       "            (layer_norm): T5LayerNorm()\n",
       "            (dropout): Dropout(p=0.1, inplace=False)\n",
       "          )\n",
       "          (2): T5LayerFF(\n",
       "            (DenseReluDense): T5DenseReluDense(\n",
       "              (wi): Linear(in_features=768, out_features=3072, bias=False)\n",
       "              (wo): Linear(in_features=3072, out_features=768, bias=False)\n",
       "              (dropout): Dropout(p=0.1, inplace=False)\n",
       "            )\n",
       "            (layer_norm): T5LayerNorm()\n",
       "            (dropout): Dropout(p=0.1, inplace=False)\n",
       "          )\n",
       "        )\n",
       "      )\n",
       "      (4): T5Block(\n",
       "        (layer): ModuleList(\n",
       "          (0): T5LayerSelfAttention(\n",
       "            (SelfAttention): T5Attention(\n",
       "              (q): Linear(in_features=768, out_features=768, bias=False)\n",
       "              (k): Linear(in_features=768, out_features=768, bias=False)\n",
       "              (v): Linear(in_features=768, out_features=768, bias=False)\n",
       "              (o): Linear(in_features=768, out_features=768, bias=False)\n",
       "            )\n",
       "            (layer_norm): T5LayerNorm()\n",
       "            (dropout): Dropout(p=0.1, inplace=False)\n",
       "          )\n",
       "          (1): T5LayerCrossAttention(\n",
       "            (EncDecAttention): T5Attention(\n",
       "              (q): Linear(in_features=768, out_features=768, bias=False)\n",
       "              (k): Linear(in_features=768, out_features=768, bias=False)\n",
       "              (v): Linear(in_features=768, out_features=768, bias=False)\n",
       "              (o): Linear(in_features=768, out_features=768, bias=False)\n",
       "            )\n",
       "            (layer_norm): T5LayerNorm()\n",
       "            (dropout): Dropout(p=0.1, inplace=False)\n",
       "          )\n",
       "          (2): T5LayerFF(\n",
       "            (DenseReluDense): T5DenseReluDense(\n",
       "              (wi): Linear(in_features=768, out_features=3072, bias=False)\n",
       "              (wo): Linear(in_features=3072, out_features=768, bias=False)\n",
       "              (dropout): Dropout(p=0.1, inplace=False)\n",
       "            )\n",
       "            (layer_norm): T5LayerNorm()\n",
       "            (dropout): Dropout(p=0.1, inplace=False)\n",
       "          )\n",
       "        )\n",
       "      )\n",
       "      (5): T5Block(\n",
       "        (layer): ModuleList(\n",
       "          (0): T5LayerSelfAttention(\n",
       "            (SelfAttention): T5Attention(\n",
       "              (q): Linear(in_features=768, out_features=768, bias=False)\n",
       "              (k): Linear(in_features=768, out_features=768, bias=False)\n",
       "              (v): Linear(in_features=768, out_features=768, bias=False)\n",
       "              (o): Linear(in_features=768, out_features=768, bias=False)\n",
       "            )\n",
       "            (layer_norm): T5LayerNorm()\n",
       "            (dropout): Dropout(p=0.1, inplace=False)\n",
       "          )\n",
       "          (1): T5LayerCrossAttention(\n",
       "            (EncDecAttention): T5Attention(\n",
       "              (q): Linear(in_features=768, out_features=768, bias=False)\n",
       "              (k): Linear(in_features=768, out_features=768, bias=False)\n",
       "              (v): Linear(in_features=768, out_features=768, bias=False)\n",
       "              (o): Linear(in_features=768, out_features=768, bias=False)\n",
       "            )\n",
       "            (layer_norm): T5LayerNorm()\n",
       "            (dropout): Dropout(p=0.1, inplace=False)\n",
       "          )\n",
       "          (2): T5LayerFF(\n",
       "            (DenseReluDense): T5DenseReluDense(\n",
       "              (wi): Linear(in_features=768, out_features=3072, bias=False)\n",
       "              (wo): Linear(in_features=3072, out_features=768, bias=False)\n",
       "              (dropout): Dropout(p=0.1, inplace=False)\n",
       "            )\n",
       "            (layer_norm): T5LayerNorm()\n",
       "            (dropout): Dropout(p=0.1, inplace=False)\n",
       "          )\n",
       "        )\n",
       "      )\n",
       "      (6): T5Block(\n",
       "        (layer): ModuleList(\n",
       "          (0): T5LayerSelfAttention(\n",
       "            (SelfAttention): T5Attention(\n",
       "              (q): Linear(in_features=768, out_features=768, bias=False)\n",
       "              (k): Linear(in_features=768, out_features=768, bias=False)\n",
       "              (v): Linear(in_features=768, out_features=768, bias=False)\n",
       "              (o): Linear(in_features=768, out_features=768, bias=False)\n",
       "            )\n",
       "            (layer_norm): T5LayerNorm()\n",
       "            (dropout): Dropout(p=0.1, inplace=False)\n",
       "          )\n",
       "          (1): T5LayerCrossAttention(\n",
       "            (EncDecAttention): T5Attention(\n",
       "              (q): Linear(in_features=768, out_features=768, bias=False)\n",
       "              (k): Linear(in_features=768, out_features=768, bias=False)\n",
       "              (v): Linear(in_features=768, out_features=768, bias=False)\n",
       "              (o): Linear(in_features=768, out_features=768, bias=False)\n",
       "            )\n",
       "            (layer_norm): T5LayerNorm()\n",
       "            (dropout): Dropout(p=0.1, inplace=False)\n",
       "          )\n",
       "          (2): T5LayerFF(\n",
       "            (DenseReluDense): T5DenseReluDense(\n",
       "              (wi): Linear(in_features=768, out_features=3072, bias=False)\n",
       "              (wo): Linear(in_features=3072, out_features=768, bias=False)\n",
       "              (dropout): Dropout(p=0.1, inplace=False)\n",
       "            )\n",
       "            (layer_norm): T5LayerNorm()\n",
       "            (dropout): Dropout(p=0.1, inplace=False)\n",
       "          )\n",
       "        )\n",
       "      )\n",
       "      (7): T5Block(\n",
       "        (layer): ModuleList(\n",
       "          (0): T5LayerSelfAttention(\n",
       "            (SelfAttention): T5Attention(\n",
       "              (q): Linear(in_features=768, out_features=768, bias=False)\n",
       "              (k): Linear(in_features=768, out_features=768, bias=False)\n",
       "              (v): Linear(in_features=768, out_features=768, bias=False)\n",
       "              (o): Linear(in_features=768, out_features=768, bias=False)\n",
       "            )\n",
       "            (layer_norm): T5LayerNorm()\n",
       "            (dropout): Dropout(p=0.1, inplace=False)\n",
       "          )\n",
       "          (1): T5LayerCrossAttention(\n",
       "            (EncDecAttention): T5Attention(\n",
       "              (q): Linear(in_features=768, out_features=768, bias=False)\n",
       "              (k): Linear(in_features=768, out_features=768, bias=False)\n",
       "              (v): Linear(in_features=768, out_features=768, bias=False)\n",
       "              (o): Linear(in_features=768, out_features=768, bias=False)\n",
       "            )\n",
       "            (layer_norm): T5LayerNorm()\n",
       "            (dropout): Dropout(p=0.1, inplace=False)\n",
       "          )\n",
       "          (2): T5LayerFF(\n",
       "            (DenseReluDense): T5DenseReluDense(\n",
       "              (wi): Linear(in_features=768, out_features=3072, bias=False)\n",
       "              (wo): Linear(in_features=3072, out_features=768, bias=False)\n",
       "              (dropout): Dropout(p=0.1, inplace=False)\n",
       "            )\n",
       "            (layer_norm): T5LayerNorm()\n",
       "            (dropout): Dropout(p=0.1, inplace=False)\n",
       "          )\n",
       "        )\n",
       "      )\n",
       "      (8): T5Block(\n",
       "        (layer): ModuleList(\n",
       "          (0): T5LayerSelfAttention(\n",
       "            (SelfAttention): T5Attention(\n",
       "              (q): Linear(in_features=768, out_features=768, bias=False)\n",
       "              (k): Linear(in_features=768, out_features=768, bias=False)\n",
       "              (v): Linear(in_features=768, out_features=768, bias=False)\n",
       "              (o): Linear(in_features=768, out_features=768, bias=False)\n",
       "            )\n",
       "            (layer_norm): T5LayerNorm()\n",
       "            (dropout): Dropout(p=0.1, inplace=False)\n",
       "          )\n",
       "          (1): T5LayerCrossAttention(\n",
       "            (EncDecAttention): T5Attention(\n",
       "              (q): Linear(in_features=768, out_features=768, bias=False)\n",
       "              (k): Linear(in_features=768, out_features=768, bias=False)\n",
       "              (v): Linear(in_features=768, out_features=768, bias=False)\n",
       "              (o): Linear(in_features=768, out_features=768, bias=False)\n",
       "            )\n",
       "            (layer_norm): T5LayerNorm()\n",
       "            (dropout): Dropout(p=0.1, inplace=False)\n",
       "          )\n",
       "          (2): T5LayerFF(\n",
       "            (DenseReluDense): T5DenseReluDense(\n",
       "              (wi): Linear(in_features=768, out_features=3072, bias=False)\n",
       "              (wo): Linear(in_features=3072, out_features=768, bias=False)\n",
       "              (dropout): Dropout(p=0.1, inplace=False)\n",
       "            )\n",
       "            (layer_norm): T5LayerNorm()\n",
       "            (dropout): Dropout(p=0.1, inplace=False)\n",
       "          )\n",
       "        )\n",
       "      )\n",
       "      (9): T5Block(\n",
       "        (layer): ModuleList(\n",
       "          (0): T5LayerSelfAttention(\n",
       "            (SelfAttention): T5Attention(\n",
       "              (q): Linear(in_features=768, out_features=768, bias=False)\n",
       "              (k): Linear(in_features=768, out_features=768, bias=False)\n",
       "              (v): Linear(in_features=768, out_features=768, bias=False)\n",
       "              (o): Linear(in_features=768, out_features=768, bias=False)\n",
       "            )\n",
       "            (layer_norm): T5LayerNorm()\n",
       "            (dropout): Dropout(p=0.1, inplace=False)\n",
       "          )\n",
       "          (1): T5LayerCrossAttention(\n",
       "            (EncDecAttention): T5Attention(\n",
       "              (q): Linear(in_features=768, out_features=768, bias=False)\n",
       "              (k): Linear(in_features=768, out_features=768, bias=False)\n",
       "              (v): Linear(in_features=768, out_features=768, bias=False)\n",
       "              (o): Linear(in_features=768, out_features=768, bias=False)\n",
       "            )\n",
       "            (layer_norm): T5LayerNorm()\n",
       "            (dropout): Dropout(p=0.1, inplace=False)\n",
       "          )\n",
       "          (2): T5LayerFF(\n",
       "            (DenseReluDense): T5DenseReluDense(\n",
       "              (wi): Linear(in_features=768, out_features=3072, bias=False)\n",
       "              (wo): Linear(in_features=3072, out_features=768, bias=False)\n",
       "              (dropout): Dropout(p=0.1, inplace=False)\n",
       "            )\n",
       "            (layer_norm): T5LayerNorm()\n",
       "            (dropout): Dropout(p=0.1, inplace=False)\n",
       "          )\n",
       "        )\n",
       "      )\n",
       "      (10): T5Block(\n",
       "        (layer): ModuleList(\n",
       "          (0): T5LayerSelfAttention(\n",
       "            (SelfAttention): T5Attention(\n",
       "              (q): Linear(in_features=768, out_features=768, bias=False)\n",
       "              (k): Linear(in_features=768, out_features=768, bias=False)\n",
       "              (v): Linear(in_features=768, out_features=768, bias=False)\n",
       "              (o): Linear(in_features=768, out_features=768, bias=False)\n",
       "            )\n",
       "            (layer_norm): T5LayerNorm()\n",
       "            (dropout): Dropout(p=0.1, inplace=False)\n",
       "          )\n",
       "          (1): T5LayerCrossAttention(\n",
       "            (EncDecAttention): T5Attention(\n",
       "              (q): Linear(in_features=768, out_features=768, bias=False)\n",
       "              (k): Linear(in_features=768, out_features=768, bias=False)\n",
       "              (v): Linear(in_features=768, out_features=768, bias=False)\n",
       "              (o): Linear(in_features=768, out_features=768, bias=False)\n",
       "            )\n",
       "            (layer_norm): T5LayerNorm()\n",
       "            (dropout): Dropout(p=0.1, inplace=False)\n",
       "          )\n",
       "          (2): T5LayerFF(\n",
       "            (DenseReluDense): T5DenseReluDense(\n",
       "              (wi): Linear(in_features=768, out_features=3072, bias=False)\n",
       "              (wo): Linear(in_features=3072, out_features=768, bias=False)\n",
       "              (dropout): Dropout(p=0.1, inplace=False)\n",
       "            )\n",
       "            (layer_norm): T5LayerNorm()\n",
       "            (dropout): Dropout(p=0.1, inplace=False)\n",
       "          )\n",
       "        )\n",
       "      )\n",
       "      (11): T5Block(\n",
       "        (layer): ModuleList(\n",
       "          (0): T5LayerSelfAttention(\n",
       "            (SelfAttention): T5Attention(\n",
       "              (q): Linear(in_features=768, out_features=768, bias=False)\n",
       "              (k): Linear(in_features=768, out_features=768, bias=False)\n",
       "              (v): Linear(in_features=768, out_features=768, bias=False)\n",
       "              (o): Linear(in_features=768, out_features=768, bias=False)\n",
       "            )\n",
       "            (layer_norm): T5LayerNorm()\n",
       "            (dropout): Dropout(p=0.1, inplace=False)\n",
       "          )\n",
       "          (1): T5LayerCrossAttention(\n",
       "            (EncDecAttention): T5Attention(\n",
       "              (q): Linear(in_features=768, out_features=768, bias=False)\n",
       "              (k): Linear(in_features=768, out_features=768, bias=False)\n",
       "              (v): Linear(in_features=768, out_features=768, bias=False)\n",
       "              (o): Linear(in_features=768, out_features=768, bias=False)\n",
       "            )\n",
       "            (layer_norm): T5LayerNorm()\n",
       "            (dropout): Dropout(p=0.1, inplace=False)\n",
       "          )\n",
       "          (2): T5LayerFF(\n",
       "            (DenseReluDense): T5DenseReluDense(\n",
       "              (wi): Linear(in_features=768, out_features=3072, bias=False)\n",
       "              (wo): Linear(in_features=3072, out_features=768, bias=False)\n",
       "              (dropout): Dropout(p=0.1, inplace=False)\n",
       "            )\n",
       "            (layer_norm): T5LayerNorm()\n",
       "            (dropout): Dropout(p=0.1, inplace=False)\n",
       "          )\n",
       "        )\n",
       "      )\n",
       "    )\n",
       "    (final_layer_norm): T5LayerNorm()\n",
       "    (dropout): Dropout(p=0.1, inplace=False)\n",
       "  )\n",
       "  (lm_head): Linear(in_features=768, out_features=32128, bias=False)\n",
       ")"
      ]
     },
     "execution_count": 16,
     "metadata": {
      "tags": []
     },
     "output_type": "execute_result"
    }
   ],
   "source": [
    "device = torch.device(\"cuda\" if torch.cuda.is_available() else \"cpu\")\n",
    "model = T5ForConditionalGeneration.from_pretrained(\"allenai/unifiedqa-t5-base\")\n",
    "\n",
    "model.cuda()"
   ]
  },
  {
   "cell_type": "code",
   "execution_count": 17,
   "metadata": {
    "id": "tJA-7stkL7ZM"
   },
   "outputs": [],
   "source": [
    "from transformers import get_linear_schedule_with_warmup"
   ]
  },
  {
   "cell_type": "code",
   "execution_count": 20,
   "metadata": {
    "colab": {
     "base_uri": "https://localhost:8080/"
    },
    "id": "ceZaYyJVchGn",
    "outputId": "8f6ea94a-2767-49d5-9889-d3e6bdf24799"
   },
   "outputs": [
    {
     "data": {
      "text/plain": [
       "2252"
      ]
     },
     "execution_count": 20,
     "metadata": {
      "tags": []
     },
     "output_type": "execute_result"
    }
   ],
   "source": [
    "len(train_dataloader) * 4"
   ]
  },
  {
   "cell_type": "code",
   "execution_count": 21,
   "metadata": {
    "id": "IcWw5Y6xL7ZM"
   },
   "outputs": [],
   "source": [
    "# This variable contains all of the hyperparemeter information our training loop needs\n",
    "# Parameters:\n",
    "lr = 1e-4\n",
    "max_grad_norm = 1.0\n",
    "num_training_steps = 2252\n",
    "num_warmup_steps = 225\n",
    "warmup_proportion = float(num_warmup_steps) / float(num_training_steps)  # 0.1\n",
    "\n",
    "### In Transformers, optimizer and schedules are splitted and instantiated like this:\n",
    "optimizer = AdamW(model.parameters(), lr=lr)  # To reproduce BertAdam specific behavior set correct_bias=False\n",
    "scheduler = get_linear_schedule_with_warmup(optimizer, num_warmup_steps=num_warmup_steps, num_training_steps=num_training_steps)  # PyTorch scheduler\n",
    "\n",
    "# Store our loss and accuracy for plotting\n",
    "train_loss_set = []"
   ]
  },
  {
   "cell_type": "code",
   "execution_count": 22,
   "metadata": {
    "id": "tZv1MrngL7ZN"
   },
   "outputs": [],
   "source": [
    "# Number of training epochs (authors recommend between 2 and 4)\n",
    "epochs = 4"
   ]
  },
  {
   "cell_type": "code",
   "execution_count": 23,
   "metadata": {
    "colab": {
     "base_uri": "https://localhost:8080/"
    },
    "id": "I4jUIIIoL7ZN",
    "outputId": "8bdb2001-d6bf-4c7f-8294-803605cc80c4"
   },
   "outputs": [
    {
     "name": "stdout",
     "output_type": "stream",
     "text": [
      "Epoch:0 Batch:99 Loss:0.4524567425251007\n",
      "Epoch:0 Batch:199 Loss:0.09563900530338287\n",
      "Epoch:0 Batch:299 Loss:0.017218150198459625\n",
      "Epoch:0 Batch:399 Loss:0.016093354672193527\n",
      "Epoch:0 Batch:499 Loss:0.028746332973241806\n",
      "Epoch:1 Batch:99 Loss:0.01116793043911457\n",
      "Epoch:1 Batch:199 Loss:0.07901991903781891\n",
      "Epoch:1 Batch:299 Loss:0.05968160182237625\n",
      "Epoch:1 Batch:399 Loss:0.00817718543112278\n",
      "Epoch:1 Batch:499 Loss:0.02017420344054699\n",
      "Epoch:2 Batch:99 Loss:0.0716371014714241\n",
      "Epoch:2 Batch:199 Loss:0.021269764751195908\n",
      "Epoch:2 Batch:299 Loss:0.010799265466630459\n",
      "Epoch:2 Batch:399 Loss:0.02806326188147068\n",
      "Epoch:2 Batch:499 Loss:0.003330040955916047\n",
      "Epoch:3 Batch:99 Loss:0.07855100929737091\n",
      "Epoch:3 Batch:199 Loss:0.0003087057557422668\n",
      "Epoch:3 Batch:299 Loss:0.022966571152210236\n",
      "Epoch:3 Batch:399 Loss:0.0022621345706284046\n",
      "Epoch:3 Batch:499 Loss:0.00019682505808304995\n",
      "Training finished.\n"
     ]
    }
   ],
   "source": [
    "for epoch in range(epochs):\n",
    "    # Training\n",
    "    # Set our model to training mode (as opposed to evaluation mode)\n",
    "    model.train()\n",
    "    # Tracking variables\n",
    "    tr_loss = 0\n",
    "    nb_tr_examples, nb_tr_steps = 0, 0\n",
    "\n",
    "    running_loss = 0\n",
    "\n",
    "    # Train the data for one epoch\n",
    "    for step, batch in enumerate(train_dataloader):\n",
    "        # Add batch to GPU\n",
    "        # batch = tuple(t.to(device) for t in batch)\n",
    "\n",
    "        # Unpack the inputs from our dataloader\n",
    "        b_input_ids, b_input_mask, b_decoder_ids, b_labels = batch['input_ids'], batch['attention_mask'], batch['decoder_input_ids'], batch['labels']\n",
    "\n",
    "        ###############Bug fix code####################\n",
    "        b_input_ids = b_input_ids.type(torch.LongTensor)\n",
    "        b_input_mask = b_input_mask.type(torch.LongTensor)\n",
    "        b_decoder_ids = b_decoder_ids.type(torch.LongTensor)\n",
    "        b_labels = b_labels.type(torch.LongTensor)\n",
    "\n",
    "        b_input_ids = b_input_ids.to(device)\n",
    "        b_input_mask = b_input_mask.to(device)\n",
    "        b_decoder_ids = b_decoder_ids.to(device)\n",
    "        b_labels = b_labels.to(device)\n",
    "         ############################################\n",
    "        # Clear out the gradients (by default they accumulate)\n",
    "        optimizer.zero_grad()\n",
    "        \n",
    "        # Forward pass\n",
    "        outputs = model(input_ids = b_input_ids, attention_mask=b_input_mask, decoder_input_ids=b_decoder_ids, labels=b_labels)\n",
    "        loss, logits = outputs[:2]\n",
    "\n",
    "        loss.backward()\n",
    "        torch.nn.utils.clip_grad_norm_(model.parameters(), max_grad_norm)  # Gradient clipping is not in AdamW anymore (so you can use amp without issue)\n",
    "        optimizer.step()\n",
    "        scheduler.step()\n",
    "\n",
    "        running_loss = loss.item()\n",
    "\n",
    "        if step%100 == 99:\n",
    "            print(f'Epoch:{epoch} Batch:{step} Loss:{running_loss}')\n",
    "            running_loss = 0\n",
    "\n",
    "print('Training finished.')"
   ]
  },
  {
   "cell_type": "code",
   "execution_count": 24,
   "metadata": {
    "colab": {
     "base_uri": "https://localhost:8080/"
    },
    "id": "bYWSovOyL7ZO",
    "outputId": "85955d8e-b7e4-4cd0-ad4b-7ef548454be3"
   },
   "outputs": [
    {
     "data": {
      "text/plain": [
       "tensor(0.0002, device='cuda:0', grad_fn=<NllLossBackward>)"
      ]
     },
     "execution_count": 24,
     "metadata": {
      "tags": []
     },
     "output_type": "execute_result"
    }
   ],
   "source": [
    "loss"
   ]
  },
  {
   "cell_type": "code",
   "execution_count": 25,
   "metadata": {
    "id": "r48SW9dgL7ZO"
   },
   "outputs": [],
   "source": [
    "model.save_pretrained('/content/drive/MyDrive/Unified_QA_with_context/')"
   ]
  },
  {
   "cell_type": "markdown",
   "metadata": {
    "id": "LeFWshWDL7ZO"
   },
   "source": [
    "### Inference."
   ]
  },
  {
   "cell_type": "code",
   "execution_count": 12,
   "metadata": {
    "id": "dP4hsXfYL7ZP"
   },
   "outputs": [],
   "source": [
    "from transformers import T5ForConditionalGeneration\n",
    "\n",
    "model = T5ForConditionalGeneration.from_pretrained('/content/drive/MyDrive/Unified_QA_with_context').to('cuda')"
   ]
  },
  {
   "cell_type": "code",
   "execution_count": 13,
   "metadata": {
    "colab": {
     "base_uri": "https://localhost:8080/",
     "height": 164,
     "referenced_widgets": [
      "c16d8d65a1f2421b92291dc452351e8a",
      "94dd2cf52ed04075989a6a038da4234e",
      "ec98c2730ba345ed978aa6ca70bfd4b0",
      "0a271d378af6427991668792d0307c86",
      "1432c41fc6394356b4c3a45367786119",
      "aa7608c889dd4676a3ade4eacb7aadab",
      "fc9f0bed9c7e4e71ac9aaf973e9a47c6",
      "82fe24010b0c4a6b90bfb76f2832cfbf",
      "e1de561febaa4fc28c310094af844297",
      "f46bdc9a3fed410fb1f4e4eb6cd77450",
      "a277b0c508f841d9ac5db001daa03f3c",
      "7fa38d1666d74ea0b85336f1c4c73c0f",
      "f354eb52d1f546fb8ed2fca521ddd69d",
      "2d29b680d54f44ecb40ee733fdc28d9d",
      "aa0543f0c7904cdeb9e61532f0794c5b",
      "3bfa6ec6435148338e5ee086585ef150",
      "582b6b3be4c44afa9b83f3d7b37efa01",
      "574cf08e886e49c8abc236a7ac3964f1",
      "1377280e315b44f6b1b2202e5de68027",
      "7a2c981bf7cd4ba5936c8fcc705f02e2",
      "cfa26fb04cf54c30b1d02aafff220fd0",
      "616fe85ce6ea4d4ab39346a67a9f33eb",
      "5926cd7d63734943b1f21763e1a0ed4a",
      "6e4e67d2951f41738f79157ead80d118"
     ]
    },
    "id": "4kDDsP_nL7ZQ",
    "outputId": "cc1837a3-1ddf-44a0-c146-5d6308f2eab7"
   },
   "outputs": [
    {
     "data": {
      "application/vnd.jupyter.widget-view+json": {
       "model_id": "c16d8d65a1f2421b92291dc452351e8a",
       "version_major": 2,
       "version_minor": 0
      },
      "text/plain": [
       "HBox(children=(FloatProgress(value=0.0, description='Downloading', max=1197.0, style=ProgressStyle(description…"
      ]
     },
     "metadata": {
      "tags": []
     },
     "output_type": "display_data"
    },
    {
     "name": "stdout",
     "output_type": "stream",
     "text": [
      "\n"
     ]
    },
    {
     "data": {
      "application/vnd.jupyter.widget-view+json": {
       "model_id": "e1de561febaa4fc28c310094af844297",
       "version_major": 2,
       "version_minor": 0
      },
      "text/plain": [
       "HBox(children=(FloatProgress(value=0.0, description='Downloading', max=791656.0, style=ProgressStyle(descripti…"
      ]
     },
     "metadata": {
      "tags": []
     },
     "output_type": "display_data"
    },
    {
     "name": "stdout",
     "output_type": "stream",
     "text": [
      "\n"
     ]
    },
    {
     "data": {
      "application/vnd.jupyter.widget-view+json": {
       "model_id": "582b6b3be4c44afa9b83f3d7b37efa01",
       "version_major": 2,
       "version_minor": 0
      },
      "text/plain": [
       "HBox(children=(FloatProgress(value=0.0, description='Downloading', max=1389353.0, style=ProgressStyle(descript…"
      ]
     },
     "metadata": {
      "tags": []
     },
     "output_type": "display_data"
    },
    {
     "name": "stdout",
     "output_type": "stream",
     "text": [
      "\n"
     ]
    }
   ],
   "source": [
    "from transformers import AutoTokenizer\n",
    "\n",
    "tokenizer = AutoTokenizer.from_pretrained(\"t5-small\")"
   ]
  },
  {
   "cell_type": "code",
   "execution_count": 14,
   "metadata": {
    "id": "7sb9TdGWL7ZQ"
   },
   "outputs": [],
   "source": [
    "def run_model(input_ids, **generator_args):\n",
    "    global tokenizer\n",
    "    res = model.generate(input_ids, **generator_args)\n",
    "    return [tokenizer.decode(x) for x in res]"
   ]
  },
  {
   "cell_type": "code",
   "execution_count": 32,
   "metadata": {
    "id": "2SG4WEMAL7ZR"
   },
   "outputs": [],
   "source": [
    "def predict(array_of_input_ids, options_list):\n",
    "    '''\n",
    "    This function takes list of string. Each string is a pair of question and \n",
    "    answers separated using \\n(all lower cased). \n",
    "    For example: \n",
    "    which of the following is an example of a physical change? \\n (a) lighting a match (b) breaking a glass (c) burning of gasoline (d) rusting of iron\n",
    "\n",
    "    label_map = {'A':0,\n",
    "                'B':1,\n",
    "                'C':2,\n",
    "                'D':3,\n",
    "                'E':4,\n",
    "                '1':0,\n",
    "                '2':1,\n",
    "                '3':2,\n",
    "                '4':3,\n",
    "                '5':4}\n",
    "\n",
    "    This function will return predicted option. All answers are converted to 0, 1, 2, 3 and 4. \n",
    "\n",
    "    '''\n",
    "    preds = [] # List to store all predicted labels.\n",
    "        \n",
    "    for i in range(len(array_of_input_ids)):\n",
    "\n",
    "        # Converting input ids to torch tensor of Long type.\n",
    "        input_ids = torch.from_numpy(array_of_input_ids[i]).type(torch.LongTensor).to('cuda')\n",
    "\n",
    "        pred = run_model(input_ids.reshape((1,-1)))[0] #Reshaping because model takes input like (batch_size, sequence_length)\n",
    "\n",
    "        #Pred is in the form like '<pad> answer </s>'. So we have to remove <pad> and </s>.\n",
    "        pred = pred.replace('<pad>','')\n",
    "        pred = pred.replace('</s>','')\n",
    "        pred = pred.lstrip()\n",
    "\n",
    "        options_list_i = ast.literal_eval(options_list[i])\n",
    "\n",
    "        label = None\n",
    "        for j in range(len(options_list_i)):\n",
    "            if pred in options_list_i[j]:\n",
    "                label = j\n",
    "        \n",
    "        if label == None:\n",
    "            label = random.randint(0,4)       \n",
    "\n",
    "        preds.append(label)\n",
    "\n",
    "    return preds"
   ]
  },
  {
   "cell_type": "code",
   "execution_count": 33,
   "metadata": {
    "id": "yiCXHJQOL7ZR"
   },
   "outputs": [],
   "source": [
    "easy_train_preds = predict(easy_train_input_ids, df_easy_train['options_list'])"
   ]
  },
  {
   "cell_type": "code",
   "execution_count": 34,
   "metadata": {
    "id": "NtiHzACCL7ZR"
   },
   "outputs": [],
   "source": [
    "easy_dev_preds = predict(easy_dev_input_ids, df_easy_dev['options_list'])"
   ]
  },
  {
   "cell_type": "code",
   "execution_count": 35,
   "metadata": {
    "id": "W1saVCG6L7ZS"
   },
   "outputs": [],
   "source": [
    "easy_test_preds = predict(easy_test_input_ids, df_easy_test['options_list'])"
   ]
  },
  {
   "cell_type": "code",
   "execution_count": 42,
   "metadata": {
    "colab": {
     "base_uri": "https://localhost:8080/"
    },
    "id": "UOCrMJvOL7ZS",
    "outputId": "b3e74eab-bd42-46d9-a9db-698cc1adb812"
   },
   "outputs": [
    {
     "name": "stdout",
     "output_type": "stream",
     "text": [
      "Easy train accuracy is 0.9680142159040427\n",
      "Easy dev accuracy score is 0.543859649122807\n",
      "Easy test accuracy score is 0.5420875420875421\n"
     ]
    }
   ],
   "source": [
    "a = accuracy_score(easy_train_labels, easy_train_preds)\n",
    "print(f'Easy train accuracy is {a}')\n",
    "\n",
    "b = accuracy_score(easy_dev_labels, easy_dev_preds)\n",
    "print(f'Easy dev accuracy score is {b}')\n",
    "\n",
    "c = accuracy_score(easy_test_labels, easy_test_preds)\n",
    "print(f'Easy test accuracy score is {c}')"
   ]
  },
  {
   "cell_type": "code",
   "execution_count": null,
   "metadata": {
    "id": "YuFYFDLPNFFq"
   },
   "outputs": [],
   "source": []
  },
  {
   "cell_type": "markdown",
   "metadata": {
    "id": "vPs6jDq55hhE"
   },
   "source": [
    "# Reference Links:\n",
    "\n",
    "1. https://github.com/sobamchan/race-bert/blob/master/race.py"
   ]
  }
 ],
 "metadata": {
  "accelerator": "GPU",
  "colab": {
   "collapsed_sections": [
    "RDR4HX8RTXOi",
    "MlrxSHT0tNi5",
    "k2mXxwxEr8Ba",
    "PbDFX03nQs_o",
    "lRq7E7bs_lkU",
    "ISkLmTXVnAtx"
   ],
   "name": "Race_fine_tuning.ipynb",
   "provenance": []
  },
  "kernelspec": {
   "display_name": "Python 3",
   "language": "python",
   "name": "python3"
  },
  "language_info": {
   "codemirror_mode": {
    "name": "ipython",
    "version": 3
   },
   "file_extension": ".py",
   "mimetype": "text/x-python",
   "name": "python",
   "nbconvert_exporter": "python",
   "pygments_lexer": "ipython3",
   "version": "3.7.7"
  },
  "widgets": {
   "application/vnd.jupyter.widget-state+json": {
    "00ad34e12bdf4eebbf86d6a0a751c5f9": {
     "model_module": "@jupyter-widgets/base",
     "model_name": "LayoutModel",
     "state": {
      "_model_module": "@jupyter-widgets/base",
      "_model_module_version": "1.2.0",
      "_model_name": "LayoutModel",
      "_view_count": null,
      "_view_module": "@jupyter-widgets/base",
      "_view_module_version": "1.2.0",
      "_view_name": "LayoutView",
      "align_content": null,
      "align_items": null,
      "align_self": null,
      "border": null,
      "bottom": null,
      "display": null,
      "flex": null,
      "flex_flow": null,
      "grid_area": null,
      "grid_auto_columns": null,
      "grid_auto_flow": null,
      "grid_auto_rows": null,
      "grid_column": null,
      "grid_gap": null,
      "grid_row": null,
      "grid_template_areas": null,
      "grid_template_columns": null,
      "grid_template_rows": null,
      "height": null,
      "justify_content": null,
      "justify_items": null,
      "left": null,
      "margin": null,
      "max_height": null,
      "max_width": null,
      "min_height": null,
      "min_width": null,
      "object_fit": null,
      "object_position": null,
      "order": null,
      "overflow": null,
      "overflow_x": null,
      "overflow_y": null,
      "padding": null,
      "right": null,
      "top": null,
      "visibility": null,
      "width": null
     }
    },
    "02e97f3fc1354621a7d3fa2db0758c5e": {
     "model_module": "@jupyter-widgets/controls",
     "model_name": "ProgressStyleModel",
     "state": {
      "_model_module": "@jupyter-widgets/controls",
      "_model_module_version": "1.5.0",
      "_model_name": "ProgressStyleModel",
      "_view_count": null,
      "_view_module": "@jupyter-widgets/base",
      "_view_module_version": "1.2.0",
      "_view_name": "StyleView",
      "bar_color": null,
      "description_width": "initial"
     }
    },
    "03634e9ac86e4e15ab65f0fb01d2e0dd": {
     "model_module": "@jupyter-widgets/base",
     "model_name": "LayoutModel",
     "state": {
      "_model_module": "@jupyter-widgets/base",
      "_model_module_version": "1.2.0",
      "_model_name": "LayoutModel",
      "_view_count": null,
      "_view_module": "@jupyter-widgets/base",
      "_view_module_version": "1.2.0",
      "_view_name": "LayoutView",
      "align_content": null,
      "align_items": null,
      "align_self": null,
      "border": null,
      "bottom": null,
      "display": null,
      "flex": null,
      "flex_flow": null,
      "grid_area": null,
      "grid_auto_columns": null,
      "grid_auto_flow": null,
      "grid_auto_rows": null,
      "grid_column": null,
      "grid_gap": null,
      "grid_row": null,
      "grid_template_areas": null,
      "grid_template_columns": null,
      "grid_template_rows": null,
      "height": null,
      "justify_content": null,
      "justify_items": null,
      "left": null,
      "margin": null,
      "max_height": null,
      "max_width": null,
      "min_height": null,
      "min_width": null,
      "object_fit": null,
      "object_position": null,
      "order": null,
      "overflow": null,
      "overflow_x": null,
      "overflow_y": null,
      "padding": null,
      "right": null,
      "top": null,
      "visibility": null,
      "width": null
     }
    },
    "037a9d5e42c44c2782d6c070119ca3ed": {
     "model_module": "@jupyter-widgets/controls",
     "model_name": "FloatProgressModel",
     "state": {
      "_dom_classes": [],
      "_model_module": "@jupyter-widgets/controls",
      "_model_module_version": "1.5.0",
      "_model_name": "FloatProgressModel",
      "_view_count": null,
      "_view_module": "@jupyter-widgets/controls",
      "_view_module_version": "1.5.0",
      "_view_name": "ProgressView",
      "bar_style": "success",
      "description": "Downloading: 100%",
      "description_tooltip": null,
      "layout": "IPY_MODEL_de7e515fc9dc4fcd99f4bbc4a29a621a",
      "max": 760,
      "min": 0,
      "orientation": "horizontal",
      "style": "IPY_MODEL_ad1c9f15bea842b5833446f4828521dc",
      "value": 760
     }
    },
    "056faad70dd347e9bffac543c9c9e43b": {
     "model_module": "@jupyter-widgets/controls",
     "model_name": "HBoxModel",
     "state": {
      "_dom_classes": [],
      "_model_module": "@jupyter-widgets/controls",
      "_model_module_version": "1.5.0",
      "_model_name": "HBoxModel",
      "_view_count": null,
      "_view_module": "@jupyter-widgets/controls",
      "_view_module_version": "1.5.0",
      "_view_name": "HBoxView",
      "box_style": "",
      "children": [
       "IPY_MODEL_8ab01d226a7047659923c13897a03a45",
       "IPY_MODEL_1c36c9a5ccce487d886954653c36b355"
      ],
      "layout": "IPY_MODEL_eed7f6772b794917a4b458da3672711a"
     }
    },
    "05fcc2d102244560ab11a99767e3e6ae": {
     "model_module": "@jupyter-widgets/base",
     "model_name": "LayoutModel",
     "state": {
      "_model_module": "@jupyter-widgets/base",
      "_model_module_version": "1.2.0",
      "_model_name": "LayoutModel",
      "_view_count": null,
      "_view_module": "@jupyter-widgets/base",
      "_view_module_version": "1.2.0",
      "_view_name": "LayoutView",
      "align_content": null,
      "align_items": null,
      "align_self": null,
      "border": null,
      "bottom": null,
      "display": null,
      "flex": null,
      "flex_flow": null,
      "grid_area": null,
      "grid_auto_columns": null,
      "grid_auto_flow": null,
      "grid_auto_rows": null,
      "grid_column": null,
      "grid_gap": null,
      "grid_row": null,
      "grid_template_areas": null,
      "grid_template_columns": null,
      "grid_template_rows": null,
      "height": null,
      "justify_content": null,
      "justify_items": null,
      "left": null,
      "margin": null,
      "max_height": null,
      "max_width": null,
      "min_height": null,
      "min_width": null,
      "object_fit": null,
      "object_position": null,
      "order": null,
      "overflow": null,
      "overflow_x": null,
      "overflow_y": null,
      "padding": null,
      "right": null,
      "top": null,
      "visibility": null,
      "width": null
     }
    },
    "0693b99ef26846888b599ddae37c7efb": {
     "model_module": "@jupyter-widgets/controls",
     "model_name": "DescriptionStyleModel",
     "state": {
      "_model_module": "@jupyter-widgets/controls",
      "_model_module_version": "1.5.0",
      "_model_name": "DescriptionStyleModel",
      "_view_count": null,
      "_view_module": "@jupyter-widgets/base",
      "_view_module_version": "1.2.0",
      "_view_name": "StyleView",
      "description_width": ""
     }
    },
    "098b4d1dd308478ab7784bc83d065473": {
     "model_module": "@jupyter-widgets/controls",
     "model_name": "FloatProgressModel",
     "state": {
      "_dom_classes": [],
      "_model_module": "@jupyter-widgets/controls",
      "_model_module_version": "1.5.0",
      "_model_name": "FloatProgressModel",
      "_view_count": null,
      "_view_module": "@jupyter-widgets/controls",
      "_view_module_version": "1.5.0",
      "_view_name": "ProgressView",
      "bar_style": "success",
      "description": "Downloading: 100%",
      "description_tooltip": null,
      "layout": "IPY_MODEL_700233d871414517b5974939124eb2bc",
      "max": 891736323,
      "min": 0,
      "orientation": "horizontal",
      "style": "IPY_MODEL_ed1f477389224dd3b4032948ffa0a8fb",
      "value": 891736323
     }
    },
    "0a271d378af6427991668792d0307c86": {
     "model_module": "@jupyter-widgets/controls",
     "model_name": "HTMLModel",
     "state": {
      "_dom_classes": [],
      "_model_module": "@jupyter-widgets/controls",
      "_model_module_version": "1.5.0",
      "_model_name": "HTMLModel",
      "_view_count": null,
      "_view_module": "@jupyter-widgets/controls",
      "_view_module_version": "1.5.0",
      "_view_name": "HTMLView",
      "description": "",
      "description_tooltip": null,
      "layout": "IPY_MODEL_82fe24010b0c4a6b90bfb76f2832cfbf",
      "placeholder": "​",
      "style": "IPY_MODEL_fc9f0bed9c7e4e71ac9aaf973e9a47c6",
      "value": " 1.20k/1.20k [00:20&lt;00:00, 57.2B/s]"
     }
    },
    "1377280e315b44f6b1b2202e5de68027": {
     "model_module": "@jupyter-widgets/controls",
     "model_name": "FloatProgressModel",
     "state": {
      "_dom_classes": [],
      "_model_module": "@jupyter-widgets/controls",
      "_model_module_version": "1.5.0",
      "_model_name": "FloatProgressModel",
      "_view_count": null,
      "_view_module": "@jupyter-widgets/controls",
      "_view_module_version": "1.5.0",
      "_view_name": "ProgressView",
      "bar_style": "success",
      "description": "Downloading: 100%",
      "description_tooltip": null,
      "layout": "IPY_MODEL_616fe85ce6ea4d4ab39346a67a9f33eb",
      "max": 1389353,
      "min": 0,
      "orientation": "horizontal",
      "style": "IPY_MODEL_cfa26fb04cf54c30b1d02aafff220fd0",
      "value": 1389353
     }
    },
    "1432c41fc6394356b4c3a45367786119": {
     "model_module": "@jupyter-widgets/controls",
     "model_name": "ProgressStyleModel",
     "state": {
      "_model_module": "@jupyter-widgets/controls",
      "_model_module_version": "1.5.0",
      "_model_name": "ProgressStyleModel",
      "_view_count": null,
      "_view_module": "@jupyter-widgets/base",
      "_view_module_version": "1.2.0",
      "_view_name": "StyleView",
      "bar_color": null,
      "description_width": "initial"
     }
    },
    "1774bc85d79146d485ff392f48a70226": {
     "model_module": "@jupyter-widgets/controls",
     "model_name": "DescriptionStyleModel",
     "state": {
      "_model_module": "@jupyter-widgets/controls",
      "_model_module_version": "1.5.0",
      "_model_name": "DescriptionStyleModel",
      "_view_count": null,
      "_view_module": "@jupyter-widgets/base",
      "_view_module_version": "1.2.0",
      "_view_name": "StyleView",
      "description_width": ""
     }
    },
    "1bb3f5084b2f45068b58faec7890d284": {
     "model_module": "@jupyter-widgets/controls",
     "model_name": "DescriptionStyleModel",
     "state": {
      "_model_module": "@jupyter-widgets/controls",
      "_model_module_version": "1.5.0",
      "_model_name": "DescriptionStyleModel",
      "_view_count": null,
      "_view_module": "@jupyter-widgets/base",
      "_view_module_version": "1.2.0",
      "_view_name": "StyleView",
      "description_width": ""
     }
    },
    "1c36c9a5ccce487d886954653c36b355": {
     "model_module": "@jupyter-widgets/controls",
     "model_name": "HTMLModel",
     "state": {
      "_dom_classes": [],
      "_model_module": "@jupyter-widgets/controls",
      "_model_module_version": "1.5.0",
      "_model_name": "HTMLModel",
      "_view_count": null,
      "_view_module": "@jupyter-widgets/controls",
      "_view_module_version": "1.5.0",
      "_view_name": "HTMLView",
      "description": "",
      "description_tooltip": null,
      "layout": "IPY_MODEL_70b84cfbc5d246578245ee5a475eb213",
      "placeholder": "​",
      "style": "IPY_MODEL_f2afe55234704cfaa8ae283d0f2f5f9a",
      "value": " 433/433 [00:08&lt;00:00, 50.0B/s]"
     }
    },
    "1df44509c0554821ab6db6b7f20deedb": {
     "model_module": "@jupyter-widgets/base",
     "model_name": "LayoutModel",
     "state": {
      "_model_module": "@jupyter-widgets/base",
      "_model_module_version": "1.2.0",
      "_model_name": "LayoutModel",
      "_view_count": null,
      "_view_module": "@jupyter-widgets/base",
      "_view_module_version": "1.2.0",
      "_view_name": "LayoutView",
      "align_content": null,
      "align_items": null,
      "align_self": null,
      "border": null,
      "bottom": null,
      "display": null,
      "flex": null,
      "flex_flow": null,
      "grid_area": null,
      "grid_auto_columns": null,
      "grid_auto_flow": null,
      "grid_auto_rows": null,
      "grid_column": null,
      "grid_gap": null,
      "grid_row": null,
      "grid_template_areas": null,
      "grid_template_columns": null,
      "grid_template_rows": null,
      "height": null,
      "justify_content": null,
      "justify_items": null,
      "left": null,
      "margin": null,
      "max_height": null,
      "max_width": null,
      "min_height": null,
      "min_width": null,
      "object_fit": null,
      "object_position": null,
      "order": null,
      "overflow": null,
      "overflow_x": null,
      "overflow_y": null,
      "padding": null,
      "right": null,
      "top": null,
      "visibility": null,
      "width": null
     }
    },
    "1e2cd062f69b4a269d91269f912cda6e": {
     "model_module": "@jupyter-widgets/controls",
     "model_name": "HTMLModel",
     "state": {
      "_dom_classes": [],
      "_model_module": "@jupyter-widgets/controls",
      "_model_module_version": "1.5.0",
      "_model_name": "HTMLModel",
      "_view_count": null,
      "_view_module": "@jupyter-widgets/controls",
      "_view_module_version": "1.5.0",
      "_view_name": "HTMLView",
      "description": "",
      "description_tooltip": null,
      "layout": "IPY_MODEL_4f2944fefce9471aa9efa58c879f8c8d",
      "placeholder": "​",
      "style": "IPY_MODEL_dff0e83e8b49468bac5a8c4f6dc74d8b",
      "value": " 892M/892M [00:13&lt;00:00, 65.0MB/s]"
     }
    },
    "1ef2031cf50c47548b0aaf77049cbe08": {
     "model_module": "@jupyter-widgets/controls",
     "model_name": "ProgressStyleModel",
     "state": {
      "_model_module": "@jupyter-widgets/controls",
      "_model_module_version": "1.5.0",
      "_model_name": "ProgressStyleModel",
      "_view_count": null,
      "_view_module": "@jupyter-widgets/base",
      "_view_module_version": "1.2.0",
      "_view_name": "StyleView",
      "bar_color": null,
      "description_width": "initial"
     }
    },
    "208bb02c3eb549e59efe143e2e61b603": {
     "model_module": "@jupyter-widgets/controls",
     "model_name": "FloatProgressModel",
     "state": {
      "_dom_classes": [],
      "_model_module": "@jupyter-widgets/controls",
      "_model_module_version": "1.5.0",
      "_model_name": "FloatProgressModel",
      "_view_count": null,
      "_view_module": "@jupyter-widgets/controls",
      "_view_module_version": "1.5.0",
      "_view_name": "ProgressView",
      "bar_style": "success",
      "description": "Downloading: 100%",
      "description_tooltip": null,
      "layout": "IPY_MODEL_32bb3371e4ca48ac9996fec112e944e2",
      "max": 1382015,
      "min": 0,
      "orientation": "horizontal",
      "style": "IPY_MODEL_1ef2031cf50c47548b0aaf77049cbe08",
      "value": 1382015
     }
    },
    "235f723567124a31aa77a3d8a18e8923": {
     "model_module": "@jupyter-widgets/controls",
     "model_name": "HTMLModel",
     "state": {
      "_dom_classes": [],
      "_model_module": "@jupyter-widgets/controls",
      "_model_module_version": "1.5.0",
      "_model_name": "HTMLModel",
      "_view_count": null,
      "_view_module": "@jupyter-widgets/controls",
      "_view_module_version": "1.5.0",
      "_view_name": "HTMLView",
      "description": "",
      "description_tooltip": null,
      "layout": "IPY_MODEL_03634e9ac86e4e15ab65f0fb01d2e0dd",
      "placeholder": "​",
      "style": "IPY_MODEL_a24059bb7c9a4ee9adbf28f0f10f6a4c",
      "value": " 1.24k/1.24k [00:00&lt;00:00, 1.35kB/s]"
     }
    },
    "25961e8719ac42b2b5b1988912cf28c4": {
     "model_module": "@jupyter-widgets/controls",
     "model_name": "HBoxModel",
     "state": {
      "_dom_classes": [],
      "_model_module": "@jupyter-widgets/controls",
      "_model_module_version": "1.5.0",
      "_model_name": "HBoxModel",
      "_view_count": null,
      "_view_module": "@jupyter-widgets/controls",
      "_view_module_version": "1.5.0",
      "_view_name": "HBoxView",
      "box_style": "",
      "children": [
       "IPY_MODEL_098b4d1dd308478ab7784bc83d065473",
       "IPY_MODEL_1e2cd062f69b4a269d91269f912cda6e"
      ],
      "layout": "IPY_MODEL_2fe40bec53af481b9e5faa66e227207f"
     }
    },
    "2710710ccadc4c2990753e6bb5b847a1": {
     "model_module": "@jupyter-widgets/controls",
     "model_name": "HTMLModel",
     "state": {
      "_dom_classes": [],
      "_model_module": "@jupyter-widgets/controls",
      "_model_module_version": "1.5.0",
      "_model_name": "HTMLModel",
      "_view_count": null,
      "_view_module": "@jupyter-widgets/controls",
      "_view_module_version": "1.5.0",
      "_view_name": "HTMLView",
      "description": "",
      "description_tooltip": null,
      "layout": "IPY_MODEL_f3254585e019431a8ee8a268fc489a14",
      "placeholder": "​",
      "style": "IPY_MODEL_1bb3f5084b2f45068b58faec7890d284",
      "value": " 792k/792k [00:00&lt;00:00, 6.76MB/s]"
     }
    },
    "27a8c32677a34da9a07c038b1e50245d": {
     "model_module": "@jupyter-widgets/controls",
     "model_name": "FloatProgressModel",
     "state": {
      "_dom_classes": [],
      "_model_module": "@jupyter-widgets/controls",
      "_model_module_version": "1.5.0",
      "_model_name": "FloatProgressModel",
      "_view_count": null,
      "_view_module": "@jupyter-widgets/controls",
      "_view_module_version": "1.5.0",
      "_view_name": "ProgressView",
      "bar_style": "success",
      "description": "Downloading: 100%",
      "description_tooltip": null,
      "layout": "IPY_MODEL_3328edc9ea10416ca7b19ef5a7aca42e",
      "max": 898823,
      "min": 0,
      "orientation": "horizontal",
      "style": "IPY_MODEL_5f4bf1c4e16946588d5496a56d082d7c",
      "value": 898823
     }
    },
    "286d1704222648eca16cf45c2c7592f6": {
     "model_module": "@jupyter-widgets/controls",
     "model_name": "DescriptionStyleModel",
     "state": {
      "_model_module": "@jupyter-widgets/controls",
      "_model_module_version": "1.5.0",
      "_model_name": "DescriptionStyleModel",
      "_view_count": null,
      "_view_module": "@jupyter-widgets/base",
      "_view_module_version": "1.2.0",
      "_view_name": "StyleView",
      "description_width": ""
     }
    },
    "29bea31dbb4748c5814e882672f02b1a": {
     "model_module": "@jupyter-widgets/controls",
     "model_name": "HTMLModel",
     "state": {
      "_dom_classes": [],
      "_model_module": "@jupyter-widgets/controls",
      "_model_module_version": "1.5.0",
      "_model_name": "HTMLModel",
      "_view_count": null,
      "_view_module": "@jupyter-widgets/controls",
      "_view_module_version": "1.5.0",
      "_view_name": "HTMLView",
      "description": "",
      "description_tooltip": null,
      "layout": "IPY_MODEL_76ac15018512475aad0a27671a8f3e40",
      "placeholder": "​",
      "style": "IPY_MODEL_286d1704222648eca16cf45c2c7592f6",
      "value": " 899k/899k [00:00&lt;00:00, 2.34MB/s]"
     }
    },
    "2c5cf2754df645a8877ec2e9b6d2483f": {
     "model_module": "@jupyter-widgets/base",
     "model_name": "LayoutModel",
     "state": {
      "_model_module": "@jupyter-widgets/base",
      "_model_module_version": "1.2.0",
      "_model_name": "LayoutModel",
      "_view_count": null,
      "_view_module": "@jupyter-widgets/base",
      "_view_module_version": "1.2.0",
      "_view_name": "LayoutView",
      "align_content": null,
      "align_items": null,
      "align_self": null,
      "border": null,
      "bottom": null,
      "display": null,
      "flex": null,
      "flex_flow": null,
      "grid_area": null,
      "grid_auto_columns": null,
      "grid_auto_flow": null,
      "grid_auto_rows": null,
      "grid_column": null,
      "grid_gap": null,
      "grid_row": null,
      "grid_template_areas": null,
      "grid_template_columns": null,
      "grid_template_rows": null,
      "height": null,
      "justify_content": null,
      "justify_items": null,
      "left": null,
      "margin": null,
      "max_height": null,
      "max_width": null,
      "min_height": null,
      "min_width": null,
      "object_fit": null,
      "object_position": null,
      "order": null,
      "overflow": null,
      "overflow_x": null,
      "overflow_y": null,
      "padding": null,
      "right": null,
      "top": null,
      "visibility": null,
      "width": null
     }
    },
    "2d29b680d54f44ecb40ee733fdc28d9d": {
     "model_module": "@jupyter-widgets/base",
     "model_name": "LayoutModel",
     "state": {
      "_model_module": "@jupyter-widgets/base",
      "_model_module_version": "1.2.0",
      "_model_name": "LayoutModel",
      "_view_count": null,
      "_view_module": "@jupyter-widgets/base",
      "_view_module_version": "1.2.0",
      "_view_name": "LayoutView",
      "align_content": null,
      "align_items": null,
      "align_self": null,
      "border": null,
      "bottom": null,
      "display": null,
      "flex": null,
      "flex_flow": null,
      "grid_area": null,
      "grid_auto_columns": null,
      "grid_auto_flow": null,
      "grid_auto_rows": null,
      "grid_column": null,
      "grid_gap": null,
      "grid_row": null,
      "grid_template_areas": null,
      "grid_template_columns": null,
      "grid_template_rows": null,
      "height": null,
      "justify_content": null,
      "justify_items": null,
      "left": null,
      "margin": null,
      "max_height": null,
      "max_width": null,
      "min_height": null,
      "min_width": null,
      "object_fit": null,
      "object_position": null,
      "order": null,
      "overflow": null,
      "overflow_x": null,
      "overflow_y": null,
      "padding": null,
      "right": null,
      "top": null,
      "visibility": null,
      "width": null
     }
    },
    "2e3acf19a14b4fbc8fe2ab29d8495796": {
     "model_module": "@jupyter-widgets/controls",
     "model_name": "HBoxModel",
     "state": {
      "_dom_classes": [],
      "_model_module": "@jupyter-widgets/controls",
      "_model_module_version": "1.5.0",
      "_model_name": "HBoxModel",
      "_view_count": null,
      "_view_module": "@jupyter-widgets/controls",
      "_view_module_version": "1.5.0",
      "_view_name": "HBoxView",
      "box_style": "",
      "children": [
       "IPY_MODEL_ef43692e2c7447faaac3a91b8956261b",
       "IPY_MODEL_43c4a39630c0451c8a223cb756212155"
      ],
      "layout": "IPY_MODEL_f834a3bedb4c4a09bb69360d71590854"
     }
    },
    "2ed6fbe3bf45449998e307525cbd0a9a": {
     "model_module": "@jupyter-widgets/base",
     "model_name": "LayoutModel",
     "state": {
      "_model_module": "@jupyter-widgets/base",
      "_model_module_version": "1.2.0",
      "_model_name": "LayoutModel",
      "_view_count": null,
      "_view_module": "@jupyter-widgets/base",
      "_view_module_version": "1.2.0",
      "_view_name": "LayoutView",
      "align_content": null,
      "align_items": null,
      "align_self": null,
      "border": null,
      "bottom": null,
      "display": null,
      "flex": null,
      "flex_flow": null,
      "grid_area": null,
      "grid_auto_columns": null,
      "grid_auto_flow": null,
      "grid_auto_rows": null,
      "grid_column": null,
      "grid_gap": null,
      "grid_row": null,
      "grid_template_areas": null,
      "grid_template_columns": null,
      "grid_template_rows": null,
      "height": null,
      "justify_content": null,
      "justify_items": null,
      "left": null,
      "margin": null,
      "max_height": null,
      "max_width": null,
      "min_height": null,
      "min_width": null,
      "object_fit": null,
      "object_position": null,
      "order": null,
      "overflow": null,
      "overflow_x": null,
      "overflow_y": null,
      "padding": null,
      "right": null,
      "top": null,
      "visibility": null,
      "width": null
     }
    },
    "2f5b573dbae94a3eb318f81a36c0fbb7": {
     "model_module": "@jupyter-widgets/controls",
     "model_name": "DescriptionStyleModel",
     "state": {
      "_model_module": "@jupyter-widgets/controls",
      "_model_module_version": "1.5.0",
      "_model_name": "DescriptionStyleModel",
      "_view_count": null,
      "_view_module": "@jupyter-widgets/base",
      "_view_module_version": "1.2.0",
      "_view_name": "StyleView",
      "description_width": ""
     }
    },
    "2fe40bec53af481b9e5faa66e227207f": {
     "model_module": "@jupyter-widgets/base",
     "model_name": "LayoutModel",
     "state": {
      "_model_module": "@jupyter-widgets/base",
      "_model_module_version": "1.2.0",
      "_model_name": "LayoutModel",
      "_view_count": null,
      "_view_module": "@jupyter-widgets/base",
      "_view_module_version": "1.2.0",
      "_view_name": "LayoutView",
      "align_content": null,
      "align_items": null,
      "align_self": null,
      "border": null,
      "bottom": null,
      "display": null,
      "flex": null,
      "flex_flow": null,
      "grid_area": null,
      "grid_auto_columns": null,
      "grid_auto_flow": null,
      "grid_auto_rows": null,
      "grid_column": null,
      "grid_gap": null,
      "grid_row": null,
      "grid_template_areas": null,
      "grid_template_columns": null,
      "grid_template_rows": null,
      "height": null,
      "justify_content": null,
      "justify_items": null,
      "left": null,
      "margin": null,
      "max_height": null,
      "max_width": null,
      "min_height": null,
      "min_width": null,
      "object_fit": null,
      "object_position": null,
      "order": null,
      "overflow": null,
      "overflow_x": null,
      "overflow_y": null,
      "padding": null,
      "right": null,
      "top": null,
      "visibility": null,
      "width": null
     }
    },
    "32bb3371e4ca48ac9996fec112e944e2": {
     "model_module": "@jupyter-widgets/base",
     "model_name": "LayoutModel",
     "state": {
      "_model_module": "@jupyter-widgets/base",
      "_model_module_version": "1.2.0",
      "_model_name": "LayoutModel",
      "_view_count": null,
      "_view_module": "@jupyter-widgets/base",
      "_view_module_version": "1.2.0",
      "_view_name": "LayoutView",
      "align_content": null,
      "align_items": null,
      "align_self": null,
      "border": null,
      "bottom": null,
      "display": null,
      "flex": null,
      "flex_flow": null,
      "grid_area": null,
      "grid_auto_columns": null,
      "grid_auto_flow": null,
      "grid_auto_rows": null,
      "grid_column": null,
      "grid_gap": null,
      "grid_row": null,
      "grid_template_areas": null,
      "grid_template_columns": null,
      "grid_template_rows": null,
      "height": null,
      "justify_content": null,
      "justify_items": null,
      "left": null,
      "margin": null,
      "max_height": null,
      "max_width": null,
      "min_height": null,
      "min_width": null,
      "object_fit": null,
      "object_position": null,
      "order": null,
      "overflow": null,
      "overflow_x": null,
      "overflow_y": null,
      "padding": null,
      "right": null,
      "top": null,
      "visibility": null,
      "width": null
     }
    },
    "3328edc9ea10416ca7b19ef5a7aca42e": {
     "model_module": "@jupyter-widgets/base",
     "model_name": "LayoutModel",
     "state": {
      "_model_module": "@jupyter-widgets/base",
      "_model_module_version": "1.2.0",
      "_model_name": "LayoutModel",
      "_view_count": null,
      "_view_module": "@jupyter-widgets/base",
      "_view_module_version": "1.2.0",
      "_view_name": "LayoutView",
      "align_content": null,
      "align_items": null,
      "align_self": null,
      "border": null,
      "bottom": null,
      "display": null,
      "flex": null,
      "flex_flow": null,
      "grid_area": null,
      "grid_auto_columns": null,
      "grid_auto_flow": null,
      "grid_auto_rows": null,
      "grid_column": null,
      "grid_gap": null,
      "grid_row": null,
      "grid_template_areas": null,
      "grid_template_columns": null,
      "grid_template_rows": null,
      "height": null,
      "justify_content": null,
      "justify_items": null,
      "left": null,
      "margin": null,
      "max_height": null,
      "max_width": null,
      "min_height": null,
      "min_width": null,
      "object_fit": null,
      "object_position": null,
      "order": null,
      "overflow": null,
      "overflow_x": null,
      "overflow_y": null,
      "padding": null,
      "right": null,
      "top": null,
      "visibility": null,
      "width": null
     }
    },
    "3357692ab1ca4605ba40fe8c002af160": {
     "model_module": "@jupyter-widgets/base",
     "model_name": "LayoutModel",
     "state": {
      "_model_module": "@jupyter-widgets/base",
      "_model_module_version": "1.2.0",
      "_model_name": "LayoutModel",
      "_view_count": null,
      "_view_module": "@jupyter-widgets/base",
      "_view_module_version": "1.2.0",
      "_view_name": "LayoutView",
      "align_content": null,
      "align_items": null,
      "align_self": null,
      "border": null,
      "bottom": null,
      "display": null,
      "flex": null,
      "flex_flow": null,
      "grid_area": null,
      "grid_auto_columns": null,
      "grid_auto_flow": null,
      "grid_auto_rows": null,
      "grid_column": null,
      "grid_gap": null,
      "grid_row": null,
      "grid_template_areas": null,
      "grid_template_columns": null,
      "grid_template_rows": null,
      "height": null,
      "justify_content": null,
      "justify_items": null,
      "left": null,
      "margin": null,
      "max_height": null,
      "max_width": null,
      "min_height": null,
      "min_width": null,
      "object_fit": null,
      "object_position": null,
      "order": null,
      "overflow": null,
      "overflow_x": null,
      "overflow_y": null,
      "padding": null,
      "right": null,
      "top": null,
      "visibility": null,
      "width": null
     }
    },
    "36dcce95cd464644b16d67d2d0776ef8": {
     "model_module": "@jupyter-widgets/base",
     "model_name": "LayoutModel",
     "state": {
      "_model_module": "@jupyter-widgets/base",
      "_model_module_version": "1.2.0",
      "_model_name": "LayoutModel",
      "_view_count": null,
      "_view_module": "@jupyter-widgets/base",
      "_view_module_version": "1.2.0",
      "_view_name": "LayoutView",
      "align_content": null,
      "align_items": null,
      "align_self": null,
      "border": null,
      "bottom": null,
      "display": null,
      "flex": null,
      "flex_flow": null,
      "grid_area": null,
      "grid_auto_columns": null,
      "grid_auto_flow": null,
      "grid_auto_rows": null,
      "grid_column": null,
      "grid_gap": null,
      "grid_row": null,
      "grid_template_areas": null,
      "grid_template_columns": null,
      "grid_template_rows": null,
      "height": null,
      "justify_content": null,
      "justify_items": null,
      "left": null,
      "margin": null,
      "max_height": null,
      "max_width": null,
      "min_height": null,
      "min_width": null,
      "object_fit": null,
      "object_position": null,
      "order": null,
      "overflow": null,
      "overflow_x": null,
      "overflow_y": null,
      "padding": null,
      "right": null,
      "top": null,
      "visibility": null,
      "width": null
     }
    },
    "37a39cb2a14548be90c2f20e6bdcbf1c": {
     "model_module": "@jupyter-widgets/base",
     "model_name": "LayoutModel",
     "state": {
      "_model_module": "@jupyter-widgets/base",
      "_model_module_version": "1.2.0",
      "_model_name": "LayoutModel",
      "_view_count": null,
      "_view_module": "@jupyter-widgets/base",
      "_view_module_version": "1.2.0",
      "_view_name": "LayoutView",
      "align_content": null,
      "align_items": null,
      "align_self": null,
      "border": null,
      "bottom": null,
      "display": null,
      "flex": null,
      "flex_flow": null,
      "grid_area": null,
      "grid_auto_columns": null,
      "grid_auto_flow": null,
      "grid_auto_rows": null,
      "grid_column": null,
      "grid_gap": null,
      "grid_row": null,
      "grid_template_areas": null,
      "grid_template_columns": null,
      "grid_template_rows": null,
      "height": null,
      "justify_content": null,
      "justify_items": null,
      "left": null,
      "margin": null,
      "max_height": null,
      "max_width": null,
      "min_height": null,
      "min_width": null,
      "object_fit": null,
      "object_position": null,
      "order": null,
      "overflow": null,
      "overflow_x": null,
      "overflow_y": null,
      "padding": null,
      "right": null,
      "top": null,
      "visibility": null,
      "width": null
     }
    },
    "380f922cea79467290d1ebc2ed61bc19": {
     "model_module": "@jupyter-widgets/controls",
     "model_name": "HTMLModel",
     "state": {
      "_dom_classes": [],
      "_model_module": "@jupyter-widgets/controls",
      "_model_module_version": "1.5.0",
      "_model_name": "HTMLModel",
      "_view_count": null,
      "_view_module": "@jupyter-widgets/controls",
      "_view_module_version": "1.5.0",
      "_view_name": "HTMLView",
      "description": "",
      "description_tooltip": null,
      "layout": "IPY_MODEL_dd229f7dee274b2cb4f03649c8046839",
      "placeholder": "​",
      "style": "IPY_MODEL_8cfabbaff29d4ab0832841aec8f15424",
      "value": " 1.39M/1.39M [00:18&lt;00:00, 74.2kB/s]"
     }
    },
    "3a648a5079624e3f8e718500cafce78c": {
     "model_module": "@jupyter-widgets/base",
     "model_name": "LayoutModel",
     "state": {
      "_model_module": "@jupyter-widgets/base",
      "_model_module_version": "1.2.0",
      "_model_name": "LayoutModel",
      "_view_count": null,
      "_view_module": "@jupyter-widgets/base",
      "_view_module_version": "1.2.0",
      "_view_name": "LayoutView",
      "align_content": null,
      "align_items": null,
      "align_self": null,
      "border": null,
      "bottom": null,
      "display": null,
      "flex": null,
      "flex_flow": null,
      "grid_area": null,
      "grid_auto_columns": null,
      "grid_auto_flow": null,
      "grid_auto_rows": null,
      "grid_column": null,
      "grid_gap": null,
      "grid_row": null,
      "grid_template_areas": null,
      "grid_template_columns": null,
      "grid_template_rows": null,
      "height": null,
      "justify_content": null,
      "justify_items": null,
      "left": null,
      "margin": null,
      "max_height": null,
      "max_width": null,
      "min_height": null,
      "min_width": null,
      "object_fit": null,
      "object_position": null,
      "order": null,
      "overflow": null,
      "overflow_x": null,
      "overflow_y": null,
      "padding": null,
      "right": null,
      "top": null,
      "visibility": null,
      "width": null
     }
    },
    "3bfa6ec6435148338e5ee086585ef150": {
     "model_module": "@jupyter-widgets/base",
     "model_name": "LayoutModel",
     "state": {
      "_model_module": "@jupyter-widgets/base",
      "_model_module_version": "1.2.0",
      "_model_name": "LayoutModel",
      "_view_count": null,
      "_view_module": "@jupyter-widgets/base",
      "_view_module_version": "1.2.0",
      "_view_name": "LayoutView",
      "align_content": null,
      "align_items": null,
      "align_self": null,
      "border": null,
      "bottom": null,
      "display": null,
      "flex": null,
      "flex_flow": null,
      "grid_area": null,
      "grid_auto_columns": null,
      "grid_auto_flow": null,
      "grid_auto_rows": null,
      "grid_column": null,
      "grid_gap": null,
      "grid_row": null,
      "grid_template_areas": null,
      "grid_template_columns": null,
      "grid_template_rows": null,
      "height": null,
      "justify_content": null,
      "justify_items": null,
      "left": null,
      "margin": null,
      "max_height": null,
      "max_width": null,
      "min_height": null,
      "min_width": null,
      "object_fit": null,
      "object_position": null,
      "order": null,
      "overflow": null,
      "overflow_x": null,
      "overflow_y": null,
      "padding": null,
      "right": null,
      "top": null,
      "visibility": null,
      "width": null
     }
    },
    "3c38b08a5e3c470c93a6378210490b25": {
     "model_module": "@jupyter-widgets/controls",
     "model_name": "HTMLModel",
     "state": {
      "_dom_classes": [],
      "_model_module": "@jupyter-widgets/controls",
      "_model_module_version": "1.5.0",
      "_model_name": "HTMLModel",
      "_view_count": null,
      "_view_module": "@jupyter-widgets/controls",
      "_view_module_version": "1.5.0",
      "_view_name": "HTMLView",
      "description": "",
      "description_tooltip": null,
      "layout": "IPY_MODEL_5ad2725427054f2f990140397e5a3777",
      "placeholder": "​",
      "style": "IPY_MODEL_63e185d1a4784dd290197ed78ba15ebd",
      "value": " 760/760 [00:00&lt;00:00, 2.66kB/s]"
     }
    },
    "3d3091df26754de291d77cccff2806e0": {
     "model_module": "@jupyter-widgets/controls",
     "model_name": "DescriptionStyleModel",
     "state": {
      "_model_module": "@jupyter-widgets/controls",
      "_model_module_version": "1.5.0",
      "_model_name": "DescriptionStyleModel",
      "_view_count": null,
      "_view_module": "@jupyter-widgets/base",
      "_view_module_version": "1.2.0",
      "_view_name": "StyleView",
      "description_width": ""
     }
    },
    "3dc89ed43a8d40a89f772e4b8ede821b": {
     "model_module": "@jupyter-widgets/controls",
     "model_name": "ProgressStyleModel",
     "state": {
      "_model_module": "@jupyter-widgets/controls",
      "_model_module_version": "1.5.0",
      "_model_name": "ProgressStyleModel",
      "_view_count": null,
      "_view_module": "@jupyter-widgets/base",
      "_view_module_version": "1.2.0",
      "_view_name": "StyleView",
      "bar_color": null,
      "description_width": "initial"
     }
    },
    "43c4a39630c0451c8a223cb756212155": {
     "model_module": "@jupyter-widgets/controls",
     "model_name": "HTMLModel",
     "state": {
      "_dom_classes": [],
      "_model_module": "@jupyter-widgets/controls",
      "_model_module_version": "1.5.0",
      "_model_name": "HTMLModel",
      "_view_count": null,
      "_view_module": "@jupyter-widgets/controls",
      "_view_module_version": "1.5.0",
      "_view_name": "HTMLView",
      "description": "",
      "description_tooltip": null,
      "layout": "IPY_MODEL_8a7b408976014278946e5a4ab3bf8dda",
      "placeholder": "​",
      "style": "IPY_MODEL_b8d95b37a9864581a45852a45bba10c3",
      "value": " 1.20k/1.20k [00:00&lt;00:00, 10.9kB/s]"
     }
    },
    "4600b0e0266147abb6d49a9fb1ad5ba2": {
     "model_module": "@jupyter-widgets/base",
     "model_name": "LayoutModel",
     "state": {
      "_model_module": "@jupyter-widgets/base",
      "_model_module_version": "1.2.0",
      "_model_name": "LayoutModel",
      "_view_count": null,
      "_view_module": "@jupyter-widgets/base",
      "_view_module_version": "1.2.0",
      "_view_name": "LayoutView",
      "align_content": null,
      "align_items": null,
      "align_self": null,
      "border": null,
      "bottom": null,
      "display": null,
      "flex": null,
      "flex_flow": null,
      "grid_area": null,
      "grid_auto_columns": null,
      "grid_auto_flow": null,
      "grid_auto_rows": null,
      "grid_column": null,
      "grid_gap": null,
      "grid_row": null,
      "grid_template_areas": null,
      "grid_template_columns": null,
      "grid_template_rows": null,
      "height": null,
      "justify_content": null,
      "justify_items": null,
      "left": null,
      "margin": null,
      "max_height": null,
      "max_width": null,
      "min_height": null,
      "min_width": null,
      "object_fit": null,
      "object_position": null,
      "order": null,
      "overflow": null,
      "overflow_x": null,
      "overflow_y": null,
      "padding": null,
      "right": null,
      "top": null,
      "visibility": null,
      "width": null
     }
    },
    "4625bfaf47df4169891504560311630f": {
     "model_module": "@jupyter-widgets/controls",
     "model_name": "FloatProgressModel",
     "state": {
      "_dom_classes": [],
      "_model_module": "@jupyter-widgets/controls",
      "_model_module_version": "1.5.0",
      "_model_name": "FloatProgressModel",
      "_view_count": null,
      "_view_module": "@jupyter-widgets/controls",
      "_view_module_version": "1.5.0",
      "_view_name": "ProgressView",
      "bar_style": "success",
      "description": "Downloading: 100%",
      "description_tooltip": null,
      "layout": "IPY_MODEL_05fcc2d102244560ab11a99767e3e6ae",
      "max": 791656,
      "min": 0,
      "orientation": "horizontal",
      "style": "IPY_MODEL_da660713f3004df0b732abb125274208",
      "value": 791656
     }
    },
    "46ba39913584437c894ec74bea0f8d66": {
     "model_module": "@jupyter-widgets/controls",
     "model_name": "DescriptionStyleModel",
     "state": {
      "_model_module": "@jupyter-widgets/controls",
      "_model_module_version": "1.5.0",
      "_model_name": "DescriptionStyleModel",
      "_view_count": null,
      "_view_module": "@jupyter-widgets/base",
      "_view_module_version": "1.2.0",
      "_view_name": "StyleView",
      "description_width": ""
     }
    },
    "4892e833d7e5412ebedb66413ac5bc40": {
     "model_module": "@jupyter-widgets/base",
     "model_name": "LayoutModel",
     "state": {
      "_model_module": "@jupyter-widgets/base",
      "_model_module_version": "1.2.0",
      "_model_name": "LayoutModel",
      "_view_count": null,
      "_view_module": "@jupyter-widgets/base",
      "_view_module_version": "1.2.0",
      "_view_name": "LayoutView",
      "align_content": null,
      "align_items": null,
      "align_self": null,
      "border": null,
      "bottom": null,
      "display": null,
      "flex": null,
      "flex_flow": null,
      "grid_area": null,
      "grid_auto_columns": null,
      "grid_auto_flow": null,
      "grid_auto_rows": null,
      "grid_column": null,
      "grid_gap": null,
      "grid_row": null,
      "grid_template_areas": null,
      "grid_template_columns": null,
      "grid_template_rows": null,
      "height": null,
      "justify_content": null,
      "justify_items": null,
      "left": null,
      "margin": null,
      "max_height": null,
      "max_width": null,
      "min_height": null,
      "min_width": null,
      "object_fit": null,
      "object_position": null,
      "order": null,
      "overflow": null,
      "overflow_x": null,
      "overflow_y": null,
      "padding": null,
      "right": null,
      "top": null,
      "visibility": null,
      "width": null
     }
    },
    "4bdc3eade4cd47ae8e7757fca7e650fc": {
     "model_module": "@jupyter-widgets/controls",
     "model_name": "ProgressStyleModel",
     "state": {
      "_model_module": "@jupyter-widgets/controls",
      "_model_module_version": "1.5.0",
      "_model_name": "ProgressStyleModel",
      "_view_count": null,
      "_view_module": "@jupyter-widgets/base",
      "_view_module_version": "1.2.0",
      "_view_name": "StyleView",
      "bar_color": null,
      "description_width": "initial"
     }
    },
    "4f2944fefce9471aa9efa58c879f8c8d": {
     "model_module": "@jupyter-widgets/base",
     "model_name": "LayoutModel",
     "state": {
      "_model_module": "@jupyter-widgets/base",
      "_model_module_version": "1.2.0",
      "_model_name": "LayoutModel",
      "_view_count": null,
      "_view_module": "@jupyter-widgets/base",
      "_view_module_version": "1.2.0",
      "_view_name": "LayoutView",
      "align_content": null,
      "align_items": null,
      "align_self": null,
      "border": null,
      "bottom": null,
      "display": null,
      "flex": null,
      "flex_flow": null,
      "grid_area": null,
      "grid_auto_columns": null,
      "grid_auto_flow": null,
      "grid_auto_rows": null,
      "grid_column": null,
      "grid_gap": null,
      "grid_row": null,
      "grid_template_areas": null,
      "grid_template_columns": null,
      "grid_template_rows": null,
      "height": null,
      "justify_content": null,
      "justify_items": null,
      "left": null,
      "margin": null,
      "max_height": null,
      "max_width": null,
      "min_height": null,
      "min_width": null,
      "object_fit": null,
      "object_position": null,
      "order": null,
      "overflow": null,
      "overflow_x": null,
      "overflow_y": null,
      "padding": null,
      "right": null,
      "top": null,
      "visibility": null,
      "width": null
     }
    },
    "5065f88c963445f4a5e8150a8d7cf5cb": {
     "model_module": "@jupyter-widgets/controls",
     "model_name": "HBoxModel",
     "state": {
      "_dom_classes": [],
      "_model_module": "@jupyter-widgets/controls",
      "_model_module_version": "1.5.0",
      "_model_name": "HBoxModel",
      "_view_count": null,
      "_view_module": "@jupyter-widgets/controls",
      "_view_module_version": "1.5.0",
      "_view_name": "HBoxView",
      "box_style": "",
      "children": [
       "IPY_MODEL_b605e0ba4ffb49749cbb916ed9a2ce6b",
       "IPY_MODEL_6c30bc3dd4624b03966449e08e4796dd"
      ],
      "layout": "IPY_MODEL_e1ac88c05fc6419fa6c55a8858bfd0dd"
     }
    },
    "5119de77423e464885abf641c96e0108": {
     "model_module": "@jupyter-widgets/base",
     "model_name": "LayoutModel",
     "state": {
      "_model_module": "@jupyter-widgets/base",
      "_model_module_version": "1.2.0",
      "_model_name": "LayoutModel",
      "_view_count": null,
      "_view_module": "@jupyter-widgets/base",
      "_view_module_version": "1.2.0",
      "_view_name": "LayoutView",
      "align_content": null,
      "align_items": null,
      "align_self": null,
      "border": null,
      "bottom": null,
      "display": null,
      "flex": null,
      "flex_flow": null,
      "grid_area": null,
      "grid_auto_columns": null,
      "grid_auto_flow": null,
      "grid_auto_rows": null,
      "grid_column": null,
      "grid_gap": null,
      "grid_row": null,
      "grid_template_areas": null,
      "grid_template_columns": null,
      "grid_template_rows": null,
      "height": null,
      "justify_content": null,
      "justify_items": null,
      "left": null,
      "margin": null,
      "max_height": null,
      "max_width": null,
      "min_height": null,
      "min_width": null,
      "object_fit": null,
      "object_position": null,
      "order": null,
      "overflow": null,
      "overflow_x": null,
      "overflow_y": null,
      "padding": null,
      "right": null,
      "top": null,
      "visibility": null,
      "width": null
     }
    },
    "518754f08ef4499fa29229cb01059480": {
     "model_module": "@jupyter-widgets/controls",
     "model_name": "DescriptionStyleModel",
     "state": {
      "_model_module": "@jupyter-widgets/controls",
      "_model_module_version": "1.5.0",
      "_model_name": "DescriptionStyleModel",
      "_view_count": null,
      "_view_module": "@jupyter-widgets/base",
      "_view_module_version": "1.2.0",
      "_view_name": "StyleView",
      "description_width": ""
     }
    },
    "51bbf5291d304308913ae885d0d3872d": {
     "model_module": "@jupyter-widgets/controls",
     "model_name": "ProgressStyleModel",
     "state": {
      "_model_module": "@jupyter-widgets/controls",
      "_model_module_version": "1.5.0",
      "_model_name": "ProgressStyleModel",
      "_view_count": null,
      "_view_module": "@jupyter-widgets/base",
      "_view_module_version": "1.2.0",
      "_view_name": "StyleView",
      "bar_color": null,
      "description_width": "initial"
     }
    },
    "54360d3bc02d4d5497f3d887eb88437e": {
     "model_module": "@jupyter-widgets/controls",
     "model_name": "DescriptionStyleModel",
     "state": {
      "_model_module": "@jupyter-widgets/controls",
      "_model_module_version": "1.5.0",
      "_model_name": "DescriptionStyleModel",
      "_view_count": null,
      "_view_module": "@jupyter-widgets/base",
      "_view_module_version": "1.2.0",
      "_view_name": "StyleView",
      "description_width": ""
     }
    },
    "568fc3b331d04a0c8e4b37fe929af71f": {
     "model_module": "@jupyter-widgets/controls",
     "model_name": "HBoxModel",
     "state": {
      "_dom_classes": [],
      "_model_module": "@jupyter-widgets/controls",
      "_model_module_version": "1.5.0",
      "_model_name": "HBoxModel",
      "_view_count": null,
      "_view_module": "@jupyter-widgets/controls",
      "_view_module_version": "1.5.0",
      "_view_name": "HBoxView",
      "box_style": "",
      "children": [
       "IPY_MODEL_4625bfaf47df4169891504560311630f",
       "IPY_MODEL_a32165f18a654cc48e7be3834a5c052c"
      ],
      "layout": "IPY_MODEL_dcd54a90456f42589eb9402b7559d466"
     }
    },
    "574cf08e886e49c8abc236a7ac3964f1": {
     "model_module": "@jupyter-widgets/base",
     "model_name": "LayoutModel",
     "state": {
      "_model_module": "@jupyter-widgets/base",
      "_model_module_version": "1.2.0",
      "_model_name": "LayoutModel",
      "_view_count": null,
      "_view_module": "@jupyter-widgets/base",
      "_view_module_version": "1.2.0",
      "_view_name": "LayoutView",
      "align_content": null,
      "align_items": null,
      "align_self": null,
      "border": null,
      "bottom": null,
      "display": null,
      "flex": null,
      "flex_flow": null,
      "grid_area": null,
      "grid_auto_columns": null,
      "grid_auto_flow": null,
      "grid_auto_rows": null,
      "grid_column": null,
      "grid_gap": null,
      "grid_row": null,
      "grid_template_areas": null,
      "grid_template_columns": null,
      "grid_template_rows": null,
      "height": null,
      "justify_content": null,
      "justify_items": null,
      "left": null,
      "margin": null,
      "max_height": null,
      "max_width": null,
      "min_height": null,
      "min_width": null,
      "object_fit": null,
      "object_position": null,
      "order": null,
      "overflow": null,
      "overflow_x": null,
      "overflow_y": null,
      "padding": null,
      "right": null,
      "top": null,
      "visibility": null,
      "width": null
     }
    },
    "582b6b3be4c44afa9b83f3d7b37efa01": {
     "model_module": "@jupyter-widgets/controls",
     "model_name": "HBoxModel",
     "state": {
      "_dom_classes": [],
      "_model_module": "@jupyter-widgets/controls",
      "_model_module_version": "1.5.0",
      "_model_name": "HBoxModel",
      "_view_count": null,
      "_view_module": "@jupyter-widgets/controls",
      "_view_module_version": "1.5.0",
      "_view_name": "HBoxView",
      "box_style": "",
      "children": [
       "IPY_MODEL_1377280e315b44f6b1b2202e5de68027",
       "IPY_MODEL_7a2c981bf7cd4ba5936c8fcc705f02e2"
      ],
      "layout": "IPY_MODEL_574cf08e886e49c8abc236a7ac3964f1"
     }
    },
    "587011d660c649f596c69bcaece9a360": {
     "model_module": "@jupyter-widgets/controls",
     "model_name": "ProgressStyleModel",
     "state": {
      "_model_module": "@jupyter-widgets/controls",
      "_model_module_version": "1.5.0",
      "_model_name": "ProgressStyleModel",
      "_view_count": null,
      "_view_module": "@jupyter-widgets/base",
      "_view_module_version": "1.2.0",
      "_view_name": "StyleView",
      "bar_color": null,
      "description_width": "initial"
     }
    },
    "58ca4c346be74b6e910865bdb77ed6f5": {
     "model_module": "@jupyter-widgets/controls",
     "model_name": "HTMLModel",
     "state": {
      "_dom_classes": [],
      "_model_module": "@jupyter-widgets/controls",
      "_model_module_version": "1.5.0",
      "_model_name": "HTMLModel",
      "_view_count": null,
      "_view_module": "@jupyter-widgets/controls",
      "_view_module_version": "1.5.0",
      "_view_name": "HTMLView",
      "description": "",
      "description_tooltip": null,
      "layout": "IPY_MODEL_91b73fc4e1334e428700e8a753870978",
      "placeholder": "​",
      "style": "IPY_MODEL_0693b99ef26846888b599ddae37c7efb",
      "value": " 1.38M/1.38M [00:00&lt;00:00, 3.71MB/s]"
     }
    },
    "5926cd7d63734943b1f21763e1a0ed4a": {
     "model_module": "@jupyter-widgets/controls",
     "model_name": "DescriptionStyleModel",
     "state": {
      "_model_module": "@jupyter-widgets/controls",
      "_model_module_version": "1.5.0",
      "_model_name": "DescriptionStyleModel",
      "_view_count": null,
      "_view_module": "@jupyter-widgets/base",
      "_view_module_version": "1.2.0",
      "_view_name": "StyleView",
      "description_width": ""
     }
    },
    "597b47ceb630498ca10c61720db18afc": {
     "model_module": "@jupyter-widgets/controls",
     "model_name": "FloatProgressModel",
     "state": {
      "_dom_classes": [],
      "_model_module": "@jupyter-widgets/controls",
      "_model_module_version": "1.5.0",
      "_model_name": "FloatProgressModel",
      "_view_count": null,
      "_view_module": "@jupyter-widgets/controls",
      "_view_module_version": "1.5.0",
      "_view_name": "ProgressView",
      "bar_style": "success",
      "description": "Downloading: 100%",
      "description_tooltip": null,
      "layout": "IPY_MODEL_dd0f06d276f54e0abaeb3fec27927d2a",
      "max": 456318,
      "min": 0,
      "orientation": "horizontal",
      "style": "IPY_MODEL_3dc89ed43a8d40a89f772e4b8ede821b",
      "value": 456318
     }
    },
    "5984befaee4d48dbbffd887a9f80640b": {
     "model_module": "@jupyter-widgets/base",
     "model_name": "LayoutModel",
     "state": {
      "_model_module": "@jupyter-widgets/base",
      "_model_module_version": "1.2.0",
      "_model_name": "LayoutModel",
      "_view_count": null,
      "_view_module": "@jupyter-widgets/base",
      "_view_module_version": "1.2.0",
      "_view_name": "LayoutView",
      "align_content": null,
      "align_items": null,
      "align_self": null,
      "border": null,
      "bottom": null,
      "display": null,
      "flex": null,
      "flex_flow": null,
      "grid_area": null,
      "grid_auto_columns": null,
      "grid_auto_flow": null,
      "grid_auto_rows": null,
      "grid_column": null,
      "grid_gap": null,
      "grid_row": null,
      "grid_template_areas": null,
      "grid_template_columns": null,
      "grid_template_rows": null,
      "height": null,
      "justify_content": null,
      "justify_items": null,
      "left": null,
      "margin": null,
      "max_height": null,
      "max_width": null,
      "min_height": null,
      "min_width": null,
      "object_fit": null,
      "object_position": null,
      "order": null,
      "overflow": null,
      "overflow_x": null,
      "overflow_y": null,
      "padding": null,
      "right": null,
      "top": null,
      "visibility": null,
      "width": null
     }
    },
    "5ad2725427054f2f990140397e5a3777": {
     "model_module": "@jupyter-widgets/base",
     "model_name": "LayoutModel",
     "state": {
      "_model_module": "@jupyter-widgets/base",
      "_model_module_version": "1.2.0",
      "_model_name": "LayoutModel",
      "_view_count": null,
      "_view_module": "@jupyter-widgets/base",
      "_view_module_version": "1.2.0",
      "_view_name": "LayoutView",
      "align_content": null,
      "align_items": null,
      "align_self": null,
      "border": null,
      "bottom": null,
      "display": null,
      "flex": null,
      "flex_flow": null,
      "grid_area": null,
      "grid_auto_columns": null,
      "grid_auto_flow": null,
      "grid_auto_rows": null,
      "grid_column": null,
      "grid_gap": null,
      "grid_row": null,
      "grid_template_areas": null,
      "grid_template_columns": null,
      "grid_template_rows": null,
      "height": null,
      "justify_content": null,
      "justify_items": null,
      "left": null,
      "margin": null,
      "max_height": null,
      "max_width": null,
      "min_height": null,
      "min_width": null,
      "object_fit": null,
      "object_position": null,
      "order": null,
      "overflow": null,
      "overflow_x": null,
      "overflow_y": null,
      "padding": null,
      "right": null,
      "top": null,
      "visibility": null,
      "width": null
     }
    },
    "5f4bf1c4e16946588d5496a56d082d7c": {
     "model_module": "@jupyter-widgets/controls",
     "model_name": "ProgressStyleModel",
     "state": {
      "_model_module": "@jupyter-widgets/controls",
      "_model_module_version": "1.5.0",
      "_model_name": "ProgressStyleModel",
      "_view_count": null,
      "_view_module": "@jupyter-widgets/base",
      "_view_module_version": "1.2.0",
      "_view_name": "StyleView",
      "bar_color": null,
      "description_width": "initial"
     }
    },
    "616fe85ce6ea4d4ab39346a67a9f33eb": {
     "model_module": "@jupyter-widgets/base",
     "model_name": "LayoutModel",
     "state": {
      "_model_module": "@jupyter-widgets/base",
      "_model_module_version": "1.2.0",
      "_model_name": "LayoutModel",
      "_view_count": null,
      "_view_module": "@jupyter-widgets/base",
      "_view_module_version": "1.2.0",
      "_view_name": "LayoutView",
      "align_content": null,
      "align_items": null,
      "align_self": null,
      "border": null,
      "bottom": null,
      "display": null,
      "flex": null,
      "flex_flow": null,
      "grid_area": null,
      "grid_auto_columns": null,
      "grid_auto_flow": null,
      "grid_auto_rows": null,
      "grid_column": null,
      "grid_gap": null,
      "grid_row": null,
      "grid_template_areas": null,
      "grid_template_columns": null,
      "grid_template_rows": null,
      "height": null,
      "justify_content": null,
      "justify_items": null,
      "left": null,
      "margin": null,
      "max_height": null,
      "max_width": null,
      "min_height": null,
      "min_width": null,
      "object_fit": null,
      "object_position": null,
      "order": null,
      "overflow": null,
      "overflow_x": null,
      "overflow_y": null,
      "padding": null,
      "right": null,
      "top": null,
      "visibility": null,
      "width": null
     }
    },
    "61ca8b67283a4f6b8e8b7a4c27b99902": {
     "model_module": "@jupyter-widgets/base",
     "model_name": "LayoutModel",
     "state": {
      "_model_module": "@jupyter-widgets/base",
      "_model_module_version": "1.2.0",
      "_model_name": "LayoutModel",
      "_view_count": null,
      "_view_module": "@jupyter-widgets/base",
      "_view_module_version": "1.2.0",
      "_view_name": "LayoutView",
      "align_content": null,
      "align_items": null,
      "align_self": null,
      "border": null,
      "bottom": null,
      "display": null,
      "flex": null,
      "flex_flow": null,
      "grid_area": null,
      "grid_auto_columns": null,
      "grid_auto_flow": null,
      "grid_auto_rows": null,
      "grid_column": null,
      "grid_gap": null,
      "grid_row": null,
      "grid_template_areas": null,
      "grid_template_columns": null,
      "grid_template_rows": null,
      "height": null,
      "justify_content": null,
      "justify_items": null,
      "left": null,
      "margin": null,
      "max_height": null,
      "max_width": null,
      "min_height": null,
      "min_width": null,
      "object_fit": null,
      "object_position": null,
      "order": null,
      "overflow": null,
      "overflow_x": null,
      "overflow_y": null,
      "padding": null,
      "right": null,
      "top": null,
      "visibility": null,
      "width": null
     }
    },
    "6359948bdcfb4411b5df430fd7ffdb60": {
     "model_module": "@jupyter-widgets/controls",
     "model_name": "FloatProgressModel",
     "state": {
      "_dom_classes": [],
      "_model_module": "@jupyter-widgets/controls",
      "_model_module_version": "1.5.0",
      "_model_name": "FloatProgressModel",
      "_view_count": null,
      "_view_module": "@jupyter-widgets/controls",
      "_view_module_version": "1.5.0",
      "_view_name": "ProgressView",
      "bar_style": "success",
      "description": "Downloading: 100%",
      "description_tooltip": null,
      "layout": "IPY_MODEL_37a39cb2a14548be90c2f20e6bdcbf1c",
      "max": 1197,
      "min": 0,
      "orientation": "horizontal",
      "style": "IPY_MODEL_4bdc3eade4cd47ae8e7757fca7e650fc",
      "value": 1197
     }
    },
    "63e185d1a4784dd290197ed78ba15ebd": {
     "model_module": "@jupyter-widgets/controls",
     "model_name": "DescriptionStyleModel",
     "state": {
      "_model_module": "@jupyter-widgets/controls",
      "_model_module_version": "1.5.0",
      "_model_name": "DescriptionStyleModel",
      "_view_count": null,
      "_view_module": "@jupyter-widgets/base",
      "_view_module_version": "1.2.0",
      "_view_name": "StyleView",
      "description_width": ""
     }
    },
    "669e2df2658b4dbe8ee3b96d8a6e8689": {
     "model_module": "@jupyter-widgets/base",
     "model_name": "LayoutModel",
     "state": {
      "_model_module": "@jupyter-widgets/base",
      "_model_module_version": "1.2.0",
      "_model_name": "LayoutModel",
      "_view_count": null,
      "_view_module": "@jupyter-widgets/base",
      "_view_module_version": "1.2.0",
      "_view_name": "LayoutView",
      "align_content": null,
      "align_items": null,
      "align_self": null,
      "border": null,
      "bottom": null,
      "display": null,
      "flex": null,
      "flex_flow": null,
      "grid_area": null,
      "grid_auto_columns": null,
      "grid_auto_flow": null,
      "grid_auto_rows": null,
      "grid_column": null,
      "grid_gap": null,
      "grid_row": null,
      "grid_template_areas": null,
      "grid_template_columns": null,
      "grid_template_rows": null,
      "height": null,
      "justify_content": null,
      "justify_items": null,
      "left": null,
      "margin": null,
      "max_height": null,
      "max_width": null,
      "min_height": null,
      "min_width": null,
      "object_fit": null,
      "object_position": null,
      "order": null,
      "overflow": null,
      "overflow_x": null,
      "overflow_y": null,
      "padding": null,
      "right": null,
      "top": null,
      "visibility": null,
      "width": null
     }
    },
    "6a601b3ca1224968b363bd3c9c09330b": {
     "model_module": "@jupyter-widgets/base",
     "model_name": "LayoutModel",
     "state": {
      "_model_module": "@jupyter-widgets/base",
      "_model_module_version": "1.2.0",
      "_model_name": "LayoutModel",
      "_view_count": null,
      "_view_module": "@jupyter-widgets/base",
      "_view_module_version": "1.2.0",
      "_view_name": "LayoutView",
      "align_content": null,
      "align_items": null,
      "align_self": null,
      "border": null,
      "bottom": null,
      "display": null,
      "flex": null,
      "flex_flow": null,
      "grid_area": null,
      "grid_auto_columns": null,
      "grid_auto_flow": null,
      "grid_auto_rows": null,
      "grid_column": null,
      "grid_gap": null,
      "grid_row": null,
      "grid_template_areas": null,
      "grid_template_columns": null,
      "grid_template_rows": null,
      "height": null,
      "justify_content": null,
      "justify_items": null,
      "left": null,
      "margin": null,
      "max_height": null,
      "max_width": null,
      "min_height": null,
      "min_width": null,
      "object_fit": null,
      "object_position": null,
      "order": null,
      "overflow": null,
      "overflow_x": null,
      "overflow_y": null,
      "padding": null,
      "right": null,
      "top": null,
      "visibility": null,
      "width": null
     }
    },
    "6c30bc3dd4624b03966449e08e4796dd": {
     "model_module": "@jupyter-widgets/controls",
     "model_name": "HTMLModel",
     "state": {
      "_dom_classes": [],
      "_model_module": "@jupyter-widgets/controls",
      "_model_module_version": "1.5.0",
      "_model_name": "HTMLModel",
      "_view_count": null,
      "_view_module": "@jupyter-widgets/controls",
      "_view_module_version": "1.5.0",
      "_view_name": "HTMLView",
      "description": "",
      "description_tooltip": null,
      "layout": "IPY_MODEL_8d53989cd1ae40108a3c416203529bc1",
      "placeholder": "​",
      "style": "IPY_MODEL_3d3091df26754de291d77cccff2806e0",
      "value": " 536M/536M [00:08&lt;00:00, 66.8MB/s]"
     }
    },
    "6cc29fc6e9a646bf944a878bbf29e05a": {
     "model_module": "@jupyter-widgets/base",
     "model_name": "LayoutModel",
     "state": {
      "_model_module": "@jupyter-widgets/base",
      "_model_module_version": "1.2.0",
      "_model_name": "LayoutModel",
      "_view_count": null,
      "_view_module": "@jupyter-widgets/base",
      "_view_module_version": "1.2.0",
      "_view_name": "LayoutView",
      "align_content": null,
      "align_items": null,
      "align_self": null,
      "border": null,
      "bottom": null,
      "display": null,
      "flex": null,
      "flex_flow": null,
      "grid_area": null,
      "grid_auto_columns": null,
      "grid_auto_flow": null,
      "grid_auto_rows": null,
      "grid_column": null,
      "grid_gap": null,
      "grid_row": null,
      "grid_template_areas": null,
      "grid_template_columns": null,
      "grid_template_rows": null,
      "height": null,
      "justify_content": null,
      "justify_items": null,
      "left": null,
      "margin": null,
      "max_height": null,
      "max_width": null,
      "min_height": null,
      "min_width": null,
      "object_fit": null,
      "object_position": null,
      "order": null,
      "overflow": null,
      "overflow_x": null,
      "overflow_y": null,
      "padding": null,
      "right": null,
      "top": null,
      "visibility": null,
      "width": null
     }
    },
    "6d6bbd24c2294a03994b81e96f763476": {
     "model_module": "@jupyter-widgets/controls",
     "model_name": "HBoxModel",
     "state": {
      "_dom_classes": [],
      "_model_module": "@jupyter-widgets/controls",
      "_model_module_version": "1.5.0",
      "_model_name": "HBoxModel",
      "_view_count": null,
      "_view_module": "@jupyter-widgets/controls",
      "_view_module_version": "1.5.0",
      "_view_name": "HBoxView",
      "box_style": "",
      "children": [
       "IPY_MODEL_e7d14d6a450e49e0aeabc1e9f6b2e4cd",
       "IPY_MODEL_380f922cea79467290d1ebc2ed61bc19"
      ],
      "layout": "IPY_MODEL_2ed6fbe3bf45449998e307525cbd0a9a"
     }
    },
    "6e4e67d2951f41738f79157ead80d118": {
     "model_module": "@jupyter-widgets/base",
     "model_name": "LayoutModel",
     "state": {
      "_model_module": "@jupyter-widgets/base",
      "_model_module_version": "1.2.0",
      "_model_name": "LayoutModel",
      "_view_count": null,
      "_view_module": "@jupyter-widgets/base",
      "_view_module_version": "1.2.0",
      "_view_name": "LayoutView",
      "align_content": null,
      "align_items": null,
      "align_self": null,
      "border": null,
      "bottom": null,
      "display": null,
      "flex": null,
      "flex_flow": null,
      "grid_area": null,
      "grid_auto_columns": null,
      "grid_auto_flow": null,
      "grid_auto_rows": null,
      "grid_column": null,
      "grid_gap": null,
      "grid_row": null,
      "grid_template_areas": null,
      "grid_template_columns": null,
      "grid_template_rows": null,
      "height": null,
      "justify_content": null,
      "justify_items": null,
      "left": null,
      "margin": null,
      "max_height": null,
      "max_width": null,
      "min_height": null,
      "min_width": null,
      "object_fit": null,
      "object_position": null,
      "order": null,
      "overflow": null,
      "overflow_x": null,
      "overflow_y": null,
      "padding": null,
      "right": null,
      "top": null,
      "visibility": null,
      "width": null
     }
    },
    "700233d871414517b5974939124eb2bc": {
     "model_module": "@jupyter-widgets/base",
     "model_name": "LayoutModel",
     "state": {
      "_model_module": "@jupyter-widgets/base",
      "_model_module_version": "1.2.0",
      "_model_name": "LayoutModel",
      "_view_count": null,
      "_view_module": "@jupyter-widgets/base",
      "_view_module_version": "1.2.0",
      "_view_name": "LayoutView",
      "align_content": null,
      "align_items": null,
      "align_self": null,
      "border": null,
      "bottom": null,
      "display": null,
      "flex": null,
      "flex_flow": null,
      "grid_area": null,
      "grid_auto_columns": null,
      "grid_auto_flow": null,
      "grid_auto_rows": null,
      "grid_column": null,
      "grid_gap": null,
      "grid_row": null,
      "grid_template_areas": null,
      "grid_template_columns": null,
      "grid_template_rows": null,
      "height": null,
      "justify_content": null,
      "justify_items": null,
      "left": null,
      "margin": null,
      "max_height": null,
      "max_width": null,
      "min_height": null,
      "min_width": null,
      "object_fit": null,
      "object_position": null,
      "order": null,
      "overflow": null,
      "overflow_x": null,
      "overflow_y": null,
      "padding": null,
      "right": null,
      "top": null,
      "visibility": null,
      "width": null
     }
    },
    "70b84cfbc5d246578245ee5a475eb213": {
     "model_module": "@jupyter-widgets/base",
     "model_name": "LayoutModel",
     "state": {
      "_model_module": "@jupyter-widgets/base",
      "_model_module_version": "1.2.0",
      "_model_name": "LayoutModel",
      "_view_count": null,
      "_view_module": "@jupyter-widgets/base",
      "_view_module_version": "1.2.0",
      "_view_name": "LayoutView",
      "align_content": null,
      "align_items": null,
      "align_self": null,
      "border": null,
      "bottom": null,
      "display": null,
      "flex": null,
      "flex_flow": null,
      "grid_area": null,
      "grid_auto_columns": null,
      "grid_auto_flow": null,
      "grid_auto_rows": null,
      "grid_column": null,
      "grid_gap": null,
      "grid_row": null,
      "grid_template_areas": null,
      "grid_template_columns": null,
      "grid_template_rows": null,
      "height": null,
      "justify_content": null,
      "justify_items": null,
      "left": null,
      "margin": null,
      "max_height": null,
      "max_width": null,
      "min_height": null,
      "min_width": null,
      "object_fit": null,
      "object_position": null,
      "order": null,
      "overflow": null,
      "overflow_x": null,
      "overflow_y": null,
      "padding": null,
      "right": null,
      "top": null,
      "visibility": null,
      "width": null
     }
    },
    "76ac15018512475aad0a27671a8f3e40": {
     "model_module": "@jupyter-widgets/base",
     "model_name": "LayoutModel",
     "state": {
      "_model_module": "@jupyter-widgets/base",
      "_model_module_version": "1.2.0",
      "_model_name": "LayoutModel",
      "_view_count": null,
      "_view_module": "@jupyter-widgets/base",
      "_view_module_version": "1.2.0",
      "_view_name": "LayoutView",
      "align_content": null,
      "align_items": null,
      "align_self": null,
      "border": null,
      "bottom": null,
      "display": null,
      "flex": null,
      "flex_flow": null,
      "grid_area": null,
      "grid_auto_columns": null,
      "grid_auto_flow": null,
      "grid_auto_rows": null,
      "grid_column": null,
      "grid_gap": null,
      "grid_row": null,
      "grid_template_areas": null,
      "grid_template_columns": null,
      "grid_template_rows": null,
      "height": null,
      "justify_content": null,
      "justify_items": null,
      "left": null,
      "margin": null,
      "max_height": null,
      "max_width": null,
      "min_height": null,
      "min_width": null,
      "object_fit": null,
      "object_position": null,
      "order": null,
      "overflow": null,
      "overflow_x": null,
      "overflow_y": null,
      "padding": null,
      "right": null,
      "top": null,
      "visibility": null,
      "width": null
     }
    },
    "7771124210794272b047a611b7982a3c": {
     "model_module": "@jupyter-widgets/base",
     "model_name": "LayoutModel",
     "state": {
      "_model_module": "@jupyter-widgets/base",
      "_model_module_version": "1.2.0",
      "_model_name": "LayoutModel",
      "_view_count": null,
      "_view_module": "@jupyter-widgets/base",
      "_view_module_version": "1.2.0",
      "_view_name": "LayoutView",
      "align_content": null,
      "align_items": null,
      "align_self": null,
      "border": null,
      "bottom": null,
      "display": null,
      "flex": null,
      "flex_flow": null,
      "grid_area": null,
      "grid_auto_columns": null,
      "grid_auto_flow": null,
      "grid_auto_rows": null,
      "grid_column": null,
      "grid_gap": null,
      "grid_row": null,
      "grid_template_areas": null,
      "grid_template_columns": null,
      "grid_template_rows": null,
      "height": null,
      "justify_content": null,
      "justify_items": null,
      "left": null,
      "margin": null,
      "max_height": null,
      "max_width": null,
      "min_height": null,
      "min_width": null,
      "object_fit": null,
      "object_position": null,
      "order": null,
      "overflow": null,
      "overflow_x": null,
      "overflow_y": null,
      "padding": null,
      "right": null,
      "top": null,
      "visibility": null,
      "width": null
     }
    },
    "79838a170b1d4ec792cd5586ae0cf38a": {
     "model_module": "@jupyter-widgets/controls",
     "model_name": "HTMLModel",
     "state": {
      "_dom_classes": [],
      "_model_module": "@jupyter-widgets/controls",
      "_model_module_version": "1.5.0",
      "_model_name": "HTMLModel",
      "_view_count": null,
      "_view_module": "@jupyter-widgets/controls",
      "_view_module_version": "1.5.0",
      "_view_name": "HTMLView",
      "description": "",
      "description_tooltip": null,
      "layout": "IPY_MODEL_a88f2857efd7408aaeec44afef0b144c",
      "placeholder": "​",
      "style": "IPY_MODEL_2f5b573dbae94a3eb318f81a36c0fbb7",
      "value": " 1.39M/1.39M [00:20&lt;00:00, 69.4kB/s]"
     }
    },
    "79a7484dc3dd45d480d6af3dc6fabacf": {
     "model_module": "@jupyter-widgets/controls",
     "model_name": "ProgressStyleModel",
     "state": {
      "_model_module": "@jupyter-widgets/controls",
      "_model_module_version": "1.5.0",
      "_model_name": "ProgressStyleModel",
      "_view_count": null,
      "_view_module": "@jupyter-widgets/base",
      "_view_module_version": "1.2.0",
      "_view_name": "StyleView",
      "bar_color": null,
      "description_width": "initial"
     }
    },
    "7a2c981bf7cd4ba5936c8fcc705f02e2": {
     "model_module": "@jupyter-widgets/controls",
     "model_name": "HTMLModel",
     "state": {
      "_dom_classes": [],
      "_model_module": "@jupyter-widgets/controls",
      "_model_module_version": "1.5.0",
      "_model_name": "HTMLModel",
      "_view_count": null,
      "_view_module": "@jupyter-widgets/controls",
      "_view_module_version": "1.5.0",
      "_view_name": "HTMLView",
      "description": "",
      "description_tooltip": null,
      "layout": "IPY_MODEL_6e4e67d2951f41738f79157ead80d118",
      "placeholder": "​",
      "style": "IPY_MODEL_5926cd7d63734943b1f21763e1a0ed4a",
      "value": " 1.39M/1.39M [00:20&lt;00:00, 67.1kB/s]"
     }
    },
    "7b160992186a4a37a139777ddf9dc3af": {
     "model_module": "@jupyter-widgets/controls",
     "model_name": "ProgressStyleModel",
     "state": {
      "_model_module": "@jupyter-widgets/controls",
      "_model_module_version": "1.5.0",
      "_model_name": "ProgressStyleModel",
      "_view_count": null,
      "_view_module": "@jupyter-widgets/base",
      "_view_module_version": "1.2.0",
      "_view_name": "StyleView",
      "bar_color": null,
      "description_width": "initial"
     }
    },
    "7fa38d1666d74ea0b85336f1c4c73c0f": {
     "model_module": "@jupyter-widgets/controls",
     "model_name": "HTMLModel",
     "state": {
      "_dom_classes": [],
      "_model_module": "@jupyter-widgets/controls",
      "_model_module_version": "1.5.0",
      "_model_name": "HTMLModel",
      "_view_count": null,
      "_view_module": "@jupyter-widgets/controls",
      "_view_module_version": "1.5.0",
      "_view_name": "HTMLView",
      "description": "",
      "description_tooltip": null,
      "layout": "IPY_MODEL_3bfa6ec6435148338e5ee086585ef150",
      "placeholder": "​",
      "style": "IPY_MODEL_aa0543f0c7904cdeb9e61532f0794c5b",
      "value": " 792k/792k [00:00&lt;00:00, 6.12MB/s]"
     }
    },
    "82fe24010b0c4a6b90bfb76f2832cfbf": {
     "model_module": "@jupyter-widgets/base",
     "model_name": "LayoutModel",
     "state": {
      "_model_module": "@jupyter-widgets/base",
      "_model_module_version": "1.2.0",
      "_model_name": "LayoutModel",
      "_view_count": null,
      "_view_module": "@jupyter-widgets/base",
      "_view_module_version": "1.2.0",
      "_view_name": "LayoutView",
      "align_content": null,
      "align_items": null,
      "align_self": null,
      "border": null,
      "bottom": null,
      "display": null,
      "flex": null,
      "flex_flow": null,
      "grid_area": null,
      "grid_auto_columns": null,
      "grid_auto_flow": null,
      "grid_auto_rows": null,
      "grid_column": null,
      "grid_gap": null,
      "grid_row": null,
      "grid_template_areas": null,
      "grid_template_columns": null,
      "grid_template_rows": null,
      "height": null,
      "justify_content": null,
      "justify_items": null,
      "left": null,
      "margin": null,
      "max_height": null,
      "max_width": null,
      "min_height": null,
      "min_width": null,
      "object_fit": null,
      "object_position": null,
      "order": null,
      "overflow": null,
      "overflow_x": null,
      "overflow_y": null,
      "padding": null,
      "right": null,
      "top": null,
      "visibility": null,
      "width": null
     }
    },
    "86e19f70c3b94ff2ad386ad466673ce7": {
     "model_module": "@jupyter-widgets/base",
     "model_name": "LayoutModel",
     "state": {
      "_model_module": "@jupyter-widgets/base",
      "_model_module_version": "1.2.0",
      "_model_name": "LayoutModel",
      "_view_count": null,
      "_view_module": "@jupyter-widgets/base",
      "_view_module_version": "1.2.0",
      "_view_name": "LayoutView",
      "align_content": null,
      "align_items": null,
      "align_self": null,
      "border": null,
      "bottom": null,
      "display": null,
      "flex": null,
      "flex_flow": null,
      "grid_area": null,
      "grid_auto_columns": null,
      "grid_auto_flow": null,
      "grid_auto_rows": null,
      "grid_column": null,
      "grid_gap": null,
      "grid_row": null,
      "grid_template_areas": null,
      "grid_template_columns": null,
      "grid_template_rows": null,
      "height": null,
      "justify_content": null,
      "justify_items": null,
      "left": null,
      "margin": null,
      "max_height": null,
      "max_width": null,
      "min_height": null,
      "min_width": null,
      "object_fit": null,
      "object_position": null,
      "order": null,
      "overflow": null,
      "overflow_x": null,
      "overflow_y": null,
      "padding": null,
      "right": null,
      "top": null,
      "visibility": null,
      "width": null
     }
    },
    "8811c41798954d7ba14d440c844c1a03": {
     "model_module": "@jupyter-widgets/base",
     "model_name": "LayoutModel",
     "state": {
      "_model_module": "@jupyter-widgets/base",
      "_model_module_version": "1.2.0",
      "_model_name": "LayoutModel",
      "_view_count": null,
      "_view_module": "@jupyter-widgets/base",
      "_view_module_version": "1.2.0",
      "_view_name": "LayoutView",
      "align_content": null,
      "align_items": null,
      "align_self": null,
      "border": null,
      "bottom": null,
      "display": null,
      "flex": null,
      "flex_flow": null,
      "grid_area": null,
      "grid_auto_columns": null,
      "grid_auto_flow": null,
      "grid_auto_rows": null,
      "grid_column": null,
      "grid_gap": null,
      "grid_row": null,
      "grid_template_areas": null,
      "grid_template_columns": null,
      "grid_template_rows": null,
      "height": null,
      "justify_content": null,
      "justify_items": null,
      "left": null,
      "margin": null,
      "max_height": null,
      "max_width": null,
      "min_height": null,
      "min_width": null,
      "object_fit": null,
      "object_position": null,
      "order": null,
      "overflow": null,
      "overflow_x": null,
      "overflow_y": null,
      "padding": null,
      "right": null,
      "top": null,
      "visibility": null,
      "width": null
     }
    },
    "8891caf18d1e4d6a83d6972c4076c894": {
     "model_module": "@jupyter-widgets/base",
     "model_name": "LayoutModel",
     "state": {
      "_model_module": "@jupyter-widgets/base",
      "_model_module_version": "1.2.0",
      "_model_name": "LayoutModel",
      "_view_count": null,
      "_view_module": "@jupyter-widgets/base",
      "_view_module_version": "1.2.0",
      "_view_name": "LayoutView",
      "align_content": null,
      "align_items": null,
      "align_self": null,
      "border": null,
      "bottom": null,
      "display": null,
      "flex": null,
      "flex_flow": null,
      "grid_area": null,
      "grid_auto_columns": null,
      "grid_auto_flow": null,
      "grid_auto_rows": null,
      "grid_column": null,
      "grid_gap": null,
      "grid_row": null,
      "grid_template_areas": null,
      "grid_template_columns": null,
      "grid_template_rows": null,
      "height": null,
      "justify_content": null,
      "justify_items": null,
      "left": null,
      "margin": null,
      "max_height": null,
      "max_width": null,
      "min_height": null,
      "min_width": null,
      "object_fit": null,
      "object_position": null,
      "order": null,
      "overflow": null,
      "overflow_x": null,
      "overflow_y": null,
      "padding": null,
      "right": null,
      "top": null,
      "visibility": null,
      "width": null
     }
    },
    "8a7b408976014278946e5a4ab3bf8dda": {
     "model_module": "@jupyter-widgets/base",
     "model_name": "LayoutModel",
     "state": {
      "_model_module": "@jupyter-widgets/base",
      "_model_module_version": "1.2.0",
      "_model_name": "LayoutModel",
      "_view_count": null,
      "_view_module": "@jupyter-widgets/base",
      "_view_module_version": "1.2.0",
      "_view_name": "LayoutView",
      "align_content": null,
      "align_items": null,
      "align_self": null,
      "border": null,
      "bottom": null,
      "display": null,
      "flex": null,
      "flex_flow": null,
      "grid_area": null,
      "grid_auto_columns": null,
      "grid_auto_flow": null,
      "grid_auto_rows": null,
      "grid_column": null,
      "grid_gap": null,
      "grid_row": null,
      "grid_template_areas": null,
      "grid_template_columns": null,
      "grid_template_rows": null,
      "height": null,
      "justify_content": null,
      "justify_items": null,
      "left": null,
      "margin": null,
      "max_height": null,
      "max_width": null,
      "min_height": null,
      "min_width": null,
      "object_fit": null,
      "object_position": null,
      "order": null,
      "overflow": null,
      "overflow_x": null,
      "overflow_y": null,
      "padding": null,
      "right": null,
      "top": null,
      "visibility": null,
      "width": null
     }
    },
    "8ab01d226a7047659923c13897a03a45": {
     "model_module": "@jupyter-widgets/controls",
     "model_name": "FloatProgressModel",
     "state": {
      "_dom_classes": [],
      "_model_module": "@jupyter-widgets/controls",
      "_model_module_version": "1.5.0",
      "_model_name": "FloatProgressModel",
      "_view_count": null,
      "_view_module": "@jupyter-widgets/controls",
      "_view_module_version": "1.5.0",
      "_view_name": "ProgressView",
      "bar_style": "success",
      "description": "Downloading: 100%",
      "description_tooltip": null,
      "layout": "IPY_MODEL_bc36d8ff68ad4056a85e6d6111f7e233",
      "max": 433,
      "min": 0,
      "orientation": "horizontal",
      "style": "IPY_MODEL_f409842f921446ddb5a6512ff7f72bfc",
      "value": 433
     }
    },
    "8c46200c8a1341378156ae23c6ed6e25": {
     "model_module": "@jupyter-widgets/controls",
     "model_name": "HTMLModel",
     "state": {
      "_dom_classes": [],
      "_model_module": "@jupyter-widgets/controls",
      "_model_module_version": "1.5.0",
      "_model_name": "HTMLModel",
      "_view_count": null,
      "_view_module": "@jupyter-widgets/controls",
      "_view_module_version": "1.5.0",
      "_view_name": "HTMLView",
      "description": "",
      "description_tooltip": null,
      "layout": "IPY_MODEL_61ca8b67283a4f6b8e8b7a4c27b99902",
      "placeholder": "​",
      "style": "IPY_MODEL_c4ea08133212450bab3997d193992d4c",
      "value": " 792k/792k [00:20&lt;00:00, 38.1kB/s]"
     }
    },
    "8cfabbaff29d4ab0832841aec8f15424": {
     "model_module": "@jupyter-widgets/controls",
     "model_name": "DescriptionStyleModel",
     "state": {
      "_model_module": "@jupyter-widgets/controls",
      "_model_module_version": "1.5.0",
      "_model_name": "DescriptionStyleModel",
      "_view_count": null,
      "_view_module": "@jupyter-widgets/base",
      "_view_module_version": "1.2.0",
      "_view_name": "StyleView",
      "description_width": ""
     }
    },
    "8d53989cd1ae40108a3c416203529bc1": {
     "model_module": "@jupyter-widgets/base",
     "model_name": "LayoutModel",
     "state": {
      "_model_module": "@jupyter-widgets/base",
      "_model_module_version": "1.2.0",
      "_model_name": "LayoutModel",
      "_view_count": null,
      "_view_module": "@jupyter-widgets/base",
      "_view_module_version": "1.2.0",
      "_view_name": "LayoutView",
      "align_content": null,
      "align_items": null,
      "align_self": null,
      "border": null,
      "bottom": null,
      "display": null,
      "flex": null,
      "flex_flow": null,
      "grid_area": null,
      "grid_auto_columns": null,
      "grid_auto_flow": null,
      "grid_auto_rows": null,
      "grid_column": null,
      "grid_gap": null,
      "grid_row": null,
      "grid_template_areas": null,
      "grid_template_columns": null,
      "grid_template_rows": null,
      "height": null,
      "justify_content": null,
      "justify_items": null,
      "left": null,
      "margin": null,
      "max_height": null,
      "max_width": null,
      "min_height": null,
      "min_width": null,
      "object_fit": null,
      "object_position": null,
      "order": null,
      "overflow": null,
      "overflow_x": null,
      "overflow_y": null,
      "padding": null,
      "right": null,
      "top": null,
      "visibility": null,
      "width": null
     }
    },
    "91b73fc4e1334e428700e8a753870978": {
     "model_module": "@jupyter-widgets/base",
     "model_name": "LayoutModel",
     "state": {
      "_model_module": "@jupyter-widgets/base",
      "_model_module_version": "1.2.0",
      "_model_name": "LayoutModel",
      "_view_count": null,
      "_view_module": "@jupyter-widgets/base",
      "_view_module_version": "1.2.0",
      "_view_name": "LayoutView",
      "align_content": null,
      "align_items": null,
      "align_self": null,
      "border": null,
      "bottom": null,
      "display": null,
      "flex": null,
      "flex_flow": null,
      "grid_area": null,
      "grid_auto_columns": null,
      "grid_auto_flow": null,
      "grid_auto_rows": null,
      "grid_column": null,
      "grid_gap": null,
      "grid_row": null,
      "grid_template_areas": null,
      "grid_template_columns": null,
      "grid_template_rows": null,
      "height": null,
      "justify_content": null,
      "justify_items": null,
      "left": null,
      "margin": null,
      "max_height": null,
      "max_width": null,
      "min_height": null,
      "min_width": null,
      "object_fit": null,
      "object_position": null,
      "order": null,
      "overflow": null,
      "overflow_x": null,
      "overflow_y": null,
      "padding": null,
      "right": null,
      "top": null,
      "visibility": null,
      "width": null
     }
    },
    "9295bcb86d224f4cb4f5f0b29c838cca": {
     "model_module": "@jupyter-widgets/controls",
     "model_name": "ProgressStyleModel",
     "state": {
      "_model_module": "@jupyter-widgets/controls",
      "_model_module_version": "1.5.0",
      "_model_name": "ProgressStyleModel",
      "_view_count": null,
      "_view_module": "@jupyter-widgets/base",
      "_view_module_version": "1.2.0",
      "_view_name": "StyleView",
      "bar_color": null,
      "description_width": "initial"
     }
    },
    "942b3b7b06934cfd8265066ba4658ac1": {
     "model_module": "@jupyter-widgets/controls",
     "model_name": "FloatProgressModel",
     "state": {
      "_dom_classes": [],
      "_model_module": "@jupyter-widgets/controls",
      "_model_module_version": "1.5.0",
      "_model_name": "FloatProgressModel",
      "_view_count": null,
      "_view_module": "@jupyter-widgets/controls",
      "_view_module_version": "1.5.0",
      "_view_name": "ProgressView",
      "bar_style": "success",
      "description": "Downloading: 100%",
      "description_tooltip": null,
      "layout": "IPY_MODEL_fd44f468b0a146c1a9b3d7aee7c30e14",
      "max": 1197,
      "min": 0,
      "orientation": "horizontal",
      "style": "IPY_MODEL_a662859710024329bb0d1424c6c9b8a7",
      "value": 1197
     }
    },
    "94dd2cf52ed04075989a6a038da4234e": {
     "model_module": "@jupyter-widgets/base",
     "model_name": "LayoutModel",
     "state": {
      "_model_module": "@jupyter-widgets/base",
      "_model_module_version": "1.2.0",
      "_model_name": "LayoutModel",
      "_view_count": null,
      "_view_module": "@jupyter-widgets/base",
      "_view_module_version": "1.2.0",
      "_view_name": "LayoutView",
      "align_content": null,
      "align_items": null,
      "align_self": null,
      "border": null,
      "bottom": null,
      "display": null,
      "flex": null,
      "flex_flow": null,
      "grid_area": null,
      "grid_auto_columns": null,
      "grid_auto_flow": null,
      "grid_auto_rows": null,
      "grid_column": null,
      "grid_gap": null,
      "grid_row": null,
      "grid_template_areas": null,
      "grid_template_columns": null,
      "grid_template_rows": null,
      "height": null,
      "justify_content": null,
      "justify_items": null,
      "left": null,
      "margin": null,
      "max_height": null,
      "max_width": null,
      "min_height": null,
      "min_width": null,
      "object_fit": null,
      "object_position": null,
      "order": null,
      "overflow": null,
      "overflow_x": null,
      "overflow_y": null,
      "padding": null,
      "right": null,
      "top": null,
      "visibility": null,
      "width": null
     }
    },
    "94e4f7b70108466bb3cd13ca69fd7c1e": {
     "model_module": "@jupyter-widgets/controls",
     "model_name": "HTMLModel",
     "state": {
      "_dom_classes": [],
      "_model_module": "@jupyter-widgets/controls",
      "_model_module_version": "1.5.0",
      "_model_name": "HTMLModel",
      "_view_count": null,
      "_view_module": "@jupyter-widgets/controls",
      "_view_module_version": "1.5.0",
      "_view_name": "HTMLView",
      "description": "",
      "description_tooltip": null,
      "layout": "IPY_MODEL_c895155b696d4114906dc986949ff6c9",
      "placeholder": "​",
      "style": "IPY_MODEL_46ba39913584437c894ec74bea0f8d66",
      "value": " 1.20k/1.20k [00:18&lt;00:00, 63.3B/s]"
     }
    },
    "9c5e959deb5f4a75bdbf0ce1f9492b6a": {
     "model_module": "@jupyter-widgets/controls",
     "model_name": "HTMLModel",
     "state": {
      "_dom_classes": [],
      "_model_module": "@jupyter-widgets/controls",
      "_model_module_version": "1.5.0",
      "_model_name": "HTMLModel",
      "_view_count": null,
      "_view_module": "@jupyter-widgets/controls",
      "_view_module_version": "1.5.0",
      "_view_name": "HTMLView",
      "description": "",
      "description_tooltip": null,
      "layout": "IPY_MODEL_a9ee4c0fcf9b48369ac3331acdf2f9c0",
      "placeholder": "​",
      "style": "IPY_MODEL_c42073bb336b40f79c5d96beac4b54e5",
      "value": " 456k/456k [00:00&lt;00:00, 3.18MB/s]"
     }
    },
    "9cb4e2e27f624216bc816dd3edf3daa2": {
     "model_module": "@jupyter-widgets/base",
     "model_name": "LayoutModel",
     "state": {
      "_model_module": "@jupyter-widgets/base",
      "_model_module_version": "1.2.0",
      "_model_name": "LayoutModel",
      "_view_count": null,
      "_view_module": "@jupyter-widgets/base",
      "_view_module_version": "1.2.0",
      "_view_name": "LayoutView",
      "align_content": null,
      "align_items": null,
      "align_self": null,
      "border": null,
      "bottom": null,
      "display": null,
      "flex": null,
      "flex_flow": null,
      "grid_area": null,
      "grid_auto_columns": null,
      "grid_auto_flow": null,
      "grid_auto_rows": null,
      "grid_column": null,
      "grid_gap": null,
      "grid_row": null,
      "grid_template_areas": null,
      "grid_template_columns": null,
      "grid_template_rows": null,
      "height": null,
      "justify_content": null,
      "justify_items": null,
      "left": null,
      "margin": null,
      "max_height": null,
      "max_width": null,
      "min_height": null,
      "min_width": null,
      "object_fit": null,
      "object_position": null,
      "order": null,
      "overflow": null,
      "overflow_x": null,
      "overflow_y": null,
      "padding": null,
      "right": null,
      "top": null,
      "visibility": null,
      "width": null
     }
    },
    "9dfbdf14522e48faa5d38191f8b0c51c": {
     "model_module": "@jupyter-widgets/controls",
     "model_name": "HBoxModel",
     "state": {
      "_dom_classes": [],
      "_model_module": "@jupyter-widgets/controls",
      "_model_module_version": "1.5.0",
      "_model_name": "HBoxModel",
      "_view_count": null,
      "_view_module": "@jupyter-widgets/controls",
      "_view_module_version": "1.5.0",
      "_view_name": "HBoxView",
      "box_style": "",
      "children": [
       "IPY_MODEL_e486f7be6830403587d9db0c2be9098f",
       "IPY_MODEL_8c46200c8a1341378156ae23c6ed6e25"
      ],
      "layout": "IPY_MODEL_f0a11935543f4b42ab7f37a293f2887b"
     }
    },
    "a04b721a9a2741aa8a3d8ce6384129c2": {
     "model_module": "@jupyter-widgets/controls",
     "model_name": "HTMLModel",
     "state": {
      "_dom_classes": [],
      "_model_module": "@jupyter-widgets/controls",
      "_model_module_version": "1.5.0",
      "_model_name": "HTMLModel",
      "_view_count": null,
      "_view_module": "@jupyter-widgets/controls",
      "_view_module_version": "1.5.0",
      "_view_name": "HTMLView",
      "description": "",
      "description_tooltip": null,
      "layout": "IPY_MODEL_9cb4e2e27f624216bc816dd3edf3daa2",
      "placeholder": "​",
      "style": "IPY_MODEL_1774bc85d79146d485ff392f48a70226",
      "value": " 892M/892M [1:06:48&lt;00:00, 222kB/s]"
     }
    },
    "a128ce09f3a947c69e1291212a23f7a6": {
     "model_module": "@jupyter-widgets/controls",
     "model_name": "HBoxModel",
     "state": {
      "_dom_classes": [],
      "_model_module": "@jupyter-widgets/controls",
      "_model_module_version": "1.5.0",
      "_model_name": "HBoxModel",
      "_view_count": null,
      "_view_module": "@jupyter-widgets/controls",
      "_view_module_version": "1.5.0",
      "_view_name": "HBoxView",
      "box_style": "",
      "children": [
       "IPY_MODEL_037a9d5e42c44c2782d6c070119ca3ed",
       "IPY_MODEL_3c38b08a5e3c470c93a6378210490b25"
      ],
      "layout": "IPY_MODEL_86e19f70c3b94ff2ad386ad466673ce7"
     }
    },
    "a24059bb7c9a4ee9adbf28f0f10f6a4c": {
     "model_module": "@jupyter-widgets/controls",
     "model_name": "DescriptionStyleModel",
     "state": {
      "_model_module": "@jupyter-widgets/controls",
      "_model_module_version": "1.5.0",
      "_model_name": "DescriptionStyleModel",
      "_view_count": null,
      "_view_module": "@jupyter-widgets/base",
      "_view_module_version": "1.2.0",
      "_view_name": "StyleView",
      "description_width": ""
     }
    },
    "a277b0c508f841d9ac5db001daa03f3c": {
     "model_module": "@jupyter-widgets/controls",
     "model_name": "FloatProgressModel",
     "state": {
      "_dom_classes": [],
      "_model_module": "@jupyter-widgets/controls",
      "_model_module_version": "1.5.0",
      "_model_name": "FloatProgressModel",
      "_view_count": null,
      "_view_module": "@jupyter-widgets/controls",
      "_view_module_version": "1.5.0",
      "_view_name": "ProgressView",
      "bar_style": "success",
      "description": "Downloading: 100%",
      "description_tooltip": null,
      "layout": "IPY_MODEL_2d29b680d54f44ecb40ee733fdc28d9d",
      "max": 791656,
      "min": 0,
      "orientation": "horizontal",
      "style": "IPY_MODEL_f354eb52d1f546fb8ed2fca521ddd69d",
      "value": 791656
     }
    },
    "a2da8a465e944f6f94d00296913a7a19": {
     "model_module": "@jupyter-widgets/controls",
     "model_name": "FloatProgressModel",
     "state": {
      "_dom_classes": [],
      "_model_module": "@jupyter-widgets/controls",
      "_model_module_version": "1.5.0",
      "_model_name": "FloatProgressModel",
      "_view_count": null,
      "_view_module": "@jupyter-widgets/controls",
      "_view_module_version": "1.5.0",
      "_view_name": "ProgressView",
      "bar_style": "success",
      "description": "Downloading: 100%",
      "description_tooltip": null,
      "layout": "IPY_MODEL_bdfefefbc9284546a8376cb843be94b2",
      "max": 1236,
      "min": 0,
      "orientation": "horizontal",
      "style": "IPY_MODEL_cdf7e3e94ea04d9bbbf938856f952f78",
      "value": 1236
     }
    },
    "a32165f18a654cc48e7be3834a5c052c": {
     "model_module": "@jupyter-widgets/controls",
     "model_name": "HTMLModel",
     "state": {
      "_dom_classes": [],
      "_model_module": "@jupyter-widgets/controls",
      "_model_module_version": "1.5.0",
      "_model_name": "HTMLModel",
      "_view_count": null,
      "_view_module": "@jupyter-widgets/controls",
      "_view_module_version": "1.5.0",
      "_view_name": "HTMLView",
      "description": "",
      "description_tooltip": null,
      "layout": "IPY_MODEL_669e2df2658b4dbe8ee3b96d8a6e8689",
      "placeholder": "​",
      "style": "IPY_MODEL_d724601f2a5f43bd94b0c7a8d587f140",
      "value": " 792k/792k [01:38&lt;00:00, 8.07kB/s]"
     }
    },
    "a662859710024329bb0d1424c6c9b8a7": {
     "model_module": "@jupyter-widgets/controls",
     "model_name": "ProgressStyleModel",
     "state": {
      "_model_module": "@jupyter-widgets/controls",
      "_model_module_version": "1.5.0",
      "_model_name": "ProgressStyleModel",
      "_view_count": null,
      "_view_module": "@jupyter-widgets/base",
      "_view_module_version": "1.2.0",
      "_view_name": "StyleView",
      "bar_color": null,
      "description_width": "initial"
     }
    },
    "a799bb55e37e4f2185a8cd9b12ef7cf9": {
     "model_module": "@jupyter-widgets/controls",
     "model_name": "HBoxModel",
     "state": {
      "_dom_classes": [],
      "_model_module": "@jupyter-widgets/controls",
      "_model_module_version": "1.5.0",
      "_model_name": "HBoxModel",
      "_view_count": null,
      "_view_module": "@jupyter-widgets/controls",
      "_view_module_version": "1.5.0",
      "_view_name": "HBoxView",
      "box_style": "",
      "children": [
       "IPY_MODEL_208bb02c3eb549e59efe143e2e61b603",
       "IPY_MODEL_58ca4c346be74b6e910865bdb77ed6f5"
      ],
      "layout": "IPY_MODEL_7771124210794272b047a611b7982a3c"
     }
    },
    "a88f2857efd7408aaeec44afef0b144c": {
     "model_module": "@jupyter-widgets/base",
     "model_name": "LayoutModel",
     "state": {
      "_model_module": "@jupyter-widgets/base",
      "_model_module_version": "1.2.0",
      "_model_name": "LayoutModel",
      "_view_count": null,
      "_view_module": "@jupyter-widgets/base",
      "_view_module_version": "1.2.0",
      "_view_name": "LayoutView",
      "align_content": null,
      "align_items": null,
      "align_self": null,
      "border": null,
      "bottom": null,
      "display": null,
      "flex": null,
      "flex_flow": null,
      "grid_area": null,
      "grid_auto_columns": null,
      "grid_auto_flow": null,
      "grid_auto_rows": null,
      "grid_column": null,
      "grid_gap": null,
      "grid_row": null,
      "grid_template_areas": null,
      "grid_template_columns": null,
      "grid_template_rows": null,
      "height": null,
      "justify_content": null,
      "justify_items": null,
      "left": null,
      "margin": null,
      "max_height": null,
      "max_width": null,
      "min_height": null,
      "min_width": null,
      "object_fit": null,
      "object_position": null,
      "order": null,
      "overflow": null,
      "overflow_x": null,
      "overflow_y": null,
      "padding": null,
      "right": null,
      "top": null,
      "visibility": null,
      "width": null
     }
    },
    "a8fc9137c0a14e3080b138ec0ee21c2f": {
     "model_module": "@jupyter-widgets/base",
     "model_name": "LayoutModel",
     "state": {
      "_model_module": "@jupyter-widgets/base",
      "_model_module_version": "1.2.0",
      "_model_name": "LayoutModel",
      "_view_count": null,
      "_view_module": "@jupyter-widgets/base",
      "_view_module_version": "1.2.0",
      "_view_name": "LayoutView",
      "align_content": null,
      "align_items": null,
      "align_self": null,
      "border": null,
      "bottom": null,
      "display": null,
      "flex": null,
      "flex_flow": null,
      "grid_area": null,
      "grid_auto_columns": null,
      "grid_auto_flow": null,
      "grid_auto_rows": null,
      "grid_column": null,
      "grid_gap": null,
      "grid_row": null,
      "grid_template_areas": null,
      "grid_template_columns": null,
      "grid_template_rows": null,
      "height": null,
      "justify_content": null,
      "justify_items": null,
      "left": null,
      "margin": null,
      "max_height": null,
      "max_width": null,
      "min_height": null,
      "min_width": null,
      "object_fit": null,
      "object_position": null,
      "order": null,
      "overflow": null,
      "overflow_x": null,
      "overflow_y": null,
      "padding": null,
      "right": null,
      "top": null,
      "visibility": null,
      "width": null
     }
    },
    "a915b7ea2ffa4760a59aa8ba0c57f6b6": {
     "model_module": "@jupyter-widgets/controls",
     "model_name": "ProgressStyleModel",
     "state": {
      "_model_module": "@jupyter-widgets/controls",
      "_model_module_version": "1.5.0",
      "_model_name": "ProgressStyleModel",
      "_view_count": null,
      "_view_module": "@jupyter-widgets/base",
      "_view_module_version": "1.2.0",
      "_view_name": "StyleView",
      "bar_color": null,
      "description_width": "initial"
     }
    },
    "a941de2fb3bf4326a00a946ec0cb199c": {
     "model_module": "@jupyter-widgets/controls",
     "model_name": "FloatProgressModel",
     "state": {
      "_dom_classes": [],
      "_model_module": "@jupyter-widgets/controls",
      "_model_module_version": "1.5.0",
      "_model_name": "FloatProgressModel",
      "_view_count": null,
      "_view_module": "@jupyter-widgets/controls",
      "_view_module_version": "1.5.0",
      "_view_name": "ProgressView",
      "bar_style": "success",
      "description": "Downloading: 100%",
      "description_tooltip": null,
      "layout": "IPY_MODEL_36dcce95cd464644b16d67d2d0776ef8",
      "max": 1236,
      "min": 0,
      "orientation": "horizontal",
      "style": "IPY_MODEL_587011d660c649f596c69bcaece9a360",
      "value": 1236
     }
    },
    "a9ee4c0fcf9b48369ac3331acdf2f9c0": {
     "model_module": "@jupyter-widgets/base",
     "model_name": "LayoutModel",
     "state": {
      "_model_module": "@jupyter-widgets/base",
      "_model_module_version": "1.2.0",
      "_model_name": "LayoutModel",
      "_view_count": null,
      "_view_module": "@jupyter-widgets/base",
      "_view_module_version": "1.2.0",
      "_view_name": "LayoutView",
      "align_content": null,
      "align_items": null,
      "align_self": null,
      "border": null,
      "bottom": null,
      "display": null,
      "flex": null,
      "flex_flow": null,
      "grid_area": null,
      "grid_auto_columns": null,
      "grid_auto_flow": null,
      "grid_auto_rows": null,
      "grid_column": null,
      "grid_gap": null,
      "grid_row": null,
      "grid_template_areas": null,
      "grid_template_columns": null,
      "grid_template_rows": null,
      "height": null,
      "justify_content": null,
      "justify_items": null,
      "left": null,
      "margin": null,
      "max_height": null,
      "max_width": null,
      "min_height": null,
      "min_width": null,
      "object_fit": null,
      "object_position": null,
      "order": null,
      "overflow": null,
      "overflow_x": null,
      "overflow_y": null,
      "padding": null,
      "right": null,
      "top": null,
      "visibility": null,
      "width": null
     }
    },
    "aa0543f0c7904cdeb9e61532f0794c5b": {
     "model_module": "@jupyter-widgets/controls",
     "model_name": "DescriptionStyleModel",
     "state": {
      "_model_module": "@jupyter-widgets/controls",
      "_model_module_version": "1.5.0",
      "_model_name": "DescriptionStyleModel",
      "_view_count": null,
      "_view_module": "@jupyter-widgets/base",
      "_view_module_version": "1.2.0",
      "_view_name": "StyleView",
      "description_width": ""
     }
    },
    "aa7608c889dd4676a3ade4eacb7aadab": {
     "model_module": "@jupyter-widgets/base",
     "model_name": "LayoutModel",
     "state": {
      "_model_module": "@jupyter-widgets/base",
      "_model_module_version": "1.2.0",
      "_model_name": "LayoutModel",
      "_view_count": null,
      "_view_module": "@jupyter-widgets/base",
      "_view_module_version": "1.2.0",
      "_view_name": "LayoutView",
      "align_content": null,
      "align_items": null,
      "align_self": null,
      "border": null,
      "bottom": null,
      "display": null,
      "flex": null,
      "flex_flow": null,
      "grid_area": null,
      "grid_auto_columns": null,
      "grid_auto_flow": null,
      "grid_auto_rows": null,
      "grid_column": null,
      "grid_gap": null,
      "grid_row": null,
      "grid_template_areas": null,
      "grid_template_columns": null,
      "grid_template_rows": null,
      "height": null,
      "justify_content": null,
      "justify_items": null,
      "left": null,
      "margin": null,
      "max_height": null,
      "max_width": null,
      "min_height": null,
      "min_width": null,
      "object_fit": null,
      "object_position": null,
      "order": null,
      "overflow": null,
      "overflow_x": null,
      "overflow_y": null,
      "padding": null,
      "right": null,
      "top": null,
      "visibility": null,
      "width": null
     }
    },
    "ac229e0fda184b4d813ff706edacff76": {
     "model_module": "@jupyter-widgets/controls",
     "model_name": "FloatProgressModel",
     "state": {
      "_dom_classes": [],
      "_model_module": "@jupyter-widgets/controls",
      "_model_module_version": "1.5.0",
      "_model_name": "FloatProgressModel",
      "_view_count": null,
      "_view_module": "@jupyter-widgets/controls",
      "_view_module_version": "1.5.0",
      "_view_name": "ProgressView",
      "bar_style": "success",
      "description": "Downloading: 100%",
      "description_tooltip": null,
      "layout": "IPY_MODEL_b8cf9ffcba4f43f7957cfc40ca7a372c",
      "max": 1389353,
      "min": 0,
      "orientation": "horizontal",
      "style": "IPY_MODEL_a915b7ea2ffa4760a59aa8ba0c57f6b6",
      "value": 1389353
     }
    },
    "ad1c9f15bea842b5833446f4828521dc": {
     "model_module": "@jupyter-widgets/controls",
     "model_name": "ProgressStyleModel",
     "state": {
      "_model_module": "@jupyter-widgets/controls",
      "_model_module_version": "1.5.0",
      "_model_name": "ProgressStyleModel",
      "_view_count": null,
      "_view_module": "@jupyter-widgets/base",
      "_view_module_version": "1.2.0",
      "_view_name": "StyleView",
      "bar_color": null,
      "description_width": "initial"
     }
    },
    "adaf9fb9c646458d9b1bd3fae2da6548": {
     "model_module": "@jupyter-widgets/controls",
     "model_name": "FloatProgressModel",
     "state": {
      "_dom_classes": [],
      "_model_module": "@jupyter-widgets/controls",
      "_model_module_version": "1.5.0",
      "_model_name": "FloatProgressModel",
      "_view_count": null,
      "_view_module": "@jupyter-widgets/controls",
      "_view_module_version": "1.5.0",
      "_view_name": "ProgressView",
      "bar_style": "success",
      "description": "Downloading: 100%",
      "description_tooltip": null,
      "layout": "IPY_MODEL_f64b726b3c4743c993e29242b85f5161",
      "max": 791656,
      "min": 0,
      "orientation": "horizontal",
      "style": "IPY_MODEL_7b160992186a4a37a139777ddf9dc3af",
      "value": 791656
     }
    },
    "aea05888c99a4301bd3bb54e560a1c5c": {
     "model_module": "@jupyter-widgets/controls",
     "model_name": "FloatProgressModel",
     "state": {
      "_dom_classes": [],
      "_model_module": "@jupyter-widgets/controls",
      "_model_module_version": "1.5.0",
      "_model_name": "FloatProgressModel",
      "_view_count": null,
      "_view_module": "@jupyter-widgets/controls",
      "_view_module_version": "1.5.0",
      "_view_name": "ProgressView",
      "bar_style": "success",
      "description": "Downloading: 100%",
      "description_tooltip": null,
      "layout": "IPY_MODEL_8891caf18d1e4d6a83d6972c4076c894",
      "max": 891736323,
      "min": 0,
      "orientation": "horizontal",
      "style": "IPY_MODEL_51bbf5291d304308913ae885d0d3872d",
      "value": 891736323
     }
    },
    "af85119f1580452183c04c5f4a9ff3ac": {
     "model_module": "@jupyter-widgets/controls",
     "model_name": "HBoxModel",
     "state": {
      "_dom_classes": [],
      "_model_module": "@jupyter-widgets/controls",
      "_model_module_version": "1.5.0",
      "_model_name": "HBoxModel",
      "_view_count": null,
      "_view_module": "@jupyter-widgets/controls",
      "_view_module_version": "1.5.0",
      "_view_name": "HBoxView",
      "box_style": "",
      "children": [
       "IPY_MODEL_ac229e0fda184b4d813ff706edacff76",
       "IPY_MODEL_eaba1ea67d27467a8dad1268442c28b3"
      ],
      "layout": "IPY_MODEL_6cc29fc6e9a646bf944a878bbf29e05a"
     }
    },
    "b0bfaf588675416cb876be85ec59e821": {
     "model_module": "@jupyter-widgets/controls",
     "model_name": "HTMLModel",
     "state": {
      "_dom_classes": [],
      "_model_module": "@jupyter-widgets/controls",
      "_model_module_version": "1.5.0",
      "_model_name": "HTMLModel",
      "_view_count": null,
      "_view_module": "@jupyter-widgets/controls",
      "_view_module_version": "1.5.0",
      "_view_name": "HTMLView",
      "description": "",
      "description_tooltip": null,
      "layout": "IPY_MODEL_5119de77423e464885abf641c96e0108",
      "placeholder": "​",
      "style": "IPY_MODEL_54360d3bc02d4d5497f3d887eb88437e",
      "value": " 1.20k/1.20k [00:00&lt;00:00, 38.1kB/s]"
     }
    },
    "b0d5c669cc914b53982e0cf1f1ca9837": {
     "model_module": "@jupyter-widgets/controls",
     "model_name": "ProgressStyleModel",
     "state": {
      "_model_module": "@jupyter-widgets/controls",
      "_model_module_version": "1.5.0",
      "_model_name": "ProgressStyleModel",
      "_view_count": null,
      "_view_module": "@jupyter-widgets/base",
      "_view_module_version": "1.2.0",
      "_view_name": "StyleView",
      "bar_color": null,
      "description_width": "initial"
     }
    },
    "b605e0ba4ffb49749cbb916ed9a2ce6b": {
     "model_module": "@jupyter-widgets/controls",
     "model_name": "FloatProgressModel",
     "state": {
      "_dom_classes": [],
      "_model_module": "@jupyter-widgets/controls",
      "_model_module_version": "1.5.0",
      "_model_name": "FloatProgressModel",
      "_view_count": null,
      "_view_module": "@jupyter-widgets/controls",
      "_view_module_version": "1.5.0",
      "_view_name": "ProgressView",
      "bar_style": "success",
      "description": "Downloading: 100%",
      "description_tooltip": null,
      "layout": "IPY_MODEL_6a601b3ca1224968b363bd3c9c09330b",
      "max": 536063208,
      "min": 0,
      "orientation": "horizontal",
      "style": "IPY_MODEL_b0d5c669cc914b53982e0cf1f1ca9837",
      "value": 536063208
     }
    },
    "b6fc3787559e48aba58763f9bde41def": {
     "model_module": "@jupyter-widgets/controls",
     "model_name": "HBoxModel",
     "state": {
      "_dom_classes": [],
      "_model_module": "@jupyter-widgets/controls",
      "_model_module_version": "1.5.0",
      "_model_name": "HBoxModel",
      "_view_count": null,
      "_view_module": "@jupyter-widgets/controls",
      "_view_module_version": "1.5.0",
      "_view_name": "HBoxView",
      "box_style": "",
      "children": [
       "IPY_MODEL_6359948bdcfb4411b5df430fd7ffdb60",
       "IPY_MODEL_94e4f7b70108466bb3cd13ca69fd7c1e"
      ],
      "layout": "IPY_MODEL_3a648a5079624e3f8e718500cafce78c"
     }
    },
    "b8cf9ffcba4f43f7957cfc40ca7a372c": {
     "model_module": "@jupyter-widgets/base",
     "model_name": "LayoutModel",
     "state": {
      "_model_module": "@jupyter-widgets/base",
      "_model_module_version": "1.2.0",
      "_model_name": "LayoutModel",
      "_view_count": null,
      "_view_module": "@jupyter-widgets/base",
      "_view_module_version": "1.2.0",
      "_view_name": "LayoutView",
      "align_content": null,
      "align_items": null,
      "align_self": null,
      "border": null,
      "bottom": null,
      "display": null,
      "flex": null,
      "flex_flow": null,
      "grid_area": null,
      "grid_auto_columns": null,
      "grid_auto_flow": null,
      "grid_auto_rows": null,
      "grid_column": null,
      "grid_gap": null,
      "grid_row": null,
      "grid_template_areas": null,
      "grid_template_columns": null,
      "grid_template_rows": null,
      "height": null,
      "justify_content": null,
      "justify_items": null,
      "left": null,
      "margin": null,
      "max_height": null,
      "max_width": null,
      "min_height": null,
      "min_width": null,
      "object_fit": null,
      "object_position": null,
      "order": null,
      "overflow": null,
      "overflow_x": null,
      "overflow_y": null,
      "padding": null,
      "right": null,
      "top": null,
      "visibility": null,
      "width": null
     }
    },
    "b8d95b37a9864581a45852a45bba10c3": {
     "model_module": "@jupyter-widgets/controls",
     "model_name": "DescriptionStyleModel",
     "state": {
      "_model_module": "@jupyter-widgets/controls",
      "_model_module_version": "1.5.0",
      "_model_name": "DescriptionStyleModel",
      "_view_count": null,
      "_view_module": "@jupyter-widgets/base",
      "_view_module_version": "1.2.0",
      "_view_name": "StyleView",
      "description_width": ""
     }
    },
    "bb30e633574349f3a32c1c79e1fe8531": {
     "model_module": "@jupyter-widgets/controls",
     "model_name": "FloatProgressModel",
     "state": {
      "_dom_classes": [],
      "_model_module": "@jupyter-widgets/controls",
      "_model_module_version": "1.5.0",
      "_model_name": "FloatProgressModel",
      "_view_count": null,
      "_view_module": "@jupyter-widgets/controls",
      "_view_module_version": "1.5.0",
      "_view_name": "ProgressView",
      "bar_style": "success",
      "description": "Downloading: 100%",
      "description_tooltip": null,
      "layout": "IPY_MODEL_4892e833d7e5412ebedb66413ac5bc40",
      "max": 1389353,
      "min": 0,
      "orientation": "horizontal",
      "style": "IPY_MODEL_9295bcb86d224f4cb4f5f0b29c838cca",
      "value": 1389353
     }
    },
    "bc36d8ff68ad4056a85e6d6111f7e233": {
     "model_module": "@jupyter-widgets/base",
     "model_name": "LayoutModel",
     "state": {
      "_model_module": "@jupyter-widgets/base",
      "_model_module_version": "1.2.0",
      "_model_name": "LayoutModel",
      "_view_count": null,
      "_view_module": "@jupyter-widgets/base",
      "_view_module_version": "1.2.0",
      "_view_name": "LayoutView",
      "align_content": null,
      "align_items": null,
      "align_self": null,
      "border": null,
      "bottom": null,
      "display": null,
      "flex": null,
      "flex_flow": null,
      "grid_area": null,
      "grid_auto_columns": null,
      "grid_auto_flow": null,
      "grid_auto_rows": null,
      "grid_column": null,
      "grid_gap": null,
      "grid_row": null,
      "grid_template_areas": null,
      "grid_template_columns": null,
      "grid_template_rows": null,
      "height": null,
      "justify_content": null,
      "justify_items": null,
      "left": null,
      "margin": null,
      "max_height": null,
      "max_width": null,
      "min_height": null,
      "min_width": null,
      "object_fit": null,
      "object_position": null,
      "order": null,
      "overflow": null,
      "overflow_x": null,
      "overflow_y": null,
      "padding": null,
      "right": null,
      "top": null,
      "visibility": null,
      "width": null
     }
    },
    "bd3b08fd398d4e8082e7024035b3c392": {
     "model_module": "@jupyter-widgets/base",
     "model_name": "LayoutModel",
     "state": {
      "_model_module": "@jupyter-widgets/base",
      "_model_module_version": "1.2.0",
      "_model_name": "LayoutModel",
      "_view_count": null,
      "_view_module": "@jupyter-widgets/base",
      "_view_module_version": "1.2.0",
      "_view_name": "LayoutView",
      "align_content": null,
      "align_items": null,
      "align_self": null,
      "border": null,
      "bottom": null,
      "display": null,
      "flex": null,
      "flex_flow": null,
      "grid_area": null,
      "grid_auto_columns": null,
      "grid_auto_flow": null,
      "grid_auto_rows": null,
      "grid_column": null,
      "grid_gap": null,
      "grid_row": null,
      "grid_template_areas": null,
      "grid_template_columns": null,
      "grid_template_rows": null,
      "height": null,
      "justify_content": null,
      "justify_items": null,
      "left": null,
      "margin": null,
      "max_height": null,
      "max_width": null,
      "min_height": null,
      "min_width": null,
      "object_fit": null,
      "object_position": null,
      "order": null,
      "overflow": null,
      "overflow_x": null,
      "overflow_y": null,
      "padding": null,
      "right": null,
      "top": null,
      "visibility": null,
      "width": null
     }
    },
    "bdfefefbc9284546a8376cb843be94b2": {
     "model_module": "@jupyter-widgets/base",
     "model_name": "LayoutModel",
     "state": {
      "_model_module": "@jupyter-widgets/base",
      "_model_module_version": "1.2.0",
      "_model_name": "LayoutModel",
      "_view_count": null,
      "_view_module": "@jupyter-widgets/base",
      "_view_module_version": "1.2.0",
      "_view_name": "LayoutView",
      "align_content": null,
      "align_items": null,
      "align_self": null,
      "border": null,
      "bottom": null,
      "display": null,
      "flex": null,
      "flex_flow": null,
      "grid_area": null,
      "grid_auto_columns": null,
      "grid_auto_flow": null,
      "grid_auto_rows": null,
      "grid_column": null,
      "grid_gap": null,
      "grid_row": null,
      "grid_template_areas": null,
      "grid_template_columns": null,
      "grid_template_rows": null,
      "height": null,
      "justify_content": null,
      "justify_items": null,
      "left": null,
      "margin": null,
      "max_height": null,
      "max_width": null,
      "min_height": null,
      "min_width": null,
      "object_fit": null,
      "object_position": null,
      "order": null,
      "overflow": null,
      "overflow_x": null,
      "overflow_y": null,
      "padding": null,
      "right": null,
      "top": null,
      "visibility": null,
      "width": null
     }
    },
    "be5ae842bfcc4c759986e7affa91c1a5": {
     "model_module": "@jupyter-widgets/controls",
     "model_name": "HBoxModel",
     "state": {
      "_dom_classes": [],
      "_model_module": "@jupyter-widgets/controls",
      "_model_module_version": "1.5.0",
      "_model_name": "HBoxModel",
      "_view_count": null,
      "_view_module": "@jupyter-widgets/controls",
      "_view_module_version": "1.5.0",
      "_view_name": "HBoxView",
      "box_style": "",
      "children": [
       "IPY_MODEL_aea05888c99a4301bd3bb54e560a1c5c",
       "IPY_MODEL_a04b721a9a2741aa8a3d8ce6384129c2"
      ],
      "layout": "IPY_MODEL_fede310f93fe4bebb2bebc48e26d9a14"
     }
    },
    "bf21e7828abe4636af7f7188ab18b431": {
     "model_module": "@jupyter-widgets/controls",
     "model_name": "DescriptionStyleModel",
     "state": {
      "_model_module": "@jupyter-widgets/controls",
      "_model_module_version": "1.5.0",
      "_model_name": "DescriptionStyleModel",
      "_view_count": null,
      "_view_module": "@jupyter-widgets/base",
      "_view_module_version": "1.2.0",
      "_view_name": "StyleView",
      "description_width": ""
     }
    },
    "c03aef4a00a141d0858f7a956b7f8baf": {
     "model_module": "@jupyter-widgets/controls",
     "model_name": "DescriptionStyleModel",
     "state": {
      "_model_module": "@jupyter-widgets/controls",
      "_model_module_version": "1.5.0",
      "_model_name": "DescriptionStyleModel",
      "_view_count": null,
      "_view_module": "@jupyter-widgets/base",
      "_view_module_version": "1.2.0",
      "_view_name": "StyleView",
      "description_width": ""
     }
    },
    "c16d8d65a1f2421b92291dc452351e8a": {
     "model_module": "@jupyter-widgets/controls",
     "model_name": "HBoxModel",
     "state": {
      "_dom_classes": [],
      "_model_module": "@jupyter-widgets/controls",
      "_model_module_version": "1.5.0",
      "_model_name": "HBoxModel",
      "_view_count": null,
      "_view_module": "@jupyter-widgets/controls",
      "_view_module_version": "1.5.0",
      "_view_name": "HBoxView",
      "box_style": "",
      "children": [
       "IPY_MODEL_ec98c2730ba345ed978aa6ca70bfd4b0",
       "IPY_MODEL_0a271d378af6427991668792d0307c86"
      ],
      "layout": "IPY_MODEL_94dd2cf52ed04075989a6a038da4234e"
     }
    },
    "c26e08d04bc44b0cae83cfe88845c081": {
     "model_module": "@jupyter-widgets/base",
     "model_name": "LayoutModel",
     "state": {
      "_model_module": "@jupyter-widgets/base",
      "_model_module_version": "1.2.0",
      "_model_name": "LayoutModel",
      "_view_count": null,
      "_view_module": "@jupyter-widgets/base",
      "_view_module_version": "1.2.0",
      "_view_name": "LayoutView",
      "align_content": null,
      "align_items": null,
      "align_self": null,
      "border": null,
      "bottom": null,
      "display": null,
      "flex": null,
      "flex_flow": null,
      "grid_area": null,
      "grid_auto_columns": null,
      "grid_auto_flow": null,
      "grid_auto_rows": null,
      "grid_column": null,
      "grid_gap": null,
      "grid_row": null,
      "grid_template_areas": null,
      "grid_template_columns": null,
      "grid_template_rows": null,
      "height": null,
      "justify_content": null,
      "justify_items": null,
      "left": null,
      "margin": null,
      "max_height": null,
      "max_width": null,
      "min_height": null,
      "min_width": null,
      "object_fit": null,
      "object_position": null,
      "order": null,
      "overflow": null,
      "overflow_x": null,
      "overflow_y": null,
      "padding": null,
      "right": null,
      "top": null,
      "visibility": null,
      "width": null
     }
    },
    "c42073bb336b40f79c5d96beac4b54e5": {
     "model_module": "@jupyter-widgets/controls",
     "model_name": "DescriptionStyleModel",
     "state": {
      "_model_module": "@jupyter-widgets/controls",
      "_model_module_version": "1.5.0",
      "_model_name": "DescriptionStyleModel",
      "_view_count": null,
      "_view_module": "@jupyter-widgets/base",
      "_view_module_version": "1.2.0",
      "_view_name": "StyleView",
      "description_width": ""
     }
    },
    "c4ea08133212450bab3997d193992d4c": {
     "model_module": "@jupyter-widgets/controls",
     "model_name": "DescriptionStyleModel",
     "state": {
      "_model_module": "@jupyter-widgets/controls",
      "_model_module_version": "1.5.0",
      "_model_name": "DescriptionStyleModel",
      "_view_count": null,
      "_view_module": "@jupyter-widgets/base",
      "_view_module_version": "1.2.0",
      "_view_name": "StyleView",
      "description_width": ""
     }
    },
    "c5e10070d6a0457494dbc5218dbeafce": {
     "model_module": "@jupyter-widgets/controls",
     "model_name": "ProgressStyleModel",
     "state": {
      "_model_module": "@jupyter-widgets/controls",
      "_model_module_version": "1.5.0",
      "_model_name": "ProgressStyleModel",
      "_view_count": null,
      "_view_module": "@jupyter-widgets/base",
      "_view_module_version": "1.2.0",
      "_view_name": "StyleView",
      "bar_color": null,
      "description_width": "initial"
     }
    },
    "c895155b696d4114906dc986949ff6c9": {
     "model_module": "@jupyter-widgets/base",
     "model_name": "LayoutModel",
     "state": {
      "_model_module": "@jupyter-widgets/base",
      "_model_module_version": "1.2.0",
      "_model_name": "LayoutModel",
      "_view_count": null,
      "_view_module": "@jupyter-widgets/base",
      "_view_module_version": "1.2.0",
      "_view_name": "LayoutView",
      "align_content": null,
      "align_items": null,
      "align_self": null,
      "border": null,
      "bottom": null,
      "display": null,
      "flex": null,
      "flex_flow": null,
      "grid_area": null,
      "grid_auto_columns": null,
      "grid_auto_flow": null,
      "grid_auto_rows": null,
      "grid_column": null,
      "grid_gap": null,
      "grid_row": null,
      "grid_template_areas": null,
      "grid_template_columns": null,
      "grid_template_rows": null,
      "height": null,
      "justify_content": null,
      "justify_items": null,
      "left": null,
      "margin": null,
      "max_height": null,
      "max_width": null,
      "min_height": null,
      "min_width": null,
      "object_fit": null,
      "object_position": null,
      "order": null,
      "overflow": null,
      "overflow_x": null,
      "overflow_y": null,
      "padding": null,
      "right": null,
      "top": null,
      "visibility": null,
      "width": null
     }
    },
    "ca42af32c14247e380f913484a43ca63": {
     "model_module": "@jupyter-widgets/controls",
     "model_name": "FloatProgressModel",
     "state": {
      "_dom_classes": [],
      "_model_module": "@jupyter-widgets/controls",
      "_model_module_version": "1.5.0",
      "_model_name": "FloatProgressModel",
      "_view_count": null,
      "_view_module": "@jupyter-widgets/controls",
      "_view_module_version": "1.5.0",
      "_view_name": "ProgressView",
      "bar_style": "success",
      "description": "Downloading: 100%",
      "description_tooltip": null,
      "layout": "IPY_MODEL_e7f7387cefa54b7a84889cd5012a321c",
      "max": 798011,
      "min": 0,
      "orientation": "horizontal",
      "style": "IPY_MODEL_02e97f3fc1354621a7d3fa2db0758c5e",
      "value": 798011
     }
    },
    "cdf7e3e94ea04d9bbbf938856f952f78": {
     "model_module": "@jupyter-widgets/controls",
     "model_name": "ProgressStyleModel",
     "state": {
      "_model_module": "@jupyter-widgets/controls",
      "_model_module_version": "1.5.0",
      "_model_name": "ProgressStyleModel",
      "_view_count": null,
      "_view_module": "@jupyter-widgets/base",
      "_view_module_version": "1.2.0",
      "_view_name": "StyleView",
      "bar_color": null,
      "description_width": "initial"
     }
    },
    "cfa26fb04cf54c30b1d02aafff220fd0": {
     "model_module": "@jupyter-widgets/controls",
     "model_name": "ProgressStyleModel",
     "state": {
      "_model_module": "@jupyter-widgets/controls",
      "_model_module_version": "1.5.0",
      "_model_name": "ProgressStyleModel",
      "_view_count": null,
      "_view_module": "@jupyter-widgets/base",
      "_view_module_version": "1.2.0",
      "_view_name": "StyleView",
      "bar_color": null,
      "description_width": "initial"
     }
    },
    "d724601f2a5f43bd94b0c7a8d587f140": {
     "model_module": "@jupyter-widgets/controls",
     "model_name": "DescriptionStyleModel",
     "state": {
      "_model_module": "@jupyter-widgets/controls",
      "_model_module_version": "1.5.0",
      "_model_name": "DescriptionStyleModel",
      "_view_count": null,
      "_view_module": "@jupyter-widgets/base",
      "_view_module_version": "1.2.0",
      "_view_name": "StyleView",
      "description_width": ""
     }
    },
    "d9a9e43476f946c0bfcacad1682e2a59": {
     "model_module": "@jupyter-widgets/base",
     "model_name": "LayoutModel",
     "state": {
      "_model_module": "@jupyter-widgets/base",
      "_model_module_version": "1.2.0",
      "_model_name": "LayoutModel",
      "_view_count": null,
      "_view_module": "@jupyter-widgets/base",
      "_view_module_version": "1.2.0",
      "_view_name": "LayoutView",
      "align_content": null,
      "align_items": null,
      "align_self": null,
      "border": null,
      "bottom": null,
      "display": null,
      "flex": null,
      "flex_flow": null,
      "grid_area": null,
      "grid_auto_columns": null,
      "grid_auto_flow": null,
      "grid_auto_rows": null,
      "grid_column": null,
      "grid_gap": null,
      "grid_row": null,
      "grid_template_areas": null,
      "grid_template_columns": null,
      "grid_template_rows": null,
      "height": null,
      "justify_content": null,
      "justify_items": null,
      "left": null,
      "margin": null,
      "max_height": null,
      "max_width": null,
      "min_height": null,
      "min_width": null,
      "object_fit": null,
      "object_position": null,
      "order": null,
      "overflow": null,
      "overflow_x": null,
      "overflow_y": null,
      "padding": null,
      "right": null,
      "top": null,
      "visibility": null,
      "width": null
     }
    },
    "da660713f3004df0b732abb125274208": {
     "model_module": "@jupyter-widgets/controls",
     "model_name": "ProgressStyleModel",
     "state": {
      "_model_module": "@jupyter-widgets/controls",
      "_model_module_version": "1.5.0",
      "_model_name": "ProgressStyleModel",
      "_view_count": null,
      "_view_module": "@jupyter-widgets/base",
      "_view_module_version": "1.2.0",
      "_view_name": "StyleView",
      "bar_color": null,
      "description_width": "initial"
     }
    },
    "dc7c79a4049d4279a542acf4c2ba32d8": {
     "model_module": "@jupyter-widgets/base",
     "model_name": "LayoutModel",
     "state": {
      "_model_module": "@jupyter-widgets/base",
      "_model_module_version": "1.2.0",
      "_model_name": "LayoutModel",
      "_view_count": null,
      "_view_module": "@jupyter-widgets/base",
      "_view_module_version": "1.2.0",
      "_view_name": "LayoutView",
      "align_content": null,
      "align_items": null,
      "align_self": null,
      "border": null,
      "bottom": null,
      "display": null,
      "flex": null,
      "flex_flow": null,
      "grid_area": null,
      "grid_auto_columns": null,
      "grid_auto_flow": null,
      "grid_auto_rows": null,
      "grid_column": null,
      "grid_gap": null,
      "grid_row": null,
      "grid_template_areas": null,
      "grid_template_columns": null,
      "grid_template_rows": null,
      "height": null,
      "justify_content": null,
      "justify_items": null,
      "left": null,
      "margin": null,
      "max_height": null,
      "max_width": null,
      "min_height": null,
      "min_width": null,
      "object_fit": null,
      "object_position": null,
      "order": null,
      "overflow": null,
      "overflow_x": null,
      "overflow_y": null,
      "padding": null,
      "right": null,
      "top": null,
      "visibility": null,
      "width": null
     }
    },
    "dcd54a90456f42589eb9402b7559d466": {
     "model_module": "@jupyter-widgets/base",
     "model_name": "LayoutModel",
     "state": {
      "_model_module": "@jupyter-widgets/base",
      "_model_module_version": "1.2.0",
      "_model_name": "LayoutModel",
      "_view_count": null,
      "_view_module": "@jupyter-widgets/base",
      "_view_module_version": "1.2.0",
      "_view_name": "LayoutView",
      "align_content": null,
      "align_items": null,
      "align_self": null,
      "border": null,
      "bottom": null,
      "display": null,
      "flex": null,
      "flex_flow": null,
      "grid_area": null,
      "grid_auto_columns": null,
      "grid_auto_flow": null,
      "grid_auto_rows": null,
      "grid_column": null,
      "grid_gap": null,
      "grid_row": null,
      "grid_template_areas": null,
      "grid_template_columns": null,
      "grid_template_rows": null,
      "height": null,
      "justify_content": null,
      "justify_items": null,
      "left": null,
      "margin": null,
      "max_height": null,
      "max_width": null,
      "min_height": null,
      "min_width": null,
      "object_fit": null,
      "object_position": null,
      "order": null,
      "overflow": null,
      "overflow_x": null,
      "overflow_y": null,
      "padding": null,
      "right": null,
      "top": null,
      "visibility": null,
      "width": null
     }
    },
    "dcdf79736ee44056a5f3cfba7f7b31aa": {
     "model_module": "@jupyter-widgets/base",
     "model_name": "LayoutModel",
     "state": {
      "_model_module": "@jupyter-widgets/base",
      "_model_module_version": "1.2.0",
      "_model_name": "LayoutModel",
      "_view_count": null,
      "_view_module": "@jupyter-widgets/base",
      "_view_module_version": "1.2.0",
      "_view_name": "LayoutView",
      "align_content": null,
      "align_items": null,
      "align_self": null,
      "border": null,
      "bottom": null,
      "display": null,
      "flex": null,
      "flex_flow": null,
      "grid_area": null,
      "grid_auto_columns": null,
      "grid_auto_flow": null,
      "grid_auto_rows": null,
      "grid_column": null,
      "grid_gap": null,
      "grid_row": null,
      "grid_template_areas": null,
      "grid_template_columns": null,
      "grid_template_rows": null,
      "height": null,
      "justify_content": null,
      "justify_items": null,
      "left": null,
      "margin": null,
      "max_height": null,
      "max_width": null,
      "min_height": null,
      "min_width": null,
      "object_fit": null,
      "object_position": null,
      "order": null,
      "overflow": null,
      "overflow_x": null,
      "overflow_y": null,
      "padding": null,
      "right": null,
      "top": null,
      "visibility": null,
      "width": null
     }
    },
    "dd08295849604d19b0c3587c7b603a1a": {
     "model_module": "@jupyter-widgets/base",
     "model_name": "LayoutModel",
     "state": {
      "_model_module": "@jupyter-widgets/base",
      "_model_module_version": "1.2.0",
      "_model_name": "LayoutModel",
      "_view_count": null,
      "_view_module": "@jupyter-widgets/base",
      "_view_module_version": "1.2.0",
      "_view_name": "LayoutView",
      "align_content": null,
      "align_items": null,
      "align_self": null,
      "border": null,
      "bottom": null,
      "display": null,
      "flex": null,
      "flex_flow": null,
      "grid_area": null,
      "grid_auto_columns": null,
      "grid_auto_flow": null,
      "grid_auto_rows": null,
      "grid_column": null,
      "grid_gap": null,
      "grid_row": null,
      "grid_template_areas": null,
      "grid_template_columns": null,
      "grid_template_rows": null,
      "height": null,
      "justify_content": null,
      "justify_items": null,
      "left": null,
      "margin": null,
      "max_height": null,
      "max_width": null,
      "min_height": null,
      "min_width": null,
      "object_fit": null,
      "object_position": null,
      "order": null,
      "overflow": null,
      "overflow_x": null,
      "overflow_y": null,
      "padding": null,
      "right": null,
      "top": null,
      "visibility": null,
      "width": null
     }
    },
    "dd0f06d276f54e0abaeb3fec27927d2a": {
     "model_module": "@jupyter-widgets/base",
     "model_name": "LayoutModel",
     "state": {
      "_model_module": "@jupyter-widgets/base",
      "_model_module_version": "1.2.0",
      "_model_name": "LayoutModel",
      "_view_count": null,
      "_view_module": "@jupyter-widgets/base",
      "_view_module_version": "1.2.0",
      "_view_name": "LayoutView",
      "align_content": null,
      "align_items": null,
      "align_self": null,
      "border": null,
      "bottom": null,
      "display": null,
      "flex": null,
      "flex_flow": null,
      "grid_area": null,
      "grid_auto_columns": null,
      "grid_auto_flow": null,
      "grid_auto_rows": null,
      "grid_column": null,
      "grid_gap": null,
      "grid_row": null,
      "grid_template_areas": null,
      "grid_template_columns": null,
      "grid_template_rows": null,
      "height": null,
      "justify_content": null,
      "justify_items": null,
      "left": null,
      "margin": null,
      "max_height": null,
      "max_width": null,
      "min_height": null,
      "min_width": null,
      "object_fit": null,
      "object_position": null,
      "order": null,
      "overflow": null,
      "overflow_x": null,
      "overflow_y": null,
      "padding": null,
      "right": null,
      "top": null,
      "visibility": null,
      "width": null
     }
    },
    "dd229f7dee274b2cb4f03649c8046839": {
     "model_module": "@jupyter-widgets/base",
     "model_name": "LayoutModel",
     "state": {
      "_model_module": "@jupyter-widgets/base",
      "_model_module_version": "1.2.0",
      "_model_name": "LayoutModel",
      "_view_count": null,
      "_view_module": "@jupyter-widgets/base",
      "_view_module_version": "1.2.0",
      "_view_name": "LayoutView",
      "align_content": null,
      "align_items": null,
      "align_self": null,
      "border": null,
      "bottom": null,
      "display": null,
      "flex": null,
      "flex_flow": null,
      "grid_area": null,
      "grid_auto_columns": null,
      "grid_auto_flow": null,
      "grid_auto_rows": null,
      "grid_column": null,
      "grid_gap": null,
      "grid_row": null,
      "grid_template_areas": null,
      "grid_template_columns": null,
      "grid_template_rows": null,
      "height": null,
      "justify_content": null,
      "justify_items": null,
      "left": null,
      "margin": null,
      "max_height": null,
      "max_width": null,
      "min_height": null,
      "min_width": null,
      "object_fit": null,
      "object_position": null,
      "order": null,
      "overflow": null,
      "overflow_x": null,
      "overflow_y": null,
      "padding": null,
      "right": null,
      "top": null,
      "visibility": null,
      "width": null
     }
    },
    "de7e515fc9dc4fcd99f4bbc4a29a621a": {
     "model_module": "@jupyter-widgets/base",
     "model_name": "LayoutModel",
     "state": {
      "_model_module": "@jupyter-widgets/base",
      "_model_module_version": "1.2.0",
      "_model_name": "LayoutModel",
      "_view_count": null,
      "_view_module": "@jupyter-widgets/base",
      "_view_module_version": "1.2.0",
      "_view_name": "LayoutView",
      "align_content": null,
      "align_items": null,
      "align_self": null,
      "border": null,
      "bottom": null,
      "display": null,
      "flex": null,
      "flex_flow": null,
      "grid_area": null,
      "grid_auto_columns": null,
      "grid_auto_flow": null,
      "grid_auto_rows": null,
      "grid_column": null,
      "grid_gap": null,
      "grid_row": null,
      "grid_template_areas": null,
      "grid_template_columns": null,
      "grid_template_rows": null,
      "height": null,
      "justify_content": null,
      "justify_items": null,
      "left": null,
      "margin": null,
      "max_height": null,
      "max_width": null,
      "min_height": null,
      "min_width": null,
      "object_fit": null,
      "object_position": null,
      "order": null,
      "overflow": null,
      "overflow_x": null,
      "overflow_y": null,
      "padding": null,
      "right": null,
      "top": null,
      "visibility": null,
      "width": null
     }
    },
    "dff0e83e8b49468bac5a8c4f6dc74d8b": {
     "model_module": "@jupyter-widgets/controls",
     "model_name": "DescriptionStyleModel",
     "state": {
      "_model_module": "@jupyter-widgets/controls",
      "_model_module_version": "1.5.0",
      "_model_name": "DescriptionStyleModel",
      "_view_count": null,
      "_view_module": "@jupyter-widgets/base",
      "_view_module_version": "1.2.0",
      "_view_name": "StyleView",
      "description_width": ""
     }
    },
    "e1ac88c05fc6419fa6c55a8858bfd0dd": {
     "model_module": "@jupyter-widgets/base",
     "model_name": "LayoutModel",
     "state": {
      "_model_module": "@jupyter-widgets/base",
      "_model_module_version": "1.2.0",
      "_model_name": "LayoutModel",
      "_view_count": null,
      "_view_module": "@jupyter-widgets/base",
      "_view_module_version": "1.2.0",
      "_view_name": "LayoutView",
      "align_content": null,
      "align_items": null,
      "align_self": null,
      "border": null,
      "bottom": null,
      "display": null,
      "flex": null,
      "flex_flow": null,
      "grid_area": null,
      "grid_auto_columns": null,
      "grid_auto_flow": null,
      "grid_auto_rows": null,
      "grid_column": null,
      "grid_gap": null,
      "grid_row": null,
      "grid_template_areas": null,
      "grid_template_columns": null,
      "grid_template_rows": null,
      "height": null,
      "justify_content": null,
      "justify_items": null,
      "left": null,
      "margin": null,
      "max_height": null,
      "max_width": null,
      "min_height": null,
      "min_width": null,
      "object_fit": null,
      "object_position": null,
      "order": null,
      "overflow": null,
      "overflow_x": null,
      "overflow_y": null,
      "padding": null,
      "right": null,
      "top": null,
      "visibility": null,
      "width": null
     }
    },
    "e1de561febaa4fc28c310094af844297": {
     "model_module": "@jupyter-widgets/controls",
     "model_name": "HBoxModel",
     "state": {
      "_dom_classes": [],
      "_model_module": "@jupyter-widgets/controls",
      "_model_module_version": "1.5.0",
      "_model_name": "HBoxModel",
      "_view_count": null,
      "_view_module": "@jupyter-widgets/controls",
      "_view_module_version": "1.5.0",
      "_view_name": "HBoxView",
      "box_style": "",
      "children": [
       "IPY_MODEL_a277b0c508f841d9ac5db001daa03f3c",
       "IPY_MODEL_7fa38d1666d74ea0b85336f1c4c73c0f"
      ],
      "layout": "IPY_MODEL_f46bdc9a3fed410fb1f4e4eb6cd77450"
     }
    },
    "e3c23e420aae47d5943cf7ffbe543b3c": {
     "model_module": "@jupyter-widgets/controls",
     "model_name": "HBoxModel",
     "state": {
      "_dom_classes": [],
      "_model_module": "@jupyter-widgets/controls",
      "_model_module_version": "1.5.0",
      "_model_name": "HBoxModel",
      "_view_count": null,
      "_view_module": "@jupyter-widgets/controls",
      "_view_module_version": "1.5.0",
      "_view_name": "HBoxView",
      "box_style": "",
      "children": [
       "IPY_MODEL_a941de2fb3bf4326a00a946ec0cb199c",
       "IPY_MODEL_f566a92d92aa43f8aeb2648a3a158d5a"
      ],
      "layout": "IPY_MODEL_bd3b08fd398d4e8082e7024035b3c392"
     }
    },
    "e486f7be6830403587d9db0c2be9098f": {
     "model_module": "@jupyter-widgets/controls",
     "model_name": "FloatProgressModel",
     "state": {
      "_dom_classes": [],
      "_model_module": "@jupyter-widgets/controls",
      "_model_module_version": "1.5.0",
      "_model_name": "FloatProgressModel",
      "_view_count": null,
      "_view_module": "@jupyter-widgets/controls",
      "_view_module_version": "1.5.0",
      "_view_name": "ProgressView",
      "bar_style": "success",
      "description": "Downloading: 100%",
      "description_tooltip": null,
      "layout": "IPY_MODEL_dcdf79736ee44056a5f3cfba7f7b31aa",
      "max": 791656,
      "min": 0,
      "orientation": "horizontal",
      "style": "IPY_MODEL_f9ebd9bd17b94ed58d092ec69b32b641",
      "value": 791656
     }
    },
    "e7d14d6a450e49e0aeabc1e9f6b2e4cd": {
     "model_module": "@jupyter-widgets/controls",
     "model_name": "FloatProgressModel",
     "state": {
      "_dom_classes": [],
      "_model_module": "@jupyter-widgets/controls",
      "_model_module_version": "1.5.0",
      "_model_name": "FloatProgressModel",
      "_view_count": null,
      "_view_module": "@jupyter-widgets/controls",
      "_view_module_version": "1.5.0",
      "_view_name": "ProgressView",
      "bar_style": "success",
      "description": "Downloading: 100%",
      "description_tooltip": null,
      "layout": "IPY_MODEL_00ad34e12bdf4eebbf86d6a0a751c5f9",
      "max": 1389353,
      "min": 0,
      "orientation": "horizontal",
      "style": "IPY_MODEL_c5e10070d6a0457494dbc5218dbeafce",
      "value": 1389353
     }
    },
    "e7f7387cefa54b7a84889cd5012a321c": {
     "model_module": "@jupyter-widgets/base",
     "model_name": "LayoutModel",
     "state": {
      "_model_module": "@jupyter-widgets/base",
      "_model_module_version": "1.2.0",
      "_model_name": "LayoutModel",
      "_view_count": null,
      "_view_module": "@jupyter-widgets/base",
      "_view_module_version": "1.2.0",
      "_view_name": "LayoutView",
      "align_content": null,
      "align_items": null,
      "align_self": null,
      "border": null,
      "bottom": null,
      "display": null,
      "flex": null,
      "flex_flow": null,
      "grid_area": null,
      "grid_auto_columns": null,
      "grid_auto_flow": null,
      "grid_auto_rows": null,
      "grid_column": null,
      "grid_gap": null,
      "grid_row": null,
      "grid_template_areas": null,
      "grid_template_columns": null,
      "grid_template_rows": null,
      "height": null,
      "justify_content": null,
      "justify_items": null,
      "left": null,
      "margin": null,
      "max_height": null,
      "max_width": null,
      "min_height": null,
      "min_width": null,
      "object_fit": null,
      "object_position": null,
      "order": null,
      "overflow": null,
      "overflow_x": null,
      "overflow_y": null,
      "padding": null,
      "right": null,
      "top": null,
      "visibility": null,
      "width": null
     }
    },
    "eaba1ea67d27467a8dad1268442c28b3": {
     "model_module": "@jupyter-widgets/controls",
     "model_name": "HTMLModel",
     "state": {
      "_dom_classes": [],
      "_model_module": "@jupyter-widgets/controls",
      "_model_module_version": "1.5.0",
      "_model_name": "HTMLModel",
      "_view_count": null,
      "_view_module": "@jupyter-widgets/controls",
      "_view_module_version": "1.5.0",
      "_view_name": "HTMLView",
      "description": "",
      "description_tooltip": null,
      "layout": "IPY_MODEL_3357692ab1ca4605ba40fe8c002af160",
      "placeholder": "​",
      "style": "IPY_MODEL_bf21e7828abe4636af7f7188ab18b431",
      "value": " 1.39M/1.39M [01:37&lt;00:00, 14.2kB/s]"
     }
    },
    "eac3273ea74842a7a1e484d9f9b26588": {
     "model_module": "@jupyter-widgets/controls",
     "model_name": "HBoxModel",
     "state": {
      "_dom_classes": [],
      "_model_module": "@jupyter-widgets/controls",
      "_model_module_version": "1.5.0",
      "_model_name": "HBoxModel",
      "_view_count": null,
      "_view_module": "@jupyter-widgets/controls",
      "_view_module_version": "1.5.0",
      "_view_name": "HBoxView",
      "box_style": "",
      "children": [
       "IPY_MODEL_a2da8a465e944f6f94d00296913a7a19",
       "IPY_MODEL_235f723567124a31aa77a3d8a18e8923"
      ],
      "layout": "IPY_MODEL_c26e08d04bc44b0cae83cfe88845c081"
     }
    },
    "ec98c2730ba345ed978aa6ca70bfd4b0": {
     "model_module": "@jupyter-widgets/controls",
     "model_name": "FloatProgressModel",
     "state": {
      "_dom_classes": [],
      "_model_module": "@jupyter-widgets/controls",
      "_model_module_version": "1.5.0",
      "_model_name": "FloatProgressModel",
      "_view_count": null,
      "_view_module": "@jupyter-widgets/controls",
      "_view_module_version": "1.5.0",
      "_view_name": "ProgressView",
      "bar_style": "success",
      "description": "Downloading: 100%",
      "description_tooltip": null,
      "layout": "IPY_MODEL_aa7608c889dd4676a3ade4eacb7aadab",
      "max": 1197,
      "min": 0,
      "orientation": "horizontal",
      "style": "IPY_MODEL_1432c41fc6394356b4c3a45367786119",
      "value": 1197
     }
    },
    "eccf8f817011499294270d5ba84eba49": {
     "model_module": "@jupyter-widgets/controls",
     "model_name": "HTMLModel",
     "state": {
      "_dom_classes": [],
      "_model_module": "@jupyter-widgets/controls",
      "_model_module_version": "1.5.0",
      "_model_name": "HTMLModel",
      "_view_count": null,
      "_view_module": "@jupyter-widgets/controls",
      "_view_module_version": "1.5.0",
      "_view_name": "HTMLView",
      "description": "",
      "description_tooltip": null,
      "layout": "IPY_MODEL_5984befaee4d48dbbffd887a9f80640b",
      "placeholder": "​",
      "style": "IPY_MODEL_518754f08ef4499fa29229cb01059480",
      "value": " 798k/798k [01:06&lt;00:00, 11.9kB/s]"
     }
    },
    "ed1f477389224dd3b4032948ffa0a8fb": {
     "model_module": "@jupyter-widgets/controls",
     "model_name": "ProgressStyleModel",
     "state": {
      "_model_module": "@jupyter-widgets/controls",
      "_model_module_version": "1.5.0",
      "_model_name": "ProgressStyleModel",
      "_view_count": null,
      "_view_module": "@jupyter-widgets/base",
      "_view_module_version": "1.2.0",
      "_view_name": "StyleView",
      "bar_color": null,
      "description_width": "initial"
     }
    },
    "ed4013e73cd54e1e9d8b3444a08ae507": {
     "model_module": "@jupyter-widgets/controls",
     "model_name": "HBoxModel",
     "state": {
      "_dom_classes": [],
      "_model_module": "@jupyter-widgets/controls",
      "_model_module_version": "1.5.0",
      "_model_name": "HBoxModel",
      "_view_count": null,
      "_view_module": "@jupyter-widgets/controls",
      "_view_module_version": "1.5.0",
      "_view_name": "HBoxView",
      "box_style": "",
      "children": [
       "IPY_MODEL_adaf9fb9c646458d9b1bd3fae2da6548",
       "IPY_MODEL_2710710ccadc4c2990753e6bb5b847a1"
      ],
      "layout": "IPY_MODEL_d9a9e43476f946c0bfcacad1682e2a59"
     }
    },
    "eed7f6772b794917a4b458da3672711a": {
     "model_module": "@jupyter-widgets/base",
     "model_name": "LayoutModel",
     "state": {
      "_model_module": "@jupyter-widgets/base",
      "_model_module_version": "1.2.0",
      "_model_name": "LayoutModel",
      "_view_count": null,
      "_view_module": "@jupyter-widgets/base",
      "_view_module_version": "1.2.0",
      "_view_name": "LayoutView",
      "align_content": null,
      "align_items": null,
      "align_self": null,
      "border": null,
      "bottom": null,
      "display": null,
      "flex": null,
      "flex_flow": null,
      "grid_area": null,
      "grid_auto_columns": null,
      "grid_auto_flow": null,
      "grid_auto_rows": null,
      "grid_column": null,
      "grid_gap": null,
      "grid_row": null,
      "grid_template_areas": null,
      "grid_template_columns": null,
      "grid_template_rows": null,
      "height": null,
      "justify_content": null,
      "justify_items": null,
      "left": null,
      "margin": null,
      "max_height": null,
      "max_width": null,
      "min_height": null,
      "min_width": null,
      "object_fit": null,
      "object_position": null,
      "order": null,
      "overflow": null,
      "overflow_x": null,
      "overflow_y": null,
      "padding": null,
      "right": null,
      "top": null,
      "visibility": null,
      "width": null
     }
    },
    "ef43692e2c7447faaac3a91b8956261b": {
     "model_module": "@jupyter-widgets/controls",
     "model_name": "FloatProgressModel",
     "state": {
      "_dom_classes": [],
      "_model_module": "@jupyter-widgets/controls",
      "_model_module_version": "1.5.0",
      "_model_name": "FloatProgressModel",
      "_view_count": null,
      "_view_module": "@jupyter-widgets/controls",
      "_view_module_version": "1.5.0",
      "_view_name": "ProgressView",
      "bar_style": "success",
      "description": "Downloading: 100%",
      "description_tooltip": null,
      "layout": "IPY_MODEL_dc7c79a4049d4279a542acf4c2ba32d8",
      "max": 1197,
      "min": 0,
      "orientation": "horizontal",
      "style": "IPY_MODEL_79a7484dc3dd45d480d6af3dc6fabacf",
      "value": 1197
     }
    },
    "f0a11935543f4b42ab7f37a293f2887b": {
     "model_module": "@jupyter-widgets/base",
     "model_name": "LayoutModel",
     "state": {
      "_model_module": "@jupyter-widgets/base",
      "_model_module_version": "1.2.0",
      "_model_name": "LayoutModel",
      "_view_count": null,
      "_view_module": "@jupyter-widgets/base",
      "_view_module_version": "1.2.0",
      "_view_name": "LayoutView",
      "align_content": null,
      "align_items": null,
      "align_self": null,
      "border": null,
      "bottom": null,
      "display": null,
      "flex": null,
      "flex_flow": null,
      "grid_area": null,
      "grid_auto_columns": null,
      "grid_auto_flow": null,
      "grid_auto_rows": null,
      "grid_column": null,
      "grid_gap": null,
      "grid_row": null,
      "grid_template_areas": null,
      "grid_template_columns": null,
      "grid_template_rows": null,
      "height": null,
      "justify_content": null,
      "justify_items": null,
      "left": null,
      "margin": null,
      "max_height": null,
      "max_width": null,
      "min_height": null,
      "min_width": null,
      "object_fit": null,
      "object_position": null,
      "order": null,
      "overflow": null,
      "overflow_x": null,
      "overflow_y": null,
      "padding": null,
      "right": null,
      "top": null,
      "visibility": null,
      "width": null
     }
    },
    "f1a3b136c0a64c8e92582ac4c664ee64": {
     "model_module": "@jupyter-widgets/controls",
     "model_name": "HBoxModel",
     "state": {
      "_dom_classes": [],
      "_model_module": "@jupyter-widgets/controls",
      "_model_module_version": "1.5.0",
      "_model_name": "HBoxModel",
      "_view_count": null,
      "_view_module": "@jupyter-widgets/controls",
      "_view_module_version": "1.5.0",
      "_view_name": "HBoxView",
      "box_style": "",
      "children": [
       "IPY_MODEL_bb30e633574349f3a32c1c79e1fe8531",
       "IPY_MODEL_79838a170b1d4ec792cd5586ae0cf38a"
      ],
      "layout": "IPY_MODEL_8811c41798954d7ba14d440c844c1a03"
     }
    },
    "f2afe55234704cfaa8ae283d0f2f5f9a": {
     "model_module": "@jupyter-widgets/controls",
     "model_name": "DescriptionStyleModel",
     "state": {
      "_model_module": "@jupyter-widgets/controls",
      "_model_module_version": "1.5.0",
      "_model_name": "DescriptionStyleModel",
      "_view_count": null,
      "_view_module": "@jupyter-widgets/base",
      "_view_module_version": "1.2.0",
      "_view_name": "StyleView",
      "description_width": ""
     }
    },
    "f3254585e019431a8ee8a268fc489a14": {
     "model_module": "@jupyter-widgets/base",
     "model_name": "LayoutModel",
     "state": {
      "_model_module": "@jupyter-widgets/base",
      "_model_module_version": "1.2.0",
      "_model_name": "LayoutModel",
      "_view_count": null,
      "_view_module": "@jupyter-widgets/base",
      "_view_module_version": "1.2.0",
      "_view_name": "LayoutView",
      "align_content": null,
      "align_items": null,
      "align_self": null,
      "border": null,
      "bottom": null,
      "display": null,
      "flex": null,
      "flex_flow": null,
      "grid_area": null,
      "grid_auto_columns": null,
      "grid_auto_flow": null,
      "grid_auto_rows": null,
      "grid_column": null,
      "grid_gap": null,
      "grid_row": null,
      "grid_template_areas": null,
      "grid_template_columns": null,
      "grid_template_rows": null,
      "height": null,
      "justify_content": null,
      "justify_items": null,
      "left": null,
      "margin": null,
      "max_height": null,
      "max_width": null,
      "min_height": null,
      "min_width": null,
      "object_fit": null,
      "object_position": null,
      "order": null,
      "overflow": null,
      "overflow_x": null,
      "overflow_y": null,
      "padding": null,
      "right": null,
      "top": null,
      "visibility": null,
      "width": null
     }
    },
    "f354eb52d1f546fb8ed2fca521ddd69d": {
     "model_module": "@jupyter-widgets/controls",
     "model_name": "ProgressStyleModel",
     "state": {
      "_model_module": "@jupyter-widgets/controls",
      "_model_module_version": "1.5.0",
      "_model_name": "ProgressStyleModel",
      "_view_count": null,
      "_view_module": "@jupyter-widgets/base",
      "_view_module_version": "1.2.0",
      "_view_name": "StyleView",
      "bar_color": null,
      "description_width": "initial"
     }
    },
    "f409842f921446ddb5a6512ff7f72bfc": {
     "model_module": "@jupyter-widgets/controls",
     "model_name": "ProgressStyleModel",
     "state": {
      "_model_module": "@jupyter-widgets/controls",
      "_model_module_version": "1.5.0",
      "_model_name": "ProgressStyleModel",
      "_view_count": null,
      "_view_module": "@jupyter-widgets/base",
      "_view_module_version": "1.2.0",
      "_view_name": "StyleView",
      "bar_color": null,
      "description_width": "initial"
     }
    },
    "f46bdc9a3fed410fb1f4e4eb6cd77450": {
     "model_module": "@jupyter-widgets/base",
     "model_name": "LayoutModel",
     "state": {
      "_model_module": "@jupyter-widgets/base",
      "_model_module_version": "1.2.0",
      "_model_name": "LayoutModel",
      "_view_count": null,
      "_view_module": "@jupyter-widgets/base",
      "_view_module_version": "1.2.0",
      "_view_name": "LayoutView",
      "align_content": null,
      "align_items": null,
      "align_self": null,
      "border": null,
      "bottom": null,
      "display": null,
      "flex": null,
      "flex_flow": null,
      "grid_area": null,
      "grid_auto_columns": null,
      "grid_auto_flow": null,
      "grid_auto_rows": null,
      "grid_column": null,
      "grid_gap": null,
      "grid_row": null,
      "grid_template_areas": null,
      "grid_template_columns": null,
      "grid_template_rows": null,
      "height": null,
      "justify_content": null,
      "justify_items": null,
      "left": null,
      "margin": null,
      "max_height": null,
      "max_width": null,
      "min_height": null,
      "min_width": null,
      "object_fit": null,
      "object_position": null,
      "order": null,
      "overflow": null,
      "overflow_x": null,
      "overflow_y": null,
      "padding": null,
      "right": null,
      "top": null,
      "visibility": null,
      "width": null
     }
    },
    "f566a92d92aa43f8aeb2648a3a158d5a": {
     "model_module": "@jupyter-widgets/controls",
     "model_name": "HTMLModel",
     "state": {
      "_dom_classes": [],
      "_model_module": "@jupyter-widgets/controls",
      "_model_module_version": "1.5.0",
      "_model_name": "HTMLModel",
      "_view_count": null,
      "_view_module": "@jupyter-widgets/controls",
      "_view_module_version": "1.5.0",
      "_view_name": "HTMLView",
      "description": "",
      "description_tooltip": null,
      "layout": "IPY_MODEL_dd08295849604d19b0c3587c7b603a1a",
      "placeholder": "​",
      "style": "IPY_MODEL_c03aef4a00a141d0858f7a956b7f8baf",
      "value": " 1.24k/1.24k [00:00&lt;00:00, 7.05kB/s]"
     }
    },
    "f64b726b3c4743c993e29242b85f5161": {
     "model_module": "@jupyter-widgets/base",
     "model_name": "LayoutModel",
     "state": {
      "_model_module": "@jupyter-widgets/base",
      "_model_module_version": "1.2.0",
      "_model_name": "LayoutModel",
      "_view_count": null,
      "_view_module": "@jupyter-widgets/base",
      "_view_module_version": "1.2.0",
      "_view_name": "LayoutView",
      "align_content": null,
      "align_items": null,
      "align_self": null,
      "border": null,
      "bottom": null,
      "display": null,
      "flex": null,
      "flex_flow": null,
      "grid_area": null,
      "grid_auto_columns": null,
      "grid_auto_flow": null,
      "grid_auto_rows": null,
      "grid_column": null,
      "grid_gap": null,
      "grid_row": null,
      "grid_template_areas": null,
      "grid_template_columns": null,
      "grid_template_rows": null,
      "height": null,
      "justify_content": null,
      "justify_items": null,
      "left": null,
      "margin": null,
      "max_height": null,
      "max_width": null,
      "min_height": null,
      "min_width": null,
      "object_fit": null,
      "object_position": null,
      "order": null,
      "overflow": null,
      "overflow_x": null,
      "overflow_y": null,
      "padding": null,
      "right": null,
      "top": null,
      "visibility": null,
      "width": null
     }
    },
    "f76ebf9b788e470ba21cb14ea58db76d": {
     "model_module": "@jupyter-widgets/controls",
     "model_name": "HBoxModel",
     "state": {
      "_dom_classes": [],
      "_model_module": "@jupyter-widgets/controls",
      "_model_module_version": "1.5.0",
      "_model_name": "HBoxModel",
      "_view_count": null,
      "_view_module": "@jupyter-widgets/controls",
      "_view_module_version": "1.5.0",
      "_view_name": "HBoxView",
      "box_style": "",
      "children": [
       "IPY_MODEL_942b3b7b06934cfd8265066ba4658ac1",
       "IPY_MODEL_b0bfaf588675416cb876be85ec59e821"
      ],
      "layout": "IPY_MODEL_4600b0e0266147abb6d49a9fb1ad5ba2"
     }
    },
    "f8158c74b37d4ad8888289a3ead6364c": {
     "model_module": "@jupyter-widgets/controls",
     "model_name": "HBoxModel",
     "state": {
      "_dom_classes": [],
      "_model_module": "@jupyter-widgets/controls",
      "_model_module_version": "1.5.0",
      "_model_name": "HBoxModel",
      "_view_count": null,
      "_view_module": "@jupyter-widgets/controls",
      "_view_module_version": "1.5.0",
      "_view_name": "HBoxView",
      "box_style": "",
      "children": [
       "IPY_MODEL_ca42af32c14247e380f913484a43ca63",
       "IPY_MODEL_eccf8f817011499294270d5ba84eba49"
      ],
      "layout": "IPY_MODEL_a8fc9137c0a14e3080b138ec0ee21c2f"
     }
    },
    "f834a3bedb4c4a09bb69360d71590854": {
     "model_module": "@jupyter-widgets/base",
     "model_name": "LayoutModel",
     "state": {
      "_model_module": "@jupyter-widgets/base",
      "_model_module_version": "1.2.0",
      "_model_name": "LayoutModel",
      "_view_count": null,
      "_view_module": "@jupyter-widgets/base",
      "_view_module_version": "1.2.0",
      "_view_name": "LayoutView",
      "align_content": null,
      "align_items": null,
      "align_self": null,
      "border": null,
      "bottom": null,
      "display": null,
      "flex": null,
      "flex_flow": null,
      "grid_area": null,
      "grid_auto_columns": null,
      "grid_auto_flow": null,
      "grid_auto_rows": null,
      "grid_column": null,
      "grid_gap": null,
      "grid_row": null,
      "grid_template_areas": null,
      "grid_template_columns": null,
      "grid_template_rows": null,
      "height": null,
      "justify_content": null,
      "justify_items": null,
      "left": null,
      "margin": null,
      "max_height": null,
      "max_width": null,
      "min_height": null,
      "min_width": null,
      "object_fit": null,
      "object_position": null,
      "order": null,
      "overflow": null,
      "overflow_x": null,
      "overflow_y": null,
      "padding": null,
      "right": null,
      "top": null,
      "visibility": null,
      "width": null
     }
    },
    "f8abbb3a8b2f4593a18699e1a40a7c9a": {
     "model_module": "@jupyter-widgets/controls",
     "model_name": "HBoxModel",
     "state": {
      "_dom_classes": [],
      "_model_module": "@jupyter-widgets/controls",
      "_model_module_version": "1.5.0",
      "_model_name": "HBoxModel",
      "_view_count": null,
      "_view_module": "@jupyter-widgets/controls",
      "_view_module_version": "1.5.0",
      "_view_name": "HBoxView",
      "box_style": "",
      "children": [
       "IPY_MODEL_597b47ceb630498ca10c61720db18afc",
       "IPY_MODEL_9c5e959deb5f4a75bdbf0ce1f9492b6a"
      ],
      "layout": "IPY_MODEL_1df44509c0554821ab6db6b7f20deedb"
     }
    },
    "f9ebd9bd17b94ed58d092ec69b32b641": {
     "model_module": "@jupyter-widgets/controls",
     "model_name": "ProgressStyleModel",
     "state": {
      "_model_module": "@jupyter-widgets/controls",
      "_model_module_version": "1.5.0",
      "_model_name": "ProgressStyleModel",
      "_view_count": null,
      "_view_module": "@jupyter-widgets/base",
      "_view_module_version": "1.2.0",
      "_view_name": "StyleView",
      "bar_color": null,
      "description_width": "initial"
     }
    },
    "fc9f0bed9c7e4e71ac9aaf973e9a47c6": {
     "model_module": "@jupyter-widgets/controls",
     "model_name": "DescriptionStyleModel",
     "state": {
      "_model_module": "@jupyter-widgets/controls",
      "_model_module_version": "1.5.0",
      "_model_name": "DescriptionStyleModel",
      "_view_count": null,
      "_view_module": "@jupyter-widgets/base",
      "_view_module_version": "1.2.0",
      "_view_name": "StyleView",
      "description_width": ""
     }
    },
    "fd44f468b0a146c1a9b3d7aee7c30e14": {
     "model_module": "@jupyter-widgets/base",
     "model_name": "LayoutModel",
     "state": {
      "_model_module": "@jupyter-widgets/base",
      "_model_module_version": "1.2.0",
      "_model_name": "LayoutModel",
      "_view_count": null,
      "_view_module": "@jupyter-widgets/base",
      "_view_module_version": "1.2.0",
      "_view_name": "LayoutView",
      "align_content": null,
      "align_items": null,
      "align_self": null,
      "border": null,
      "bottom": null,
      "display": null,
      "flex": null,
      "flex_flow": null,
      "grid_area": null,
      "grid_auto_columns": null,
      "grid_auto_flow": null,
      "grid_auto_rows": null,
      "grid_column": null,
      "grid_gap": null,
      "grid_row": null,
      "grid_template_areas": null,
      "grid_template_columns": null,
      "grid_template_rows": null,
      "height": null,
      "justify_content": null,
      "justify_items": null,
      "left": null,
      "margin": null,
      "max_height": null,
      "max_width": null,
      "min_height": null,
      "min_width": null,
      "object_fit": null,
      "object_position": null,
      "order": null,
      "overflow": null,
      "overflow_x": null,
      "overflow_y": null,
      "padding": null,
      "right": null,
      "top": null,
      "visibility": null,
      "width": null
     }
    },
    "fea0e244cb7b46a6ab2050da765c0511": {
     "model_module": "@jupyter-widgets/controls",
     "model_name": "HBoxModel",
     "state": {
      "_dom_classes": [],
      "_model_module": "@jupyter-widgets/controls",
      "_model_module_version": "1.5.0",
      "_model_name": "HBoxModel",
      "_view_count": null,
      "_view_module": "@jupyter-widgets/controls",
      "_view_module_version": "1.5.0",
      "_view_name": "HBoxView",
      "box_style": "",
      "children": [
       "IPY_MODEL_27a8c32677a34da9a07c038b1e50245d",
       "IPY_MODEL_29bea31dbb4748c5814e882672f02b1a"
      ],
      "layout": "IPY_MODEL_2c5cf2754df645a8877ec2e9b6d2483f"
     }
    },
    "fede310f93fe4bebb2bebc48e26d9a14": {
     "model_module": "@jupyter-widgets/base",
     "model_name": "LayoutModel",
     "state": {
      "_model_module": "@jupyter-widgets/base",
      "_model_module_version": "1.2.0",
      "_model_name": "LayoutModel",
      "_view_count": null,
      "_view_module": "@jupyter-widgets/base",
      "_view_module_version": "1.2.0",
      "_view_name": "LayoutView",
      "align_content": null,
      "align_items": null,
      "align_self": null,
      "border": null,
      "bottom": null,
      "display": null,
      "flex": null,
      "flex_flow": null,
      "grid_area": null,
      "grid_auto_columns": null,
      "grid_auto_flow": null,
      "grid_auto_rows": null,
      "grid_column": null,
      "grid_gap": null,
      "grid_row": null,
      "grid_template_areas": null,
      "grid_template_columns": null,
      "grid_template_rows": null,
      "height": null,
      "justify_content": null,
      "justify_items": null,
      "left": null,
      "margin": null,
      "max_height": null,
      "max_width": null,
      "min_height": null,
      "min_width": null,
      "object_fit": null,
      "object_position": null,
      "order": null,
      "overflow": null,
      "overflow_x": null,
      "overflow_y": null,
      "padding": null,
      "right": null,
      "top": null,
      "visibility": null,
      "width": null
     }
    }
   }
  }
 },
 "nbformat": 4,
 "nbformat_minor": 1
}
