{
 "cells": [
  {
   "cell_type": "code",
   "execution_count": null,
   "metadata": {
    "colab": {
     "base_uri": "https://localhost:8080/"
    },
    "id": "p9jSxblxWH2R",
    "outputId": "5d06980b-fcf1-4eb5-abb2-9eb74dff0167"
   },
   "outputs": [
    {
     "name": "stdout",
     "output_type": "stream",
     "text": [
      "Mounted at /content/drive\n"
     ]
    }
   ],
   "source": [
    "from google.colab import drive\n",
    "drive.mount('/content/drive')"
   ]
  },
  {
   "cell_type": "code",
   "execution_count": null,
   "metadata": {
    "colab": {
     "base_uri": "https://localhost:8080/"
    },
    "id": "-TTIHZpfDyqK",
    "outputId": "cc18eed8-62a1-404c-f67b-542555ccb730"
   },
   "outputs": [
    {
     "name": "stdout",
     "output_type": "stream",
     "text": [
      "Collecting transformers\n",
      "\u001b[?25l  Downloading https://files.pythonhosted.org/packages/50/0c/7d5950fcd80b029be0a8891727ba21e0cd27692c407c51261c3c921f6da3/transformers-4.1.1-py3-none-any.whl (1.5MB)\n",
      "\u001b[K     |████████████████████████████████| 1.5MB 8.1MB/s \n",
      "\u001b[?25hRequirement already satisfied: regex!=2019.12.17 in /usr/local/lib/python3.6/dist-packages (from transformers) (2019.12.20)\n",
      "Requirement already satisfied: tqdm>=4.27 in /usr/local/lib/python3.6/dist-packages (from transformers) (4.41.1)\n",
      "Requirement already satisfied: dataclasses; python_version < \"3.7\" in /usr/local/lib/python3.6/dist-packages (from transformers) (0.8)\n",
      "Collecting sacremoses\n",
      "\u001b[?25l  Downloading https://files.pythonhosted.org/packages/7d/34/09d19aff26edcc8eb2a01bed8e98f13a1537005d31e95233fd48216eed10/sacremoses-0.0.43.tar.gz (883kB)\n",
      "\u001b[K     |████████████████████████████████| 890kB 47.5MB/s \n",
      "\u001b[?25hRequirement already satisfied: filelock in /usr/local/lib/python3.6/dist-packages (from transformers) (3.0.12)\n",
      "Requirement already satisfied: requests in /usr/local/lib/python3.6/dist-packages (from transformers) (2.23.0)\n",
      "Requirement already satisfied: numpy in /usr/local/lib/python3.6/dist-packages (from transformers) (1.19.4)\n",
      "Collecting tokenizers==0.9.4\n",
      "\u001b[?25l  Downloading https://files.pythonhosted.org/packages/0f/1c/e789a8b12e28be5bc1ce2156cf87cb522b379be9cadc7ad8091a4cc107c4/tokenizers-0.9.4-cp36-cp36m-manylinux2010_x86_64.whl (2.9MB)\n",
      "\u001b[K     |████████████████████████████████| 2.9MB 49.8MB/s \n",
      "\u001b[?25hRequirement already satisfied: packaging in /usr/local/lib/python3.6/dist-packages (from transformers) (20.8)\n",
      "Requirement already satisfied: six in /usr/local/lib/python3.6/dist-packages (from sacremoses->transformers) (1.15.0)\n",
      "Requirement already satisfied: click in /usr/local/lib/python3.6/dist-packages (from sacremoses->transformers) (7.1.2)\n",
      "Requirement already satisfied: joblib in /usr/local/lib/python3.6/dist-packages (from sacremoses->transformers) (1.0.0)\n",
      "Requirement already satisfied: idna<3,>=2.5 in /usr/local/lib/python3.6/dist-packages (from requests->transformers) (2.10)\n",
      "Requirement already satisfied: chardet<4,>=3.0.2 in /usr/local/lib/python3.6/dist-packages (from requests->transformers) (3.0.4)\n",
      "Requirement already satisfied: certifi>=2017.4.17 in /usr/local/lib/python3.6/dist-packages (from requests->transformers) (2020.12.5)\n",
      "Requirement already satisfied: urllib3!=1.25.0,!=1.25.1,<1.26,>=1.21.1 in /usr/local/lib/python3.6/dist-packages (from requests->transformers) (1.24.3)\n",
      "Requirement already satisfied: pyparsing>=2.0.2 in /usr/local/lib/python3.6/dist-packages (from packaging->transformers) (2.4.7)\n",
      "Building wheels for collected packages: sacremoses\n",
      "  Building wheel for sacremoses (setup.py) ... \u001b[?25l\u001b[?25hdone\n",
      "  Created wheel for sacremoses: filename=sacremoses-0.0.43-cp36-none-any.whl size=893261 sha256=cef34c6168643fb77b86d4517e7e71a99441a6a9b6d82ec91c4aaed4123561cf\n",
      "  Stored in directory: /root/.cache/pip/wheels/29/3c/fd/7ce5c3f0666dab31a50123635e6fb5e19ceb42ce38d4e58f45\n",
      "Successfully built sacremoses\n",
      "Installing collected packages: sacremoses, tokenizers, transformers\n",
      "Successfully installed sacremoses-0.0.43 tokenizers-0.9.4 transformers-4.1.1\n"
     ]
    }
   ],
   "source": [
    "!pip install transformers"
   ]
  },
  {
   "cell_type": "code",
   "execution_count": null,
   "metadata": {
    "id": "SG4l04uKCwMs"
   },
   "outputs": [],
   "source": [
    "import pandas as pd\n",
    "import numpy as np\n",
    "import tensorflow as tf\n",
    "import ast\n",
    "import re"
   ]
  },
  {
   "cell_type": "code",
   "execution_count": null,
   "metadata": {
    "id": "RzcZtDt7D1V6"
   },
   "outputs": [],
   "source": [
    "train_df = pd.read_csv('/content/drive/MyDrive/ARC/df_easy_train_3.csv')\n",
    "dev_df = pd.read_csv('/content/drive/MyDrive/ARC/df_easy_dev_3.csv')\n",
    "test_df = pd.read_csv('/content/drive/MyDrive/ARC/df_easy_test_3.csv')"
   ]
  },
  {
   "cell_type": "code",
   "execution_count": null,
   "metadata": {
    "colab": {
     "base_uri": "https://localhost:8080/",
     "height": 598
    },
    "id": "3T5f5yVBEDIS",
    "outputId": "ac45f83d-deac-41c9-f755-434dfd795c94"
   },
   "outputs": [
    {
     "data": {
      "text/html": [
       "<div>\n",
       "<style scoped>\n",
       "    .dataframe tbody tr th:only-of-type {\n",
       "        vertical-align: middle;\n",
       "    }\n",
       "\n",
       "    .dataframe tbody tr th {\n",
       "        vertical-align: top;\n",
       "    }\n",
       "\n",
       "    .dataframe thead th {\n",
       "        text-align: right;\n",
       "    }\n",
       "</style>\n",
       "<table border=\"1\" class=\"dataframe\">\n",
       "  <thead>\n",
       "    <tr style=\"text-align: right;\">\n",
       "      <th></th>\n",
       "      <th>AnswerKey</th>\n",
       "      <th>question</th>\n",
       "      <th>only_question</th>\n",
       "      <th>quesiton_length</th>\n",
       "      <th>only_answers</th>\n",
       "      <th>context</th>\n",
       "      <th>options_list</th>\n",
       "      <th>option_1_docs</th>\n",
       "      <th>option_2_docs</th>\n",
       "      <th>option_3_docs</th>\n",
       "      <th>option_4_docs</th>\n",
       "      <th>option_5_docs</th>\n",
       "    </tr>\n",
       "  </thead>\n",
       "  <tbody>\n",
       "    <tr>\n",
       "      <th>0</th>\n",
       "      <td>B</td>\n",
       "      <td>Which factor will most likely cause a person t...</td>\n",
       "      <td>Which factor will most likely cause a person t...</td>\n",
       "      <td>66</td>\n",
       "      <td>(A) a leg muscle relaxing after exercise (B) a...</td>\n",
       "      <td>Piercings show that a person is rebelious and ...</td>\n",
       "      <td>['a leg muscle relaxing after exercise ', 'bac...</td>\n",
       "      <td>{\"-' Which joint of the leg con- tains most mu...</td>\n",
       "      <td>{'When the larvae of Trichinella worms get int...</td>\n",
       "      <td>{'Environmental perturbations are most likely ...</td>\n",
       "      <td>{'Carbohydrates will most likely be the larges...</td>\n",
       "      <td>{'Which technique was most likely used to deve...</td>\n",
       "    </tr>\n",
       "    <tr>\n",
       "      <th>1</th>\n",
       "      <td>B</td>\n",
       "      <td>Lichens are symbiotic organisms made of green ...</td>\n",
       "      <td>Lichens are symbiotic organisms made of green ...</td>\n",
       "      <td>139</td>\n",
       "      <td>(A) carbon dioxide (B) food (C) protection (D)...</td>\n",
       "      <td>Lichens are comprised of blue-green or green a...</td>\n",
       "      <td>['carbon dioxide ', 'food ', 'protection ', 'w...</td>\n",
       "      <td>{\"The hydras let these algae live inside them ...</td>\n",
       "      <td>{'algae near the surface of ponds, lakes, and ...</td>\n",
       "      <td>{\"In this symbiotic relationship, the algae ga...</td>\n",
       "      <td>{'This is a small genus of marine and brackish...</td>\n",
       "      <td>{'Lichens are comprised of blue-green or green...</td>\n",
       "    </tr>\n",
       "    <tr>\n",
       "      <th>2</th>\n",
       "      <td>D</td>\n",
       "      <td>When a switch is used in an electrical circuit...</td>\n",
       "      <td>When a switch is used in an electrical circuit...</td>\n",
       "      <td>63</td>\n",
       "      <td>(A) cause the charge to build. (B) increase an...</td>\n",
       "      <td>Rotary switch A ` rotary switch ' is an electr...</td>\n",
       "      <td>['cause the charge to build. ', 'increase and ...</td>\n",
       "      <td>{'If an ordinary switch is used to control the...</td>\n",
       "      <td>{'And when the electrical switch was turned OF...</td>\n",
       "      <td>{'If an ordinary switch is used to control the...</td>\n",
       "      <td>{'When the circuit switch is open (Figure 2) c...</td>\n",
       "      <td>{'If an ordinary switch is used to control the...</td>\n",
       "    </tr>\n",
       "    <tr>\n",
       "      <th>3</th>\n",
       "      <td>A</td>\n",
       "      <td>Which of the following is an example of an ass...</td>\n",
       "      <td>Which of the following is an example of an ass...</td>\n",
       "      <td>61</td>\n",
       "      <td>(A) contact lens (B) motorcycle (C) raincoat (...</td>\n",
       "      <td>Which of the following is an example of an ang...</td>\n",
       "      <td>['contact lens ', 'motorcycle ', 'raincoat ', ...</td>\n",
       "      <td>{'An instrument for measuring the degree of cu...</td>\n",
       "      <td>{'The characters are typically members of an o...</td>\n",
       "      <td>{'[DUSSEL hurriedly takes off the raincoat, gi...</td>\n",
       "      <td>{'coffee\\tn\\ta beverage consisting of an infus...</td>\n",
       "      <td>{'Which of the following is an example of an a...</td>\n",
       "    </tr>\n",
       "    <tr>\n",
       "      <th>4</th>\n",
       "      <td>3</td>\n",
       "      <td>Rocks are classified as igneous, metamorphic, ...</td>\n",
       "      <td>Rocks are classified as igneous, metamorphic, ...</td>\n",
       "      <td>74</td>\n",
       "      <td>(1) their color (2) their shape (3) how they f...</td>\n",
       "      <td>In one simplistic and linear example, elements...</td>\n",
       "      <td>['their color ', 'shape ', 'how they formed ',...</td>\n",
       "      <td>{'In one simplistic and linear example, elemen...</td>\n",
       "      <td>{'Western carrot cultivars are commonly classi...</td>\n",
       "      <td>{'- formed by “changing” preexisting igneous, ...</td>\n",
       "      <td>{'This group of minerals is of common occur- r...</td>\n",
       "      <td>{'The second class of rocks, sedimentary,\\xa0 ...</td>\n",
       "    </tr>\n",
       "  </tbody>\n",
       "</table>\n",
       "</div>"
      ],
      "text/plain": [
       "  AnswerKey  ...                                      option_5_docs\n",
       "0         B  ...  {'Which technique was most likely used to deve...\n",
       "1         B  ...  {'Lichens are comprised of blue-green or green...\n",
       "2         D  ...  {'If an ordinary switch is used to control the...\n",
       "3         A  ...  {'Which of the following is an example of an a...\n",
       "4         3  ...  {'The second class of rocks, sedimentary,\\xa0 ...\n",
       "\n",
       "[5 rows x 12 columns]"
      ]
     },
     "execution_count": 5,
     "metadata": {
      "tags": []
     },
     "output_type": "execute_result"
    }
   ],
   "source": [
    "train_df.head()"
   ]
  },
  {
   "cell_type": "code",
   "execution_count": null,
   "metadata": {
    "colab": {
     "base_uri": "https://localhost:8080/"
    },
    "id": "q0DNiytTHifQ",
    "outputId": "2619a74e-4f46-4d12-820b-67f9051e3287"
   },
   "outputs": [
    {
     "data": {
      "text/plain": [
       "50"
      ]
     },
     "execution_count": 16,
     "metadata": {
      "tags": []
     },
     "output_type": "execute_result"
    }
   ],
   "source": [
    "len(a.keys())"
   ]
  },
  {
   "cell_type": "code",
   "execution_count": null,
   "metadata": {
    "colab": {
     "base_uri": "https://localhost:8080/"
    },
    "id": "_nMnSPvGIHnQ",
    "outputId": "ec935dfc-8da4-4082-9c6e-065aacfbc84f"
   },
   "outputs": [
    {
     "data": {
      "text/plain": [
       "((2251, 12), (570, 12), (2376, 12))"
      ]
     },
     "execution_count": 18,
     "metadata": {
      "tags": []
     },
     "output_type": "execute_result"
    }
   ],
   "source": [
    "train_df.shape, dev_df.shape, test_df.shape"
   ]
  },
  {
   "cell_type": "code",
   "execution_count": null,
   "metadata": {
    "id": "bslMO45sKYlO"
   },
   "outputs": [],
   "source": [
    "import torch"
   ]
  },
  {
   "cell_type": "code",
   "execution_count": null,
   "metadata": {
    "id": "eL26bebRXTnA"
   },
   "outputs": [],
   "source": [
    "from torch.nn import Softmax"
   ]
  },
  {
   "cell_type": "code",
   "execution_count": null,
   "metadata": {
    "id": "TQRxN9Y7IxN2"
   },
   "outputs": [],
   "source": [
    "from transformers import BertForSequenceClassification, BertTokenizer"
   ]
  },
  {
   "cell_type": "code",
   "execution_count": null,
   "metadata": {
    "id": "VegVZ1dqPwZQ"
   },
   "outputs": [],
   "source": [
    "device = 'cuda'"
   ]
  },
  {
   "cell_type": "code",
   "execution_count": null,
   "metadata": {
    "colab": {
     "base_uri": "https://localhost:8080/",
     "height": 66,
     "referenced_widgets": [
      "9e6c4e07da6a4b84b3f6f25cb3354163",
      "c71b5fb55b614ac08004db927bcfd73c",
      "36bb07ec03874d96ae0583057af26be9",
      "4017a90971b94d9d903090df3b2c143f",
      "bc0a45d481904729b3afffba775af351",
      "1cb742f9c49d44509725189cf85c83b1",
      "9c097aa6b1d84934a7bd17b5f3f938bd",
      "703355d8154b43be9f9b44079c633710"
     ]
    },
    "id": "cqiSuYLBWpap",
    "outputId": "82bbed63-b858-443d-c0c3-9a9c7d76ab7e"
   },
   "outputs": [
    {
     "data": {
      "application/vnd.jupyter.widget-view+json": {
       "model_id": "9e6c4e07da6a4b84b3f6f25cb3354163",
       "version_major": 2,
       "version_minor": 0
      },
      "text/plain": [
       "HBox(children=(FloatProgress(value=0.0, description='Downloading', max=231508.0, style=ProgressStyle(descripti…"
      ]
     },
     "metadata": {
      "tags": []
     },
     "output_type": "display_data"
    },
    {
     "name": "stdout",
     "output_type": "stream",
     "text": [
      "\n"
     ]
    }
   ],
   "source": [
    "tokenizer = BertTokenizer.from_pretrained('bert-base-uncased')"
   ]
  },
  {
   "cell_type": "code",
   "execution_count": null,
   "metadata": {
    "id": "hR5U3MFqfI8y"
   },
   "outputs": [],
   "source": [
    "drd_model = BertForSequenceClassification.from_pretrained('/content/drive/MyDrive/DRD_cpu').to(device)\n",
    "ard_model = BertForSequenceClassification.from_pretrained('/content/drive/MyDrive/ARD_cpu').to(device)"
   ]
  },
  {
   "cell_type": "code",
   "execution_count": null,
   "metadata": {
    "id": "TCvv5pwEKvCt"
   },
   "outputs": [],
   "source": [
    "def scorer(question, option, document):\n",
    "    '''\n",
    "    This function will take 3 things: question, option and document.\n",
    "\n",
    "    Then it will pass question + document into DRD model and get a score.\n",
    "    It will also pass question + option + document into ARD model and get another score.\n",
    "    \n",
    "    This function returns DRD and ARD scores, i.e., logits values for label 1.\n",
    "    '''\n",
    "    ard_input_string = f'[CLS] {question} [SEP] {option} [SEP] {document} [SEP]'\n",
    "\n",
    "    drd_inputs = tokenizer(question, document, truncation='only_second', max_length=512, add_special_tokens=True, padding='max_length', return_tensors='pt')\n",
    "    drd_inputs = drd_inputs.to(device)\n",
    "\n",
    "    drd_outputs = drd_model(**drd_inputs)\n",
    "    drd_softmax = Softmax(dim=1)(drd_outputs.logits)\n",
    "    drd_score = drd_softmax.detach().cpu().numpy()[0][1]\n",
    "\n",
    "    ard_input_ids = tokenizer.encode(ard_input_string, add_special_tokens=False, truncation=True, max_length=512, return_tensors='pt')\n",
    "    ard_attention_mask = torch.ones([1,ard_input_ids.size()[1]])\n",
    "\n",
    "    ard_input_ids = ard_input_ids.to(device)\n",
    "    ard_attention_mask = ard_attention_mask.to(device)\n",
    "    ard_outputs = ard_model(input_ids=ard_input_ids, attention_mask=ard_attention_mask)\n",
    "    ard_softmax = Softmax(dim=1)(ard_outputs.logits)\n",
    "    ard_score = ard_softmax.detach().cpu().numpy()[0][1]\n",
    "\n",
    "    return drd_score, ard_score"
   ]
  },
  {
   "cell_type": "code",
   "execution_count": null,
   "metadata": {
    "colab": {
     "base_uri": "https://localhost:8080/"
    },
    "id": "2nU57LvLnEi6",
    "outputId": "12e8d130-a90e-4703-e515-f9f371382c5d"
   },
   "outputs": [
    {
     "name": "stdout",
     "output_type": "stream",
     "text": [
      "CPU times: user 50.1 ms, sys: 19.4 ms, total: 69.5 ms\n",
      "Wall time: 70 ms\n"
     ]
    }
   ],
   "source": [
    "%time drd_score, srd_score = scorer('asds','asda','sdsad')"
   ]
  },
  {
   "cell_type": "code",
   "execution_count": null,
   "metadata": {
    "id": "IQFcr7GaGpeW"
   },
   "outputs": [],
   "source": [
    "def context_retreiver_2(dataset):\n",
    "    '''\n",
    "    This function will return context for every datapoint in the dataset.\n",
    "    '''\n",
    "    question = dataset['only_question']\n",
    "    options_list = ast.literal_eval(dataset['options_list']) \n",
    "\n",
    "    scores = dict()\n",
    "    for j in range(len(options_list)):\n",
    "        if j == 0:\n",
    "            current_option = options_list[0]\n",
    "\n",
    "            option_1_docs = ast.literal_eval(dataset['option_1_docs'])\n",
    "            option_1_docs_keys = list(option_1_docs.keys())\n",
    "            option_1_docs_values = list(option_1_docs.values())\n",
    "            option_1_docs_values = [float(i)+1e-6/(sum(option_1_docs_values)+1e-6) for i in option_1_docs_values]\n",
    "\n",
    "            for k in range(len(option_1_docs_keys)):\n",
    "                current_doc = option_1_docs_keys[k]\n",
    "                current_doc = re.sub('\\s+',' ', current_doc)\n",
    "                drd_score, ard_score = scorer(question, current_option, current_doc)\n",
    "\n",
    "                tf_idf_score = option_1_docs_values[k]\n",
    "\n",
    "                total_score = tf_idf_score + drd_score + ard_score\n",
    "\n",
    "                if current_doc not in scores.keys():\n",
    "                    scores[current_doc] = total_score\n",
    "                else:\n",
    "                    if total_score > scores[current_doc]:\n",
    "                        scores[current_doc] = total_score\n",
    "                    else:\n",
    "                        continue\n",
    "        elif j == 1:\n",
    "            current_option = options_list[1]\n",
    "            option_2_docs = ast.literal_eval(dataset['option_2_docs'])\n",
    "            option_2_docs_keys = list(option_2_docs.keys())\n",
    "            option_2_docs_values = list(option_2_docs.values())\n",
    "            option_2_docs_values = [float(i)+1e-6/(sum(option_2_docs_values)+1e-6) for i in option_2_docs_values]\n",
    "\n",
    "            for k in range(len(option_2_docs_keys)):\n",
    "                current_doc = option_2_docs_keys[k]\n",
    "                current_doc = re.sub('\\s+',' ', current_doc)\n",
    "                drd_score, ard_score = scorer(question, current_option, current_doc)\n",
    "\n",
    "                tf_idf_score = option_2_docs_values[k]\n",
    "\n",
    "                total_score = tf_idf_score + drd_score + ard_score\n",
    "\n",
    "                if current_doc not in scores.keys():\n",
    "                    scores[current_doc] = total_score\n",
    "                else:\n",
    "                    if total_score > scores[current_doc]:\n",
    "                        scores[current_doc] = total_score\n",
    "                    else:\n",
    "                        continue\n",
    "        elif j == 2:\n",
    "            current_option = options_list[2]\n",
    "            option_3_docs = ast.literal_eval(dataset['option_3_docs'])\n",
    "            option_3_docs_keys = list(option_3_docs.keys())\n",
    "            option_3_docs_values = list(option_3_docs.values())\n",
    "            option_3_docs_values = [float(i)+1e-6/(sum(option_3_docs_values)+1e-6) for i in option_3_docs_values]\n",
    "\n",
    "            for k in range(len(option_3_docs_keys)):\n",
    "                current_doc = option_3_docs_keys[k]\n",
    "                current_doc = re.sub('\\s+',' ', current_doc)\n",
    "                drd_score, ard_score = scorer(question, current_option, current_doc)\n",
    "\n",
    "                tf_idf_score = option_3_docs_values[k]\n",
    "\n",
    "                total_score = tf_idf_score + drd_score + ard_score\n",
    "\n",
    "                if current_doc not in scores.keys():\n",
    "                    scores[current_doc] = total_score\n",
    "                else:\n",
    "                    if total_score > scores[current_doc]:\n",
    "                        scores[current_doc] = total_score\n",
    "                    else:\n",
    "                        continue\n",
    "        elif j == 3:\n",
    "            current_option = options_list[3]\n",
    "            option_4_docs = ast.literal_eval(dataset['option_4_docs'])\n",
    "            option_4_docs_keys = list(option_4_docs.keys())\n",
    "            option_4_docs_values = list(option_4_docs.values())\n",
    "            option_4_docs_values = [float(i)+1e-6/(sum(option_4_docs_values)+1e-6) for i in option_4_docs_values]\n",
    "\n",
    "            for k in range(len(option_4_docs_keys)):\n",
    "                current_doc = option_4_docs_keys[k]\n",
    "                current_doc = re.sub('\\s+',' ', current_doc)\n",
    "                drd_score, ard_score = scorer(question, current_option, current_doc)\n",
    "\n",
    "                tf_idf_score = option_4_docs_values[k]\n",
    "\n",
    "                total_score = tf_idf_score + drd_score + ard_score\n",
    "\n",
    "                if current_doc not in scores.keys():\n",
    "                    scores[current_doc] = total_score\n",
    "                else:\n",
    "                    if total_score > scores[current_doc]:\n",
    "                        scores[current_doc] = total_score\n",
    "                    else:\n",
    "                        continue\n",
    "        elif j == 4:\n",
    "            current_option = options_list[4]\n",
    "            option_5_docs = ast.literal_eval(dataset['option_5_docs'])\n",
    "            option_5_docs_keys = list(option_5_docs.keys())\n",
    "            option_5_docs_values = list(option_5_docs.values())\n",
    "            option_5_docs_values = [float(i)+1e-6/(sum(option_5_docs_values)+1e-6) for i in option_5_docs_values]\n",
    "\n",
    "            for k in range(len(option_5_docs_keys)):\n",
    "                current_doc = option_5_docs_keys[k]\n",
    "                current_doc = re.sub('\\s+',' ', current_doc)\n",
    "                drd_score, ard_score = scorer(question, current_option, current_doc)\n",
    "\n",
    "                tf_idf_score = option_5_docs_values[k]\n",
    "\n",
    "                total_score = tf_idf_score + drd_score + ard_score\n",
    "\n",
    "                if current_doc not in scores.keys():\n",
    "                    scores[current_doc] = total_score\n",
    "                else:\n",
    "                    if total_score > scores[current_doc]:\n",
    "                        scores[current_doc] = total_score\n",
    "                    else:\n",
    "                        continue\n",
    "\n",
    "        context = []\n",
    "        for l, w in enumerate(sorted(scores, key=scores.get, reverse=True)):\n",
    "            if l == 20:\n",
    "                break\n",
    "            else:\n",
    "                context.append(w)\n",
    "    joined_context = ' '.join(i for i in context)\n",
    "    return joined_context"
   ]
  },
  {
   "cell_type": "code",
   "execution_count": null,
   "metadata": {
    "id": "WRqGQ7IDIDCJ"
   },
   "outputs": [],
   "source": [
    "list_of_series = []\n",
    "\n",
    "for i in range(len(train_df)):\n",
    "    list_of_series.append(train_df.iloc[i])"
   ]
  },
  {
   "cell_type": "code",
   "execution_count": null,
   "metadata": {
    "id": "egW4giDqITDq"
   },
   "outputs": [],
   "source": [
    "contexts = []\n",
    "\n",
    "for i in range(len(list_of_series)):\n",
    "    context = context_retreiver_2(list_of_series[i])\n",
    "    contexts.append(context)\n",
    "    print(i)"
   ]
  },
  {
   "cell_type": "code",
   "execution_count": null,
   "metadata": {
    "id": "SG-6vi_HOf1y"
   },
   "outputs": [],
   "source": [
    "train_df['context'] = contexts"
   ]
  },
  {
   "cell_type": "code",
   "execution_count": null,
   "metadata": {
    "id": "j0VZQ2Pnzdal"
   },
   "outputs": [],
   "source": [
    "train_df.to_csv('/content/drive/MyDrive/arc_train_context', index=False)"
   ]
  }
 ],
 "metadata": {
  "accelerator": "GPU",
  "colab": {
   "collapsed_sections": [],
   "name": "context_retreival.ipynb",
   "provenance": []
  },
  "kernelspec": {
   "display_name": "Python 3",
   "language": "python",
   "name": "python3"
  },
  "language_info": {
   "codemirror_mode": {
    "name": "ipython",
    "version": 3
   },
   "file_extension": ".py",
   "mimetype": "text/x-python",
   "name": "python",
   "nbconvert_exporter": "python",
   "pygments_lexer": "ipython3",
   "version": "3.7.7"
  },
  "widgets": {
   "application/vnd.jupyter.widget-state+json": {
    "1cb742f9c49d44509725189cf85c83b1": {
     "model_module": "@jupyter-widgets/base",
     "model_name": "LayoutModel",
     "state": {
      "_model_module": "@jupyter-widgets/base",
      "_model_module_version": "1.2.0",
      "_model_name": "LayoutModel",
      "_view_count": null,
      "_view_module": "@jupyter-widgets/base",
      "_view_module_version": "1.2.0",
      "_view_name": "LayoutView",
      "align_content": null,
      "align_items": null,
      "align_self": null,
      "border": null,
      "bottom": null,
      "display": null,
      "flex": null,
      "flex_flow": null,
      "grid_area": null,
      "grid_auto_columns": null,
      "grid_auto_flow": null,
      "grid_auto_rows": null,
      "grid_column": null,
      "grid_gap": null,
      "grid_row": null,
      "grid_template_areas": null,
      "grid_template_columns": null,
      "grid_template_rows": null,
      "height": null,
      "justify_content": null,
      "justify_items": null,
      "left": null,
      "margin": null,
      "max_height": null,
      "max_width": null,
      "min_height": null,
      "min_width": null,
      "object_fit": null,
      "object_position": null,
      "order": null,
      "overflow": null,
      "overflow_x": null,
      "overflow_y": null,
      "padding": null,
      "right": null,
      "top": null,
      "visibility": null,
      "width": null
     }
    },
    "36bb07ec03874d96ae0583057af26be9": {
     "model_module": "@jupyter-widgets/controls",
     "model_name": "FloatProgressModel",
     "state": {
      "_dom_classes": [],
      "_model_module": "@jupyter-widgets/controls",
      "_model_module_version": "1.5.0",
      "_model_name": "FloatProgressModel",
      "_view_count": null,
      "_view_module": "@jupyter-widgets/controls",
      "_view_module_version": "1.5.0",
      "_view_name": "ProgressView",
      "bar_style": "success",
      "description": "Downloading: 100%",
      "description_tooltip": null,
      "layout": "IPY_MODEL_1cb742f9c49d44509725189cf85c83b1",
      "max": 231508,
      "min": 0,
      "orientation": "horizontal",
      "style": "IPY_MODEL_bc0a45d481904729b3afffba775af351",
      "value": 231508
     }
    },
    "4017a90971b94d9d903090df3b2c143f": {
     "model_module": "@jupyter-widgets/controls",
     "model_name": "HTMLModel",
     "state": {
      "_dom_classes": [],
      "_model_module": "@jupyter-widgets/controls",
      "_model_module_version": "1.5.0",
      "_model_name": "HTMLModel",
      "_view_count": null,
      "_view_module": "@jupyter-widgets/controls",
      "_view_module_version": "1.5.0",
      "_view_name": "HTMLView",
      "description": "",
      "description_tooltip": null,
      "layout": "IPY_MODEL_703355d8154b43be9f9b44079c633710",
      "placeholder": "​",
      "style": "IPY_MODEL_9c097aa6b1d84934a7bd17b5f3f938bd",
      "value": " 232k/232k [00:00&lt;00:00, 807kB/s]"
     }
    },
    "703355d8154b43be9f9b44079c633710": {
     "model_module": "@jupyter-widgets/base",
     "model_name": "LayoutModel",
     "state": {
      "_model_module": "@jupyter-widgets/base",
      "_model_module_version": "1.2.0",
      "_model_name": "LayoutModel",
      "_view_count": null,
      "_view_module": "@jupyter-widgets/base",
      "_view_module_version": "1.2.0",
      "_view_name": "LayoutView",
      "align_content": null,
      "align_items": null,
      "align_self": null,
      "border": null,
      "bottom": null,
      "display": null,
      "flex": null,
      "flex_flow": null,
      "grid_area": null,
      "grid_auto_columns": null,
      "grid_auto_flow": null,
      "grid_auto_rows": null,
      "grid_column": null,
      "grid_gap": null,
      "grid_row": null,
      "grid_template_areas": null,
      "grid_template_columns": null,
      "grid_template_rows": null,
      "height": null,
      "justify_content": null,
      "justify_items": null,
      "left": null,
      "margin": null,
      "max_height": null,
      "max_width": null,
      "min_height": null,
      "min_width": null,
      "object_fit": null,
      "object_position": null,
      "order": null,
      "overflow": null,
      "overflow_x": null,
      "overflow_y": null,
      "padding": null,
      "right": null,
      "top": null,
      "visibility": null,
      "width": null
     }
    },
    "9c097aa6b1d84934a7bd17b5f3f938bd": {
     "model_module": "@jupyter-widgets/controls",
     "model_name": "DescriptionStyleModel",
     "state": {
      "_model_module": "@jupyter-widgets/controls",
      "_model_module_version": "1.5.0",
      "_model_name": "DescriptionStyleModel",
      "_view_count": null,
      "_view_module": "@jupyter-widgets/base",
      "_view_module_version": "1.2.0",
      "_view_name": "StyleView",
      "description_width": ""
     }
    },
    "9e6c4e07da6a4b84b3f6f25cb3354163": {
     "model_module": "@jupyter-widgets/controls",
     "model_name": "HBoxModel",
     "state": {
      "_dom_classes": [],
      "_model_module": "@jupyter-widgets/controls",
      "_model_module_version": "1.5.0",
      "_model_name": "HBoxModel",
      "_view_count": null,
      "_view_module": "@jupyter-widgets/controls",
      "_view_module_version": "1.5.0",
      "_view_name": "HBoxView",
      "box_style": "",
      "children": [
       "IPY_MODEL_36bb07ec03874d96ae0583057af26be9",
       "IPY_MODEL_4017a90971b94d9d903090df3b2c143f"
      ],
      "layout": "IPY_MODEL_c71b5fb55b614ac08004db927bcfd73c"
     }
    },
    "bc0a45d481904729b3afffba775af351": {
     "model_module": "@jupyter-widgets/controls",
     "model_name": "ProgressStyleModel",
     "state": {
      "_model_module": "@jupyter-widgets/controls",
      "_model_module_version": "1.5.0",
      "_model_name": "ProgressStyleModel",
      "_view_count": null,
      "_view_module": "@jupyter-widgets/base",
      "_view_module_version": "1.2.0",
      "_view_name": "StyleView",
      "bar_color": null,
      "description_width": "initial"
     }
    },
    "c71b5fb55b614ac08004db927bcfd73c": {
     "model_module": "@jupyter-widgets/base",
     "model_name": "LayoutModel",
     "state": {
      "_model_module": "@jupyter-widgets/base",
      "_model_module_version": "1.2.0",
      "_model_name": "LayoutModel",
      "_view_count": null,
      "_view_module": "@jupyter-widgets/base",
      "_view_module_version": "1.2.0",
      "_view_name": "LayoutView",
      "align_content": null,
      "align_items": null,
      "align_self": null,
      "border": null,
      "bottom": null,
      "display": null,
      "flex": null,
      "flex_flow": null,
      "grid_area": null,
      "grid_auto_columns": null,
      "grid_auto_flow": null,
      "grid_auto_rows": null,
      "grid_column": null,
      "grid_gap": null,
      "grid_row": null,
      "grid_template_areas": null,
      "grid_template_columns": null,
      "grid_template_rows": null,
      "height": null,
      "justify_content": null,
      "justify_items": null,
      "left": null,
      "margin": null,
      "max_height": null,
      "max_width": null,
      "min_height": null,
      "min_width": null,
      "object_fit": null,
      "object_position": null,
      "order": null,
      "overflow": null,
      "overflow_x": null,
      "overflow_y": null,
      "padding": null,
      "right": null,
      "top": null,
      "visibility": null,
      "width": null
     }
    }
   }
  }
 },
 "nbformat": 4,
 "nbformat_minor": 1
}
